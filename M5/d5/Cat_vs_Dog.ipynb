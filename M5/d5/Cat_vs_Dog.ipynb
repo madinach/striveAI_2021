{
 "cells": [
  {
   "cell_type": "markdown",
   "id": "prescription-footwear",
   "metadata": {},
   "source": [
    "\n",
    "<div style=\"background:#222222; color:#ffffff; padding:20px\">\n",
    "    <h2 align=\"center\"> Cats vs Dogs </h2>\n",
    "    <h2 align=\"center\" style=\"color:#01ff84\"> Loading your dataset</h2>\n",
    "<div>\n",
    "\n",
    "<br>\n",
    "    \n",
    "So far we've been working with fairly artificial datasets that you wouldn't typically be using in real projects. Instead, you'll likely be dealing with full-sized images like you'd get from smart phone cameras. In this notebook, we'll look at how to load images and use them to train neural networks.\n",
    "\n",
    "We'll be using a [dataset of cat and dog photos](https://www.kaggle.com/c/dogs-vs-cats) available from Kaggle. Here are a couple example images:\n",
    "\n",
    "<img src=\"imgs/dog.png\" width=\"200\" height=\"40\" />\n",
    "<img src=\"imgs/cat.png\" width=\"200\" height=\"40\" />\n",
    "    \n",
    "\n",
    "We'll use this dataset to train a neural network that can differentiate between cats and dogs. These days it doesn't seem like a big accomplishment, but five years ago it was a serious challenge for computer vision systems.\n",
    "    \n",
    "<br>\n",
    "    \n",
    "Start importing the needed libraries:\n",
    "    \n"
   ]
  },
  {
   "cell_type": "code",
   "execution_count": 9,
   "id": "major-scanner",
   "metadata": {
    "ExecuteTime": {
     "end_time": "2021-05-28T06:13:32.681683Z",
     "start_time": "2021-05-28T06:13:31.753352Z"
    }
   },
   "outputs": [],
   "source": [
    "%matplotlib inline\n",
    "%config InlineBackend.figure_format = 'retina'\n",
    "\n",
    "import matplotlib.pyplot as plt\n",
    "\n",
    "import torch\n",
    "from torchvision import datasets, transforms\n"
   ]
  },
  {
   "cell_type": "markdown",
   "id": "current-spiritual",
   "metadata": {},
   "source": [
    "The easiest way to load image data is with `datasets.ImageFolder` from `torchvision` ([documentation](http://pytorch.org/docs/master/torchvision/datasets.html#imagefolder)). In general you'll use `ImageFolder` like so:\n",
    "\n",
    "```python\n",
    "dataset = datasets.ImageFolder('path/to/data', transform=transform)\n",
    "```\n",
    "\n",
    "where `'path/to/data'` is the file path to the data directory and `transform` is a list of processing steps built with the [`transforms`](http://pytorch.org/docs/master/torchvision/transforms.html) module from `torchvision`. ImageFolder expects the files and directories to be constructed like so:\n",
    "```\n",
    "root/dog/xxx.png\n",
    "root/dog/xxy.png\n",
    "root/dog/xxz.png\n",
    "\n",
    "root/cat/123.png\n",
    "root/cat/nsdf3.png\n",
    "root/cat/asd932_.png\n",
    "```\n",
    "\n",
    "where each class has it's own directory (`cat` and `dog`) for the images. The images are then labeled with the class taken from the directory name. So here, the image `123.png` would be loaded with the class label `cat`. You can download the dataset already structured like this [from here](https://s3.amazonaws.com/content.udacity-data.com/nd089/Cat_Dog_data.zip). They are already splitted into a training set and test set.\n",
    "\n",
    " \n",
    ">**Exercise:** Download the dataset and place the train and test set in the `datasets/cat_vs_dog` folder. If you're cloning this from github, you should have it in `../datasets/`. So first create the `cat_vs_dog` folder in `datasets` and verify that the data are there by running `ls ../datasets/cat_vs_dog` (or your custom path if you changed it)."
   ]
  },
  {
   "cell_type": "code",
   "execution_count": null,
   "id": "simple-batman",
   "metadata": {},
   "outputs": [],
   "source": []
  },
  {
   "cell_type": "markdown",
   "id": "interesting-lodging",
   "metadata": {},
   "source": [
    "Great! Now that you have downloaded your data, you need to define the transformations to be passed to the `ImageFolder` function. You have already used them with the MNIST dataset (see the Data Augmentation workbook in Pytorch). While for MNIST you were passing the transformation in the following line of code\n",
    "\n",
    "`datasets.MNIST('~/.pytorch/MNIST_data/', download=True, train=True, transform=transform)`\n",
    "\n",
    "here you do it in the `ImageFolder` method. You can think it as a way to work on every dataset, not only on the MNIST one.\n",
    "\n",
    "\n",
    "### Transforms\n",
    "\n",
    "When you load in the data with `ImageFolder`, you'll need to define some transforms. For example, the images are different sizes but we'll need them to all be the same size for training. You can either resize them with `transforms.Resize()` or crop with `transforms.CenterCrop()`, `transforms.RandomResizedCrop()`, etc. We'll also need to convert the images to PyTorch tensors with `transforms.ToTensor()`. Typically you'll combine these transforms into a pipeline with `transforms.Compose()`, which accepts a list of transforms and runs them in sequence. \n",
    "\n",
    "As in the other notebook, you can use the following transformations:\n",
    "\n",
    "```python\n",
    "transform = transforms.Compose([transforms.RandomRotation(30),\n",
    "                                       transforms.RandomResizedCrop(224),\n",
    "                                       transforms.RandomHorizontalFlip(),\n",
    "                                       transforms.ToTensor(),\n",
    "                                       transforms.Normalize([0.5, 0.5, 0.5], \n",
    "                                                            [0.5, 0.5, 0.5])])\n",
    "\n",
    "```\n",
    "\n",
    "**WARNING!** Remember that transformation are super useful for \"augmenting\" your training data, so that you make your network less vulnerable to different sizes, rotations, or cropping. However, when you are on the test data, there is no need of augmenting the data! Actually, it is not a good practice to do that because there would be very repetitive test data that invalidates your score.\n",
    "\n",
    "For this reason, define two different transformations for training and test data (remember that `ToTensor()` and normalization are necessary also for the test data, as well as the resizing (you can use `transforms.Resize(size)` for it):\n",
    "\n"
   ]
  },
  {
   "cell_type": "code",
   "execution_count": 36,
   "id": "limiting-smoke",
   "metadata": {
    "ExecuteTime": {
     "end_time": "2021-05-28T06:13:47.360736Z",
     "start_time": "2021-05-28T06:13:47.355357Z"
    }
   },
   "outputs": [],
   "source": [
    "train_transform = transform = transforms.Compose([transforms.Resize((28,28)),\n",
    "                                       #transforms.RandomResizedCrop(224),\n",
    "                                       transforms.RandomHorizontalFlip(),\n",
    "                                       transforms.ToTensor(),\n",
    "                                       transforms.Normalize([0.5, 0.5, 0.5], \n",
    "                                                            [0.5, 0.5, 0.5])]) # your code here\n",
    "\n",
    "test_transform = transform = transforms.Compose([transforms.Resize((28,28)),\n",
    "                                       #transforms.RandomRotation(30),\n",
    "                                       #transforms.RandomResizedCrop(224),\n",
    "                                       transforms.ToTensor(),\n",
    "                                       transforms.Normalize([0.5, 0.5, 0.5], \n",
    "                                                            [0.5, 0.5, 0.5])])# your code here\n",
    "\n",
    "\n",
    "data_dir = r\"C:\\Users\\01\\Documents\\GitHub\\ai_mar21\\M5_Deep_Learning\\D4\\Cat_Dog_data\\Cat_Dog_data\" # or the path where you have downloaded the dataset\n",
    "\n",
    "train_data = datasets.ImageFolder(data_dir + '/train', transform=train_transform)\n",
    "test_data = datasets.ImageFolder(data_dir + '/test', transform=test_transform)\n"
   ]
  },
  {
   "cell_type": "markdown",
   "id": "likely-cleaners",
   "metadata": {},
   "source": [
    "Now that you have you have defined the needed transformation, it's time to build the Data loader itself!\n",
    "\n",
    "### Data Loaders\n",
    "\n",
    "With the `ImageFolder` loaded, you have to pass it to a [`DataLoader`](http://pytorch.org/docs/master/data.html#torch.utils.data.DataLoader). The `DataLoader` takes a dataset (such as you would get from `ImageFolder`) and returns batches of images and the corresponding labels. You can set various parameters like the batch size and if the data is shuffled after each epoch.\n",
    "\n",
    "```python\n",
    "dataloader = torch.utils.data.DataLoader(dataset, batch_size=32, shuffle=True)\n",
    "```\n",
    "\n",
    "Here `dataloader` is a [generator](https://jeffknupp.com/blog/2013/04/07/improve-your-python-yield-and-generators-explained/). To get data out of it, you need to loop through it or convert it to an iterator and call `next()`.\n",
    "\n",
    "```python\n",
    "# Looping through it, get a batch on each loop \n",
    "for images, labels in dataloader:\n",
    "    pass\n",
    "\n",
    "# Get one batch\n",
    "images, labels = next(iter(dataloader))\n",
    "```\n",
    " \n",
    ">**Exercise:** Build the dataloader for both the train and test data. Choose the batch size that fits your memory. \n",
    "**Remember** NOT TO shuffle the test data! "
   ]
  },
  {
   "cell_type": "code",
   "execution_count": 37,
   "id": "stock-grade",
   "metadata": {},
   "outputs": [
    {
     "data": {
      "text/plain": [
       "<torch.utils.data.dataloader.DataLoader at 0x1a7f09d3160>"
      ]
     },
     "execution_count": 37,
     "metadata": {},
     "output_type": "execute_result"
    }
   ],
   "source": [
    "trainloader = torch.utils.data.DataLoader(train_data, batch_size=32, shuffle=True) # your code here\n",
    "testloader = torch.utils.data.DataLoader(test_data, batch_size=32, shuffle=False)# your code here\n",
    "trainloader"
   ]
  },
  {
   "cell_type": "code",
   "execution_count": 38,
   "id": "functional-novel",
   "metadata": {},
   "outputs": [
    {
     "name": "stderr",
     "output_type": "stream",
     "text": [
      "Clipping input data to the valid range for imshow with RGB data ([0..1] for floats or [0..255] for integers).\n"
     ]
    },
    {
     "data": {
      "text/plain": [
       "<AxesSubplot:>"
      ]
     },
     "execution_count": 38,
     "metadata": {},
     "output_type": "execute_result"
    },
    {
     "data": {
      "image/png": "[encoded data removed]",
      "text/plain": [
       "<Figure size 640x480 with 1 Axes>"
      ]
     },
     "metadata": {
      "image/png": {
       "height": 389,
       "width": 389
      }
     },
     "output_type": "display_data"
    }
   ],
   "source": [
    "def imshow(image, ax=None, title=None, normalize=True):\n",
    "    \"\"\"Imshow for Tensor.\"\"\"\n",
    "    if ax is None:\n",
    "        fig, ax = plt.subplots()\n",
    "    image = image.numpy().transpose((1, 2, 0))\n",
    "\n",
    "    if normalize:\n",
    "        mean = np.array([0.485, 0.456, 0.406])\n",
    "        std = np.array([0.229, 0.224, 0.225])\n",
    "        image = std * image + mean\n",
    "        image = np.clip(image, 0, 1)\n",
    "\n",
    "    ax.imshow(image)\n",
    "    ax.spines['top'].set_visible(False)\n",
    "    ax.spines['right'].set_visible(False)\n",
    "    ax.spines['left'].set_visible(False)\n",
    "    ax.spines['bottom'].set_visible(False)\n",
    "    ax.tick_params(axis='both', length=0)\n",
    "    ax.set_xticklabels('')\n",
    "    ax.set_yticklabels('')\n",
    "\n",
    "    return ax\n",
    "\n",
    "\n",
    "# Run this to test your data loaders\n",
    "images, labels = next(iter(trainloader))\n",
    "imshow(images[0], normalize=False)\n",
    "\n"
   ]
  },
  {
   "cell_type": "code",
   "execution_count": null,
   "id": "premium-donna",
   "metadata": {},
   "outputs": [],
   "source": []
  },
  {
   "cell_type": "markdown",
   "id": "impaired-ownership",
   "metadata": {},
   "source": [
    "Ok, now let's create a simple Convolutional Neural Network for this task!"
   ]
  },
  {
   "cell_type": "markdown",
   "id": "expired-folks",
   "metadata": {},
   "source": [
    "**N.B.** When building a convolutional neural network, be careful for making all the shapes to match (with Pytorch, in Keras is handled automatically).\n"
   ]
  },
  {
   "cell_type": "code",
   "execution_count": 39,
   "id": "black-assist",
   "metadata": {},
   "outputs": [],
   "source": [
    "import torch.nn as nn\n",
    "import torch.nn.functional as F\n",
    "\n",
    "class Net(nn.Module):\n",
    "    def __init__(self):\n",
    "        super(Net, self).__init__()\n",
    "        self.conv1 = nn.Conv2d(3, 32, kernel_size=3, stride=1)\n",
    "        self.pool = nn.MaxPool2d(kernel_size=3, stride=1)\n",
    "        self.conv2 = nn.Conv2d(32, 16, kernel_size=3, stride=1)\n",
    "        self.fc1 = nn.Linear(16*20*20, 120)\n",
    "        self.fc2 = nn.Linear(120, 84)\n",
    "        self.fc3 = nn.Linear(84, 2)\n",
    "\n",
    "    def forward(self, x):\n",
    "        x = self.pool(F.relu(self.conv1(x)))\n",
    "        x = self.pool(F.relu(self.conv2(x)))\n",
    "        x = x.view(x.shape[0], -1)\n",
    "        x = F.relu(self.fc1(x))\n",
    "        x = F.relu(self.fc2(x))\n",
    "        x = self.fc3(x)\n",
    "        x = F.log_softmax(x, dim=1)\n",
    "        return x\n",
    "\n",
    "\n",
    "net = Net()\n",
    "# optimizer = optim.SGD(net.parameters(), lr=0.001, momentum=0.9)\n",
    "criterion = nn.NLLLoss()\n",
    "\n",
    "\n"
   ]
  },
  {
   "cell_type": "markdown",
   "id": "suitable-giant",
   "metadata": {},
   "source": [
    "Why do we reshape in the middle of the forward pass?\n",
    "\n",
    "As you remember from the class, the output of a convolutional layer is always a 3D volume! For this reason, since the output channels of the conv2 layer is 16 and the feature maps have size 5x5, then the input of the fc1 layer must be reshaped to have shape `(batch_size, 16 * 5 * 5)`.\n",
    "\n",
    "Now the question is: what will be the difference in the training of this network with respect to the fully-connected one you are used to?\n",
    "\n",
    "None, except for the fact that you do not reshape the input to be a vector, but you keep the shape as a volume! \n",
    "\n",
    ">**Exercise:** Implement a Convolutional Neural Network for the cat vs dog challenge, such that:\n",
    "> - The input images have shape 28x28 and three RGB channels\n",
    "> - You have 2 Conv2d layer with MaxPool2D in the middle and two fully-connected layer at the end.\n",
    "> - You can decide yourself the rest of the hyperparameters (kernel size, number of filters...)\n",
    "> - Train and evaluate your model\n",
    "\n",
    "Following there's an helper function to visualize your prediction once your model has been built.\n",
    "\n"
   ]
  },
  {
   "cell_type": "code",
   "execution_count": 40,
   "id": "adjusted-methodology",
   "metadata": {},
   "outputs": [
    {
     "data": {
      "image/png": "[encoded data removed]",
      "text/plain": [
       "<Figure size 600x900 with 2 Axes>"
      ]
     },
     "metadata": {
      "image/png": {
       "height": 281,
       "width": 589
      }
     },
     "output_type": "display_data"
    }
   ],
   "source": [
    "import numpy as np\n",
    "class_list = train_data.classes\n",
    "\n",
    "def view_classify_general(img, ps, class_list):\n",
    "    ''' Function for viewing an image and it's predicted classes.\n",
    "    '''\n",
    "    ps = ps.data.numpy().squeeze()\n",
    "\n",
    "    fig, (ax1, ax2) = plt.subplots(figsize=(6,9), ncols=2)\n",
    "    imshow(img, ax=ax1, normalize=True)\n",
    "    ax1.axis('off')\n",
    "    ax2.barh(np.arange(len(class_list)), ps)\n",
    "    ax2.set_aspect(0.1)\n",
    "    ax2.set_yticks(np.arange(len(class_list)))\n",
    "    ax2.set_yticklabels([x for x in class_list], size='small');\n",
    "    ax2.set_title('Class Probability')\n",
    "    ax2.set_xlim(0, 1.1)\n",
    "\n",
    "    plt.tight_layout()\n",
    "\n",
    "images, labels = next(iter(trainloader))\n",
    "img, label = images[0], labels[0]\n",
    "# Flatten images\n",
    "# Forward pass, get our logits\n",
    "logits = net(img.view(1, *images[0].shape))\n",
    "# Calculate the loss with the logits and the labels\n",
    "ps = torch.exp(logits)\n",
    "    \n",
    "view_classify_general(img, ps, class_list)"
   ]
  },
  {
   "cell_type": "markdown",
   "id": "interracial-cylinder",
   "metadata": {},
   "source": [
    "You should get something cute like this:\n",
    "\n",
    "![image](imgs/cat_pred.png)\n"
   ]
  },
  {
   "cell_type": "code",
   "execution_count": 22,
   "id": "uniform-compact",
   "metadata": {
    "ExecuteTime": {
     "end_time": "2021-05-28T07:25:57.969699Z",
     "start_time": "2021-05-28T07:25:57.659889Z"
    }
   },
   "outputs": [],
   "source": [
    "from PIL import Image\n",
    "img = Image.open(\"imgs/catsven.png\")"
   ]
  },
  {
   "cell_type": "code",
   "execution_count": 23,
   "id": "modern-swing",
   "metadata": {
    "ExecuteTime": {
     "end_time": "2021-05-28T07:26:03.477894Z",
     "start_time": "2021-05-28T07:26:03.433396Z"
    }
   },
   "outputs": [],
   "source": [
    "img = img.convert('RGB')\n"
   ]
  },
  {
   "cell_type": "code",
   "execution_count": null,
   "id": "extraordinary-laugh",
   "metadata": {
    "ExecuteTime": {
     "end_time": "2021-05-28T07:26:08.207852Z",
     "start_time": "2021-05-28T07:26:07.947992Z"
    }
   },
   "outputs": [],
   "source": []
  },
  {
   "cell_type": "code",
   "execution_count": 24,
   "id": "synthetic-approach",
   "metadata": {
    "ExecuteTime": {
     "end_time": "2021-05-28T07:26:16.238363Z",
     "start_time": "2021-05-28T07:26:16.158825Z"
    }
   },
   "outputs": [],
   "source": [
    "trans = transforms.ToTensor()\n",
    "img = trans(img)"
   ]
  },
  {
   "cell_type": "code",
   "execution_count": 25,
   "id": "corresponding-snowboard",
   "metadata": {},
   "outputs": [
    {
     "data": {
      "text/plain": [
       "tensor([[[[0.0235, 0.0235, 0.0235,  ..., 0.0196, 0.0196, 0.0196],\n",
       "          [0.0196, 0.0235, 0.0235,  ..., 0.0431, 0.0353, 0.0353],\n",
       "          [0.0353, 0.0431, 0.0353,  ..., 0.0196, 0.0196, 0.0157],\n",
       "          ...,\n",
       "          [0.8863, 0.8824, 0.8902,  ..., 0.8902, 0.8863, 0.8863],\n",
       "          [0.8863, 0.8863, 0.8902,  ..., 0.8863, 0.8902, 0.8941],\n",
       "          [0.8941, 0.8941, 0.8902,  ..., 0.8863, 0.8824, 0.8824]],\n",
       "\n",
       "         [[0.8824, 0.8902, 0.8902,  ..., 0.8902, 0.8902, 0.8863],\n",
       "          [0.8824, 0.8824, 0.8824,  ..., 0.0235, 0.0235, 0.0235],\n",
       "          [0.0235, 0.0235, 0.0235,  ..., 0.0235, 0.0235, 0.0235],\n",
       "          ...,\n",
       "          [0.8784, 0.8824, 0.8863,  ..., 0.8902, 0.8902, 0.8902],\n",
       "          [0.8902, 0.8863, 0.8824,  ..., 0.8824, 0.8824, 0.8824],\n",
       "          [0.8863, 0.8863, 0.8863,  ..., 0.8863, 0.8941, 0.8902]],\n",
       "\n",
       "         [[0.8863, 0.8824, 0.8824,  ..., 0.8863, 0.8863, 0.8863],\n",
       "          [0.8902, 0.8941, 0.8902,  ..., 0.8745, 0.8824, 0.8902],\n",
       "          [0.8863, 0.8824, 0.8824,  ..., 0.8745, 0.8863, 0.8902],\n",
       "          ...,\n",
       "          [0.6314, 0.7255, 0.8078,  ..., 0.8824, 0.8863, 0.8863],\n",
       "          [0.8863, 0.8824, 0.8784,  ..., 0.8784, 0.8824, 0.8863],\n",
       "          [0.8863, 0.8784, 0.8706,  ..., 0.8667, 0.8706, 0.8863]]]])"
      ]
     },
     "execution_count": 25,
     "metadata": {},
     "output_type": "execute_result"
    }
   ],
   "source": [
    "img.resize_(1, 3,28,28)"
   ]
  },
  {
   "cell_type": "code",
   "execution_count": 26,
   "id": "historical-tennis",
   "metadata": {},
   "outputs": [
    {
     "ename": "NameError",
     "evalue": "name 'model' is not defined",
     "output_type": "error",
     "traceback": [
      "\u001b[1;31m---------------------------------------------------------------------------\u001b[0m",
      "\u001b[1;31mNameError\u001b[0m                                 Traceback (most recent call last)",
      "\u001b[1;32m<ipython-input-26-b33ece645a5a>\u001b[0m in \u001b[0;36m<module>\u001b[1;34m\u001b[0m\n\u001b[1;32m----> 1\u001b[1;33m \u001b[0mmodel\u001b[0m\u001b[1;33m(\u001b[0m\u001b[0mimg\u001b[0m\u001b[1;33m)\u001b[0m\u001b[1;33m\u001b[0m\u001b[1;33m\u001b[0m\u001b[0m\n\u001b[0m",
      "\u001b[1;31mNameError\u001b[0m: name 'model' is not defined"
     ]
    }
   ],
   "source": [
    "model(img)"
   ]
  },
  {
   "cell_type": "code",
   "execution_count": 27,
   "id": "focal-victoria",
   "metadata": {},
   "outputs": [
    {
     "data": {
      "text/plain": [
       "tensor([[0.5229, 0.4771]], grad_fn=<ExpBackward>)"
      ]
     },
     "execution_count": 27,
     "metadata": {},
     "output_type": "execute_result"
    }
   ],
   "source": [
    "ps"
   ]
  },
  {
   "cell_type": "code",
   "execution_count": 41,
   "id": "6896a6cc",
   "metadata": {},
   "outputs": [],
   "source": [
    "from torch import optim\n",
    "import torch.nn.functional as F\n",
    "\n",
    "epochs = 10\n",
    "print_every = 40\n",
    "criterion = nn.NLLLoss()\n",
    "optimizer = optim.SGD(net.parameters(), lr=0.01, momentum= 0.9)\n",
    "\n",
    "def calc_accuracy(mdl, test_data):\n",
    "    total_acc= []\n",
    "    for images, labels in iter(test_data):\n",
    "        max_vlas, max_indices= mdl(images).max(1)\n",
    "        n= max_indices.size(0)\n",
    "        acc= (max_indices==labels).sum().item()/n\n",
    "        total_acc.append(acc)\n",
    "        \n",
    "    final_acc= sum(total_acc)/len(total_acc)\n",
    "    print(f\"average accuracy: {final_acc}, test_size: {len(total_acc)}\")\n",
    "    \n",
    "def train_net(trainloader, tetsloader, model, optimizer, criterion, lr, eopchs):\n",
    "    running_loss=0\n",
    "    running_losses=[]\n",
    "    eopch_losses=[]\n",
    "    acc_test= []\n",
    "    \n",
    "\n",
    "    for epoch in range(epochs):\n",
    "        #running_loss = 0\n",
    "        #print(f\"Epoch: {e+1}/{epochs}\")\n",
    "\n",
    "        for i, (images, labels) in enumerate(iter(trainloader)):\n",
    "\n",
    "            # Flatten MNIST images into a 784 long vector\n",
    "            images.resize_(images.size()[0], 784)\n",
    "\n",
    "            optimizer.zero_grad()\n",
    "\n",
    "            output = model.forward(images)   # 1) Forward pass\n",
    "            loss = criterion(output, labels) # 2) Compute loss\n",
    "            loss.backward()                  # 3) Backward pass\n",
    "            optimizer.step()                 # 4) Update model\n",
    "\n",
    "            running_loss += loss.item()\n",
    "\n",
    "            if i % 64 == 0:\n",
    "                print(f\"\\tIteration: {i}\\t Loss: {running_loss/64:.4f}\")\n",
    "                running_losses.append(running_loss)\n",
    "                running_loss = 0\n",
    "        \n",
    "        epoch_losses.append(loss)  \n",
    "        print(\"lol\")\n",
    "        print(eopch_losses)\n",
    "        \n",
    "        model.eval()\n",
    "        with torch.no_grad():\n",
    "            acc=cal_accuracy(model, testloader)\n",
    "            acc_test.append(acc)\n",
    "        model.train()\n",
    "            \n",
    "    "
   ]
  },
  {
   "cell_type": "code",
   "execution_count": null,
   "id": "263f7adf",
   "metadata": {},
   "outputs": [],
   "source": []
  },
  {
   "cell_type": "code",
   "execution_count": null,
   "id": "6c20fb7b",
   "metadata": {},
   "outputs": [],
   "source": []
  }
 ],
 "metadata": {
  "kernelspec": {
   "display_name": "Python 3",
   "language": "python",
   "name": "python3"
  },
  "language_info": {
   "codemirror_mode": {
    "name": "ipython",
    "version": 3
   },
   "file_extension": ".py",
   "mimetype": "text/x-python",
   "name": "python",
   "nbconvert_exporter": "python",
   "pygments_lexer": "ipython3",
   "version": "3.8.8"
  },
  "varInspector": {
   "cols": {
    "lenName": 16,
    "lenType": 16,
    "lenVar": 40
   },
   "kernels_config": {
    "python": {
     "delete_cmd_postfix": "",
     "delete_cmd_prefix": "del ",
     "library": "var_list.py",
     "varRefreshCmd": "print(var_dic_list())"
    },
    "r": {
     "delete_cmd_postfix": ") ",
     "delete_cmd_prefix": "rm(",
     "library": "var_list.r",
     "varRefreshCmd": "cat(var_dic_list()) "
    }
   },
   "types_to_exclude": [
    "module",
    "function",
    "builtin_function_or_method",
    "instance",
    "_Feature"
   ],
   "window_display": false
  }
 },
 "nbformat": 4,
 "nbformat_minor": 5
}
