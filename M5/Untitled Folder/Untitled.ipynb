{
 "cells": [
  {
   "cell_type": "code",
   "execution_count": 1,
   "id": "f7fa6ec8",
   "metadata": {},
   "outputs": [],
   "source": [
    "import os\n",
    "import cv2\n",
    "import numpy as np\n",
    "from tqdm import tqdm\n",
    "\n",
    "REBUILT_DATA= True\n"
   ]
  },
  {
   "cell_type": "code",
   "execution_count": 10,
   "id": "9ff824f8",
   "metadata": {},
   "outputs": [
    {
     "ename": "SyntaxError",
     "evalue": "(unicode error) 'unicodeescape' codec can't decode bytes in position 3-4: truncated \\UXXXXXXXX escape (<ipython-input-10-d051f1fb73fd>, line 4)",
     "output_type": "error",
     "traceback": [
      "\u001b[1;36m  File \u001b[1;32m\"<ipython-input-10-d051f1fb73fd>\"\u001b[1;36m, line \u001b[1;32m4\u001b[0m\n\u001b[1;33m    img=cv2.imread(\"...\\Users\\01\\Documents\\GitHub\\striveAI_2021\\M5\\Untitled Folder\\PetImages\\Cat\\0.jpg\")\u001b[0m\n\u001b[1;37m                   ^\u001b[0m\n\u001b[1;31mSyntaxError\u001b[0m\u001b[1;31m:\u001b[0m (unicode error) 'unicodeescape' codec can't decode bytes in position 3-4: truncated \\UXXXXXXXX escape\n"
     ]
    }
   ],
   "source": [
    "print(cv2.__version__)\n",
    "import cv2 \n",
    "\n",
    "img=cv2.imread(\"...\\Users\\01\\Documents\\GitHub\\striveAI_2021\\M5\\Untitled Folder\\PetImages\\Cat\\0.jpg\") \n",
    "#C:\\Users\\01\\Documents\\GitHub\\striveAI_2021\\M5\\Untitled Folder\\PetImages\\Cat\n",
    "cv2.imshow('ImageWindow',img)"
   ]
  },
  {
   "cell_type": "code",
   "execution_count": 2,
   "id": "1ca6de2d",
   "metadata": {},
   "outputs": [
    {
     "name": "stderr",
     "output_type": "stream",
     "text": [
      "100%|████████████████████████████████████████████████████████████████████████| 12501/12501 [00:00<00:00, 138891.30it/s]\n",
      "100%|████████████████████████████████████████████████████████████████████████| 12501/12501 [00:00<00:00, 143680.78it/s]"
     ]
    },
    {
     "name": "stdout",
     "output_type": "stream",
     "text": [
      "PetImages/Cat\n",
      "PetImages/Dog\n",
      "Cats: 0\n",
      "Gogs: 0\n"
     ]
    },
    {
     "name": "stderr",
     "output_type": "stream",
     "text": [
      "\n"
     ]
    }
   ],
   "source": [
    "class DogsVSCats():\n",
    "    CATS= 'PetImages/Cat'\n",
    "    DOGS= 'PetImages/Dog'\n",
    "    LABELS= {CATS: 0, DOGS: 1}\n",
    "    \n",
    "    training_data= []\n",
    "    catcount= 0\n",
    "    dogcount= 0\n",
    "    \n",
    "    \n",
    "    def make_training(self):\n",
    "        for label in self.LABELS:\n",
    "            print(label)\n",
    "            \n",
    "            for f in tqdm(os.listdir(label)):\n",
    "                try:\n",
    "                    path= os.path.join(label, f)\n",
    "                    \n",
    "                    img= cv2.imread(path, cv2.IMREADD_GRAYSCALE)\n",
    "                    img= cv2.resize(img, (self.IMG_SIZE, self.IMG_SIZE))\n",
    "                    self.training_data.append([np.array(img), np.eye(2)[self.LABELS[label]] ])\n",
    "\n",
    "                    if label == self.CATS:\n",
    "                        self.catcount +=1\n",
    "                    elif label== self.DOGS:\n",
    "                        self.dogcount +=1\n",
    "\n",
    "                except Exception as e:\n",
    "                    pass\n",
    "        \n",
    "        np.random.shuffle(self.training_data)\n",
    "        np.save(\"training_data.npy\", self.training_data)\n",
    "        print(\"Cats:\", self.catcount)            \n",
    "        print(\"Gogs:\", self.dogcount)               \n",
    "\n",
    "if REBUILT_DATA:\n",
    "    dogvscats= DogsVSCats()\n",
    "    dogvscats.make_training()\n",
    "                \n",
    "              \n",
    "              \n",
    "                \n",
    "                \n",
    "                "
   ]
  },
  {
   "cell_type": "code",
   "execution_count": 12,
   "id": "9d662ef7",
   "metadata": {},
   "outputs": [
    {
     "name": "stdout",
     "output_type": "stream",
     "text": [
      "<__main__.Rocket object at 0x0000027BA9018A00>\n"
     ]
    }
   ],
   "source": [
    "class Rocket():\n",
    "    # Rocket simulates a rocket ship for a game,\n",
    "    #  or a physics simulation.\n",
    "    \n",
    "    def __init__(self):\n",
    "        # Each rocket has an (x,y) position.\n",
    "        self.x = 0\n",
    "        self.y = 0\n",
    "        \n",
    "    def move_up(self):\n",
    "        # Increment the y-position of the rocket.\n",
    "        self.y += 1\n",
    "        \n",
    "my_rocket = Rocket()\n",
    "print(my_rocket)"
   ]
  },
  {
   "cell_type": "code",
   "execution_count": null,
   "id": "1dcbc52b",
   "metadata": {},
   "outputs": [],
   "source": []
  }
 ],
 "metadata": {
  "kernelspec": {
   "display_name": "Python 3",
   "language": "python",
   "name": "python3"
  },
  "language_info": {
   "codemirror_mode": {
    "name": "ipython",
    "version": 3
   },
   "file_extension": ".py",
   "mimetype": "text/x-python",
   "name": "python",
   "nbconvert_exporter": "python",
   "pygments_lexer": "ipython3",
   "version": "3.8.8"
  }
 },
 "nbformat": 4,
 "nbformat_minor": 5
}
