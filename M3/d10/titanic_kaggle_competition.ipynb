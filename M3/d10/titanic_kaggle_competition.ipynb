{
  "cells": [
    {
      "cell_type": "code",
      "metadata": {
        "tags": [],
        "cell_id": "00000-6cb311e5-63f7-478d-8f00-e685488bb974",
        "deepnote_to_be_reexecuted": false,
        "source_hash": "78cd830d",
        "execution_start": 1619786083556,
        "execution_millis": 13,
        "deepnote_cell_type": "code"
      },
      "source": "# Start writing code here...\n\n#import the libraries\nimport numpy as np\nimport pandas as pd\nfrom pandas_profiling import ProfileReport\nfrom ipywidgets import widget\n\nimport matplotlib.pyplot as plt\nimport seaborn as sns\n%matplotlib inline\n\nfrom sklearn.model_selection import train_test_split\nfrom sklearn.ensemble import RandomForestClassifier\nfrom sklearn.metrics import classification_report, confusion_matrix\nfrom sklearn import metrics\nfrom sklearn.preprocessing import MinMaxScaler\nfrom sklearn.impute import KNNImputer\n\nprint('setup complete')",
      "outputs": [
        {
          "name": "stdout",
          "text": "setup complete\n",
          "output_type": "stream"
        }
      ],
      "execution_count": null
    },
    {
      "cell_type": "code",
      "source": "#import the data\n\ntrain_data = pd.read_csv('train.csv')\ntest_data = pd.read_csv('test.csv')\n\nsample_submission = pd.read_csv('gender_submission.csv')",
      "metadata": {
        "tags": [],
        "cell_id": "00001-32538cdc-ad62-473e-834a-1eb0fae2ebab",
        "deepnote_to_be_reexecuted": false,
        "source_hash": "87c26472",
        "execution_start": 1619774653077,
        "execution_millis": 21,
        "deepnote_cell_type": "code"
      },
      "outputs": [],
      "execution_count": null
    },
    {
      "cell_type": "code",
      "source": "## columns not needed Name, Ticker, Embarked, Cabin, PassengerId \n\n#create a correlation heatmap\nheatmap_data = train_data.drop(['Name', 'Ticket', 'Cabin','PassengerId'], axis=1) #Embarked\nheatmap_data['Sex'] = heatmap_data['Sex'].replace({'male':1, 'female':0})\nheatmap_data['Embarked'] = heatmap_data['Embarked'].replace({'C':0, 'Q':1, 'S':2})\n\n#co-relation for overall data --- uncomment to see the heatmap\n\n#plt.figure(figsize=(14,12))\n#sns.heatmap(heatmap_data.astype(float).corr(),linewidths=0.1, \n#           square=True,  linecolor='white', annot=True)",
      "metadata": {
        "tags": [],
        "cell_id": "00003-83a00dcc-2608-46b4-b8fb-eda461558df1",
        "deepnote_to_be_reexecuted": false,
        "source_hash": "b6097e65",
        "execution_start": 1619786070421,
        "execution_millis": 1,
        "deepnote_cell_type": "code"
      },
      "outputs": [],
      "execution_count": null
    },
    {
      "cell_type": "code",
      "source": "#\nfeatures = heatmap_data.drop(['Survived'], axis=1)  # x\ntarget = heatmap_data['Survived']                   # y\nscaler = MinMaxScaler()\nnorm_features = pd.DataFrame(scaler.fit_transform(features), columns = features.columns)\n\n#imputation\nimputer = KNNImputer(n_neighbors=3)  # sqrt \nfinal_features = pd.DataFrame(imputer.fit_transform(norm_features),columns = norm_features.columns)\n\n#final_features.isna().sum()\n#final_features['super'] = (final_features['Pclass'] + final_features['Sex'] + final_features['Age'] + final_features['SibSp'] )/1\nfinal_features.head()",
      "metadata": {
        "tags": [],
        "cell_id": "00003-a3677425-15d5-4272-ab66-81cbaa80b45a",
        "deepnote_to_be_reexecuted": false,
        "source_hash": "24e9efe4",
        "execution_start": 1619783456272,
        "execution_millis": 118,
        "deepnote_cell_type": "code"
      },
      "outputs": [
        {
          "output_type": "execute_result",
          "execution_count": 133,
          "data": {
            "application/vnd.deepnote.dataframe.v2+json": {
              "row_count": 5,
              "column_count": 7,
              "columns": [
                {
                  "name": "Pclass",
                  "dtype": "float64",
                  "stats": {
                    "unique_count": 2,
                    "nan_count": 0,
                    "min": "0.0",
                    "max": "1.0",
                    "histogram": [
                      {
                        "bin_start": 0,
                        "bin_end": 0.1,
                        "count": 2
                      },
                      {
                        "bin_start": 0.1,
                        "bin_end": 0.2,
                        "count": 0
                      },
                      {
                        "bin_start": 0.2,
                        "bin_end": 0.30000000000000004,
                        "count": 0
                      },
                      {
                        "bin_start": 0.30000000000000004,
                        "bin_end": 0.4,
                        "count": 0
                      },
                      {
                        "bin_start": 0.4,
                        "bin_end": 0.5,
                        "count": 0
                      },
                      {
                        "bin_start": 0.5,
                        "bin_end": 0.6000000000000001,
                        "count": 0
                      },
                      {
                        "bin_start": 0.6000000000000001,
                        "bin_end": 0.7000000000000001,
                        "count": 0
                      },
                      {
                        "bin_start": 0.7000000000000001,
                        "bin_end": 0.8,
                        "count": 0
                      },
                      {
                        "bin_start": 0.8,
                        "bin_end": 0.9,
                        "count": 0
                      },
                      {
                        "bin_start": 0.9,
                        "bin_end": 1,
                        "count": 3
                      }
                    ]
                  }
                },
                {
                  "name": "Sex",
                  "dtype": "float64",
                  "stats": {
                    "unique_count": 2,
                    "nan_count": 0,
                    "min": "0.0",
                    "max": "1.0",
                    "histogram": [
                      {
                        "bin_start": 0,
                        "bin_end": 0.1,
                        "count": 3
                      },
                      {
                        "bin_start": 0.1,
                        "bin_end": 0.2,
                        "count": 0
                      },
                      {
                        "bin_start": 0.2,
                        "bin_end": 0.30000000000000004,
                        "count": 0
                      },
                      {
                        "bin_start": 0.30000000000000004,
                        "bin_end": 0.4,
                        "count": 0
                      },
                      {
                        "bin_start": 0.4,
                        "bin_end": 0.5,
                        "count": 0
                      },
                      {
                        "bin_start": 0.5,
                        "bin_end": 0.6000000000000001,
                        "count": 0
                      },
                      {
                        "bin_start": 0.6000000000000001,
                        "bin_end": 0.7000000000000001,
                        "count": 0
                      },
                      {
                        "bin_start": 0.7000000000000001,
                        "bin_end": 0.8,
                        "count": 0
                      },
                      {
                        "bin_start": 0.8,
                        "bin_end": 0.9,
                        "count": 0
                      },
                      {
                        "bin_start": 0.9,
                        "bin_end": 1,
                        "count": 2
                      }
                    ]
                  }
                },
                {
                  "name": "Age",
                  "dtype": "float64",
                  "stats": {
                    "unique_count": 4,
                    "nan_count": 0,
                    "min": "0.2711736617240512",
                    "max": "0.4722292033174164",
                    "histogram": [
                      {
                        "bin_start": 0.2711736617240512,
                        "bin_end": 0.29127921588338773,
                        "count": 1
                      },
                      {
                        "bin_start": 0.29127921588338773,
                        "bin_end": 0.31138477004272425,
                        "count": 0
                      },
                      {
                        "bin_start": 0.31138477004272425,
                        "bin_end": 0.33149032420206076,
                        "count": 1
                      },
                      {
                        "bin_start": 0.33149032420206076,
                        "bin_end": 0.3515958783613973,
                        "count": 0
                      },
                      {
                        "bin_start": 0.3515958783613973,
                        "bin_end": 0.37170143252073384,
                        "count": 0
                      },
                      {
                        "bin_start": 0.37170143252073384,
                        "bin_end": 0.39180698668007036,
                        "count": 0
                      },
                      {
                        "bin_start": 0.39180698668007036,
                        "bin_end": 0.41191254083940687,
                        "count": 0
                      },
                      {
                        "bin_start": 0.41191254083940687,
                        "bin_end": 0.4320180949987434,
                        "count": 0
                      },
                      {
                        "bin_start": 0.4320180949987434,
                        "bin_end": 0.4521236491580799,
                        "count": 2
                      },
                      {
                        "bin_start": 0.4521236491580799,
                        "bin_end": 0.4722292033174164,
                        "count": 1
                      }
                    ]
                  }
                },
                {
                  "name": "SibSp",
                  "dtype": "float64",
                  "stats": {
                    "unique_count": 2,
                    "nan_count": 0,
                    "min": "0.0",
                    "max": "0.125",
                    "histogram": [
                      {
                        "bin_start": 0,
                        "bin_end": 0.0125,
                        "count": 2
                      },
                      {
                        "bin_start": 0.0125,
                        "bin_end": 0.025,
                        "count": 0
                      },
                      {
                        "bin_start": 0.025,
                        "bin_end": 0.037500000000000006,
                        "count": 0
                      },
                      {
                        "bin_start": 0.037500000000000006,
                        "bin_end": 0.05,
                        "count": 0
                      },
                      {
                        "bin_start": 0.05,
                        "bin_end": 0.0625,
                        "count": 0
                      },
                      {
                        "bin_start": 0.0625,
                        "bin_end": 0.07500000000000001,
                        "count": 0
                      },
                      {
                        "bin_start": 0.07500000000000001,
                        "bin_end": 0.08750000000000001,
                        "count": 0
                      },
                      {
                        "bin_start": 0.08750000000000001,
                        "bin_end": 0.1,
                        "count": 0
                      },
                      {
                        "bin_start": 0.1,
                        "bin_end": 0.1125,
                        "count": 0
                      },
                      {
                        "bin_start": 0.1125,
                        "bin_end": 0.125,
                        "count": 3
                      }
                    ]
                  }
                },
                {
                  "name": "Parch",
                  "dtype": "float64",
                  "stats": {
                    "unique_count": 1,
                    "nan_count": 0,
                    "min": "0.0",
                    "max": "0.0",
                    "histogram": [
                      {
                        "bin_start": -0.5,
                        "bin_end": -0.4,
                        "count": 0
                      },
                      {
                        "bin_start": -0.4,
                        "bin_end": -0.3,
                        "count": 0
                      },
                      {
                        "bin_start": -0.3,
                        "bin_end": -0.19999999999999996,
                        "count": 0
                      },
                      {
                        "bin_start": -0.19999999999999996,
                        "bin_end": -0.09999999999999998,
                        "count": 0
                      },
                      {
                        "bin_start": -0.09999999999999998,
                        "bin_end": 0,
                        "count": 0
                      },
                      {
                        "bin_start": 0,
                        "bin_end": 0.10000000000000009,
                        "count": 5
                      },
                      {
                        "bin_start": 0.10000000000000009,
                        "bin_end": 0.20000000000000007,
                        "count": 0
                      },
                      {
                        "bin_start": 0.20000000000000007,
                        "bin_end": 0.30000000000000004,
                        "count": 0
                      },
                      {
                        "bin_start": 0.30000000000000004,
                        "bin_end": 0.4,
                        "count": 0
                      },
                      {
                        "bin_start": 0.4,
                        "bin_end": 0.5,
                        "count": 0
                      }
                    ]
                  }
                },
                {
                  "name": "Fare",
                  "dtype": "float64",
                  "stats": {
                    "unique_count": 5,
                    "nan_count": 0,
                    "min": "0.014151057562208049",
                    "max": "0.13913573538264068",
                    "histogram": [
                      {
                        "bin_start": 0.014151057562208049,
                        "bin_end": 0.026649525344251312,
                        "count": 3
                      },
                      {
                        "bin_start": 0.026649525344251312,
                        "bin_end": 0.03914799312629458,
                        "count": 0
                      },
                      {
                        "bin_start": 0.03914799312629458,
                        "bin_end": 0.05164646090833784,
                        "count": 0
                      },
                      {
                        "bin_start": 0.05164646090833784,
                        "bin_end": 0.0641449286903811,
                        "count": 0
                      },
                      {
                        "bin_start": 0.0641449286903811,
                        "bin_end": 0.07664339647242437,
                        "count": 0
                      },
                      {
                        "bin_start": 0.07664339647242437,
                        "bin_end": 0.08914186425446763,
                        "count": 0
                      },
                      {
                        "bin_start": 0.08914186425446763,
                        "bin_end": 0.10164033203651089,
                        "count": 0
                      },
                      {
                        "bin_start": 0.10164033203651089,
                        "bin_end": 0.11413879981855415,
                        "count": 1
                      },
                      {
                        "bin_start": 0.11413879981855415,
                        "bin_end": 0.1266372676005974,
                        "count": 0
                      },
                      {
                        "bin_start": 0.1266372676005974,
                        "bin_end": 0.13913573538264068,
                        "count": 1
                      }
                    ]
                  }
                },
                {
                  "name": "Embarked",
                  "dtype": "float64",
                  "stats": {
                    "unique_count": 2,
                    "nan_count": 0,
                    "min": "0.0",
                    "max": "1.0",
                    "histogram": [
                      {
                        "bin_start": 0,
                        "bin_end": 0.1,
                        "count": 1
                      },
                      {
                        "bin_start": 0.1,
                        "bin_end": 0.2,
                        "count": 0
                      },
                      {
                        "bin_start": 0.2,
                        "bin_end": 0.30000000000000004,
                        "count": 0
                      },
                      {
                        "bin_start": 0.30000000000000004,
                        "bin_end": 0.4,
                        "count": 0
                      },
                      {
                        "bin_start": 0.4,
                        "bin_end": 0.5,
                        "count": 0
                      },
                      {
                        "bin_start": 0.5,
                        "bin_end": 0.6000000000000001,
                        "count": 0
                      },
                      {
                        "bin_start": 0.6000000000000001,
                        "bin_end": 0.7000000000000001,
                        "count": 0
                      },
                      {
                        "bin_start": 0.7000000000000001,
                        "bin_end": 0.8,
                        "count": 0
                      },
                      {
                        "bin_start": 0.8,
                        "bin_end": 0.9,
                        "count": 0
                      },
                      {
                        "bin_start": 0.9,
                        "bin_end": 1,
                        "count": 4
                      }
                    ]
                  }
                },
                {
                  "name": "_deepnote_index_column",
                  "dtype": "int64"
                }
              ],
              "rows_top": [
                {
                  "Pclass": 1,
                  "Sex": 1,
                  "Age": 0.2711736617240512,
                  "SibSp": 0.125,
                  "Parch": 0,
                  "Fare": 0.014151057562208049,
                  "Embarked": 1,
                  "_deepnote_index_column": 0
                },
                {
                  "Pclass": 0,
                  "Sex": 0,
                  "Age": 0.4722292033174164,
                  "SibSp": 0.125,
                  "Parch": 0,
                  "Fare": 0.13913573538264068,
                  "Embarked": 0,
                  "_deepnote_index_column": 1
                },
                {
                  "Pclass": 1,
                  "Sex": 0,
                  "Age": 0.32143754712239253,
                  "SibSp": 0,
                  "Parch": 0,
                  "Fare": 0.015468569817999833,
                  "Embarked": 1,
                  "_deepnote_index_column": 2
                },
                {
                  "Pclass": 0,
                  "Sex": 0,
                  "Age": 0.4345312892686604,
                  "SibSp": 0.125,
                  "Parch": 0,
                  "Fare": 0.10364429745562033,
                  "Embarked": 1,
                  "_deepnote_index_column": 3
                },
                {
                  "Pclass": 1,
                  "Sex": 1,
                  "Age": 0.4345312892686604,
                  "SibSp": 0,
                  "Parch": 0,
                  "Fare": 0.015712553569072387,
                  "Embarked": 1,
                  "_deepnote_index_column": 4
                }
              ],
              "rows_bottom": null
            },
            "text/plain": "   Pclass  Sex       Age  SibSp  Parch      Fare  Embarked\n0     1.0  1.0  0.271174  0.125    0.0  0.014151       1.0\n1     0.0  0.0  0.472229  0.125    0.0  0.139136       0.0\n2     1.0  0.0  0.321438  0.000    0.0  0.015469       1.0\n3     0.0  0.0  0.434531  0.125    0.0  0.103644       1.0\n4     1.0  1.0  0.434531  0.000    0.0  0.015713       1.0",
            "text/html": "<div>\n<style scoped>\n    .dataframe tbody tr th:only-of-type {\n        vertical-align: middle;\n    }\n\n    .dataframe tbody tr th {\n        vertical-align: top;\n    }\n\n    .dataframe thead th {\n        text-align: right;\n    }\n</style>\n<table border=\"1\" class=\"dataframe\">\n  <thead>\n    <tr style=\"text-align: right;\">\n      <th></th>\n      <th>Pclass</th>\n      <th>Sex</th>\n      <th>Age</th>\n      <th>SibSp</th>\n      <th>Parch</th>\n      <th>Fare</th>\n      <th>Embarked</th>\n    </tr>\n  </thead>\n  <tbody>\n    <tr>\n      <th>0</th>\n      <td>1.0</td>\n      <td>1.0</td>\n      <td>0.271174</td>\n      <td>0.125</td>\n      <td>0.0</td>\n      <td>0.014151</td>\n      <td>1.0</td>\n    </tr>\n    <tr>\n      <th>1</th>\n      <td>0.0</td>\n      <td>0.0</td>\n      <td>0.472229</td>\n      <td>0.125</td>\n      <td>0.0</td>\n      <td>0.139136</td>\n      <td>0.0</td>\n    </tr>\n    <tr>\n      <th>2</th>\n      <td>1.0</td>\n      <td>0.0</td>\n      <td>0.321438</td>\n      <td>0.000</td>\n      <td>0.0</td>\n      <td>0.015469</td>\n      <td>1.0</td>\n    </tr>\n    <tr>\n      <th>3</th>\n      <td>0.0</td>\n      <td>0.0</td>\n      <td>0.434531</td>\n      <td>0.125</td>\n      <td>0.0</td>\n      <td>0.103644</td>\n      <td>1.0</td>\n    </tr>\n    <tr>\n      <th>4</th>\n      <td>1.0</td>\n      <td>1.0</td>\n      <td>0.434531</td>\n      <td>0.000</td>\n      <td>0.0</td>\n      <td>0.015713</td>\n      <td>1.0</td>\n    </tr>\n  </tbody>\n</table>\n</div>"
          },
          "metadata": {}
        }
      ],
      "execution_count": null
    },
    {
      "cell_type": "code",
      "source": "#Model1 --> testing gavaskar model with imputed data\n#from sklearn.svm import SVC\n\n#X = final_features.values\n#y = target.values\n\n#X_train, X_test, y_train, y_test = train_test_split(X,y, test_size=0.2, random_state = 13)\n\n#clf = SVC()\n#clf.fit(X_train, y_train)\n\n#y_pred=clf.predict(X_test) \n\n#print(confusion_matrix(y_test, y_pred))\n#print(\"Accuracy:\",metrics.accuracy_score(y_test, y_pred))\n\n",
      "metadata": {
        "tags": [],
        "cell_id": "00004-01925dec-f086-40c5-9e98-f67a6e067122",
        "deepnote_to_be_reexecuted": false,
        "source_hash": "c95f9bb9",
        "execution_start": 1619791355975,
        "execution_millis": 1,
        "deepnote_cell_type": "code"
      },
      "outputs": [],
      "execution_count": null
    },
    {
      "cell_type": "code",
      "source": "#Model-2 --> RandomForestClassifier\n\nX = final_features.values\ny = target.values\n\nX_train, X_test, y_train, y_test = train_test_split(X,y, test_size=0.0001, random_state = 13)\n\nclf=RandomForestClassifier(n_estimators=100)\n\nclf.fit(X_train,y_train)   # \n\n\ny_pred=clf.predict(X_test) # survivor\n\nprint(confusion_matrix(y_test, y_pred))\n#print(classification_report(y_test, y_pred))\nprint(\"Accuracy:\",metrics.accuracy_score(y_test, y_pred))\n",
      "metadata": {
        "tags": [],
        "cell_id": "00005-e06b315f-cdf7-4fb4-b738-46c8a37cb02d",
        "deepnote_to_be_reexecuted": false,
        "source_hash": "fae9e556",
        "execution_start": 1619787588233,
        "execution_millis": 189,
        "deepnote_cell_type": "code"
      },
      "outputs": [
        {
          "name": "stdout",
          "text": "[[1]]\nAccuracy: 1.0\n",
          "output_type": "stream"
        }
      ],
      "execution_count": null
    },
    {
      "cell_type": "code",
      "source": "\n#imputation\nimputer = KNNImputer(n_neighbors=3)  # sqrt \nfinal_features = pd.DataFrame(imputer.fit_transform(norm_features),columns = norm_features.columns)\nfinal_features.head()\n\n# preprocessing test data\ndf = test_data\ndf1 = df.drop(['Name', 'Ticket', 'Cabin','PassengerId'], axis=1) #Embarked\ndf1['Sex'] = df['Sex'].replace({'male':1, 'female':0})\ndf1['Embarked'] = df['Embarked'].replace({'C':0, 'Q':1, 'S':2})\nscaler = MinMaxScaler()\nnorm_features = pd.DataFrame(scaler.fit_transform(df1), columns = df1.columns)\n\n#imputation\nimputer = KNNImputer(n_neighbors=3)  # sqrt \ntest_final_features = pd.DataFrame(imputer.fit_transform(norm_features),columns = norm_features.columns)\ntest_final_features.head()\n\nsurvivor=clf.predict(test_final_features) # survivor\ndf_survivor= pd.DataFrame(survivor, columns= ['Survived'])\n\ntype(df_survivor)  # Survived\ndf_survivor.columns\n",
      "metadata": {
        "tags": [],
        "cell_id": "00006-d6c9024b-8b36-4a97-ad4f-33ad42df1a69",
        "deepnote_to_be_reexecuted": false,
        "source_hash": "34fde34d",
        "execution_start": 1619788104411,
        "execution_millis": 42,
        "deepnote_cell_type": "code"
      },
      "outputs": [
        {
          "output_type": "execute_result",
          "execution_count": 174,
          "data": {
            "text/plain": "Index(['Survived'], dtype='object')"
          },
          "metadata": {}
        }
      ],
      "execution_count": null
    },
    {
      "cell_type": "code",
      "source": "len(survivor)\n#df_sub['PassengerId'] = df['PassengerId'] \n#df_sub['Survived'] =  df_survivor['Survived']\n#df_sub.to_csv('submission.csv')\n#df_sub.head()\nsubmission = pd.DataFrame({'PassengerId':df['PassengerId'],'Survived':survivor})\nsubmission.head()\nsubmission.to_csv('submission.csv')",
      "metadata": {
        "tags": [],
        "cell_id": "00007-67ebaece-3852-4041-b82d-2e9c762ef5dc",
        "deepnote_to_be_reexecuted": false,
        "source_hash": "1c91ab72",
        "execution_start": 1619788374373,
        "execution_millis": 2,
        "deepnote_cell_type": "code"
      },
      "outputs": [],
      "execution_count": null
    },
    {
      "cell_type": "code",
      "source": "df1 = train_data.drop(['Name', 'Ticket', 'PassengerId'], axis=1)\ndf1['Sex'] = df1['Sex'].replace({'male':1, 'female':0})\ndf1.corr()  # this shows that only age is some what corr with survived\ntrain_data.corrwith(df1['Survived'])\n",
      "metadata": {
        "tags": [],
        "cell_id": "00004-9540c9bf-093a-4a6f-86f0-7d382c3b7167",
        "deepnote_to_be_reexecuted": false,
        "source_hash": "2269f175",
        "execution_start": 1619781793738,
        "execution_millis": 27,
        "deepnote_cell_type": "code"
      },
      "outputs": [
        {
          "output_type": "execute_result",
          "execution_count": 93,
          "data": {
            "text/plain": "PassengerId   -0.005007\nSurvived       1.000000\nPclass        -0.338481\nAge           -0.077221\nSibSp         -0.035322\nParch          0.081629\nFare           0.257307\ndtype: float64"
          },
          "metadata": {}
        }
      ],
      "execution_count": null
    },
    {
      "cell_type": "code",
      "source": "",
      "metadata": {
        "tags": [],
        "cell_id": "00005-ee5c3831-bdfe-412e-9cba-3ea920cb0f76",
        "deepnote_cell_type": "code"
      },
      "outputs": [],
      "execution_count": null
    },
    {
      "cell_type": "code",
      "source": "report = ProfileReport(df1, title=\"Titanic_Profiling_Report\")  # df1\n#report",
      "metadata": {
        "tags": [],
        "cell_id": "00005-3dd33b35-e0b3-4429-9d01-c9c313c76200",
        "deepnote_to_be_reexecuted": false,
        "source_hash": "e9911b0f",
        "execution_start": 1619777871333,
        "execution_millis": 53,
        "deepnote_cell_type": "code"
      },
      "outputs": [],
      "execution_count": null
    },
    {
      "cell_type": "code",
      "source": "# Normalising\n# splitting\n# trainging our model\n\n# predicting \n",
      "metadata": {
        "tags": [],
        "cell_id": "00007-5847c0c7-c5ac-4e69-9379-a9161a2de715",
        "deepnote_cell_type": "code"
      },
      "outputs": [],
      "execution_count": null
    },
    {
      "cell_type": "code",
      "source": "#first split\n\n#then normalize \n  #1. fit transform on train data\n  #2. only transform test data but donot fit as that will show the data the \n  # distribution and thereby give the answers beforehand\n\n#build model\n\n#predict",
      "metadata": {
        "tags": [],
        "cell_id": "00012-ff0eb7ae-c479-4e47-8f69-0a8b974e195d",
        "deepnote_cell_type": "code"
      },
      "outputs": [],
      "execution_count": null
    },
    {
      "cell_type": "markdown",
      "source": "<a style='text-decoration:none;line-height:16px;display:flex;color:#5B5B62;padding:10px;justify-content:end;' href='https://deepnote.com?utm_source=created-in-deepnote-cell&projectId=90706d3a-334d-40d8-9e54-dd6ede0019b7' target=\"_blank\">\n<img alt='Created in deepnote.com' style='display:inline;max-height:16px;margin:0px;margin-right:7.5px;' src='data:image/svg+xml;base64,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' > </img>\nCreated in <span style='font-weight:600;margin-left:4px;'>Deepnote</span></a>",
      "metadata": {
        "tags": [],
        "created_in_deepnote_cell": true,
        "deepnote_cell_type": "markdown"
      }
    }
  ],
  "nbformat": 4,
  "nbformat_minor": 2,
  "metadata": {
    "orig_nbformat": 2,
    "deepnote": {
      "is_reactive": false
    },
    "deepnote_notebook_id": "13f78a2f-0784-4f75-9a4e-081b63726cd9",
    "deepnote_execution_queue": []
  }
}