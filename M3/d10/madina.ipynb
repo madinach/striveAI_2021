{
  "cells": [
    {
      "cell_type": "code",
      "metadata": {
        "tags": [],
        "deepnote_to_be_reexecuted": false,
        "source_hash": "78cd830d",
        "execution_start": 1619789561650,
        "execution_millis": 1819,
        "cell_id": "00000-58754fb2-f327-491d-9d76-c8603bc5f49e",
        "deepnote_cell_type": "code"
      },
      "source": "# Start writing code here...\n\n#import the libraries\nimport numpy as np\nimport pandas as pd\nfrom pandas_profiling import ProfileReport\nfrom ipywidgets import widget\n\nimport matplotlib.pyplot as plt\nimport seaborn as sns\n%matplotlib inline\n\nfrom sklearn.model_selection import train_test_split\nfrom sklearn.ensemble import RandomForestClassifier\nfrom sklearn.metrics import classification_report, confusion_matrix\nfrom sklearn import metrics\nfrom sklearn.preprocessing import MinMaxScaler\nfrom sklearn.impute import KNNImputer\n\nprint('setup complete')",
      "outputs": [
        {
          "name": "stdout",
          "text": "setup complete\n",
          "output_type": "stream"
        }
      ],
      "execution_count": null
    },
    {
      "cell_type": "code",
      "metadata": {
        "tags": [],
        "deepnote_to_be_reexecuted": false,
        "source_hash": "87c26472",
        "execution_start": 1619789563465,
        "execution_millis": 15,
        "cell_id": "00001-62f05284-44ce-4f9b-a53b-be61938fc801",
        "deepnote_cell_type": "code"
      },
      "source": "#import the data\n\ntrain_data = pd.read_csv('train.csv')\ntest_data = pd.read_csv('test.csv')\n\nsample_submission = pd.read_csv('gender_submission.csv')",
      "outputs": [],
      "execution_count": null
    },
    {
      "cell_type": "code",
      "metadata": {
        "tags": [],
        "deepnote_to_be_reexecuted": false,
        "source_hash": "3435bd39",
        "execution_start": 1619789563492,
        "execution_millis": 57,
        "cell_id": "00002-6f5b5a8f-3962-4d0a-b291-7d46fad0a265",
        "deepnote_cell_type": "code"
      },
      "source": "## columns not needed Name, Ticker, Embarked, Cabin, PassengerId \n\n#create a correlation heatmap\nheatmap_data = train_data.drop(['Name', 'Ticket', 'Cabin','PassengerId'], axis=1) #Embarked\nheatmap_data['Sex'] = heatmap_data['Sex'].replace({'male':1, 'female':0})\nheatmap_data['Embarked'] = heatmap_data['Embarked'].replace({'C':0, 'Q':1, 'S':2})\n\n#co-relation for overall data --- uncomment to see the heatmap\n\n#plt.figure(figsize=(14,12))\n#sns.heatmap(heatmap_data.astype(float).corr(),linewidths=0.1, \n#           square=True,  linecolor='white', annot=True)\n\n\n\n#drop columns of test data\n\nheatmap_data_test = test_data.drop(['Name', 'Ticket', 'Cabin','PassengerId'], axis=1) #Embarked\nheatmap_data_test['Sex'] = heatmap_data['Sex'].replace({'male':1, 'female':0})\nheatmap_data_test['Embarked'] = heatmap_data['Embarked'].replace({'C':0, 'Q':1, 'S':2})\n\n\nprint(heatmap_data_test)\n#print(heatmap_data)\n\n#Normalize test data\nfeatures_test = heatmap_data_test\nscaler = MinMaxScaler()\nnorm_features_test = pd.DataFrame(scaler.fit_transform(features_test), columns = features_test.columns)\n\n#imputation\nimputer = KNNImputer(n_neighbors=3)  # sqrt \nfinal_features_test = pd.DataFrame(imputer.fit_transform(norm_features_test),columns = norm_features_test.columns)\n\n#final_features.isna().sum()\n#final_features['super'] = (final_features['Pclass'] + final_features['Sex'] + final_features['Age'] + final_features['SibSp'] )/1\nfinal_features_test.head()",
      "outputs": [
        {
          "name": "stdout",
          "text": "     Pclass  Sex   Age  SibSp  Parch      Fare  Embarked\n0         3    1  34.5      0      0    7.8292       2.0\n1         3    0  47.0      1      0    7.0000       0.0\n2         2    0  62.0      0      0    9.6875       2.0\n3         3    0  27.0      0      0    8.6625       2.0\n4         3    1  22.0      1      1   12.2875       2.0\n..      ...  ...   ...    ...    ...       ...       ...\n413       3    1   NaN      0      0    8.0500       2.0\n414       1    1  39.0      0      0  108.9000       2.0\n415       3    0  38.5      0      0    7.2500       2.0\n416       3    0   NaN      0      0    8.0500       2.0\n417       3    0   NaN      1      1   22.3583       2.0\n\n[418 rows x 7 columns]\n",
          "output_type": "stream"
        },
        {
          "output_type": "execute_result",
          "execution_count": 3,
          "data": {
            "application/vnd.deepnote.dataframe.v2+json": {
              "row_count": 5,
              "column_count": 7,
              "columns": [
                {
                  "name": "Pclass",
                  "dtype": "float64",
                  "stats": {
                    "unique_count": 2,
                    "nan_count": 0,
                    "min": "0.5",
                    "max": "1.0",
                    "histogram": [
                      {
                        "bin_start": 0.5,
                        "bin_end": 0.55,
                        "count": 1
                      },
                      {
                        "bin_start": 0.55,
                        "bin_end": 0.6,
                        "count": 0
                      },
                      {
                        "bin_start": 0.6,
                        "bin_end": 0.65,
                        "count": 0
                      },
                      {
                        "bin_start": 0.65,
                        "bin_end": 0.7,
                        "count": 0
                      },
                      {
                        "bin_start": 0.7,
                        "bin_end": 0.75,
                        "count": 0
                      },
                      {
                        "bin_start": 0.75,
                        "bin_end": 0.8,
                        "count": 0
                      },
                      {
                        "bin_start": 0.8,
                        "bin_end": 0.8500000000000001,
                        "count": 0
                      },
                      {
                        "bin_start": 0.8500000000000001,
                        "bin_end": 0.9,
                        "count": 0
                      },
                      {
                        "bin_start": 0.9,
                        "bin_end": 0.95,
                        "count": 0
                      },
                      {
                        "bin_start": 0.95,
                        "bin_end": 1,
                        "count": 4
                      }
                    ]
                  }
                },
                {
                  "name": "Sex",
                  "dtype": "float64",
                  "stats": {
                    "unique_count": 2,
                    "nan_count": 0,
                    "min": "0.0",
                    "max": "1.0",
                    "histogram": [
                      {
                        "bin_start": 0,
                        "bin_end": 0.1,
                        "count": 3
                      },
                      {
                        "bin_start": 0.1,
                        "bin_end": 0.2,
                        "count": 0
                      },
                      {
                        "bin_start": 0.2,
                        "bin_end": 0.30000000000000004,
                        "count": 0
                      },
                      {
                        "bin_start": 0.30000000000000004,
                        "bin_end": 0.4,
                        "count": 0
                      },
                      {
                        "bin_start": 0.4,
                        "bin_end": 0.5,
                        "count": 0
                      },
                      {
                        "bin_start": 0.5,
                        "bin_end": 0.6000000000000001,
                        "count": 0
                      },
                      {
                        "bin_start": 0.6000000000000001,
                        "bin_end": 0.7000000000000001,
                        "count": 0
                      },
                      {
                        "bin_start": 0.7000000000000001,
                        "bin_end": 0.8,
                        "count": 0
                      },
                      {
                        "bin_start": 0.8,
                        "bin_end": 0.9,
                        "count": 0
                      },
                      {
                        "bin_start": 0.9,
                        "bin_end": 1,
                        "count": 2
                      }
                    ]
                  }
                },
                {
                  "name": "Age",
                  "dtype": "float64",
                  "stats": {
                    "unique_count": 5,
                    "nan_count": 0,
                    "min": "0.287880785968614",
                    "max": "0.815376500065937",
                    "histogram": [
                      {
                        "bin_start": 0.287880785968614,
                        "bin_end": 0.3406303573783463,
                        "count": 1
                      },
                      {
                        "bin_start": 0.3406303573783463,
                        "bin_end": 0.3933799287880786,
                        "count": 1
                      },
                      {
                        "bin_start": 0.3933799287880786,
                        "bin_end": 0.4461295001978109,
                        "count": 0
                      },
                      {
                        "bin_start": 0.4461295001978109,
                        "bin_end": 0.4988790716075432,
                        "count": 1
                      },
                      {
                        "bin_start": 0.4988790716075432,
                        "bin_end": 0.5516286430172754,
                        "count": 0
                      },
                      {
                        "bin_start": 0.5516286430172754,
                        "bin_end": 0.6043782144270078,
                        "count": 0
                      },
                      {
                        "bin_start": 0.6043782144270078,
                        "bin_end": 0.6571277858367401,
                        "count": 1
                      },
                      {
                        "bin_start": 0.6571277858367401,
                        "bin_end": 0.7098773572464724,
                        "count": 0
                      },
                      {
                        "bin_start": 0.7098773572464724,
                        "bin_end": 0.7626269286562046,
                        "count": 0
                      },
                      {
                        "bin_start": 0.7626269286562046,
                        "bin_end": 0.815376500065937,
                        "count": 1
                      }
                    ]
                  }
                },
                {
                  "name": "SibSp",
                  "dtype": "float64",
                  "stats": {
                    "unique_count": 2,
                    "nan_count": 0,
                    "min": "0.0",
                    "max": "0.125",
                    "histogram": [
                      {
                        "bin_start": 0,
                        "bin_end": 0.0125,
                        "count": 3
                      },
                      {
                        "bin_start": 0.0125,
                        "bin_end": 0.025,
                        "count": 0
                      },
                      {
                        "bin_start": 0.025,
                        "bin_end": 0.037500000000000006,
                        "count": 0
                      },
                      {
                        "bin_start": 0.037500000000000006,
                        "bin_end": 0.05,
                        "count": 0
                      },
                      {
                        "bin_start": 0.05,
                        "bin_end": 0.0625,
                        "count": 0
                      },
                      {
                        "bin_start": 0.0625,
                        "bin_end": 0.07500000000000001,
                        "count": 0
                      },
                      {
                        "bin_start": 0.07500000000000001,
                        "bin_end": 0.08750000000000001,
                        "count": 0
                      },
                      {
                        "bin_start": 0.08750000000000001,
                        "bin_end": 0.1,
                        "count": 0
                      },
                      {
                        "bin_start": 0.1,
                        "bin_end": 0.1125,
                        "count": 0
                      },
                      {
                        "bin_start": 0.1125,
                        "bin_end": 0.125,
                        "count": 2
                      }
                    ]
                  }
                },
                {
                  "name": "Parch",
                  "dtype": "float64",
                  "stats": {
                    "unique_count": 2,
                    "nan_count": 0,
                    "min": "0.0",
                    "max": "0.1111111111111111",
                    "histogram": [
                      {
                        "bin_start": 0,
                        "bin_end": 0.01111111111111111,
                        "count": 4
                      },
                      {
                        "bin_start": 0.01111111111111111,
                        "bin_end": 0.02222222222222222,
                        "count": 0
                      },
                      {
                        "bin_start": 0.02222222222222222,
                        "bin_end": 0.033333333333333326,
                        "count": 0
                      },
                      {
                        "bin_start": 0.033333333333333326,
                        "bin_end": 0.04444444444444444,
                        "count": 0
                      },
                      {
                        "bin_start": 0.04444444444444444,
                        "bin_end": 0.05555555555555555,
                        "count": 0
                      },
                      {
                        "bin_start": 0.05555555555555555,
                        "bin_end": 0.06666666666666665,
                        "count": 0
                      },
                      {
                        "bin_start": 0.06666666666666665,
                        "bin_end": 0.07777777777777777,
                        "count": 0
                      },
                      {
                        "bin_start": 0.07777777777777777,
                        "bin_end": 0.08888888888888888,
                        "count": 0
                      },
                      {
                        "bin_start": 0.08888888888888888,
                        "bin_end": 0.09999999999999999,
                        "count": 0
                      },
                      {
                        "bin_start": 0.09999999999999999,
                        "bin_end": 0.1111111111111111,
                        "count": 1
                      }
                    ]
                  }
                },
                {
                  "name": "Fare",
                  "dtype": "float64",
                  "stats": {
                    "unique_count": 5,
                    "nan_count": 0,
                    "min": "0.013663090060062943",
                    "max": "0.023983602730431916",
                    "histogram": [
                      {
                        "bin_start": 0.013663090060062943,
                        "bin_end": 0.01469514132709984,
                        "count": 1
                      },
                      {
                        "bin_start": 0.01469514132709984,
                        "bin_end": 0.015727192594136737,
                        "count": 1
                      },
                      {
                        "bin_start": 0.015727192594136737,
                        "bin_end": 0.016759243861173636,
                        "count": 0
                      },
                      {
                        "bin_start": 0.016759243861173636,
                        "bin_end": 0.01779129512821053,
                        "count": 1
                      },
                      {
                        "bin_start": 0.01779129512821053,
                        "bin_end": 0.01882334639524743,
                        "count": 0
                      },
                      {
                        "bin_start": 0.01882334639524743,
                        "bin_end": 0.01985539766228433,
                        "count": 1
                      },
                      {
                        "bin_start": 0.01985539766228433,
                        "bin_end": 0.020887448929321227,
                        "count": 0
                      },
                      {
                        "bin_start": 0.020887448929321227,
                        "bin_end": 0.021919500196358122,
                        "count": 0
                      },
                      {
                        "bin_start": 0.021919500196358122,
                        "bin_end": 0.022951551463395017,
                        "count": 0
                      },
                      {
                        "bin_start": 0.022951551463395017,
                        "bin_end": 0.023983602730431916,
                        "count": 1
                      }
                    ]
                  }
                },
                {
                  "name": "Embarked",
                  "dtype": "float64",
                  "stats": {
                    "unique_count": 2,
                    "nan_count": 0,
                    "min": "0.0",
                    "max": "1.0",
                    "histogram": [
                      {
                        "bin_start": 0,
                        "bin_end": 0.1,
                        "count": 1
                      },
                      {
                        "bin_start": 0.1,
                        "bin_end": 0.2,
                        "count": 0
                      },
                      {
                        "bin_start": 0.2,
                        "bin_end": 0.30000000000000004,
                        "count": 0
                      },
                      {
                        "bin_start": 0.30000000000000004,
                        "bin_end": 0.4,
                        "count": 0
                      },
                      {
                        "bin_start": 0.4,
                        "bin_end": 0.5,
                        "count": 0
                      },
                      {
                        "bin_start": 0.5,
                        "bin_end": 0.6000000000000001,
                        "count": 0
                      },
                      {
                        "bin_start": 0.6000000000000001,
                        "bin_end": 0.7000000000000001,
                        "count": 0
                      },
                      {
                        "bin_start": 0.7000000000000001,
                        "bin_end": 0.8,
                        "count": 0
                      },
                      {
                        "bin_start": 0.8,
                        "bin_end": 0.9,
                        "count": 0
                      },
                      {
                        "bin_start": 0.9,
                        "bin_end": 1,
                        "count": 4
                      }
                    ]
                  }
                },
                {
                  "name": "_deepnote_index_column",
                  "dtype": "int64"
                }
              ],
              "rows_top": [
                {
                  "Pclass": 1,
                  "Sex": 1,
                  "Age": 0.45272319662402744,
                  "SibSp": 0,
                  "Parch": 0,
                  "Fare": 0.015281580671177828,
                  "Embarked": 1,
                  "_deepnote_index_column": 0
                },
                {
                  "Pclass": 1,
                  "Sex": 0,
                  "Age": 0.6175656072794409,
                  "SibSp": 0.125,
                  "Parch": 0,
                  "Fare": 0.013663090060062943,
                  "Embarked": 0,
                  "_deepnote_index_column": 1
                },
                {
                  "Pclass": 0.5,
                  "Sex": 0,
                  "Age": 0.815376500065937,
                  "SibSp": 0,
                  "Parch": 0,
                  "Fare": 0.018908740708122825,
                  "Embarked": 1,
                  "_deepnote_index_column": 2
                },
                {
                  "Pclass": 1,
                  "Sex": 0,
                  "Age": 0.3538177502307794,
                  "SibSp": 0,
                  "Parch": 0,
                  "Fare": 0.016908073949327893,
                  "Embarked": 1,
                  "_deepnote_index_column": 3
                },
                {
                  "Pclass": 1,
                  "Sex": 1,
                  "Age": 0.287880785968614,
                  "SibSp": 0.125,
                  "Parch": 0.1111111111111111,
                  "Fare": 0.023983602730431916,
                  "Embarked": 1,
                  "_deepnote_index_column": 4
                }
              ],
              "rows_bottom": null
            },
            "text/plain": "   Pclass  Sex       Age  SibSp     Parch      Fare  Embarked\n0     1.0  1.0  0.452723  0.000  0.000000  0.015282       1.0\n1     1.0  0.0  0.617566  0.125  0.000000  0.013663       0.0\n2     0.5  0.0  0.815377  0.000  0.000000  0.018909       1.0\n3     1.0  0.0  0.353818  0.000  0.000000  0.016908       1.0\n4     1.0  1.0  0.287881  0.125  0.111111  0.023984       1.0",
            "text/html": "<div>\n<style scoped>\n    .dataframe tbody tr th:only-of-type {\n        vertical-align: middle;\n    }\n\n    .dataframe tbody tr th {\n        vertical-align: top;\n    }\n\n    .dataframe thead th {\n        text-align: right;\n    }\n</style>\n<table border=\"1\" class=\"dataframe\">\n  <thead>\n    <tr style=\"text-align: right;\">\n      <th></th>\n      <th>Pclass</th>\n      <th>Sex</th>\n      <th>Age</th>\n      <th>SibSp</th>\n      <th>Parch</th>\n      <th>Fare</th>\n      <th>Embarked</th>\n    </tr>\n  </thead>\n  <tbody>\n    <tr>\n      <th>0</th>\n      <td>1.0</td>\n      <td>1.0</td>\n      <td>0.452723</td>\n      <td>0.000</td>\n      <td>0.000000</td>\n      <td>0.015282</td>\n      <td>1.0</td>\n    </tr>\n    <tr>\n      <th>1</th>\n      <td>1.0</td>\n      <td>0.0</td>\n      <td>0.617566</td>\n      <td>0.125</td>\n      <td>0.000000</td>\n      <td>0.013663</td>\n      <td>0.0</td>\n    </tr>\n    <tr>\n      <th>2</th>\n      <td>0.5</td>\n      <td>0.0</td>\n      <td>0.815377</td>\n      <td>0.000</td>\n      <td>0.000000</td>\n      <td>0.018909</td>\n      <td>1.0</td>\n    </tr>\n    <tr>\n      <th>3</th>\n      <td>1.0</td>\n      <td>0.0</td>\n      <td>0.353818</td>\n      <td>0.000</td>\n      <td>0.000000</td>\n      <td>0.016908</td>\n      <td>1.0</td>\n    </tr>\n    <tr>\n      <th>4</th>\n      <td>1.0</td>\n      <td>1.0</td>\n      <td>0.287881</td>\n      <td>0.125</td>\n      <td>0.111111</td>\n      <td>0.023984</td>\n      <td>1.0</td>\n    </tr>\n  </tbody>\n</table>\n</div>"
          },
          "metadata": {}
        }
      ],
      "execution_count": null
    },
    {
      "cell_type": "code",
      "metadata": {
        "tags": [],
        "deepnote_to_be_reexecuted": false,
        "source_hash": "dc0291d7",
        "execution_start": 1619789563551,
        "execution_millis": 79,
        "cell_id": "00003-05406a7f-84fb-4bd6-820f-22329b54899d",
        "deepnote_cell_type": "code"
      },
      "source": "#\nfeatures = heatmap_data.drop(['Survived'], axis=1)  # x\ntarget = heatmap_data['Survived']                   # y\nscaler = MinMaxScaler()\nnorm_features = pd.DataFrame(scaler.fit_transform(features), columns = features.columns)\n\n#imputation\nimputer = KNNImputer(n_neighbors=3)  # sqrt \nfinal_features = pd.DataFrame(imputer.fit_transform(norm_features),columns = norm_features.columns)\n\n#final_features.isna().sum()\n#final_features['super'] = (final_features['Pclass'] + final_features['Sex'] + final_features['Age'] + final_features['SibSp'] )/1\nfinal_features.head()",
      "outputs": [
        {
          "output_type": "execute_result",
          "execution_count": 4,
          "data": {
            "application/vnd.deepnote.dataframe.v2+json": {
              "row_count": 5,
              "column_count": 7,
              "columns": [
                {
                  "name": "Pclass",
                  "dtype": "float64",
                  "stats": {
                    "unique_count": 2,
                    "nan_count": 0,
                    "min": "0.0",
                    "max": "1.0",
                    "histogram": [
                      {
                        "bin_start": 0,
                        "bin_end": 0.1,
                        "count": 2
                      },
                      {
                        "bin_start": 0.1,
                        "bin_end": 0.2,
                        "count": 0
                      },
                      {
                        "bin_start": 0.2,
                        "bin_end": 0.30000000000000004,
                        "count": 0
                      },
                      {
                        "bin_start": 0.30000000000000004,
                        "bin_end": 0.4,
                        "count": 0
                      },
                      {
                        "bin_start": 0.4,
                        "bin_end": 0.5,
                        "count": 0
                      },
                      {
                        "bin_start": 0.5,
                        "bin_end": 0.6000000000000001,
                        "count": 0
                      },
                      {
                        "bin_start": 0.6000000000000001,
                        "bin_end": 0.7000000000000001,
                        "count": 0
                      },
                      {
                        "bin_start": 0.7000000000000001,
                        "bin_end": 0.8,
                        "count": 0
                      },
                      {
                        "bin_start": 0.8,
                        "bin_end": 0.9,
                        "count": 0
                      },
                      {
                        "bin_start": 0.9,
                        "bin_end": 1,
                        "count": 3
                      }
                    ]
                  }
                },
                {
                  "name": "Sex",
                  "dtype": "float64",
                  "stats": {
                    "unique_count": 2,
                    "nan_count": 0,
                    "min": "0.0",
                    "max": "1.0",
                    "histogram": [
                      {
                        "bin_start": 0,
                        "bin_end": 0.1,
                        "count": 3
                      },
                      {
                        "bin_start": 0.1,
                        "bin_end": 0.2,
                        "count": 0
                      },
                      {
                        "bin_start": 0.2,
                        "bin_end": 0.30000000000000004,
                        "count": 0
                      },
                      {
                        "bin_start": 0.30000000000000004,
                        "bin_end": 0.4,
                        "count": 0
                      },
                      {
                        "bin_start": 0.4,
                        "bin_end": 0.5,
                        "count": 0
                      },
                      {
                        "bin_start": 0.5,
                        "bin_end": 0.6000000000000001,
                        "count": 0
                      },
                      {
                        "bin_start": 0.6000000000000001,
                        "bin_end": 0.7000000000000001,
                        "count": 0
                      },
                      {
                        "bin_start": 0.7000000000000001,
                        "bin_end": 0.8,
                        "count": 0
                      },
                      {
                        "bin_start": 0.8,
                        "bin_end": 0.9,
                        "count": 0
                      },
                      {
                        "bin_start": 0.9,
                        "bin_end": 1,
                        "count": 2
                      }
                    ]
                  }
                },
                {
                  "name": "Age",
                  "dtype": "float64",
                  "stats": {
                    "unique_count": 4,
                    "nan_count": 0,
                    "min": "0.2711736617240512",
                    "max": "0.4722292033174164",
                    "histogram": [
                      {
                        "bin_start": 0.2711736617240512,
                        "bin_end": 0.29127921588338773,
                        "count": 1
                      },
                      {
                        "bin_start": 0.29127921588338773,
                        "bin_end": 0.31138477004272425,
                        "count": 0
                      },
                      {
                        "bin_start": 0.31138477004272425,
                        "bin_end": 0.33149032420206076,
                        "count": 1
                      },
                      {
                        "bin_start": 0.33149032420206076,
                        "bin_end": 0.3515958783613973,
                        "count": 0
                      },
                      {
                        "bin_start": 0.3515958783613973,
                        "bin_end": 0.37170143252073384,
                        "count": 0
                      },
                      {
                        "bin_start": 0.37170143252073384,
                        "bin_end": 0.39180698668007036,
                        "count": 0
                      },
                      {
                        "bin_start": 0.39180698668007036,
                        "bin_end": 0.41191254083940687,
                        "count": 0
                      },
                      {
                        "bin_start": 0.41191254083940687,
                        "bin_end": 0.4320180949987434,
                        "count": 0
                      },
                      {
                        "bin_start": 0.4320180949987434,
                        "bin_end": 0.4521236491580799,
                        "count": 2
                      },
                      {
                        "bin_start": 0.4521236491580799,
                        "bin_end": 0.4722292033174164,
                        "count": 1
                      }
                    ]
                  }
                },
                {
                  "name": "SibSp",
                  "dtype": "float64",
                  "stats": {
                    "unique_count": 2,
                    "nan_count": 0,
                    "min": "0.0",
                    "max": "0.125",
                    "histogram": [
                      {
                        "bin_start": 0,
                        "bin_end": 0.0125,
                        "count": 2
                      },
                      {
                        "bin_start": 0.0125,
                        "bin_end": 0.025,
                        "count": 0
                      },
                      {
                        "bin_start": 0.025,
                        "bin_end": 0.037500000000000006,
                        "count": 0
                      },
                      {
                        "bin_start": 0.037500000000000006,
                        "bin_end": 0.05,
                        "count": 0
                      },
                      {
                        "bin_start": 0.05,
                        "bin_end": 0.0625,
                        "count": 0
                      },
                      {
                        "bin_start": 0.0625,
                        "bin_end": 0.07500000000000001,
                        "count": 0
                      },
                      {
                        "bin_start": 0.07500000000000001,
                        "bin_end": 0.08750000000000001,
                        "count": 0
                      },
                      {
                        "bin_start": 0.08750000000000001,
                        "bin_end": 0.1,
                        "count": 0
                      },
                      {
                        "bin_start": 0.1,
                        "bin_end": 0.1125,
                        "count": 0
                      },
                      {
                        "bin_start": 0.1125,
                        "bin_end": 0.125,
                        "count": 3
                      }
                    ]
                  }
                },
                {
                  "name": "Parch",
                  "dtype": "float64",
                  "stats": {
                    "unique_count": 1,
                    "nan_count": 0,
                    "min": "0.0",
                    "max": "0.0",
                    "histogram": [
                      {
                        "bin_start": -0.5,
                        "bin_end": -0.4,
                        "count": 0
                      },
                      {
                        "bin_start": -0.4,
                        "bin_end": -0.3,
                        "count": 0
                      },
                      {
                        "bin_start": -0.3,
                        "bin_end": -0.19999999999999996,
                        "count": 0
                      },
                      {
                        "bin_start": -0.19999999999999996,
                        "bin_end": -0.09999999999999998,
                        "count": 0
                      },
                      {
                        "bin_start": -0.09999999999999998,
                        "bin_end": 0,
                        "count": 0
                      },
                      {
                        "bin_start": 0,
                        "bin_end": 0.10000000000000009,
                        "count": 5
                      },
                      {
                        "bin_start": 0.10000000000000009,
                        "bin_end": 0.20000000000000007,
                        "count": 0
                      },
                      {
                        "bin_start": 0.20000000000000007,
                        "bin_end": 0.30000000000000004,
                        "count": 0
                      },
                      {
                        "bin_start": 0.30000000000000004,
                        "bin_end": 0.4,
                        "count": 0
                      },
                      {
                        "bin_start": 0.4,
                        "bin_end": 0.5,
                        "count": 0
                      }
                    ]
                  }
                },
                {
                  "name": "Fare",
                  "dtype": "float64",
                  "stats": {
                    "unique_count": 5,
                    "nan_count": 0,
                    "min": "0.014151057562208049",
                    "max": "0.13913573538264068",
                    "histogram": [
                      {
                        "bin_start": 0.014151057562208049,
                        "bin_end": 0.026649525344251312,
                        "count": 3
                      },
                      {
                        "bin_start": 0.026649525344251312,
                        "bin_end": 0.03914799312629458,
                        "count": 0
                      },
                      {
                        "bin_start": 0.03914799312629458,
                        "bin_end": 0.05164646090833784,
                        "count": 0
                      },
                      {
                        "bin_start": 0.05164646090833784,
                        "bin_end": 0.0641449286903811,
                        "count": 0
                      },
                      {
                        "bin_start": 0.0641449286903811,
                        "bin_end": 0.07664339647242437,
                        "count": 0
                      },
                      {
                        "bin_start": 0.07664339647242437,
                        "bin_end": 0.08914186425446763,
                        "count": 0
                      },
                      {
                        "bin_start": 0.08914186425446763,
                        "bin_end": 0.10164033203651089,
                        "count": 0
                      },
                      {
                        "bin_start": 0.10164033203651089,
                        "bin_end": 0.11413879981855415,
                        "count": 1
                      },
                      {
                        "bin_start": 0.11413879981855415,
                        "bin_end": 0.1266372676005974,
                        "count": 0
                      },
                      {
                        "bin_start": 0.1266372676005974,
                        "bin_end": 0.13913573538264068,
                        "count": 1
                      }
                    ]
                  }
                },
                {
                  "name": "Embarked",
                  "dtype": "float64",
                  "stats": {
                    "unique_count": 2,
                    "nan_count": 0,
                    "min": "0.0",
                    "max": "1.0",
                    "histogram": [
                      {
                        "bin_start": 0,
                        "bin_end": 0.1,
                        "count": 1
                      },
                      {
                        "bin_start": 0.1,
                        "bin_end": 0.2,
                        "count": 0
                      },
                      {
                        "bin_start": 0.2,
                        "bin_end": 0.30000000000000004,
                        "count": 0
                      },
                      {
                        "bin_start": 0.30000000000000004,
                        "bin_end": 0.4,
                        "count": 0
                      },
                      {
                        "bin_start": 0.4,
                        "bin_end": 0.5,
                        "count": 0
                      },
                      {
                        "bin_start": 0.5,
                        "bin_end": 0.6000000000000001,
                        "count": 0
                      },
                      {
                        "bin_start": 0.6000000000000001,
                        "bin_end": 0.7000000000000001,
                        "count": 0
                      },
                      {
                        "bin_start": 0.7000000000000001,
                        "bin_end": 0.8,
                        "count": 0
                      },
                      {
                        "bin_start": 0.8,
                        "bin_end": 0.9,
                        "count": 0
                      },
                      {
                        "bin_start": 0.9,
                        "bin_end": 1,
                        "count": 4
                      }
                    ]
                  }
                },
                {
                  "name": "_deepnote_index_column",
                  "dtype": "int64"
                }
              ],
              "rows_top": [
                {
                  "Pclass": 1,
                  "Sex": 1,
                  "Age": 0.2711736617240512,
                  "SibSp": 0.125,
                  "Parch": 0,
                  "Fare": 0.014151057562208049,
                  "Embarked": 1,
                  "_deepnote_index_column": 0
                },
                {
                  "Pclass": 0,
                  "Sex": 0,
                  "Age": 0.4722292033174164,
                  "SibSp": 0.125,
                  "Parch": 0,
                  "Fare": 0.13913573538264068,
                  "Embarked": 0,
                  "_deepnote_index_column": 1
                },
                {
                  "Pclass": 1,
                  "Sex": 0,
                  "Age": 0.32143754712239253,
                  "SibSp": 0,
                  "Parch": 0,
                  "Fare": 0.015468569817999833,
                  "Embarked": 1,
                  "_deepnote_index_column": 2
                },
                {
                  "Pclass": 0,
                  "Sex": 0,
                  "Age": 0.4345312892686604,
                  "SibSp": 0.125,
                  "Parch": 0,
                  "Fare": 0.10364429745562033,
                  "Embarked": 1,
                  "_deepnote_index_column": 3
                },
                {
                  "Pclass": 1,
                  "Sex": 1,
                  "Age": 0.4345312892686604,
                  "SibSp": 0,
                  "Parch": 0,
                  "Fare": 0.015712553569072387,
                  "Embarked": 1,
                  "_deepnote_index_column": 4
                }
              ],
              "rows_bottom": null
            },
            "text/plain": "   Pclass  Sex       Age  SibSp  Parch      Fare  Embarked\n0     1.0  1.0  0.271174  0.125    0.0  0.014151       1.0\n1     0.0  0.0  0.472229  0.125    0.0  0.139136       0.0\n2     1.0  0.0  0.321438  0.000    0.0  0.015469       1.0\n3     0.0  0.0  0.434531  0.125    0.0  0.103644       1.0\n4     1.0  1.0  0.434531  0.000    0.0  0.015713       1.0",
            "text/html": "<div>\n<style scoped>\n    .dataframe tbody tr th:only-of-type {\n        vertical-align: middle;\n    }\n\n    .dataframe tbody tr th {\n        vertical-align: top;\n    }\n\n    .dataframe thead th {\n        text-align: right;\n    }\n</style>\n<table border=\"1\" class=\"dataframe\">\n  <thead>\n    <tr style=\"text-align: right;\">\n      <th></th>\n      <th>Pclass</th>\n      <th>Sex</th>\n      <th>Age</th>\n      <th>SibSp</th>\n      <th>Parch</th>\n      <th>Fare</th>\n      <th>Embarked</th>\n    </tr>\n  </thead>\n  <tbody>\n    <tr>\n      <th>0</th>\n      <td>1.0</td>\n      <td>1.0</td>\n      <td>0.271174</td>\n      <td>0.125</td>\n      <td>0.0</td>\n      <td>0.014151</td>\n      <td>1.0</td>\n    </tr>\n    <tr>\n      <th>1</th>\n      <td>0.0</td>\n      <td>0.0</td>\n      <td>0.472229</td>\n      <td>0.125</td>\n      <td>0.0</td>\n      <td>0.139136</td>\n      <td>0.0</td>\n    </tr>\n    <tr>\n      <th>2</th>\n      <td>1.0</td>\n      <td>0.0</td>\n      <td>0.321438</td>\n      <td>0.000</td>\n      <td>0.0</td>\n      <td>0.015469</td>\n      <td>1.0</td>\n    </tr>\n    <tr>\n      <th>3</th>\n      <td>0.0</td>\n      <td>0.0</td>\n      <td>0.434531</td>\n      <td>0.125</td>\n      <td>0.0</td>\n      <td>0.103644</td>\n      <td>1.0</td>\n    </tr>\n    <tr>\n      <th>4</th>\n      <td>1.0</td>\n      <td>1.0</td>\n      <td>0.434531</td>\n      <td>0.000</td>\n      <td>0.0</td>\n      <td>0.015713</td>\n      <td>1.0</td>\n    </tr>\n  </tbody>\n</table>\n</div>"
          },
          "metadata": {}
        }
      ],
      "execution_count": null
    },
    {
      "cell_type": "code",
      "metadata": {
        "tags": [],
        "deepnote_to_be_reexecuted": false,
        "source_hash": "ffebc943",
        "execution_start": 1619789610826,
        "execution_millis": 28,
        "cell_id": "00004-ac62bcb6-f1d6-4e14-a850-4071135d6380",
        "deepnote_cell_type": "code"
      },
      "source": "#Model1 --> testing gavaskar model with imputed data\nfrom sklearn.svm import SVC\n\nX = final_features.values\ny = target.values\ntest= final_features_test.values\n#X_train, X_test, y_train, y_test = train_test_split(X,y, test_size=0.2, random_state = 13)\n\nclf = SVC()\nclf.fit(X, y)\n\ny_pred=clf.predict(test) \n\n#print(confusion_matrix(y_test, y_pred))\n#print(\"Accuracy:\",metrics.accuracy_score(y_test, y_pred))\ny_pred\ndf_survivor= pd.DataFrame(survivor, columns= ['Survived'])\n",
      "outputs": [
        {
          "output_type": "execute_result",
          "execution_count": 11,
          "data": {
            "text/plain": "array([0, 1, 1, 0, 0, 0, 0, 0, 0, 1, 0, 1, 0, 0, 1, 1, 0, 0, 0, 1, 0, 0,\n       1, 0, 1, 0, 0, 0, 1, 0, 0, 1, 1, 0, 0, 0, 0, 0, 0, 1, 0, 1, 0, 1,\n       1, 0, 0, 1, 0, 0, 0, 0, 1, 1, 0, 0, 0, 0, 0, 0, 0, 1, 0, 0, 0, 0,\n       0, 0, 1, 0, 0, 0, 0, 0, 0, 0, 0, 0, 0, 0, 0, 0, 1, 0, 1, 0, 0, 0,\n       0, 0, 0, 0, 0, 0, 0, 0, 0, 0, 0, 0, 1, 0, 0, 0, 0, 0, 0, 0, 0, 1,\n       0, 1, 0, 0, 1, 0, 0, 0, 0, 1, 0, 0, 0, 0, 0, 0, 0, 0, 1, 0, 0, 0,\n       0, 0, 0, 0, 0, 0, 0, 0, 1, 1, 1, 0, 0, 0, 0, 0, 0, 0, 0, 0, 0, 0,\n       0, 0, 1, 0, 0, 0, 0, 0, 0, 0, 0, 0, 1, 0, 0, 0, 0, 0, 0, 0, 0, 0,\n       0, 1, 0, 0, 1, 0, 0, 0, 1, 0, 1, 0, 0, 0, 1, 0, 0, 0, 1, 1, 0, 0,\n       1, 0, 0, 0, 0, 0, 0, 1, 0, 0, 1, 0, 0, 0, 0, 0, 0, 1, 0, 0, 1, 0,\n       0, 0, 0, 0, 0, 0, 0, 0, 0, 1, 1, 0, 0, 0, 0, 0, 0, 0, 0, 0, 1, 1,\n       0, 0, 0, 0, 1, 1, 0, 0, 0, 0, 0, 0, 0, 1, 1, 0, 1, 0, 0, 0, 0, 0,\n       1, 0, 0, 0, 0, 0, 0, 0, 1, 0, 1, 1, 1, 0, 0, 1, 0, 0, 0, 0, 0, 0,\n       0, 0, 0, 1, 1, 1, 0, 1, 0, 0, 0, 0, 0, 1, 1, 0, 0, 1, 0, 0, 1, 1,\n       0, 1, 1, 1, 0, 0, 0, 0, 1, 0, 0, 1, 0, 0, 1, 1, 0, 1, 0, 1, 1, 1,\n       1, 0, 0, 0, 0, 0, 0, 1, 0, 0, 0, 0, 0, 0, 0, 0, 1, 0, 0, 0, 0, 0,\n       0, 0, 0, 0, 1, 0, 1, 1, 0, 0, 1, 0, 0, 0, 1, 1, 1, 1, 0, 0, 0, 0,\n       1, 1, 0, 0, 0, 0, 1, 1, 0, 0, 0, 0, 0, 1, 0, 1, 0, 0, 0, 1, 0, 0,\n       0, 0, 0, 0, 0, 0, 1, 0, 1, 0, 0, 0, 0, 0, 0, 0, 1, 0, 0, 0, 0, 0])"
          },
          "metadata": {}
        }
      ],
      "execution_count": null
    },
    {
      "cell_type": "code",
      "metadata": {
        "tags": [],
        "deepnote_to_be_reexecuted": false,
        "source_hash": "fae9e556",
        "execution_start": 1619789563751,
        "execution_millis": 139,
        "cell_id": "00005-87dda736-e86b-4ce8-9346-c48c217d990e",
        "is_code_hidden": true,
        "deepnote_cell_type": "code"
      },
      "source": "#Model-2 --> RandomForestClassifier\n\nX = final_features.values\ny = target.values\n\nX_train, X_test, y_train, y_test = train_test_split(X,y, test_size=0.0001, random_state = 13)\n\nclf=RandomForestClassifier(n_estimators=100)\n\nclf.fit(X_train,y_train)   # \n\n\ny_pred=clf.predict(X_test) # survivor\n\nprint(confusion_matrix(y_test, y_pred))\n#print(classification_report(y_test, y_pred))\nprint(\"Accuracy:\",metrics.accuracy_score(y_test, y_pred))\n",
      "outputs": [
        {
          "name": "stdout",
          "text": "[[1]]\nAccuracy: 1.0\n",
          "output_type": "stream"
        }
      ],
      "execution_count": null
    },
    {
      "cell_type": "code",
      "metadata": {
        "tags": [],
        "deepnote_to_be_reexecuted": false,
        "source_hash": "c425061d",
        "execution_start": 1619789563888,
        "execution_millis": 101,
        "cell_id": "00006-611010f4-e79c-49f8-9382-138b0ddfdaf8",
        "deepnote_cell_type": "code"
      },
      "source": "\n#imputation\nimputer = KNNImputer(n_neighbors=3)  # sqrt \nfinal_features = pd.DataFrame(imputer.fit_transform(norm_features),columns = norm_features.columns)\nfinal_features.head()\n\n# preprocessing test data\ndf = test_data\ndf1 = df.drop(['Name', 'Ticket', 'Cabin','PassengerId'], axis=1) #Embarked\ndf1['Sex'] = df['Sex'].replace({'male':1, 'female':0})\ndf1['Embarked'] = df['Embarked'].replace({'C':0, 'Q':1, 'S':2})\nscaler = MinMaxScaler()\nnorm_features = pd.DataFrame(scaler.fit_transform(df1), columns = df1.columns)\n\n#imputation\nimputer = KNNImputer(n_neighbors=3)  # sqrt \ntest_final_features = pd.DataFrame(imputer.fit_transform(norm_features),columns = norm_features.columns)\ntest_final_features.head()\n\nsurvivor=clf.predict(test_final_features) # survivor\ndf_survivor= pd.DataFrame(survivor, columns= ['Survived'])\n\ntype(df_survivor)  # Survived\n",
      "outputs": [
        {
          "output_type": "execute_result",
          "execution_count": 7,
          "data": {
            "text/plain": "pandas.core.frame.DataFrame"
          },
          "metadata": {}
        }
      ],
      "execution_count": null
    },
    {
      "cell_type": "code",
      "metadata": {
        "tags": [],
        "deepnote_to_be_reexecuted": false,
        "source_hash": "472bd935",
        "execution_start": 1619789743591,
        "execution_millis": 0,
        "cell_id": "00007-5d8bc149-d43d-4385-9f8b-34b4c38b7952",
        "deepnote_cell_type": "code"
      },
      "source": "submission = pd.DataFrame({'PassengerId':df['PassengerId'],'Survived':survivor})\nsubmission.head()\nsubmission.to_csv('submission.csv')",
      "outputs": [],
      "execution_count": null
    },
    {
      "cell_type": "code",
      "metadata": {
        "tags": [],
        "deepnote_to_be_reexecuted": true,
        "source_hash": "2269f175",
        "execution_start": 1619781793738,
        "execution_millis": 27,
        "cell_id": "00008-22e7bbb1-f40e-4b6d-b926-e27eaee7b7d9",
        "deepnote_cell_type": "code"
      },
      "source": "df1 = train_data.drop(['Name', 'Ticket', 'PassengerId'], axis=1)\ndf1['Sex'] = df1['Sex'].replace({'male':1, 'female':0})\ndf1.corr()  # this shows that only age is some what corr with survived\ntrain_data.corrwith(df1['Survived'])\n",
      "outputs": [
        {
          "output_type": "execute_result",
          "execution_count": 93,
          "data": {
            "text/plain": "PassengerId   -0.005007\nSurvived       1.000000\nPclass        -0.338481\nAge           -0.077221\nSibSp         -0.035322\nParch          0.081629\nFare           0.257307\ndtype: float64"
          },
          "metadata": {}
        }
      ],
      "execution_count": null
    },
    {
      "cell_type": "code",
      "metadata": {
        "tags": [],
        "cell_id": "00009-a8ac4ade-fc7f-4bad-b912-48039e7cbbc0",
        "deepnote_to_be_reexecuted": true,
        "source_hash": "b623e53d",
        "deepnote_cell_type": "code"
      },
      "source": "",
      "execution_count": null,
      "outputs": []
    },
    {
      "cell_type": "code",
      "metadata": {
        "tags": [],
        "deepnote_to_be_reexecuted": true,
        "source_hash": "e9911b0f",
        "execution_start": 1619777871333,
        "execution_millis": 53,
        "cell_id": "00010-f48034c4-2ba3-4320-84fc-4f9c069f7774",
        "deepnote_cell_type": "code"
      },
      "source": "report = ProfileReport(df1, title=\"Titanic_Profiling_Report\")  # df1\n#report",
      "outputs": [],
      "execution_count": null
    },
    {
      "cell_type": "code",
      "metadata": {
        "tags": [],
        "cell_id": "00011-f4cca228-2ea2-4686-979a-75c1e723db9e",
        "deepnote_to_be_reexecuted": true,
        "source_hash": "b136f3c0",
        "deepnote_cell_type": "code"
      },
      "source": "# Normalising\n# splitting\n# trainging our model\n\n# predicting \n",
      "execution_count": null,
      "outputs": []
    },
    {
      "cell_type": "code",
      "metadata": {
        "tags": [],
        "cell_id": "00012-ff6c0813-d018-4d02-bc9f-40c477464cf8",
        "deepnote_to_be_reexecuted": true,
        "source_hash": "badf311",
        "deepnote_cell_type": "code"
      },
      "source": "#split\n#normalize \n  #1. fit transform on train data\n  #2. only transform test data but donot fit as that will show the data the \n  # distribution and thereby ",
      "execution_count": null,
      "outputs": []
    },
    {
      "cell_type": "markdown",
      "source": "<a style='text-decoration:none;line-height:16px;display:flex;color:#5B5B62;padding:10px;justify-content:end;' href='https://deepnote.com?utm_source=created-in-deepnote-cell&projectId=90706d3a-334d-40d8-9e54-dd6ede0019b7' target=\"_blank\">\n<img alt='Created in deepnote.com' style='display:inline;max-height:16px;margin:0px;margin-right:7.5px;' src='data:image/svg+xml;base64,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' > </img>\nCreated in <span style='font-weight:600;margin-left:4px;'>Deepnote</span></a>",
      "metadata": {
        "tags": [],
        "created_in_deepnote_cell": true,
        "deepnote_cell_type": "markdown"
      }
    }
  ],
  "nbformat": 4,
  "nbformat_minor": 2,
  "metadata": {
    "orig_nbformat": 2,
    "deepnote": {
      "is_reactive": false
    },
    "deepnote_notebook_id": "b77d571d-36ea-4633-a789-023dda73c3ab",
    "deepnote_execution_queue": []
  }
}