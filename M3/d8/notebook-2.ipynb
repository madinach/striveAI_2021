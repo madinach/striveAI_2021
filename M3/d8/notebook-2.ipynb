{
  "cells": [
    {
      "cell_type": "code",
      "metadata": {
        "tags": [],
        "deepnote_to_be_reexecuted": false,
        "source_hash": "d6c3a668",
        "execution_start": 1619617429949,
        "execution_millis": 0,
        "cell_id": "00000-838db2a1-6301-497b-9a45-5021662e2c3d",
        "deepnote_cell_type": "code"
      },
      "source": "#importing packages\nimport numpy as np\nimport matplotlib\nimport matplotlib.pyplot as plt\nimport seaborn as sns\nimport pandas as pd\nfrom sklearn.datasets import load_iris\nfrom sklearn import model_selection\nfrom sklearn.preprocessing import StandardScaler\nfrom sklearn import preprocessing\nfrom sklearn.model_selection import KFold, LeaveOneOut, cross_val_score\nfrom sklearn import tree \nfrom sklearn.model_selection import train_test_split\n\n# Display plots inline and change plot resolution to retina\n%matplotlib inline\n%config InlineBackend.figure_format = 'retina'\n# Set Seaborn aesthetic parameters to defaults\nsns.set()",
      "execution_count": 14,
      "outputs": []
    },
    {
      "cell_type": "markdown",
      "source": "### Train and test IRIS dataset",
      "metadata": {
        "tags": [],
        "cell_id": "00001-2553bdc4-7d2f-4eda-92b2-d5c6a38b18f4",
        "deepnote_cell_type": "text-cell-h3"
      }
    },
    {
      "cell_type": "code",
      "metadata": {
        "tags": [],
        "deepnote_to_be_reexecuted": false,
        "source_hash": "f996715d",
        "execution_start": 1619617432127,
        "execution_millis": 48,
        "cell_id": "00002-53d49302-89f9-4764-b32f-6a1cb44541e6",
        "deepnote_cell_type": "code"
      },
      "source": "# Loading IRIS, creating df\niris = load_iris()\n\ndf_iris = pd.DataFrame(iris.data, columns=iris.feature_names)\n#adding tragets and classes\ndf_iris[\"target\"] = iris.target\ndf_iris[\"class\"] = iris.target_names[iris.target]\ndf_iris.columns = [col.replace(\"(cm)\", \"\").strip() for col in df_iris.columns]\ndf_iris",
      "execution_count": 15,
      "outputs": [
        {
          "output_type": "execute_result",
          "execution_count": 15,
          "data": {
            "application/vnd.deepnote.dataframe.v2+json": {
              "row_count": 150,
              "column_count": 6,
              "columns": [
                {
                  "name": "sepal length",
                  "dtype": "float64",
                  "stats": {
                    "unique_count": 35,
                    "nan_count": 0,
                    "min": "4.3",
                    "max": "7.9",
                    "histogram": [
                      {
                        "bin_start": 4.3,
                        "bin_end": 4.66,
                        "count": 9
                      },
                      {
                        "bin_start": 4.66,
                        "bin_end": 5.02,
                        "count": 23
                      },
                      {
                        "bin_start": 5.02,
                        "bin_end": 5.38,
                        "count": 14
                      },
                      {
                        "bin_start": 5.38,
                        "bin_end": 5.74,
                        "count": 27
                      },
                      {
                        "bin_start": 5.74,
                        "bin_end": 6.1,
                        "count": 16
                      },
                      {
                        "bin_start": 6.1,
                        "bin_end": 6.46,
                        "count": 26
                      },
                      {
                        "bin_start": 6.46,
                        "bin_end": 6.82,
                        "count": 18
                      },
                      {
                        "bin_start": 6.82,
                        "bin_end": 7.18,
                        "count": 6
                      },
                      {
                        "bin_start": 7.18,
                        "bin_end": 7.54,
                        "count": 5
                      },
                      {
                        "bin_start": 7.54,
                        "bin_end": 7.9,
                        "count": 6
                      }
                    ]
                  }
                },
                {
                  "name": "sepal width",
                  "dtype": "float64",
                  "stats": {
                    "unique_count": 23,
                    "nan_count": 0,
                    "min": "2.0",
                    "max": "4.4",
                    "histogram": [
                      {
                        "bin_start": 2,
                        "bin_end": 2.24,
                        "count": 4
                      },
                      {
                        "bin_start": 2.24,
                        "bin_end": 2.48,
                        "count": 7
                      },
                      {
                        "bin_start": 2.48,
                        "bin_end": 2.72,
                        "count": 22
                      },
                      {
                        "bin_start": 2.72,
                        "bin_end": 2.96,
                        "count": 24
                      },
                      {
                        "bin_start": 2.96,
                        "bin_end": 3.2,
                        "count": 37
                      },
                      {
                        "bin_start": 3.2,
                        "bin_end": 3.4400000000000004,
                        "count": 31
                      },
                      {
                        "bin_start": 3.4400000000000004,
                        "bin_end": 3.6800000000000006,
                        "count": 10
                      },
                      {
                        "bin_start": 3.6800000000000006,
                        "bin_end": 3.9200000000000004,
                        "count": 11
                      },
                      {
                        "bin_start": 3.9200000000000004,
                        "bin_end": 4.16,
                        "count": 2
                      },
                      {
                        "bin_start": 4.16,
                        "bin_end": 4.4,
                        "count": 2
                      }
                    ]
                  }
                },
                {
                  "name": "petal length",
                  "dtype": "float64",
                  "stats": {
                    "unique_count": 43,
                    "nan_count": 0,
                    "min": "1.0",
                    "max": "6.9",
                    "histogram": [
                      {
                        "bin_start": 1,
                        "bin_end": 1.59,
                        "count": 37
                      },
                      {
                        "bin_start": 1.59,
                        "bin_end": 2.18,
                        "count": 13
                      },
                      {
                        "bin_start": 2.18,
                        "bin_end": 2.7700000000000005,
                        "count": 0
                      },
                      {
                        "bin_start": 2.7700000000000005,
                        "bin_end": 3.3600000000000003,
                        "count": 3
                      },
                      {
                        "bin_start": 3.3600000000000003,
                        "bin_end": 3.95,
                        "count": 8
                      },
                      {
                        "bin_start": 3.95,
                        "bin_end": 4.540000000000001,
                        "count": 26
                      },
                      {
                        "bin_start": 4.540000000000001,
                        "bin_end": 5.130000000000001,
                        "count": 29
                      },
                      {
                        "bin_start": 5.130000000000001,
                        "bin_end": 5.720000000000001,
                        "count": 18
                      },
                      {
                        "bin_start": 5.720000000000001,
                        "bin_end": 6.3100000000000005,
                        "count": 11
                      },
                      {
                        "bin_start": 6.3100000000000005,
                        "bin_end": 6.9,
                        "count": 5
                      }
                    ]
                  }
                },
                {
                  "name": "petal width",
                  "dtype": "float64",
                  "stats": {
                    "unique_count": 22,
                    "nan_count": 0,
                    "min": "0.1",
                    "max": "2.5",
                    "histogram": [
                      {
                        "bin_start": 0.1,
                        "bin_end": 0.33999999999999997,
                        "count": 41
                      },
                      {
                        "bin_start": 0.33999999999999997,
                        "bin_end": 0.58,
                        "count": 8
                      },
                      {
                        "bin_start": 0.58,
                        "bin_end": 0.82,
                        "count": 1
                      },
                      {
                        "bin_start": 0.82,
                        "bin_end": 1.06,
                        "count": 7
                      },
                      {
                        "bin_start": 1.06,
                        "bin_end": 1.3,
                        "count": 8
                      },
                      {
                        "bin_start": 1.3,
                        "bin_end": 1.54,
                        "count": 33
                      },
                      {
                        "bin_start": 1.54,
                        "bin_end": 1.78,
                        "count": 6
                      },
                      {
                        "bin_start": 1.78,
                        "bin_end": 2.02,
                        "count": 23
                      },
                      {
                        "bin_start": 2.02,
                        "bin_end": 2.2600000000000002,
                        "count": 9
                      },
                      {
                        "bin_start": 2.2600000000000002,
                        "bin_end": 2.5,
                        "count": 14
                      }
                    ]
                  }
                },
                {
                  "name": "target",
                  "dtype": "int64",
                  "stats": {
                    "unique_count": 3,
                    "nan_count": 0,
                    "min": "0",
                    "max": "2",
                    "histogram": [
                      {
                        "bin_start": 0,
                        "bin_end": 0.2,
                        "count": 50
                      },
                      {
                        "bin_start": 0.2,
                        "bin_end": 0.4,
                        "count": 0
                      },
                      {
                        "bin_start": 0.4,
                        "bin_end": 0.6000000000000001,
                        "count": 0
                      },
                      {
                        "bin_start": 0.6000000000000001,
                        "bin_end": 0.8,
                        "count": 0
                      },
                      {
                        "bin_start": 0.8,
                        "bin_end": 1,
                        "count": 0
                      },
                      {
                        "bin_start": 1,
                        "bin_end": 1.2000000000000002,
                        "count": 50
                      },
                      {
                        "bin_start": 1.2000000000000002,
                        "bin_end": 1.4000000000000001,
                        "count": 0
                      },
                      {
                        "bin_start": 1.4000000000000001,
                        "bin_end": 1.6,
                        "count": 0
                      },
                      {
                        "bin_start": 1.6,
                        "bin_end": 1.8,
                        "count": 0
                      },
                      {
                        "bin_start": 1.8,
                        "bin_end": 2,
                        "count": 50
                      }
                    ]
                  }
                },
                {
                  "name": "class",
                  "dtype": "object",
                  "stats": {
                    "unique_count": 3,
                    "nan_count": 0,
                    "categories": [
                      {
                        "name": "setosa",
                        "count": 50
                      },
                      {
                        "name": "versicolor",
                        "count": 50
                      },
                      {
                        "name": "virginica",
                        "count": 50
                      }
                    ]
                  }
                },
                {
                  "name": "_deepnote_index_column",
                  "dtype": "int64"
                }
              ],
              "rows_top": [
                {
                  "sepal length": 5.1,
                  "sepal width": 3.5,
                  "petal length": 1.4,
                  "petal width": 0.2,
                  "target": 0,
                  "class": "setosa",
                  "_deepnote_index_column": 0
                },
                {
                  "sepal length": 4.9,
                  "sepal width": 3,
                  "petal length": 1.4,
                  "petal width": 0.2,
                  "target": 0,
                  "class": "setosa",
                  "_deepnote_index_column": 1
                },
                {
                  "sepal length": 4.7,
                  "sepal width": 3.2,
                  "petal length": 1.3,
                  "petal width": 0.2,
                  "target": 0,
                  "class": "setosa",
                  "_deepnote_index_column": 2
                },
                {
                  "sepal length": 4.6,
                  "sepal width": 3.1,
                  "petal length": 1.5,
                  "petal width": 0.2,
                  "target": 0,
                  "class": "setosa",
                  "_deepnote_index_column": 3
                },
                {
                  "sepal length": 5,
                  "sepal width": 3.6,
                  "petal length": 1.4,
                  "petal width": 0.2,
                  "target": 0,
                  "class": "setosa",
                  "_deepnote_index_column": 4
                },
                {
                  "sepal length": 5.4,
                  "sepal width": 3.9,
                  "petal length": 1.7,
                  "petal width": 0.4,
                  "target": 0,
                  "class": "setosa",
                  "_deepnote_index_column": 5
                },
                {
                  "sepal length": 4.6,
                  "sepal width": 3.4,
                  "petal length": 1.4,
                  "petal width": 0.3,
                  "target": 0,
                  "class": "setosa",
                  "_deepnote_index_column": 6
                },
                {
                  "sepal length": 5,
                  "sepal width": 3.4,
                  "petal length": 1.5,
                  "petal width": 0.2,
                  "target": 0,
                  "class": "setosa",
                  "_deepnote_index_column": 7
                },
                {
                  "sepal length": 4.4,
                  "sepal width": 2.9,
                  "petal length": 1.4,
                  "petal width": 0.2,
                  "target": 0,
                  "class": "setosa",
                  "_deepnote_index_column": 8
                },
                {
                  "sepal length": 4.9,
                  "sepal width": 3.1,
                  "petal length": 1.5,
                  "petal width": 0.1,
                  "target": 0,
                  "class": "setosa",
                  "_deepnote_index_column": 9
                },
                {
                  "sepal length": 5.4,
                  "sepal width": 3.7,
                  "petal length": 1.5,
                  "petal width": 0.2,
                  "target": 0,
                  "class": "setosa",
                  "_deepnote_index_column": 10
                },
                {
                  "sepal length": 4.8,
                  "sepal width": 3.4,
                  "petal length": 1.6,
                  "petal width": 0.2,
                  "target": 0,
                  "class": "setosa",
                  "_deepnote_index_column": 11
                },
                {
                  "sepal length": 4.8,
                  "sepal width": 3,
                  "petal length": 1.4,
                  "petal width": 0.1,
                  "target": 0,
                  "class": "setosa",
                  "_deepnote_index_column": 12
                },
                {
                  "sepal length": 4.3,
                  "sepal width": 3,
                  "petal length": 1.1,
                  "petal width": 0.1,
                  "target": 0,
                  "class": "setosa",
                  "_deepnote_index_column": 13
                },
                {
                  "sepal length": 5.8,
                  "sepal width": 4,
                  "petal length": 1.2,
                  "petal width": 0.2,
                  "target": 0,
                  "class": "setosa",
                  "_deepnote_index_column": 14
                },
                {
                  "sepal length": 5.7,
                  "sepal width": 4.4,
                  "petal length": 1.5,
                  "petal width": 0.4,
                  "target": 0,
                  "class": "setosa",
                  "_deepnote_index_column": 15
                },
                {
                  "sepal length": 5.4,
                  "sepal width": 3.9,
                  "petal length": 1.3,
                  "petal width": 0.4,
                  "target": 0,
                  "class": "setosa",
                  "_deepnote_index_column": 16
                },
                {
                  "sepal length": 5.1,
                  "sepal width": 3.5,
                  "petal length": 1.4,
                  "petal width": 0.3,
                  "target": 0,
                  "class": "setosa",
                  "_deepnote_index_column": 17
                },
                {
                  "sepal length": 5.7,
                  "sepal width": 3.8,
                  "petal length": 1.7,
                  "petal width": 0.3,
                  "target": 0,
                  "class": "setosa",
                  "_deepnote_index_column": 18
                },
                {
                  "sepal length": 5.1,
                  "sepal width": 3.8,
                  "petal length": 1.5,
                  "petal width": 0.3,
                  "target": 0,
                  "class": "setosa",
                  "_deepnote_index_column": 19
                },
                {
                  "sepal length": 5.4,
                  "sepal width": 3.4,
                  "petal length": 1.7,
                  "petal width": 0.2,
                  "target": 0,
                  "class": "setosa",
                  "_deepnote_index_column": 20
                },
                {
                  "sepal length": 5.1,
                  "sepal width": 3.7,
                  "petal length": 1.5,
                  "petal width": 0.4,
                  "target": 0,
                  "class": "setosa",
                  "_deepnote_index_column": 21
                },
                {
                  "sepal length": 4.6,
                  "sepal width": 3.6,
                  "petal length": 1,
                  "petal width": 0.2,
                  "target": 0,
                  "class": "setosa",
                  "_deepnote_index_column": 22
                },
                {
                  "sepal length": 5.1,
                  "sepal width": 3.3,
                  "petal length": 1.7,
                  "petal width": 0.5,
                  "target": 0,
                  "class": "setosa",
                  "_deepnote_index_column": 23
                },
                {
                  "sepal length": 4.8,
                  "sepal width": 3.4,
                  "petal length": 1.9,
                  "petal width": 0.2,
                  "target": 0,
                  "class": "setosa",
                  "_deepnote_index_column": 24
                },
                {
                  "sepal length": 5,
                  "sepal width": 3,
                  "petal length": 1.6,
                  "petal width": 0.2,
                  "target": 0,
                  "class": "setosa",
                  "_deepnote_index_column": 25
                },
                {
                  "sepal length": 5,
                  "sepal width": 3.4,
                  "petal length": 1.6,
                  "petal width": 0.4,
                  "target": 0,
                  "class": "setosa",
                  "_deepnote_index_column": 26
                },
                {
                  "sepal length": 5.2,
                  "sepal width": 3.5,
                  "petal length": 1.5,
                  "petal width": 0.2,
                  "target": 0,
                  "class": "setosa",
                  "_deepnote_index_column": 27
                },
                {
                  "sepal length": 5.2,
                  "sepal width": 3.4,
                  "petal length": 1.4,
                  "petal width": 0.2,
                  "target": 0,
                  "class": "setosa",
                  "_deepnote_index_column": 28
                },
                {
                  "sepal length": 4.7,
                  "sepal width": 3.2,
                  "petal length": 1.6,
                  "petal width": 0.2,
                  "target": 0,
                  "class": "setosa",
                  "_deepnote_index_column": 29
                },
                {
                  "sepal length": 4.8,
                  "sepal width": 3.1,
                  "petal length": 1.6,
                  "petal width": 0.2,
                  "target": 0,
                  "class": "setosa",
                  "_deepnote_index_column": 30
                },
                {
                  "sepal length": 5.4,
                  "sepal width": 3.4,
                  "petal length": 1.5,
                  "petal width": 0.4,
                  "target": 0,
                  "class": "setosa",
                  "_deepnote_index_column": 31
                },
                {
                  "sepal length": 5.2,
                  "sepal width": 4.1,
                  "petal length": 1.5,
                  "petal width": 0.1,
                  "target": 0,
                  "class": "setosa",
                  "_deepnote_index_column": 32
                },
                {
                  "sepal length": 5.5,
                  "sepal width": 4.2,
                  "petal length": 1.4,
                  "petal width": 0.2,
                  "target": 0,
                  "class": "setosa",
                  "_deepnote_index_column": 33
                },
                {
                  "sepal length": 4.9,
                  "sepal width": 3.1,
                  "petal length": 1.5,
                  "petal width": 0.2,
                  "target": 0,
                  "class": "setosa",
                  "_deepnote_index_column": 34
                },
                {
                  "sepal length": 5,
                  "sepal width": 3.2,
                  "petal length": 1.2,
                  "petal width": 0.2,
                  "target": 0,
                  "class": "setosa",
                  "_deepnote_index_column": 35
                },
                {
                  "sepal length": 5.5,
                  "sepal width": 3.5,
                  "petal length": 1.3,
                  "petal width": 0.2,
                  "target": 0,
                  "class": "setosa",
                  "_deepnote_index_column": 36
                },
                {
                  "sepal length": 4.9,
                  "sepal width": 3.6,
                  "petal length": 1.4,
                  "petal width": 0.1,
                  "target": 0,
                  "class": "setosa",
                  "_deepnote_index_column": 37
                },
                {
                  "sepal length": 4.4,
                  "sepal width": 3,
                  "petal length": 1.3,
                  "petal width": 0.2,
                  "target": 0,
                  "class": "setosa",
                  "_deepnote_index_column": 38
                },
                {
                  "sepal length": 5.1,
                  "sepal width": 3.4,
                  "petal length": 1.5,
                  "petal width": 0.2,
                  "target": 0,
                  "class": "setosa",
                  "_deepnote_index_column": 39
                },
                {
                  "sepal length": 5,
                  "sepal width": 3.5,
                  "petal length": 1.3,
                  "petal width": 0.3,
                  "target": 0,
                  "class": "setosa",
                  "_deepnote_index_column": 40
                },
                {
                  "sepal length": 4.5,
                  "sepal width": 2.3,
                  "petal length": 1.3,
                  "petal width": 0.3,
                  "target": 0,
                  "class": "setosa",
                  "_deepnote_index_column": 41
                },
                {
                  "sepal length": 4.4,
                  "sepal width": 3.2,
                  "petal length": 1.3,
                  "petal width": 0.2,
                  "target": 0,
                  "class": "setosa",
                  "_deepnote_index_column": 42
                },
                {
                  "sepal length": 5,
                  "sepal width": 3.5,
                  "petal length": 1.6,
                  "petal width": 0.6,
                  "target": 0,
                  "class": "setosa",
                  "_deepnote_index_column": 43
                },
                {
                  "sepal length": 5.1,
                  "sepal width": 3.8,
                  "petal length": 1.9,
                  "petal width": 0.4,
                  "target": 0,
                  "class": "setosa",
                  "_deepnote_index_column": 44
                },
                {
                  "sepal length": 4.8,
                  "sepal width": 3,
                  "petal length": 1.4,
                  "petal width": 0.3,
                  "target": 0,
                  "class": "setosa",
                  "_deepnote_index_column": 45
                },
                {
                  "sepal length": 5.1,
                  "sepal width": 3.8,
                  "petal length": 1.6,
                  "petal width": 0.2,
                  "target": 0,
                  "class": "setosa",
                  "_deepnote_index_column": 46
                },
                {
                  "sepal length": 4.6,
                  "sepal width": 3.2,
                  "petal length": 1.4,
                  "petal width": 0.2,
                  "target": 0,
                  "class": "setosa",
                  "_deepnote_index_column": 47
                },
                {
                  "sepal length": 5.3,
                  "sepal width": 3.7,
                  "petal length": 1.5,
                  "petal width": 0.2,
                  "target": 0,
                  "class": "setosa",
                  "_deepnote_index_column": 48
                },
                {
                  "sepal length": 5,
                  "sepal width": 3.3,
                  "petal length": 1.4,
                  "petal width": 0.2,
                  "target": 0,
                  "class": "setosa",
                  "_deepnote_index_column": 49
                },
                {
                  "sepal length": 7,
                  "sepal width": 3.2,
                  "petal length": 4.7,
                  "petal width": 1.4,
                  "target": 1,
                  "class": "versicolor",
                  "_deepnote_index_column": 50
                },
                {
                  "sepal length": 6.4,
                  "sepal width": 3.2,
                  "petal length": 4.5,
                  "petal width": 1.5,
                  "target": 1,
                  "class": "versicolor",
                  "_deepnote_index_column": 51
                },
                {
                  "sepal length": 6.9,
                  "sepal width": 3.1,
                  "petal length": 4.9,
                  "petal width": 1.5,
                  "target": 1,
                  "class": "versicolor",
                  "_deepnote_index_column": 52
                },
                {
                  "sepal length": 5.5,
                  "sepal width": 2.3,
                  "petal length": 4,
                  "petal width": 1.3,
                  "target": 1,
                  "class": "versicolor",
                  "_deepnote_index_column": 53
                },
                {
                  "sepal length": 6.5,
                  "sepal width": 2.8,
                  "petal length": 4.6,
                  "petal width": 1.5,
                  "target": 1,
                  "class": "versicolor",
                  "_deepnote_index_column": 54
                },
                {
                  "sepal length": 5.7,
                  "sepal width": 2.8,
                  "petal length": 4.5,
                  "petal width": 1.3,
                  "target": 1,
                  "class": "versicolor",
                  "_deepnote_index_column": 55
                },
                {
                  "sepal length": 6.3,
                  "sepal width": 3.3,
                  "petal length": 4.7,
                  "petal width": 1.6,
                  "target": 1,
                  "class": "versicolor",
                  "_deepnote_index_column": 56
                },
                {
                  "sepal length": 4.9,
                  "sepal width": 2.4,
                  "petal length": 3.3,
                  "petal width": 1,
                  "target": 1,
                  "class": "versicolor",
                  "_deepnote_index_column": 57
                },
                {
                  "sepal length": 6.6,
                  "sepal width": 2.9,
                  "petal length": 4.6,
                  "petal width": 1.3,
                  "target": 1,
                  "class": "versicolor",
                  "_deepnote_index_column": 58
                },
                {
                  "sepal length": 5.2,
                  "sepal width": 2.7,
                  "petal length": 3.9,
                  "petal width": 1.4,
                  "target": 1,
                  "class": "versicolor",
                  "_deepnote_index_column": 59
                },
                {
                  "sepal length": 5,
                  "sepal width": 2,
                  "petal length": 3.5,
                  "petal width": 1,
                  "target": 1,
                  "class": "versicolor",
                  "_deepnote_index_column": 60
                },
                {
                  "sepal length": 5.9,
                  "sepal width": 3,
                  "petal length": 4.2,
                  "petal width": 1.5,
                  "target": 1,
                  "class": "versicolor",
                  "_deepnote_index_column": 61
                },
                {
                  "sepal length": 6,
                  "sepal width": 2.2,
                  "petal length": 4,
                  "petal width": 1,
                  "target": 1,
                  "class": "versicolor",
                  "_deepnote_index_column": 62
                },
                {
                  "sepal length": 6.1,
                  "sepal width": 2.9,
                  "petal length": 4.7,
                  "petal width": 1.4,
                  "target": 1,
                  "class": "versicolor",
                  "_deepnote_index_column": 63
                },
                {
                  "sepal length": 5.6,
                  "sepal width": 2.9,
                  "petal length": 3.6,
                  "petal width": 1.3,
                  "target": 1,
                  "class": "versicolor",
                  "_deepnote_index_column": 64
                },
                {
                  "sepal length": 6.7,
                  "sepal width": 3.1,
                  "petal length": 4.4,
                  "petal width": 1.4,
                  "target": 1,
                  "class": "versicolor",
                  "_deepnote_index_column": 65
                },
                {
                  "sepal length": 5.6,
                  "sepal width": 3,
                  "petal length": 4.5,
                  "petal width": 1.5,
                  "target": 1,
                  "class": "versicolor",
                  "_deepnote_index_column": 66
                },
                {
                  "sepal length": 5.8,
                  "sepal width": 2.7,
                  "petal length": 4.1,
                  "petal width": 1,
                  "target": 1,
                  "class": "versicolor",
                  "_deepnote_index_column": 67
                },
                {
                  "sepal length": 6.2,
                  "sepal width": 2.2,
                  "petal length": 4.5,
                  "petal width": 1.5,
                  "target": 1,
                  "class": "versicolor",
                  "_deepnote_index_column": 68
                },
                {
                  "sepal length": 5.6,
                  "sepal width": 2.5,
                  "petal length": 3.9,
                  "petal width": 1.1,
                  "target": 1,
                  "class": "versicolor",
                  "_deepnote_index_column": 69
                },
                {
                  "sepal length": 5.9,
                  "sepal width": 3.2,
                  "petal length": 4.8,
                  "petal width": 1.8,
                  "target": 1,
                  "class": "versicolor",
                  "_deepnote_index_column": 70
                },
                {
                  "sepal length": 6.1,
                  "sepal width": 2.8,
                  "petal length": 4,
                  "petal width": 1.3,
                  "target": 1,
                  "class": "versicolor",
                  "_deepnote_index_column": 71
                },
                {
                  "sepal length": 6.3,
                  "sepal width": 2.5,
                  "petal length": 4.9,
                  "petal width": 1.5,
                  "target": 1,
                  "class": "versicolor",
                  "_deepnote_index_column": 72
                },
                {
                  "sepal length": 6.1,
                  "sepal width": 2.8,
                  "petal length": 4.7,
                  "petal width": 1.2,
                  "target": 1,
                  "class": "versicolor",
                  "_deepnote_index_column": 73
                },
                {
                  "sepal length": 6.4,
                  "sepal width": 2.9,
                  "petal length": 4.3,
                  "petal width": 1.3,
                  "target": 1,
                  "class": "versicolor",
                  "_deepnote_index_column": 74
                },
                {
                  "sepal length": 6.6,
                  "sepal width": 3,
                  "petal length": 4.4,
                  "petal width": 1.4,
                  "target": 1,
                  "class": "versicolor",
                  "_deepnote_index_column": 75
                },
                {
                  "sepal length": 6.8,
                  "sepal width": 2.8,
                  "petal length": 4.8,
                  "petal width": 1.4,
                  "target": 1,
                  "class": "versicolor",
                  "_deepnote_index_column": 76
                },
                {
                  "sepal length": 6.7,
                  "sepal width": 3,
                  "petal length": 5,
                  "petal width": 1.7,
                  "target": 1,
                  "class": "versicolor",
                  "_deepnote_index_column": 77
                },
                {
                  "sepal length": 6,
                  "sepal width": 2.9,
                  "petal length": 4.5,
                  "petal width": 1.5,
                  "target": 1,
                  "class": "versicolor",
                  "_deepnote_index_column": 78
                },
                {
                  "sepal length": 5.7,
                  "sepal width": 2.6,
                  "petal length": 3.5,
                  "petal width": 1,
                  "target": 1,
                  "class": "versicolor",
                  "_deepnote_index_column": 79
                },
                {
                  "sepal length": 5.5,
                  "sepal width": 2.4,
                  "petal length": 3.8,
                  "petal width": 1.1,
                  "target": 1,
                  "class": "versicolor",
                  "_deepnote_index_column": 80
                },
                {
                  "sepal length": 5.5,
                  "sepal width": 2.4,
                  "petal length": 3.7,
                  "petal width": 1,
                  "target": 1,
                  "class": "versicolor",
                  "_deepnote_index_column": 81
                },
                {
                  "sepal length": 5.8,
                  "sepal width": 2.7,
                  "petal length": 3.9,
                  "petal width": 1.2,
                  "target": 1,
                  "class": "versicolor",
                  "_deepnote_index_column": 82
                },
                {
                  "sepal length": 6,
                  "sepal width": 2.7,
                  "petal length": 5.1,
                  "petal width": 1.6,
                  "target": 1,
                  "class": "versicolor",
                  "_deepnote_index_column": 83
                },
                {
                  "sepal length": 5.4,
                  "sepal width": 3,
                  "petal length": 4.5,
                  "petal width": 1.5,
                  "target": 1,
                  "class": "versicolor",
                  "_deepnote_index_column": 84
                },
                {
                  "sepal length": 6,
                  "sepal width": 3.4,
                  "petal length": 4.5,
                  "petal width": 1.6,
                  "target": 1,
                  "class": "versicolor",
                  "_deepnote_index_column": 85
                },
                {
                  "sepal length": 6.7,
                  "sepal width": 3.1,
                  "petal length": 4.7,
                  "petal width": 1.5,
                  "target": 1,
                  "class": "versicolor",
                  "_deepnote_index_column": 86
                },
                {
                  "sepal length": 6.3,
                  "sepal width": 2.3,
                  "petal length": 4.4,
                  "petal width": 1.3,
                  "target": 1,
                  "class": "versicolor",
                  "_deepnote_index_column": 87
                },
                {
                  "sepal length": 5.6,
                  "sepal width": 3,
                  "petal length": 4.1,
                  "petal width": 1.3,
                  "target": 1,
                  "class": "versicolor",
                  "_deepnote_index_column": 88
                },
                {
                  "sepal length": 5.5,
                  "sepal width": 2.5,
                  "petal length": 4,
                  "petal width": 1.3,
                  "target": 1,
                  "class": "versicolor",
                  "_deepnote_index_column": 89
                },
                {
                  "sepal length": 5.5,
                  "sepal width": 2.6,
                  "petal length": 4.4,
                  "petal width": 1.2,
                  "target": 1,
                  "class": "versicolor",
                  "_deepnote_index_column": 90
                },
                {
                  "sepal length": 6.1,
                  "sepal width": 3,
                  "petal length": 4.6,
                  "petal width": 1.4,
                  "target": 1,
                  "class": "versicolor",
                  "_deepnote_index_column": 91
                },
                {
                  "sepal length": 5.8,
                  "sepal width": 2.6,
                  "petal length": 4,
                  "petal width": 1.2,
                  "target": 1,
                  "class": "versicolor",
                  "_deepnote_index_column": 92
                },
                {
                  "sepal length": 5,
                  "sepal width": 2.3,
                  "petal length": 3.3,
                  "petal width": 1,
                  "target": 1,
                  "class": "versicolor",
                  "_deepnote_index_column": 93
                },
                {
                  "sepal length": 5.6,
                  "sepal width": 2.7,
                  "petal length": 4.2,
                  "petal width": 1.3,
                  "target": 1,
                  "class": "versicolor",
                  "_deepnote_index_column": 94
                },
                {
                  "sepal length": 5.7,
                  "sepal width": 3,
                  "petal length": 4.2,
                  "petal width": 1.2,
                  "target": 1,
                  "class": "versicolor",
                  "_deepnote_index_column": 95
                },
                {
                  "sepal length": 5.7,
                  "sepal width": 2.9,
                  "petal length": 4.2,
                  "petal width": 1.3,
                  "target": 1,
                  "class": "versicolor",
                  "_deepnote_index_column": 96
                },
                {
                  "sepal length": 6.2,
                  "sepal width": 2.9,
                  "petal length": 4.3,
                  "petal width": 1.3,
                  "target": 1,
                  "class": "versicolor",
                  "_deepnote_index_column": 97
                },
                {
                  "sepal length": 5.1,
                  "sepal width": 2.5,
                  "petal length": 3,
                  "petal width": 1.1,
                  "target": 1,
                  "class": "versicolor",
                  "_deepnote_index_column": 98
                },
                {
                  "sepal length": 5.7,
                  "sepal width": 2.8,
                  "petal length": 4.1,
                  "petal width": 1.3,
                  "target": 1,
                  "class": "versicolor",
                  "_deepnote_index_column": 99
                },
                {
                  "sepal length": 6.3,
                  "sepal width": 3.3,
                  "petal length": 6,
                  "petal width": 2.5,
                  "target": 2,
                  "class": "virginica",
                  "_deepnote_index_column": 100
                },
                {
                  "sepal length": 5.8,
                  "sepal width": 2.7,
                  "petal length": 5.1,
                  "petal width": 1.9,
                  "target": 2,
                  "class": "virginica",
                  "_deepnote_index_column": 101
                },
                {
                  "sepal length": 7.1,
                  "sepal width": 3,
                  "petal length": 5.9,
                  "petal width": 2.1,
                  "target": 2,
                  "class": "virginica",
                  "_deepnote_index_column": 102
                },
                {
                  "sepal length": 6.3,
                  "sepal width": 2.9,
                  "petal length": 5.6,
                  "petal width": 1.8,
                  "target": 2,
                  "class": "virginica",
                  "_deepnote_index_column": 103
                },
                {
                  "sepal length": 6.5,
                  "sepal width": 3,
                  "petal length": 5.8,
                  "petal width": 2.2,
                  "target": 2,
                  "class": "virginica",
                  "_deepnote_index_column": 104
                },
                {
                  "sepal length": 7.6,
                  "sepal width": 3,
                  "petal length": 6.6,
                  "petal width": 2.1,
                  "target": 2,
                  "class": "virginica",
                  "_deepnote_index_column": 105
                },
                {
                  "sepal length": 4.9,
                  "sepal width": 2.5,
                  "petal length": 4.5,
                  "petal width": 1.7,
                  "target": 2,
                  "class": "virginica",
                  "_deepnote_index_column": 106
                },
                {
                  "sepal length": 7.3,
                  "sepal width": 2.9,
                  "petal length": 6.3,
                  "petal width": 1.8,
                  "target": 2,
                  "class": "virginica",
                  "_deepnote_index_column": 107
                },
                {
                  "sepal length": 6.7,
                  "sepal width": 2.5,
                  "petal length": 5.8,
                  "petal width": 1.8,
                  "target": 2,
                  "class": "virginica",
                  "_deepnote_index_column": 108
                },
                {
                  "sepal length": 7.2,
                  "sepal width": 3.6,
                  "petal length": 6.1,
                  "petal width": 2.5,
                  "target": 2,
                  "class": "virginica",
                  "_deepnote_index_column": 109
                },
                {
                  "sepal length": 6.5,
                  "sepal width": 3.2,
                  "petal length": 5.1,
                  "petal width": 2,
                  "target": 2,
                  "class": "virginica",
                  "_deepnote_index_column": 110
                },
                {
                  "sepal length": 6.4,
                  "sepal width": 2.7,
                  "petal length": 5.3,
                  "petal width": 1.9,
                  "target": 2,
                  "class": "virginica",
                  "_deepnote_index_column": 111
                },
                {
                  "sepal length": 6.8,
                  "sepal width": 3,
                  "petal length": 5.5,
                  "petal width": 2.1,
                  "target": 2,
                  "class": "virginica",
                  "_deepnote_index_column": 112
                },
                {
                  "sepal length": 5.7,
                  "sepal width": 2.5,
                  "petal length": 5,
                  "petal width": 2,
                  "target": 2,
                  "class": "virginica",
                  "_deepnote_index_column": 113
                },
                {
                  "sepal length": 5.8,
                  "sepal width": 2.8,
                  "petal length": 5.1,
                  "petal width": 2.4,
                  "target": 2,
                  "class": "virginica",
                  "_deepnote_index_column": 114
                },
                {
                  "sepal length": 6.4,
                  "sepal width": 3.2,
                  "petal length": 5.3,
                  "petal width": 2.3,
                  "target": 2,
                  "class": "virginica",
                  "_deepnote_index_column": 115
                },
                {
                  "sepal length": 6.5,
                  "sepal width": 3,
                  "petal length": 5.5,
                  "petal width": 1.8,
                  "target": 2,
                  "class": "virginica",
                  "_deepnote_index_column": 116
                },
                {
                  "sepal length": 7.7,
                  "sepal width": 3.8,
                  "petal length": 6.7,
                  "petal width": 2.2,
                  "target": 2,
                  "class": "virginica",
                  "_deepnote_index_column": 117
                },
                {
                  "sepal length": 7.7,
                  "sepal width": 2.6,
                  "petal length": 6.9,
                  "petal width": 2.3,
                  "target": 2,
                  "class": "virginica",
                  "_deepnote_index_column": 118
                },
                {
                  "sepal length": 6,
                  "sepal width": 2.2,
                  "petal length": 5,
                  "petal width": 1.5,
                  "target": 2,
                  "class": "virginica",
                  "_deepnote_index_column": 119
                },
                {
                  "sepal length": 6.9,
                  "sepal width": 3.2,
                  "petal length": 5.7,
                  "petal width": 2.3,
                  "target": 2,
                  "class": "virginica",
                  "_deepnote_index_column": 120
                },
                {
                  "sepal length": 5.6,
                  "sepal width": 2.8,
                  "petal length": 4.9,
                  "petal width": 2,
                  "target": 2,
                  "class": "virginica",
                  "_deepnote_index_column": 121
                },
                {
                  "sepal length": 7.7,
                  "sepal width": 2.8,
                  "petal length": 6.7,
                  "petal width": 2,
                  "target": 2,
                  "class": "virginica",
                  "_deepnote_index_column": 122
                },
                {
                  "sepal length": 6.3,
                  "sepal width": 2.7,
                  "petal length": 4.9,
                  "petal width": 1.8,
                  "target": 2,
                  "class": "virginica",
                  "_deepnote_index_column": 123
                },
                {
                  "sepal length": 6.7,
                  "sepal width": 3.3,
                  "petal length": 5.7,
                  "petal width": 2.1,
                  "target": 2,
                  "class": "virginica",
                  "_deepnote_index_column": 124
                },
                {
                  "sepal length": 7.2,
                  "sepal width": 3.2,
                  "petal length": 6,
                  "petal width": 1.8,
                  "target": 2,
                  "class": "virginica",
                  "_deepnote_index_column": 125
                },
                {
                  "sepal length": 6.2,
                  "sepal width": 2.8,
                  "petal length": 4.8,
                  "petal width": 1.8,
                  "target": 2,
                  "class": "virginica",
                  "_deepnote_index_column": 126
                },
                {
                  "sepal length": 6.1,
                  "sepal width": 3,
                  "petal length": 4.9,
                  "petal width": 1.8,
                  "target": 2,
                  "class": "virginica",
                  "_deepnote_index_column": 127
                },
                {
                  "sepal length": 6.4,
                  "sepal width": 2.8,
                  "petal length": 5.6,
                  "petal width": 2.1,
                  "target": 2,
                  "class": "virginica",
                  "_deepnote_index_column": 128
                },
                {
                  "sepal length": 7.2,
                  "sepal width": 3,
                  "petal length": 5.8,
                  "petal width": 1.6,
                  "target": 2,
                  "class": "virginica",
                  "_deepnote_index_column": 129
                },
                {
                  "sepal length": 7.4,
                  "sepal width": 2.8,
                  "petal length": 6.1,
                  "petal width": 1.9,
                  "target": 2,
                  "class": "virginica",
                  "_deepnote_index_column": 130
                },
                {
                  "sepal length": 7.9,
                  "sepal width": 3.8,
                  "petal length": 6.4,
                  "petal width": 2,
                  "target": 2,
                  "class": "virginica",
                  "_deepnote_index_column": 131
                },
                {
                  "sepal length": 6.4,
                  "sepal width": 2.8,
                  "petal length": 5.6,
                  "petal width": 2.2,
                  "target": 2,
                  "class": "virginica",
                  "_deepnote_index_column": 132
                },
                {
                  "sepal length": 6.3,
                  "sepal width": 2.8,
                  "petal length": 5.1,
                  "petal width": 1.5,
                  "target": 2,
                  "class": "virginica",
                  "_deepnote_index_column": 133
                },
                {
                  "sepal length": 6.1,
                  "sepal width": 2.6,
                  "petal length": 5.6,
                  "petal width": 1.4,
                  "target": 2,
                  "class": "virginica",
                  "_deepnote_index_column": 134
                },
                {
                  "sepal length": 7.7,
                  "sepal width": 3,
                  "petal length": 6.1,
                  "petal width": 2.3,
                  "target": 2,
                  "class": "virginica",
                  "_deepnote_index_column": 135
                },
                {
                  "sepal length": 6.3,
                  "sepal width": 3.4,
                  "petal length": 5.6,
                  "petal width": 2.4,
                  "target": 2,
                  "class": "virginica",
                  "_deepnote_index_column": 136
                },
                {
                  "sepal length": 6.4,
                  "sepal width": 3.1,
                  "petal length": 5.5,
                  "petal width": 1.8,
                  "target": 2,
                  "class": "virginica",
                  "_deepnote_index_column": 137
                },
                {
                  "sepal length": 6,
                  "sepal width": 3,
                  "petal length": 4.8,
                  "petal width": 1.8,
                  "target": 2,
                  "class": "virginica",
                  "_deepnote_index_column": 138
                },
                {
                  "sepal length": 6.9,
                  "sepal width": 3.1,
                  "petal length": 5.4,
                  "petal width": 2.1,
                  "target": 2,
                  "class": "virginica",
                  "_deepnote_index_column": 139
                },
                {
                  "sepal length": 6.7,
                  "sepal width": 3.1,
                  "petal length": 5.6,
                  "petal width": 2.4,
                  "target": 2,
                  "class": "virginica",
                  "_deepnote_index_column": 140
                },
                {
                  "sepal length": 6.9,
                  "sepal width": 3.1,
                  "petal length": 5.1,
                  "petal width": 2.3,
                  "target": 2,
                  "class": "virginica",
                  "_deepnote_index_column": 141
                },
                {
                  "sepal length": 5.8,
                  "sepal width": 2.7,
                  "petal length": 5.1,
                  "petal width": 1.9,
                  "target": 2,
                  "class": "virginica",
                  "_deepnote_index_column": 142
                },
                {
                  "sepal length": 6.8,
                  "sepal width": 3.2,
                  "petal length": 5.9,
                  "petal width": 2.3,
                  "target": 2,
                  "class": "virginica",
                  "_deepnote_index_column": 143
                },
                {
                  "sepal length": 6.7,
                  "sepal width": 3.3,
                  "petal length": 5.7,
                  "petal width": 2.5,
                  "target": 2,
                  "class": "virginica",
                  "_deepnote_index_column": 144
                },
                {
                  "sepal length": 6.7,
                  "sepal width": 3,
                  "petal length": 5.2,
                  "petal width": 2.3,
                  "target": 2,
                  "class": "virginica",
                  "_deepnote_index_column": 145
                },
                {
                  "sepal length": 6.3,
                  "sepal width": 2.5,
                  "petal length": 5,
                  "petal width": 1.9,
                  "target": 2,
                  "class": "virginica",
                  "_deepnote_index_column": 146
                },
                {
                  "sepal length": 6.5,
                  "sepal width": 3,
                  "petal length": 5.2,
                  "petal width": 2,
                  "target": 2,
                  "class": "virginica",
                  "_deepnote_index_column": 147
                },
                {
                  "sepal length": 6.2,
                  "sepal width": 3.4,
                  "petal length": 5.4,
                  "petal width": 2.3,
                  "target": 2,
                  "class": "virginica",
                  "_deepnote_index_column": 148
                },
                {
                  "sepal length": 5.9,
                  "sepal width": 3,
                  "petal length": 5.1,
                  "petal width": 1.8,
                  "target": 2,
                  "class": "virginica",
                  "_deepnote_index_column": 149
                }
              ],
              "rows_bottom": null
            },
            "text/plain": "     sepal length  sepal width  petal length  petal width  target      class\n0             5.1          3.5           1.4          0.2       0     setosa\n1             4.9          3.0           1.4          0.2       0     setosa\n2             4.7          3.2           1.3          0.2       0     setosa\n3             4.6          3.1           1.5          0.2       0     setosa\n4             5.0          3.6           1.4          0.2       0     setosa\n..            ...          ...           ...          ...     ...        ...\n145           6.7          3.0           5.2          2.3       2  virginica\n146           6.3          2.5           5.0          1.9       2  virginica\n147           6.5          3.0           5.2          2.0       2  virginica\n148           6.2          3.4           5.4          2.3       2  virginica\n149           5.9          3.0           5.1          1.8       2  virginica\n\n[150 rows x 6 columns]",
            "text/html": "<div>\n<style scoped>\n    .dataframe tbody tr th:only-of-type {\n        vertical-align: middle;\n    }\n\n    .dataframe tbody tr th {\n        vertical-align: top;\n    }\n\n    .dataframe thead th {\n        text-align: right;\n    }\n</style>\n<table border=\"1\" class=\"dataframe\">\n  <thead>\n    <tr style=\"text-align: right;\">\n      <th></th>\n      <th>sepal length</th>\n      <th>sepal width</th>\n      <th>petal length</th>\n      <th>petal width</th>\n      <th>target</th>\n      <th>class</th>\n    </tr>\n  </thead>\n  <tbody>\n    <tr>\n      <th>0</th>\n      <td>5.1</td>\n      <td>3.5</td>\n      <td>1.4</td>\n      <td>0.2</td>\n      <td>0</td>\n      <td>setosa</td>\n    </tr>\n    <tr>\n      <th>1</th>\n      <td>4.9</td>\n      <td>3.0</td>\n      <td>1.4</td>\n      <td>0.2</td>\n      <td>0</td>\n      <td>setosa</td>\n    </tr>\n    <tr>\n      <th>2</th>\n      <td>4.7</td>\n      <td>3.2</td>\n      <td>1.3</td>\n      <td>0.2</td>\n      <td>0</td>\n      <td>setosa</td>\n    </tr>\n    <tr>\n      <th>3</th>\n      <td>4.6</td>\n      <td>3.1</td>\n      <td>1.5</td>\n      <td>0.2</td>\n      <td>0</td>\n      <td>setosa</td>\n    </tr>\n    <tr>\n      <th>4</th>\n      <td>5.0</td>\n      <td>3.6</td>\n      <td>1.4</td>\n      <td>0.2</td>\n      <td>0</td>\n      <td>setosa</td>\n    </tr>\n    <tr>\n      <th>...</th>\n      <td>...</td>\n      <td>...</td>\n      <td>...</td>\n      <td>...</td>\n      <td>...</td>\n      <td>...</td>\n    </tr>\n    <tr>\n      <th>145</th>\n      <td>6.7</td>\n      <td>3.0</td>\n      <td>5.2</td>\n      <td>2.3</td>\n      <td>2</td>\n      <td>virginica</td>\n    </tr>\n    <tr>\n      <th>146</th>\n      <td>6.3</td>\n      <td>2.5</td>\n      <td>5.0</td>\n      <td>1.9</td>\n      <td>2</td>\n      <td>virginica</td>\n    </tr>\n    <tr>\n      <th>147</th>\n      <td>6.5</td>\n      <td>3.0</td>\n      <td>5.2</td>\n      <td>2.0</td>\n      <td>2</td>\n      <td>virginica</td>\n    </tr>\n    <tr>\n      <th>148</th>\n      <td>6.2</td>\n      <td>3.4</td>\n      <td>5.4</td>\n      <td>2.3</td>\n      <td>2</td>\n      <td>virginica</td>\n    </tr>\n    <tr>\n      <th>149</th>\n      <td>5.9</td>\n      <td>3.0</td>\n      <td>5.1</td>\n      <td>1.8</td>\n      <td>2</td>\n      <td>virginica</td>\n    </tr>\n  </tbody>\n</table>\n<p>150 rows × 6 columns</p>\n</div>"
          },
          "metadata": {}
        }
      ]
    },
    {
      "cell_type": "code",
      "metadata": {
        "tags": [],
        "cell_id": "00003-30e0d965-04c8-4186-8082-e7fec99ca092",
        "deepnote_to_be_reexecuted": false,
        "source_hash": "ecb3682f",
        "execution_start": 1619617438157,
        "execution_millis": 8,
        "deepnote_cell_type": "code"
      },
      "source": "#Sepal Length \nx_train, x_test, y_train, y_test = train_test_split(df.X, df.Y, test_size= 0.2, random_state= 0)\nmodel= \nclf = tree.DecisionTreeClassifier()\nclf = clf.fit(X, Y)",
      "execution_count": 16,
      "outputs": [
        {
          "output_type": "error",
          "ename": "SyntaxError",
          "evalue": "invalid syntax (<ipython-input-16-a6a629b28893>, line 3)",
          "traceback": [
            "\u001b[0;36m  File \u001b[0;32m\"<ipython-input-16-a6a629b28893>\"\u001b[0;36m, line \u001b[0;32m3\u001b[0m\n\u001b[0;31m    model=\u001b[0m\n\u001b[0m           ^\u001b[0m\n\u001b[0;31mSyntaxError\u001b[0m\u001b[0;31m:\u001b[0m invalid syntax\n"
          ]
        }
      ]
    },
    {
      "cell_type": "markdown",
      "source": "### Sepal length + Sepal width",
      "metadata": {
        "tags": [],
        "cell_id": "00004-cdb83ba4-da29-4b3b-bea7-88e2776226a7",
        "deepnote_cell_type": "text-cell-h3"
      }
    },
    {
      "cell_type": "code",
      "source": "#x= df_iris['sepal length'].values\n\nx_train, x_test, y_train, y_test = train_test_split(df_iris[['sepal length', 'sepal width']].values, df_iris[\"class\"]  , test_size= 0.2, random_state= 0)\n\nclf = tree.DecisionTreeClassifier()\nclf = clf.fit(x_train, y_train)\ny_pred = clf.predict(x_test)\n\nscore= clf.score(x_test, y_test)\nscore\n\n",
      "metadata": {
        "tags": [],
        "cell_id": "00005-e44bffc3-3d66-421f-8f2b-18d49b8c6d43",
        "deepnote_to_be_reexecuted": false,
        "source_hash": "f3422bfc",
        "execution_start": 1619618459770,
        "execution_millis": 10,
        "deepnote_cell_type": "code"
      },
      "outputs": [
        {
          "output_type": "execute_result",
          "execution_count": 27,
          "data": {
            "text/plain": "0.6666666666666666"
          },
          "metadata": {}
        }
      ],
      "execution_count": 27
    },
    {
      "cell_type": "markdown",
      "source": "### Sepal length +  Petal length",
      "metadata": {
        "tags": [],
        "cell_id": "00006-aecc14d0-34c7-4743-83b7-dcd42f6e1486",
        "deepnote_cell_type": "text-cell-h3"
      }
    },
    {
      "cell_type": "code",
      "source": "x_train, x_test, y_train, y_test = train_test_split(df_iris[['sepal length','petal length']].values, df_iris[\"class\"]  , test_size= 0.2, random_state= 0)\n\nclf = tree.DecisionTreeClassifier()\nclf = clf.fit(x_train, y_train)\ny_pred = clf.predict(x_test)\n\nscore= clf.score(x_test, y_test)\nscore",
      "metadata": {
        "tags": [],
        "cell_id": "00006-55df35af-9581-4564-96bf-447ffcaae56d",
        "deepnote_to_be_reexecuted": false,
        "source_hash": "125f0ebd",
        "execution_start": 1619618620231,
        "execution_millis": 8,
        "deepnote_cell_type": "code"
      },
      "outputs": [
        {
          "output_type": "execute_result",
          "execution_count": 30,
          "data": {
            "text/plain": "0.9333333333333333"
          },
          "metadata": {}
        }
      ],
      "execution_count": 30
    },
    {
      "cell_type": "markdown",
      "source": "### Sepal length+ width +Petal width",
      "metadata": {
        "tags": [],
        "cell_id": "00008-667fc099-63cf-49b8-81cf-865bd73a2893",
        "deepnote_cell_type": "text-cell-h3"
      }
    },
    {
      "cell_type": "code",
      "source": "x_train, x_test, y_train, y_test = train_test_split(df_iris[['sepal length','sepal width','petal length']].values, df_iris[\"class\"]  , test_size= 0.2, random_state= 0)\n\nclf = tree.DecisionTreeClassifier()\nclf = clf.fit(x_train, y_train)\ny_pred = clf.predict(x_test)\n\nscore= clf.score(x_test, y_test)\nscore",
      "metadata": {
        "tags": [],
        "cell_id": "00009-0b47f2bd-d2bc-4329-a553-0e4729c2732b",
        "deepnote_to_be_reexecuted": false,
        "source_hash": "ddd0937c",
        "execution_start": 1619618668517,
        "execution_millis": 5,
        "deepnote_cell_type": "code"
      },
      "outputs": [
        {
          "output_type": "execute_result",
          "execution_count": 31,
          "data": {
            "text/plain": "0.9666666666666667"
          },
          "metadata": {}
        }
      ],
      "execution_count": 31
    },
    {
      "cell_type": "markdown",
      "source": "# second exercise",
      "metadata": {
        "tags": [],
        "cell_id": "00010-d875c159-4da2-4f14-aea8-eefd11140063",
        "deepnote_cell_type": "text-cell-h1"
      }
    },
    {
      "cell_type": "code",
      "source": "1. animal name: Unique for each instance\n2. hair: Boolean\n3. feathers: Boolean\n4. eggs: Boolean\n5. milk: Boolean\n6. airborne: Boolean\n7. aquatic: Boolean\n8. predator: Boolean\n9. toothed: Boolean\n10. backbone: Boolean\n11. breathes: Boolean\n12. venomous: Boolean\n13. fins: Boolean\n14. legs: Numeric (set of values: {0,2,4,5,6,8})\n15. tail: Boolean\n16. domestic: Boolean\n17. catsize: Boolean\n18. type",
      "metadata": {
        "tags": [],
        "cell_id": "00011-71f55c75-d3c3-4f83-8fe3-c1b8b31ac758",
        "deepnote_cell_type": "code"
      },
      "outputs": [],
      "execution_count": null
    },
    {
      "cell_type": "code",
      "source": "#load zoo data\ndf_zoo= pd.read_csv('zoo.data', names= ['animal name','hair','feathers','eggs','milk','airborne','aquatic','predator','toothed','backbone','breathes','venomous','fins','legs','tail','domestic','catsize','type'])\ndf_zoo",
      "metadata": {
        "tags": [],
        "cell_id": "00011-4ad8c9e4-1d1c-473d-b6e0-96484c730148",
        "deepnote_to_be_reexecuted": false,
        "source_hash": "7ed9f8fb",
        "execution_start": 1619619839314,
        "execution_millis": 55,
        "deepnote_cell_type": "code"
      },
      "outputs": [
        {
          "output_type": "execute_result",
          "execution_count": 35,
          "data": {
            "application/vnd.deepnote.dataframe.v2+json": {
              "row_count": 101,
              "column_count": 18,
              "columns": [
                {
                  "name": "animal name",
                  "dtype": "object",
                  "stats": {
                    "unique_count": 100,
                    "nan_count": 0,
                    "categories": [
                      {
                        "name": "frog",
                        "count": 2
                      },
                      {
                        "name": "aardvark",
                        "count": 1
                      },
                      {
                        "name": "98 others",
                        "count": 98
                      }
                    ]
                  }
                },
                {
                  "name": "hair",
                  "dtype": "int64",
                  "stats": {
                    "unique_count": 2,
                    "nan_count": 0,
                    "min": "0",
                    "max": "1",
                    "histogram": [
                      {
                        "bin_start": 0,
                        "bin_end": 0.1,
                        "count": 58
                      },
                      {
                        "bin_start": 0.1,
                        "bin_end": 0.2,
                        "count": 0
                      },
                      {
                        "bin_start": 0.2,
                        "bin_end": 0.30000000000000004,
                        "count": 0
                      },
                      {
                        "bin_start": 0.30000000000000004,
                        "bin_end": 0.4,
                        "count": 0
                      },
                      {
                        "bin_start": 0.4,
                        "bin_end": 0.5,
                        "count": 0
                      },
                      {
                        "bin_start": 0.5,
                        "bin_end": 0.6000000000000001,
                        "count": 0
                      },
                      {
                        "bin_start": 0.6000000000000001,
                        "bin_end": 0.7000000000000001,
                        "count": 0
                      },
                      {
                        "bin_start": 0.7000000000000001,
                        "bin_end": 0.8,
                        "count": 0
                      },
                      {
                        "bin_start": 0.8,
                        "bin_end": 0.9,
                        "count": 0
                      },
                      {
                        "bin_start": 0.9,
                        "bin_end": 1,
                        "count": 43
                      }
                    ]
                  }
                },
                {
                  "name": "feathers",
                  "dtype": "int64",
                  "stats": {
                    "unique_count": 2,
                    "nan_count": 0,
                    "min": "0",
                    "max": "1",
                    "histogram": [
                      {
                        "bin_start": 0,
                        "bin_end": 0.1,
                        "count": 81
                      },
                      {
                        "bin_start": 0.1,
                        "bin_end": 0.2,
                        "count": 0
                      },
                      {
                        "bin_start": 0.2,
                        "bin_end": 0.30000000000000004,
                        "count": 0
                      },
                      {
                        "bin_start": 0.30000000000000004,
                        "bin_end": 0.4,
                        "count": 0
                      },
                      {
                        "bin_start": 0.4,
                        "bin_end": 0.5,
                        "count": 0
                      },
                      {
                        "bin_start": 0.5,
                        "bin_end": 0.6000000000000001,
                        "count": 0
                      },
                      {
                        "bin_start": 0.6000000000000001,
                        "bin_end": 0.7000000000000001,
                        "count": 0
                      },
                      {
                        "bin_start": 0.7000000000000001,
                        "bin_end": 0.8,
                        "count": 0
                      },
                      {
                        "bin_start": 0.8,
                        "bin_end": 0.9,
                        "count": 0
                      },
                      {
                        "bin_start": 0.9,
                        "bin_end": 1,
                        "count": 20
                      }
                    ]
                  }
                },
                {
                  "name": "eggs",
                  "dtype": "int64",
                  "stats": {
                    "unique_count": 2,
                    "nan_count": 0,
                    "min": "0",
                    "max": "1",
                    "histogram": [
                      {
                        "bin_start": 0,
                        "bin_end": 0.1,
                        "count": 42
                      },
                      {
                        "bin_start": 0.1,
                        "bin_end": 0.2,
                        "count": 0
                      },
                      {
                        "bin_start": 0.2,
                        "bin_end": 0.30000000000000004,
                        "count": 0
                      },
                      {
                        "bin_start": 0.30000000000000004,
                        "bin_end": 0.4,
                        "count": 0
                      },
                      {
                        "bin_start": 0.4,
                        "bin_end": 0.5,
                        "count": 0
                      },
                      {
                        "bin_start": 0.5,
                        "bin_end": 0.6000000000000001,
                        "count": 0
                      },
                      {
                        "bin_start": 0.6000000000000001,
                        "bin_end": 0.7000000000000001,
                        "count": 0
                      },
                      {
                        "bin_start": 0.7000000000000001,
                        "bin_end": 0.8,
                        "count": 0
                      },
                      {
                        "bin_start": 0.8,
                        "bin_end": 0.9,
                        "count": 0
                      },
                      {
                        "bin_start": 0.9,
                        "bin_end": 1,
                        "count": 59
                      }
                    ]
                  }
                },
                {
                  "name": "milk",
                  "dtype": "int64",
                  "stats": {
                    "unique_count": 2,
                    "nan_count": 0,
                    "min": "0",
                    "max": "1",
                    "histogram": [
                      {
                        "bin_start": 0,
                        "bin_end": 0.1,
                        "count": 60
                      },
                      {
                        "bin_start": 0.1,
                        "bin_end": 0.2,
                        "count": 0
                      },
                      {
                        "bin_start": 0.2,
                        "bin_end": 0.30000000000000004,
                        "count": 0
                      },
                      {
                        "bin_start": 0.30000000000000004,
                        "bin_end": 0.4,
                        "count": 0
                      },
                      {
                        "bin_start": 0.4,
                        "bin_end": 0.5,
                        "count": 0
                      },
                      {
                        "bin_start": 0.5,
                        "bin_end": 0.6000000000000001,
                        "count": 0
                      },
                      {
                        "bin_start": 0.6000000000000001,
                        "bin_end": 0.7000000000000001,
                        "count": 0
                      },
                      {
                        "bin_start": 0.7000000000000001,
                        "bin_end": 0.8,
                        "count": 0
                      },
                      {
                        "bin_start": 0.8,
                        "bin_end": 0.9,
                        "count": 0
                      },
                      {
                        "bin_start": 0.9,
                        "bin_end": 1,
                        "count": 41
                      }
                    ]
                  }
                },
                {
                  "name": "airborne",
                  "dtype": "int64",
                  "stats": {
                    "unique_count": 2,
                    "nan_count": 0,
                    "min": "0",
                    "max": "1",
                    "histogram": [
                      {
                        "bin_start": 0,
                        "bin_end": 0.1,
                        "count": 77
                      },
                      {
                        "bin_start": 0.1,
                        "bin_end": 0.2,
                        "count": 0
                      },
                      {
                        "bin_start": 0.2,
                        "bin_end": 0.30000000000000004,
                        "count": 0
                      },
                      {
                        "bin_start": 0.30000000000000004,
                        "bin_end": 0.4,
                        "count": 0
                      },
                      {
                        "bin_start": 0.4,
                        "bin_end": 0.5,
                        "count": 0
                      },
                      {
                        "bin_start": 0.5,
                        "bin_end": 0.6000000000000001,
                        "count": 0
                      },
                      {
                        "bin_start": 0.6000000000000001,
                        "bin_end": 0.7000000000000001,
                        "count": 0
                      },
                      {
                        "bin_start": 0.7000000000000001,
                        "bin_end": 0.8,
                        "count": 0
                      },
                      {
                        "bin_start": 0.8,
                        "bin_end": 0.9,
                        "count": 0
                      },
                      {
                        "bin_start": 0.9,
                        "bin_end": 1,
                        "count": 24
                      }
                    ]
                  }
                },
                {
                  "name": "aquatic",
                  "dtype": "int64",
                  "stats": {
                    "unique_count": 2,
                    "nan_count": 0,
                    "min": "0",
                    "max": "1",
                    "histogram": [
                      {
                        "bin_start": 0,
                        "bin_end": 0.1,
                        "count": 65
                      },
                      {
                        "bin_start": 0.1,
                        "bin_end": 0.2,
                        "count": 0
                      },
                      {
                        "bin_start": 0.2,
                        "bin_end": 0.30000000000000004,
                        "count": 0
                      },
                      {
                        "bin_start": 0.30000000000000004,
                        "bin_end": 0.4,
                        "count": 0
                      },
                      {
                        "bin_start": 0.4,
                        "bin_end": 0.5,
                        "count": 0
                      },
                      {
                        "bin_start": 0.5,
                        "bin_end": 0.6000000000000001,
                        "count": 0
                      },
                      {
                        "bin_start": 0.6000000000000001,
                        "bin_end": 0.7000000000000001,
                        "count": 0
                      },
                      {
                        "bin_start": 0.7000000000000001,
                        "bin_end": 0.8,
                        "count": 0
                      },
                      {
                        "bin_start": 0.8,
                        "bin_end": 0.9,
                        "count": 0
                      },
                      {
                        "bin_start": 0.9,
                        "bin_end": 1,
                        "count": 36
                      }
                    ]
                  }
                },
                {
                  "name": "predator",
                  "dtype": "int64",
                  "stats": {
                    "unique_count": 2,
                    "nan_count": 0,
                    "min": "0",
                    "max": "1",
                    "histogram": [
                      {
                        "bin_start": 0,
                        "bin_end": 0.1,
                        "count": 45
                      },
                      {
                        "bin_start": 0.1,
                        "bin_end": 0.2,
                        "count": 0
                      },
                      {
                        "bin_start": 0.2,
                        "bin_end": 0.30000000000000004,
                        "count": 0
                      },
                      {
                        "bin_start": 0.30000000000000004,
                        "bin_end": 0.4,
                        "count": 0
                      },
                      {
                        "bin_start": 0.4,
                        "bin_end": 0.5,
                        "count": 0
                      },
                      {
                        "bin_start": 0.5,
                        "bin_end": 0.6000000000000001,
                        "count": 0
                      },
                      {
                        "bin_start": 0.6000000000000001,
                        "bin_end": 0.7000000000000001,
                        "count": 0
                      },
                      {
                        "bin_start": 0.7000000000000001,
                        "bin_end": 0.8,
                        "count": 0
                      },
                      {
                        "bin_start": 0.8,
                        "bin_end": 0.9,
                        "count": 0
                      },
                      {
                        "bin_start": 0.9,
                        "bin_end": 1,
                        "count": 56
                      }
                    ]
                  }
                },
                {
                  "name": "toothed",
                  "dtype": "int64",
                  "stats": {
                    "unique_count": 2,
                    "nan_count": 0,
                    "min": "0",
                    "max": "1",
                    "histogram": [
                      {
                        "bin_start": 0,
                        "bin_end": 0.1,
                        "count": 40
                      },
                      {
                        "bin_start": 0.1,
                        "bin_end": 0.2,
                        "count": 0
                      },
                      {
                        "bin_start": 0.2,
                        "bin_end": 0.30000000000000004,
                        "count": 0
                      },
                      {
                        "bin_start": 0.30000000000000004,
                        "bin_end": 0.4,
                        "count": 0
                      },
                      {
                        "bin_start": 0.4,
                        "bin_end": 0.5,
                        "count": 0
                      },
                      {
                        "bin_start": 0.5,
                        "bin_end": 0.6000000000000001,
                        "count": 0
                      },
                      {
                        "bin_start": 0.6000000000000001,
                        "bin_end": 0.7000000000000001,
                        "count": 0
                      },
                      {
                        "bin_start": 0.7000000000000001,
                        "bin_end": 0.8,
                        "count": 0
                      },
                      {
                        "bin_start": 0.8,
                        "bin_end": 0.9,
                        "count": 0
                      },
                      {
                        "bin_start": 0.9,
                        "bin_end": 1,
                        "count": 61
                      }
                    ]
                  }
                },
                {
                  "name": "backbone",
                  "dtype": "int64",
                  "stats": {
                    "unique_count": 2,
                    "nan_count": 0,
                    "min": "0",
                    "max": "1",
                    "histogram": [
                      {
                        "bin_start": 0,
                        "bin_end": 0.1,
                        "count": 18
                      },
                      {
                        "bin_start": 0.1,
                        "bin_end": 0.2,
                        "count": 0
                      },
                      {
                        "bin_start": 0.2,
                        "bin_end": 0.30000000000000004,
                        "count": 0
                      },
                      {
                        "bin_start": 0.30000000000000004,
                        "bin_end": 0.4,
                        "count": 0
                      },
                      {
                        "bin_start": 0.4,
                        "bin_end": 0.5,
                        "count": 0
                      },
                      {
                        "bin_start": 0.5,
                        "bin_end": 0.6000000000000001,
                        "count": 0
                      },
                      {
                        "bin_start": 0.6000000000000001,
                        "bin_end": 0.7000000000000001,
                        "count": 0
                      },
                      {
                        "bin_start": 0.7000000000000001,
                        "bin_end": 0.8,
                        "count": 0
                      },
                      {
                        "bin_start": 0.8,
                        "bin_end": 0.9,
                        "count": 0
                      },
                      {
                        "bin_start": 0.9,
                        "bin_end": 1,
                        "count": 83
                      }
                    ]
                  }
                },
                {
                  "name": "breathes",
                  "dtype": "int64",
                  "stats": {
                    "unique_count": 2,
                    "nan_count": 0,
                    "min": "0",
                    "max": "1",
                    "histogram": [
                      {
                        "bin_start": 0,
                        "bin_end": 0.1,
                        "count": 21
                      },
                      {
                        "bin_start": 0.1,
                        "bin_end": 0.2,
                        "count": 0
                      },
                      {
                        "bin_start": 0.2,
                        "bin_end": 0.30000000000000004,
                        "count": 0
                      },
                      {
                        "bin_start": 0.30000000000000004,
                        "bin_end": 0.4,
                        "count": 0
                      },
                      {
                        "bin_start": 0.4,
                        "bin_end": 0.5,
                        "count": 0
                      },
                      {
                        "bin_start": 0.5,
                        "bin_end": 0.6000000000000001,
                        "count": 0
                      },
                      {
                        "bin_start": 0.6000000000000001,
                        "bin_end": 0.7000000000000001,
                        "count": 0
                      },
                      {
                        "bin_start": 0.7000000000000001,
                        "bin_end": 0.8,
                        "count": 0
                      },
                      {
                        "bin_start": 0.8,
                        "bin_end": 0.9,
                        "count": 0
                      },
                      {
                        "bin_start": 0.9,
                        "bin_end": 1,
                        "count": 80
                      }
                    ]
                  }
                },
                {
                  "name": "venomous",
                  "dtype": "int64",
                  "stats": {
                    "unique_count": 2,
                    "nan_count": 0,
                    "min": "0",
                    "max": "1",
                    "histogram": [
                      {
                        "bin_start": 0,
                        "bin_end": 0.1,
                        "count": 93
                      },
                      {
                        "bin_start": 0.1,
                        "bin_end": 0.2,
                        "count": 0
                      },
                      {
                        "bin_start": 0.2,
                        "bin_end": 0.30000000000000004,
                        "count": 0
                      },
                      {
                        "bin_start": 0.30000000000000004,
                        "bin_end": 0.4,
                        "count": 0
                      },
                      {
                        "bin_start": 0.4,
                        "bin_end": 0.5,
                        "count": 0
                      },
                      {
                        "bin_start": 0.5,
                        "bin_end": 0.6000000000000001,
                        "count": 0
                      },
                      {
                        "bin_start": 0.6000000000000001,
                        "bin_end": 0.7000000000000001,
                        "count": 0
                      },
                      {
                        "bin_start": 0.7000000000000001,
                        "bin_end": 0.8,
                        "count": 0
                      },
                      {
                        "bin_start": 0.8,
                        "bin_end": 0.9,
                        "count": 0
                      },
                      {
                        "bin_start": 0.9,
                        "bin_end": 1,
                        "count": 8
                      }
                    ]
                  }
                },
                {
                  "name": "fins",
                  "dtype": "int64",
                  "stats": {
                    "unique_count": 2,
                    "nan_count": 0,
                    "min": "0",
                    "max": "1",
                    "histogram": [
                      {
                        "bin_start": 0,
                        "bin_end": 0.1,
                        "count": 84
                      },
                      {
                        "bin_start": 0.1,
                        "bin_end": 0.2,
                        "count": 0
                      },
                      {
                        "bin_start": 0.2,
                        "bin_end": 0.30000000000000004,
                        "count": 0
                      },
                      {
                        "bin_start": 0.30000000000000004,
                        "bin_end": 0.4,
                        "count": 0
                      },
                      {
                        "bin_start": 0.4,
                        "bin_end": 0.5,
                        "count": 0
                      },
                      {
                        "bin_start": 0.5,
                        "bin_end": 0.6000000000000001,
                        "count": 0
                      },
                      {
                        "bin_start": 0.6000000000000001,
                        "bin_end": 0.7000000000000001,
                        "count": 0
                      },
                      {
                        "bin_start": 0.7000000000000001,
                        "bin_end": 0.8,
                        "count": 0
                      },
                      {
                        "bin_start": 0.8,
                        "bin_end": 0.9,
                        "count": 0
                      },
                      {
                        "bin_start": 0.9,
                        "bin_end": 1,
                        "count": 17
                      }
                    ]
                  }
                },
                {
                  "name": "legs",
                  "dtype": "int64",
                  "stats": {
                    "unique_count": 6,
                    "nan_count": 0,
                    "min": "0",
                    "max": "8",
                    "histogram": [
                      {
                        "bin_start": 0,
                        "bin_end": 0.8,
                        "count": 23
                      },
                      {
                        "bin_start": 0.8,
                        "bin_end": 1.6,
                        "count": 0
                      },
                      {
                        "bin_start": 1.6,
                        "bin_end": 2.4000000000000004,
                        "count": 27
                      },
                      {
                        "bin_start": 2.4000000000000004,
                        "bin_end": 3.2,
                        "count": 0
                      },
                      {
                        "bin_start": 3.2,
                        "bin_end": 4,
                        "count": 0
                      },
                      {
                        "bin_start": 4,
                        "bin_end": 4.800000000000001,
                        "count": 38
                      },
                      {
                        "bin_start": 4.800000000000001,
                        "bin_end": 5.6000000000000005,
                        "count": 1
                      },
                      {
                        "bin_start": 5.6000000000000005,
                        "bin_end": 6.4,
                        "count": 10
                      },
                      {
                        "bin_start": 6.4,
                        "bin_end": 7.2,
                        "count": 0
                      },
                      {
                        "bin_start": 7.2,
                        "bin_end": 8,
                        "count": 2
                      }
                    ]
                  }
                },
                {
                  "name": "tail",
                  "dtype": "int64",
                  "stats": {
                    "unique_count": 2,
                    "nan_count": 0,
                    "min": "0",
                    "max": "1",
                    "histogram": [
                      {
                        "bin_start": 0,
                        "bin_end": 0.1,
                        "count": 26
                      },
                      {
                        "bin_start": 0.1,
                        "bin_end": 0.2,
                        "count": 0
                      },
                      {
                        "bin_start": 0.2,
                        "bin_end": 0.30000000000000004,
                        "count": 0
                      },
                      {
                        "bin_start": 0.30000000000000004,
                        "bin_end": 0.4,
                        "count": 0
                      },
                      {
                        "bin_start": 0.4,
                        "bin_end": 0.5,
                        "count": 0
                      },
                      {
                        "bin_start": 0.5,
                        "bin_end": 0.6000000000000001,
                        "count": 0
                      },
                      {
                        "bin_start": 0.6000000000000001,
                        "bin_end": 0.7000000000000001,
                        "count": 0
                      },
                      {
                        "bin_start": 0.7000000000000001,
                        "bin_end": 0.8,
                        "count": 0
                      },
                      {
                        "bin_start": 0.8,
                        "bin_end": 0.9,
                        "count": 0
                      },
                      {
                        "bin_start": 0.9,
                        "bin_end": 1,
                        "count": 75
                      }
                    ]
                  }
                },
                {
                  "name": "domestic",
                  "dtype": "int64",
                  "stats": {
                    "unique_count": 2,
                    "nan_count": 0,
                    "min": "0",
                    "max": "1",
                    "histogram": [
                      {
                        "bin_start": 0,
                        "bin_end": 0.1,
                        "count": 88
                      },
                      {
                        "bin_start": 0.1,
                        "bin_end": 0.2,
                        "count": 0
                      },
                      {
                        "bin_start": 0.2,
                        "bin_end": 0.30000000000000004,
                        "count": 0
                      },
                      {
                        "bin_start": 0.30000000000000004,
                        "bin_end": 0.4,
                        "count": 0
                      },
                      {
                        "bin_start": 0.4,
                        "bin_end": 0.5,
                        "count": 0
                      },
                      {
                        "bin_start": 0.5,
                        "bin_end": 0.6000000000000001,
                        "count": 0
                      },
                      {
                        "bin_start": 0.6000000000000001,
                        "bin_end": 0.7000000000000001,
                        "count": 0
                      },
                      {
                        "bin_start": 0.7000000000000001,
                        "bin_end": 0.8,
                        "count": 0
                      },
                      {
                        "bin_start": 0.8,
                        "bin_end": 0.9,
                        "count": 0
                      },
                      {
                        "bin_start": 0.9,
                        "bin_end": 1,
                        "count": 13
                      }
                    ]
                  }
                },
                {
                  "name": "catsize",
                  "dtype": "int64",
                  "stats": {
                    "unique_count": 2,
                    "nan_count": 0,
                    "min": "0",
                    "max": "1",
                    "histogram": [
                      {
                        "bin_start": 0,
                        "bin_end": 0.1,
                        "count": 57
                      },
                      {
                        "bin_start": 0.1,
                        "bin_end": 0.2,
                        "count": 0
                      },
                      {
                        "bin_start": 0.2,
                        "bin_end": 0.30000000000000004,
                        "count": 0
                      },
                      {
                        "bin_start": 0.30000000000000004,
                        "bin_end": 0.4,
                        "count": 0
                      },
                      {
                        "bin_start": 0.4,
                        "bin_end": 0.5,
                        "count": 0
                      },
                      {
                        "bin_start": 0.5,
                        "bin_end": 0.6000000000000001,
                        "count": 0
                      },
                      {
                        "bin_start": 0.6000000000000001,
                        "bin_end": 0.7000000000000001,
                        "count": 0
                      },
                      {
                        "bin_start": 0.7000000000000001,
                        "bin_end": 0.8,
                        "count": 0
                      },
                      {
                        "bin_start": 0.8,
                        "bin_end": 0.9,
                        "count": 0
                      },
                      {
                        "bin_start": 0.9,
                        "bin_end": 1,
                        "count": 44
                      }
                    ]
                  }
                },
                {
                  "name": "type",
                  "dtype": "int64",
                  "stats": {
                    "unique_count": 7,
                    "nan_count": 0,
                    "min": "1",
                    "max": "7",
                    "histogram": [
                      {
                        "bin_start": 1,
                        "bin_end": 1.6,
                        "count": 41
                      },
                      {
                        "bin_start": 1.6,
                        "bin_end": 2.2,
                        "count": 20
                      },
                      {
                        "bin_start": 2.2,
                        "bin_end": 2.8,
                        "count": 0
                      },
                      {
                        "bin_start": 2.8,
                        "bin_end": 3.4,
                        "count": 5
                      },
                      {
                        "bin_start": 3.4,
                        "bin_end": 4,
                        "count": 0
                      },
                      {
                        "bin_start": 4,
                        "bin_end": 4.6,
                        "count": 13
                      },
                      {
                        "bin_start": 4.6,
                        "bin_end": 5.2,
                        "count": 4
                      },
                      {
                        "bin_start": 5.2,
                        "bin_end": 5.8,
                        "count": 0
                      },
                      {
                        "bin_start": 5.8,
                        "bin_end": 6.3999999999999995,
                        "count": 8
                      },
                      {
                        "bin_start": 6.3999999999999995,
                        "bin_end": 7,
                        "count": 10
                      }
                    ]
                  }
                },
                {
                  "name": "_deepnote_index_column",
                  "dtype": "int64"
                }
              ],
              "rows_top": [
                {
                  "animal name": "aardvark",
                  "hair": 1,
                  "feathers": 0,
                  "eggs": 0,
                  "milk": 1,
                  "airborne": 0,
                  "aquatic": 0,
                  "predator": 1,
                  "toothed": 1,
                  "backbone": 1,
                  "breathes": 1,
                  "venomous": 0,
                  "fins": 0,
                  "legs": 4,
                  "tail": 0,
                  "domestic": 0,
                  "catsize": 1,
                  "type": 1,
                  "_deepnote_index_column": 0
                },
                {
                  "animal name": "antelope",
                  "hair": 1,
                  "feathers": 0,
                  "eggs": 0,
                  "milk": 1,
                  "airborne": 0,
                  "aquatic": 0,
                  "predator": 0,
                  "toothed": 1,
                  "backbone": 1,
                  "breathes": 1,
                  "venomous": 0,
                  "fins": 0,
                  "legs": 4,
                  "tail": 1,
                  "domestic": 0,
                  "catsize": 1,
                  "type": 1,
                  "_deepnote_index_column": 1
                },
                {
                  "animal name": "bass",
                  "hair": 0,
                  "feathers": 0,
                  "eggs": 1,
                  "milk": 0,
                  "airborne": 0,
                  "aquatic": 1,
                  "predator": 1,
                  "toothed": 1,
                  "backbone": 1,
                  "breathes": 0,
                  "venomous": 0,
                  "fins": 1,
                  "legs": 0,
                  "tail": 1,
                  "domestic": 0,
                  "catsize": 0,
                  "type": 4,
                  "_deepnote_index_column": 2
                },
                {
                  "animal name": "bear",
                  "hair": 1,
                  "feathers": 0,
                  "eggs": 0,
                  "milk": 1,
                  "airborne": 0,
                  "aquatic": 0,
                  "predator": 1,
                  "toothed": 1,
                  "backbone": 1,
                  "breathes": 1,
                  "venomous": 0,
                  "fins": 0,
                  "legs": 4,
                  "tail": 0,
                  "domestic": 0,
                  "catsize": 1,
                  "type": 1,
                  "_deepnote_index_column": 3
                },
                {
                  "animal name": "boar",
                  "hair": 1,
                  "feathers": 0,
                  "eggs": 0,
                  "milk": 1,
                  "airborne": 0,
                  "aquatic": 0,
                  "predator": 1,
                  "toothed": 1,
                  "backbone": 1,
                  "breathes": 1,
                  "venomous": 0,
                  "fins": 0,
                  "legs": 4,
                  "tail": 1,
                  "domestic": 0,
                  "catsize": 1,
                  "type": 1,
                  "_deepnote_index_column": 4
                },
                {
                  "animal name": "buffalo",
                  "hair": 1,
                  "feathers": 0,
                  "eggs": 0,
                  "milk": 1,
                  "airborne": 0,
                  "aquatic": 0,
                  "predator": 0,
                  "toothed": 1,
                  "backbone": 1,
                  "breathes": 1,
                  "venomous": 0,
                  "fins": 0,
                  "legs": 4,
                  "tail": 1,
                  "domestic": 0,
                  "catsize": 1,
                  "type": 1,
                  "_deepnote_index_column": 5
                },
                {
                  "animal name": "calf",
                  "hair": 1,
                  "feathers": 0,
                  "eggs": 0,
                  "milk": 1,
                  "airborne": 0,
                  "aquatic": 0,
                  "predator": 0,
                  "toothed": 1,
                  "backbone": 1,
                  "breathes": 1,
                  "venomous": 0,
                  "fins": 0,
                  "legs": 4,
                  "tail": 1,
                  "domestic": 1,
                  "catsize": 1,
                  "type": 1,
                  "_deepnote_index_column": 6
                },
                {
                  "animal name": "carp",
                  "hair": 0,
                  "feathers": 0,
                  "eggs": 1,
                  "milk": 0,
                  "airborne": 0,
                  "aquatic": 1,
                  "predator": 0,
                  "toothed": 1,
                  "backbone": 1,
                  "breathes": 0,
                  "venomous": 0,
                  "fins": 1,
                  "legs": 0,
                  "tail": 1,
                  "domestic": 1,
                  "catsize": 0,
                  "type": 4,
                  "_deepnote_index_column": 7
                },
                {
                  "animal name": "catfish",
                  "hair": 0,
                  "feathers": 0,
                  "eggs": 1,
                  "milk": 0,
                  "airborne": 0,
                  "aquatic": 1,
                  "predator": 1,
                  "toothed": 1,
                  "backbone": 1,
                  "breathes": 0,
                  "venomous": 0,
                  "fins": 1,
                  "legs": 0,
                  "tail": 1,
                  "domestic": 0,
                  "catsize": 0,
                  "type": 4,
                  "_deepnote_index_column": 8
                },
                {
                  "animal name": "cavy",
                  "hair": 1,
                  "feathers": 0,
                  "eggs": 0,
                  "milk": 1,
                  "airborne": 0,
                  "aquatic": 0,
                  "predator": 0,
                  "toothed": 1,
                  "backbone": 1,
                  "breathes": 1,
                  "venomous": 0,
                  "fins": 0,
                  "legs": 4,
                  "tail": 0,
                  "domestic": 1,
                  "catsize": 0,
                  "type": 1,
                  "_deepnote_index_column": 9
                },
                {
                  "animal name": "cheetah",
                  "hair": 1,
                  "feathers": 0,
                  "eggs": 0,
                  "milk": 1,
                  "airborne": 0,
                  "aquatic": 0,
                  "predator": 1,
                  "toothed": 1,
                  "backbone": 1,
                  "breathes": 1,
                  "venomous": 0,
                  "fins": 0,
                  "legs": 4,
                  "tail": 1,
                  "domestic": 0,
                  "catsize": 1,
                  "type": 1,
                  "_deepnote_index_column": 10
                },
                {
                  "animal name": "chicken",
                  "hair": 0,
                  "feathers": 1,
                  "eggs": 1,
                  "milk": 0,
                  "airborne": 1,
                  "aquatic": 0,
                  "predator": 0,
                  "toothed": 0,
                  "backbone": 1,
                  "breathes": 1,
                  "venomous": 0,
                  "fins": 0,
                  "legs": 2,
                  "tail": 1,
                  "domestic": 1,
                  "catsize": 0,
                  "type": 2,
                  "_deepnote_index_column": 11
                },
                {
                  "animal name": "chub",
                  "hair": 0,
                  "feathers": 0,
                  "eggs": 1,
                  "milk": 0,
                  "airborne": 0,
                  "aquatic": 1,
                  "predator": 1,
                  "toothed": 1,
                  "backbone": 1,
                  "breathes": 0,
                  "venomous": 0,
                  "fins": 1,
                  "legs": 0,
                  "tail": 1,
                  "domestic": 0,
                  "catsize": 0,
                  "type": 4,
                  "_deepnote_index_column": 12
                },
                {
                  "animal name": "clam",
                  "hair": 0,
                  "feathers": 0,
                  "eggs": 1,
                  "milk": 0,
                  "airborne": 0,
                  "aquatic": 0,
                  "predator": 1,
                  "toothed": 0,
                  "backbone": 0,
                  "breathes": 0,
                  "venomous": 0,
                  "fins": 0,
                  "legs": 0,
                  "tail": 0,
                  "domestic": 0,
                  "catsize": 0,
                  "type": 7,
                  "_deepnote_index_column": 13
                },
                {
                  "animal name": "crab",
                  "hair": 0,
                  "feathers": 0,
                  "eggs": 1,
                  "milk": 0,
                  "airborne": 0,
                  "aquatic": 1,
                  "predator": 1,
                  "toothed": 0,
                  "backbone": 0,
                  "breathes": 0,
                  "venomous": 0,
                  "fins": 0,
                  "legs": 4,
                  "tail": 0,
                  "domestic": 0,
                  "catsize": 0,
                  "type": 7,
                  "_deepnote_index_column": 14
                },
                {
                  "animal name": "crayfish",
                  "hair": 0,
                  "feathers": 0,
                  "eggs": 1,
                  "milk": 0,
                  "airborne": 0,
                  "aquatic": 1,
                  "predator": 1,
                  "toothed": 0,
                  "backbone": 0,
                  "breathes": 0,
                  "venomous": 0,
                  "fins": 0,
                  "legs": 6,
                  "tail": 0,
                  "domestic": 0,
                  "catsize": 0,
                  "type": 7,
                  "_deepnote_index_column": 15
                },
                {
                  "animal name": "crow",
                  "hair": 0,
                  "feathers": 1,
                  "eggs": 1,
                  "milk": 0,
                  "airborne": 1,
                  "aquatic": 0,
                  "predator": 1,
                  "toothed": 0,
                  "backbone": 1,
                  "breathes": 1,
                  "venomous": 0,
                  "fins": 0,
                  "legs": 2,
                  "tail": 1,
                  "domestic": 0,
                  "catsize": 0,
                  "type": 2,
                  "_deepnote_index_column": 16
                },
                {
                  "animal name": "deer",
                  "hair": 1,
                  "feathers": 0,
                  "eggs": 0,
                  "milk": 1,
                  "airborne": 0,
                  "aquatic": 0,
                  "predator": 0,
                  "toothed": 1,
                  "backbone": 1,
                  "breathes": 1,
                  "venomous": 0,
                  "fins": 0,
                  "legs": 4,
                  "tail": 1,
                  "domestic": 0,
                  "catsize": 1,
                  "type": 1,
                  "_deepnote_index_column": 17
                },
                {
                  "animal name": "dogfish",
                  "hair": 0,
                  "feathers": 0,
                  "eggs": 1,
                  "milk": 0,
                  "airborne": 0,
                  "aquatic": 1,
                  "predator": 1,
                  "toothed": 1,
                  "backbone": 1,
                  "breathes": 0,
                  "venomous": 0,
                  "fins": 1,
                  "legs": 0,
                  "tail": 1,
                  "domestic": 0,
                  "catsize": 1,
                  "type": 4,
                  "_deepnote_index_column": 18
                },
                {
                  "animal name": "dolphin",
                  "hair": 0,
                  "feathers": 0,
                  "eggs": 0,
                  "milk": 1,
                  "airborne": 0,
                  "aquatic": 1,
                  "predator": 1,
                  "toothed": 1,
                  "backbone": 1,
                  "breathes": 1,
                  "venomous": 0,
                  "fins": 1,
                  "legs": 0,
                  "tail": 1,
                  "domestic": 0,
                  "catsize": 1,
                  "type": 1,
                  "_deepnote_index_column": 19
                },
                {
                  "animal name": "dove",
                  "hair": 0,
                  "feathers": 1,
                  "eggs": 1,
                  "milk": 0,
                  "airborne": 1,
                  "aquatic": 0,
                  "predator": 0,
                  "toothed": 0,
                  "backbone": 1,
                  "breathes": 1,
                  "venomous": 0,
                  "fins": 0,
                  "legs": 2,
                  "tail": 1,
                  "domestic": 1,
                  "catsize": 0,
                  "type": 2,
                  "_deepnote_index_column": 20
                },
                {
                  "animal name": "duck",
                  "hair": 0,
                  "feathers": 1,
                  "eggs": 1,
                  "milk": 0,
                  "airborne": 1,
                  "aquatic": 1,
                  "predator": 0,
                  "toothed": 0,
                  "backbone": 1,
                  "breathes": 1,
                  "venomous": 0,
                  "fins": 0,
                  "legs": 2,
                  "tail": 1,
                  "domestic": 0,
                  "catsize": 0,
                  "type": 2,
                  "_deepnote_index_column": 21
                },
                {
                  "animal name": "elephant",
                  "hair": 1,
                  "feathers": 0,
                  "eggs": 0,
                  "milk": 1,
                  "airborne": 0,
                  "aquatic": 0,
                  "predator": 0,
                  "toothed": 1,
                  "backbone": 1,
                  "breathes": 1,
                  "venomous": 0,
                  "fins": 0,
                  "legs": 4,
                  "tail": 1,
                  "domestic": 0,
                  "catsize": 1,
                  "type": 1,
                  "_deepnote_index_column": 22
                },
                {
                  "animal name": "flamingo",
                  "hair": 0,
                  "feathers": 1,
                  "eggs": 1,
                  "milk": 0,
                  "airborne": 1,
                  "aquatic": 0,
                  "predator": 0,
                  "toothed": 0,
                  "backbone": 1,
                  "breathes": 1,
                  "venomous": 0,
                  "fins": 0,
                  "legs": 2,
                  "tail": 1,
                  "domestic": 0,
                  "catsize": 1,
                  "type": 2,
                  "_deepnote_index_column": 23
                },
                {
                  "animal name": "flea",
                  "hair": 0,
                  "feathers": 0,
                  "eggs": 1,
                  "milk": 0,
                  "airborne": 0,
                  "aquatic": 0,
                  "predator": 0,
                  "toothed": 0,
                  "backbone": 0,
                  "breathes": 1,
                  "venomous": 0,
                  "fins": 0,
                  "legs": 6,
                  "tail": 0,
                  "domestic": 0,
                  "catsize": 0,
                  "type": 6,
                  "_deepnote_index_column": 24
                },
                {
                  "animal name": "frog",
                  "hair": 0,
                  "feathers": 0,
                  "eggs": 1,
                  "milk": 0,
                  "airborne": 0,
                  "aquatic": 1,
                  "predator": 1,
                  "toothed": 1,
                  "backbone": 1,
                  "breathes": 1,
                  "venomous": 0,
                  "fins": 0,
                  "legs": 4,
                  "tail": 0,
                  "domestic": 0,
                  "catsize": 0,
                  "type": 5,
                  "_deepnote_index_column": 25
                },
                {
                  "animal name": "frog",
                  "hair": 0,
                  "feathers": 0,
                  "eggs": 1,
                  "milk": 0,
                  "airborne": 0,
                  "aquatic": 1,
                  "predator": 1,
                  "toothed": 1,
                  "backbone": 1,
                  "breathes": 1,
                  "venomous": 1,
                  "fins": 0,
                  "legs": 4,
                  "tail": 0,
                  "domestic": 0,
                  "catsize": 0,
                  "type": 5,
                  "_deepnote_index_column": 26
                }
              ],
              "rows_bottom": [
                {
                  "animal name": "seahorse",
                  "hair": 0,
                  "feathers": 0,
                  "eggs": 1,
                  "milk": 0,
                  "airborne": 0,
                  "aquatic": 1,
                  "predator": 0,
                  "toothed": 1,
                  "backbone": 1,
                  "breathes": 0,
                  "venomous": 0,
                  "fins": 1,
                  "legs": 0,
                  "tail": 1,
                  "domestic": 0,
                  "catsize": 0,
                  "type": 4,
                  "_deepnote_index_column": 73
                },
                {
                  "animal name": "seal",
                  "hair": 1,
                  "feathers": 0,
                  "eggs": 0,
                  "milk": 1,
                  "airborne": 0,
                  "aquatic": 1,
                  "predator": 1,
                  "toothed": 1,
                  "backbone": 1,
                  "breathes": 1,
                  "venomous": 0,
                  "fins": 1,
                  "legs": 0,
                  "tail": 0,
                  "domestic": 0,
                  "catsize": 1,
                  "type": 1,
                  "_deepnote_index_column": 74
                },
                {
                  "animal name": "sealion",
                  "hair": 1,
                  "feathers": 0,
                  "eggs": 0,
                  "milk": 1,
                  "airborne": 0,
                  "aquatic": 1,
                  "predator": 1,
                  "toothed": 1,
                  "backbone": 1,
                  "breathes": 1,
                  "venomous": 0,
                  "fins": 1,
                  "legs": 2,
                  "tail": 1,
                  "domestic": 0,
                  "catsize": 1,
                  "type": 1,
                  "_deepnote_index_column": 75
                },
                {
                  "animal name": "seasnake",
                  "hair": 0,
                  "feathers": 0,
                  "eggs": 0,
                  "milk": 0,
                  "airborne": 0,
                  "aquatic": 1,
                  "predator": 1,
                  "toothed": 1,
                  "backbone": 1,
                  "breathes": 0,
                  "venomous": 1,
                  "fins": 0,
                  "legs": 0,
                  "tail": 1,
                  "domestic": 0,
                  "catsize": 0,
                  "type": 3,
                  "_deepnote_index_column": 76
                },
                {
                  "animal name": "seawasp",
                  "hair": 0,
                  "feathers": 0,
                  "eggs": 1,
                  "milk": 0,
                  "airborne": 0,
                  "aquatic": 1,
                  "predator": 1,
                  "toothed": 0,
                  "backbone": 0,
                  "breathes": 0,
                  "venomous": 1,
                  "fins": 0,
                  "legs": 0,
                  "tail": 0,
                  "domestic": 0,
                  "catsize": 0,
                  "type": 7,
                  "_deepnote_index_column": 77
                },
                {
                  "animal name": "skimmer",
                  "hair": 0,
                  "feathers": 1,
                  "eggs": 1,
                  "milk": 0,
                  "airborne": 1,
                  "aquatic": 1,
                  "predator": 1,
                  "toothed": 0,
                  "backbone": 1,
                  "breathes": 1,
                  "venomous": 0,
                  "fins": 0,
                  "legs": 2,
                  "tail": 1,
                  "domestic": 0,
                  "catsize": 0,
                  "type": 2,
                  "_deepnote_index_column": 78
                },
                {
                  "animal name": "skua",
                  "hair": 0,
                  "feathers": 1,
                  "eggs": 1,
                  "milk": 0,
                  "airborne": 1,
                  "aquatic": 1,
                  "predator": 1,
                  "toothed": 0,
                  "backbone": 1,
                  "breathes": 1,
                  "venomous": 0,
                  "fins": 0,
                  "legs": 2,
                  "tail": 1,
                  "domestic": 0,
                  "catsize": 0,
                  "type": 2,
                  "_deepnote_index_column": 79
                },
                {
                  "animal name": "slowworm",
                  "hair": 0,
                  "feathers": 0,
                  "eggs": 1,
                  "milk": 0,
                  "airborne": 0,
                  "aquatic": 0,
                  "predator": 1,
                  "toothed": 1,
                  "backbone": 1,
                  "breathes": 1,
                  "venomous": 0,
                  "fins": 0,
                  "legs": 0,
                  "tail": 1,
                  "domestic": 0,
                  "catsize": 0,
                  "type": 3,
                  "_deepnote_index_column": 80
                },
                {
                  "animal name": "slug",
                  "hair": 0,
                  "feathers": 0,
                  "eggs": 1,
                  "milk": 0,
                  "airborne": 0,
                  "aquatic": 0,
                  "predator": 0,
                  "toothed": 0,
                  "backbone": 0,
                  "breathes": 1,
                  "venomous": 0,
                  "fins": 0,
                  "legs": 0,
                  "tail": 0,
                  "domestic": 0,
                  "catsize": 0,
                  "type": 7,
                  "_deepnote_index_column": 81
                },
                {
                  "animal name": "sole",
                  "hair": 0,
                  "feathers": 0,
                  "eggs": 1,
                  "milk": 0,
                  "airborne": 0,
                  "aquatic": 1,
                  "predator": 0,
                  "toothed": 1,
                  "backbone": 1,
                  "breathes": 0,
                  "venomous": 0,
                  "fins": 1,
                  "legs": 0,
                  "tail": 1,
                  "domestic": 0,
                  "catsize": 0,
                  "type": 4,
                  "_deepnote_index_column": 82
                },
                {
                  "animal name": "sparrow",
                  "hair": 0,
                  "feathers": 1,
                  "eggs": 1,
                  "milk": 0,
                  "airborne": 1,
                  "aquatic": 0,
                  "predator": 0,
                  "toothed": 0,
                  "backbone": 1,
                  "breathes": 1,
                  "venomous": 0,
                  "fins": 0,
                  "legs": 2,
                  "tail": 1,
                  "domestic": 0,
                  "catsize": 0,
                  "type": 2,
                  "_deepnote_index_column": 83
                },
                {
                  "animal name": "squirrel",
                  "hair": 1,
                  "feathers": 0,
                  "eggs": 0,
                  "milk": 1,
                  "airborne": 0,
                  "aquatic": 0,
                  "predator": 0,
                  "toothed": 1,
                  "backbone": 1,
                  "breathes": 1,
                  "venomous": 0,
                  "fins": 0,
                  "legs": 2,
                  "tail": 1,
                  "domestic": 0,
                  "catsize": 0,
                  "type": 1,
                  "_deepnote_index_column": 84
                },
                {
                  "animal name": "starfish",
                  "hair": 0,
                  "feathers": 0,
                  "eggs": 1,
                  "milk": 0,
                  "airborne": 0,
                  "aquatic": 1,
                  "predator": 1,
                  "toothed": 0,
                  "backbone": 0,
                  "breathes": 0,
                  "venomous": 0,
                  "fins": 0,
                  "legs": 5,
                  "tail": 0,
                  "domestic": 0,
                  "catsize": 0,
                  "type": 7,
                  "_deepnote_index_column": 85
                },
                {
                  "animal name": "stingray",
                  "hair": 0,
                  "feathers": 0,
                  "eggs": 1,
                  "milk": 0,
                  "airborne": 0,
                  "aquatic": 1,
                  "predator": 1,
                  "toothed": 1,
                  "backbone": 1,
                  "breathes": 0,
                  "venomous": 1,
                  "fins": 1,
                  "legs": 0,
                  "tail": 1,
                  "domestic": 0,
                  "catsize": 1,
                  "type": 4,
                  "_deepnote_index_column": 86
                },
                {
                  "animal name": "swan",
                  "hair": 0,
                  "feathers": 1,
                  "eggs": 1,
                  "milk": 0,
                  "airborne": 1,
                  "aquatic": 1,
                  "predator": 0,
                  "toothed": 0,
                  "backbone": 1,
                  "breathes": 1,
                  "venomous": 0,
                  "fins": 0,
                  "legs": 2,
                  "tail": 1,
                  "domestic": 0,
                  "catsize": 1,
                  "type": 2,
                  "_deepnote_index_column": 87
                },
                {
                  "animal name": "termite",
                  "hair": 0,
                  "feathers": 0,
                  "eggs": 1,
                  "milk": 0,
                  "airborne": 0,
                  "aquatic": 0,
                  "predator": 0,
                  "toothed": 0,
                  "backbone": 0,
                  "breathes": 1,
                  "venomous": 0,
                  "fins": 0,
                  "legs": 6,
                  "tail": 0,
                  "domestic": 0,
                  "catsize": 0,
                  "type": 6,
                  "_deepnote_index_column": 88
                },
                {
                  "animal name": "toad",
                  "hair": 0,
                  "feathers": 0,
                  "eggs": 1,
                  "milk": 0,
                  "airborne": 0,
                  "aquatic": 1,
                  "predator": 0,
                  "toothed": 1,
                  "backbone": 1,
                  "breathes": 1,
                  "venomous": 0,
                  "fins": 0,
                  "legs": 4,
                  "tail": 0,
                  "domestic": 0,
                  "catsize": 0,
                  "type": 5,
                  "_deepnote_index_column": 89
                },
                {
                  "animal name": "tortoise",
                  "hair": 0,
                  "feathers": 0,
                  "eggs": 1,
                  "milk": 0,
                  "airborne": 0,
                  "aquatic": 0,
                  "predator": 0,
                  "toothed": 0,
                  "backbone": 1,
                  "breathes": 1,
                  "venomous": 0,
                  "fins": 0,
                  "legs": 4,
                  "tail": 1,
                  "domestic": 0,
                  "catsize": 1,
                  "type": 3,
                  "_deepnote_index_column": 90
                },
                {
                  "animal name": "tuatara",
                  "hair": 0,
                  "feathers": 0,
                  "eggs": 1,
                  "milk": 0,
                  "airborne": 0,
                  "aquatic": 0,
                  "predator": 1,
                  "toothed": 1,
                  "backbone": 1,
                  "breathes": 1,
                  "venomous": 0,
                  "fins": 0,
                  "legs": 4,
                  "tail": 1,
                  "domestic": 0,
                  "catsize": 0,
                  "type": 3,
                  "_deepnote_index_column": 91
                },
                {
                  "animal name": "tuna",
                  "hair": 0,
                  "feathers": 0,
                  "eggs": 1,
                  "milk": 0,
                  "airborne": 0,
                  "aquatic": 1,
                  "predator": 1,
                  "toothed": 1,
                  "backbone": 1,
                  "breathes": 0,
                  "venomous": 0,
                  "fins": 1,
                  "legs": 0,
                  "tail": 1,
                  "domestic": 0,
                  "catsize": 1,
                  "type": 4,
                  "_deepnote_index_column": 92
                },
                {
                  "animal name": "vampire",
                  "hair": 1,
                  "feathers": 0,
                  "eggs": 0,
                  "milk": 1,
                  "airborne": 1,
                  "aquatic": 0,
                  "predator": 0,
                  "toothed": 1,
                  "backbone": 1,
                  "breathes": 1,
                  "venomous": 0,
                  "fins": 0,
                  "legs": 2,
                  "tail": 1,
                  "domestic": 0,
                  "catsize": 0,
                  "type": 1,
                  "_deepnote_index_column": 93
                },
                {
                  "animal name": "vole",
                  "hair": 1,
                  "feathers": 0,
                  "eggs": 0,
                  "milk": 1,
                  "airborne": 0,
                  "aquatic": 0,
                  "predator": 0,
                  "toothed": 1,
                  "backbone": 1,
                  "breathes": 1,
                  "venomous": 0,
                  "fins": 0,
                  "legs": 4,
                  "tail": 1,
                  "domestic": 0,
                  "catsize": 0,
                  "type": 1,
                  "_deepnote_index_column": 94
                },
                {
                  "animal name": "vulture",
                  "hair": 0,
                  "feathers": 1,
                  "eggs": 1,
                  "milk": 0,
                  "airborne": 1,
                  "aquatic": 0,
                  "predator": 1,
                  "toothed": 0,
                  "backbone": 1,
                  "breathes": 1,
                  "venomous": 0,
                  "fins": 0,
                  "legs": 2,
                  "tail": 1,
                  "domestic": 0,
                  "catsize": 1,
                  "type": 2,
                  "_deepnote_index_column": 95
                },
                {
                  "animal name": "wallaby",
                  "hair": 1,
                  "feathers": 0,
                  "eggs": 0,
                  "milk": 1,
                  "airborne": 0,
                  "aquatic": 0,
                  "predator": 0,
                  "toothed": 1,
                  "backbone": 1,
                  "breathes": 1,
                  "venomous": 0,
                  "fins": 0,
                  "legs": 2,
                  "tail": 1,
                  "domestic": 0,
                  "catsize": 1,
                  "type": 1,
                  "_deepnote_index_column": 96
                },
                {
                  "animal name": "wasp",
                  "hair": 1,
                  "feathers": 0,
                  "eggs": 1,
                  "milk": 0,
                  "airborne": 1,
                  "aquatic": 0,
                  "predator": 0,
                  "toothed": 0,
                  "backbone": 0,
                  "breathes": 1,
                  "venomous": 1,
                  "fins": 0,
                  "legs": 6,
                  "tail": 0,
                  "domestic": 0,
                  "catsize": 0,
                  "type": 6,
                  "_deepnote_index_column": 97
                },
                {
                  "animal name": "wolf",
                  "hair": 1,
                  "feathers": 0,
                  "eggs": 0,
                  "milk": 1,
                  "airborne": 0,
                  "aquatic": 0,
                  "predator": 1,
                  "toothed": 1,
                  "backbone": 1,
                  "breathes": 1,
                  "venomous": 0,
                  "fins": 0,
                  "legs": 4,
                  "tail": 1,
                  "domestic": 0,
                  "catsize": 1,
                  "type": 1,
                  "_deepnote_index_column": 98
                },
                {
                  "animal name": "worm",
                  "hair": 0,
                  "feathers": 0,
                  "eggs": 1,
                  "milk": 0,
                  "airborne": 0,
                  "aquatic": 0,
                  "predator": 0,
                  "toothed": 0,
                  "backbone": 0,
                  "breathes": 1,
                  "venomous": 0,
                  "fins": 0,
                  "legs": 0,
                  "tail": 0,
                  "domestic": 0,
                  "catsize": 0,
                  "type": 7,
                  "_deepnote_index_column": 99
                },
                {
                  "animal name": "wren",
                  "hair": 0,
                  "feathers": 1,
                  "eggs": 1,
                  "milk": 0,
                  "airborne": 1,
                  "aquatic": 0,
                  "predator": 0,
                  "toothed": 0,
                  "backbone": 1,
                  "breathes": 1,
                  "venomous": 0,
                  "fins": 0,
                  "legs": 2,
                  "tail": 1,
                  "domestic": 0,
                  "catsize": 0,
                  "type": 2,
                  "_deepnote_index_column": 100
                }
              ]
            },
            "text/plain": "    animal name  hair  feathers  eggs  milk  airborne  aquatic  predator  \\\n0      aardvark     1         0     0     1         0        0         1   \n1      antelope     1         0     0     1         0        0         0   \n2          bass     0         0     1     0         0        1         1   \n3          bear     1         0     0     1         0        0         1   \n4          boar     1         0     0     1         0        0         1   \n..          ...   ...       ...   ...   ...       ...      ...       ...   \n96      wallaby     1         0     0     1         0        0         0   \n97         wasp     1         0     1     0         1        0         0   \n98         wolf     1         0     0     1         0        0         1   \n99         worm     0         0     1     0         0        0         0   \n100        wren     0         1     1     0         1        0         0   \n\n     toothed  backbone  breathes  venomous  fins  legs  tail  domestic  \\\n0          1         1         1         0     0     4     0         0   \n1          1         1         1         0     0     4     1         0   \n2          1         1         0         0     1     0     1         0   \n3          1         1         1         0     0     4     0         0   \n4          1         1         1         0     0     4     1         0   \n..       ...       ...       ...       ...   ...   ...   ...       ...   \n96         1         1         1         0     0     2     1         0   \n97         0         0         1         1     0     6     0         0   \n98         1         1         1         0     0     4     1         0   \n99         0         0         1         0     0     0     0         0   \n100        0         1         1         0     0     2     1         0   \n\n     catsize  type  \n0          1     1  \n1          1     1  \n2          0     4  \n3          1     1  \n4          1     1  \n..       ...   ...  \n96         1     1  \n97         0     6  \n98         1     1  \n99         0     7  \n100        0     2  \n\n[101 rows x 18 columns]",
            "text/html": "<div>\n<style scoped>\n    .dataframe tbody tr th:only-of-type {\n        vertical-align: middle;\n    }\n\n    .dataframe tbody tr th {\n        vertical-align: top;\n    }\n\n    .dataframe thead th {\n        text-align: right;\n    }\n</style>\n<table border=\"1\" class=\"dataframe\">\n  <thead>\n    <tr style=\"text-align: right;\">\n      <th></th>\n      <th>animal name</th>\n      <th>hair</th>\n      <th>feathers</th>\n      <th>eggs</th>\n      <th>milk</th>\n      <th>airborne</th>\n      <th>aquatic</th>\n      <th>predator</th>\n      <th>toothed</th>\n      <th>backbone</th>\n      <th>breathes</th>\n      <th>venomous</th>\n      <th>fins</th>\n      <th>legs</th>\n      <th>tail</th>\n      <th>domestic</th>\n      <th>catsize</th>\n      <th>type</th>\n    </tr>\n  </thead>\n  <tbody>\n    <tr>\n      <th>0</th>\n      <td>aardvark</td>\n      <td>1</td>\n      <td>0</td>\n      <td>0</td>\n      <td>1</td>\n      <td>0</td>\n      <td>0</td>\n      <td>1</td>\n      <td>1</td>\n      <td>1</td>\n      <td>1</td>\n      <td>0</td>\n      <td>0</td>\n      <td>4</td>\n      <td>0</td>\n      <td>0</td>\n      <td>1</td>\n      <td>1</td>\n    </tr>\n    <tr>\n      <th>1</th>\n      <td>antelope</td>\n      <td>1</td>\n      <td>0</td>\n      <td>0</td>\n      <td>1</td>\n      <td>0</td>\n      <td>0</td>\n      <td>0</td>\n      <td>1</td>\n      <td>1</td>\n      <td>1</td>\n      <td>0</td>\n      <td>0</td>\n      <td>4</td>\n      <td>1</td>\n      <td>0</td>\n      <td>1</td>\n      <td>1</td>\n    </tr>\n    <tr>\n      <th>2</th>\n      <td>bass</td>\n      <td>0</td>\n      <td>0</td>\n      <td>1</td>\n      <td>0</td>\n      <td>0</td>\n      <td>1</td>\n      <td>1</td>\n      <td>1</td>\n      <td>1</td>\n      <td>0</td>\n      <td>0</td>\n      <td>1</td>\n      <td>0</td>\n      <td>1</td>\n      <td>0</td>\n      <td>0</td>\n      <td>4</td>\n    </tr>\n    <tr>\n      <th>3</th>\n      <td>bear</td>\n      <td>1</td>\n      <td>0</td>\n      <td>0</td>\n      <td>1</td>\n      <td>0</td>\n      <td>0</td>\n      <td>1</td>\n      <td>1</td>\n      <td>1</td>\n      <td>1</td>\n      <td>0</td>\n      <td>0</td>\n      <td>4</td>\n      <td>0</td>\n      <td>0</td>\n      <td>1</td>\n      <td>1</td>\n    </tr>\n    <tr>\n      <th>4</th>\n      <td>boar</td>\n      <td>1</td>\n      <td>0</td>\n      <td>0</td>\n      <td>1</td>\n      <td>0</td>\n      <td>0</td>\n      <td>1</td>\n      <td>1</td>\n      <td>1</td>\n      <td>1</td>\n      <td>0</td>\n      <td>0</td>\n      <td>4</td>\n      <td>1</td>\n      <td>0</td>\n      <td>1</td>\n      <td>1</td>\n    </tr>\n    <tr>\n      <th>...</th>\n      <td>...</td>\n      <td>...</td>\n      <td>...</td>\n      <td>...</td>\n      <td>...</td>\n      <td>...</td>\n      <td>...</td>\n      <td>...</td>\n      <td>...</td>\n      <td>...</td>\n      <td>...</td>\n      <td>...</td>\n      <td>...</td>\n      <td>...</td>\n      <td>...</td>\n      <td>...</td>\n      <td>...</td>\n      <td>...</td>\n    </tr>\n    <tr>\n      <th>96</th>\n      <td>wallaby</td>\n      <td>1</td>\n      <td>0</td>\n      <td>0</td>\n      <td>1</td>\n      <td>0</td>\n      <td>0</td>\n      <td>0</td>\n      <td>1</td>\n      <td>1</td>\n      <td>1</td>\n      <td>0</td>\n      <td>0</td>\n      <td>2</td>\n      <td>1</td>\n      <td>0</td>\n      <td>1</td>\n      <td>1</td>\n    </tr>\n    <tr>\n      <th>97</th>\n      <td>wasp</td>\n      <td>1</td>\n      <td>0</td>\n      <td>1</td>\n      <td>0</td>\n      <td>1</td>\n      <td>0</td>\n      <td>0</td>\n      <td>0</td>\n      <td>0</td>\n      <td>1</td>\n      <td>1</td>\n      <td>0</td>\n      <td>6</td>\n      <td>0</td>\n      <td>0</td>\n      <td>0</td>\n      <td>6</td>\n    </tr>\n    <tr>\n      <th>98</th>\n      <td>wolf</td>\n      <td>1</td>\n      <td>0</td>\n      <td>0</td>\n      <td>1</td>\n      <td>0</td>\n      <td>0</td>\n      <td>1</td>\n      <td>1</td>\n      <td>1</td>\n      <td>1</td>\n      <td>0</td>\n      <td>0</td>\n      <td>4</td>\n      <td>1</td>\n      <td>0</td>\n      <td>1</td>\n      <td>1</td>\n    </tr>\n    <tr>\n      <th>99</th>\n      <td>worm</td>\n      <td>0</td>\n      <td>0</td>\n      <td>1</td>\n      <td>0</td>\n      <td>0</td>\n      <td>0</td>\n      <td>0</td>\n      <td>0</td>\n      <td>0</td>\n      <td>1</td>\n      <td>0</td>\n      <td>0</td>\n      <td>0</td>\n      <td>0</td>\n      <td>0</td>\n      <td>0</td>\n      <td>7</td>\n    </tr>\n    <tr>\n      <th>100</th>\n      <td>wren</td>\n      <td>0</td>\n      <td>1</td>\n      <td>1</td>\n      <td>0</td>\n      <td>1</td>\n      <td>0</td>\n      <td>0</td>\n      <td>0</td>\n      <td>1</td>\n      <td>1</td>\n      <td>0</td>\n      <td>0</td>\n      <td>2</td>\n      <td>1</td>\n      <td>0</td>\n      <td>0</td>\n      <td>2</td>\n    </tr>\n  </tbody>\n</table>\n<p>101 rows × 18 columns</p>\n</div>"
          },
          "metadata": {}
        }
      ],
      "execution_count": 35
    },
    {
      "cell_type": "code",
      "source": "#next \nx_train, x_test, y_train, y_test = train_test_split(df_zoo[['hair','feathers','eggs','milk']].values, df_zoo[\"type\"]  , test_size= 0.2, random_state= 0)\n\nclf = tree.DecisionTreeClassifier()\nclf = clf.fit(x_train, y_train)\ny_pred = clf.predict(x_test)\n\nscore= clf.score(x_test, y_test)\nscore",
      "metadata": {
        "tags": [],
        "cell_id": "00013-b00288bb-ae01-4fd3-a495-7b05add4771d",
        "deepnote_to_be_reexecuted": false,
        "source_hash": "30f8d335",
        "execution_start": 1619620807456,
        "execution_millis": 12,
        "deepnote_cell_type": "code"
      },
      "outputs": [
        {
          "output_type": "execute_result",
          "execution_count": 48,
          "data": {
            "text/plain": "0.7619047619047619"
          },
          "metadata": {}
        }
      ],
      "execution_count": 48
    },
    {
      "cell_type": "code",
      "source": "#next 4\nx_train, x_test, y_train, y_test = train_test_split(df_zoo[['eggs','milk','airborne','aquatic','predator','toothed','backbone']].values, df_zoo[\"type\"]  , test_size= 0.2, random_state= 0)\n\nclf = tree.DecisionTreeClassifier()\nclf = clf.fit(x_train, y_train)\ny_pred = clf.predict(x_test)\n\nscore= clf.score(x_test, y_test)\nscore",
      "metadata": {
        "tags": [],
        "cell_id": "00014-c3643500-5ba1-4ba9-8c77-68743d48bd96",
        "deepnote_to_be_reexecuted": false,
        "source_hash": "d71ed41e",
        "execution_start": 1619620813225,
        "execution_millis": 9,
        "deepnote_cell_type": "code"
      },
      "outputs": [
        {
          "output_type": "execute_result",
          "execution_count": 49,
          "data": {
            "text/plain": "0.9047619047619048"
          },
          "metadata": {}
        }
      ],
      "execution_count": 49
    },
    {
      "cell_type": "code",
      "source": "#last 5\nx_train, x_test, y_train, y_test = train_test_split(df_zoo[['fins','legs','tail','domestic','catsize']].values, df_zoo[\"type\"]  , test_size= 0.2, random_state= 0)\n\nclf = tree.DecisionTreeClassifier()\nclf = clf.fit(x_train, y_train)\ny_pred = clf.predict(x_test)\n\nscore= clf.score(x_test, y_test)\nscore",
      "metadata": {
        "tags": [],
        "cell_id": "00015-22005d23-e49b-441f-991e-92aacbbe88f8",
        "deepnote_to_be_reexecuted": false,
        "source_hash": "3e04c1b2",
        "execution_start": 1619620869583,
        "execution_millis": 19,
        "deepnote_cell_type": "code"
      },
      "outputs": [
        {
          "output_type": "execute_result",
          "execution_count": 50,
          "data": {
            "text/plain": "0.8095238095238095"
          },
          "metadata": {}
        }
      ],
      "execution_count": 50
    },
    {
      "cell_type": "code",
      "source": "#tree.plot_tree(clf, feature_names =df_zoo[['fins','legs','tail','domestic','catsize']].values , class_names= df_zoo[\"type\"], filled = True) ",
      "metadata": {
        "tags": [],
        "cell_id": "00016-003a6e14-57d5-4aab-b31e-b8a3200c34a3",
        "deepnote_to_be_reexecuted": false,
        "source_hash": "2daa0cfb",
        "execution_start": 1619621560280,
        "execution_millis": 147,
        "deepnote_cell_type": "code"
      },
      "outputs": [
        {
          "output_type": "error",
          "ename": "TypeError",
          "evalue": "can only concatenate str (not \"numpy.int64\") to str",
          "traceback": [
            "\u001b[0;31m---------------------------------------------------------------------------\u001b[0m",
            "\u001b[0;31mTypeError\u001b[0m                                 Traceback (most recent call last)",
            "\u001b[0;32m<ipython-input-53-778cf22a2677>\u001b[0m in \u001b[0;36m<module>\u001b[0;34m\u001b[0m\n\u001b[0;32m----> 1\u001b[0;31m \u001b[0mtree\u001b[0m\u001b[0;34m.\u001b[0m\u001b[0mplot_tree\u001b[0m\u001b[0;34m(\u001b[0m\u001b[0mclf\u001b[0m\u001b[0;34m,\u001b[0m \u001b[0mfeature_names\u001b[0m \u001b[0;34m=\u001b[0m\u001b[0mdf_zoo\u001b[0m\u001b[0;34m[\u001b[0m\u001b[0;34m[\u001b[0m\u001b[0;34m'fins'\u001b[0m\u001b[0;34m,\u001b[0m\u001b[0;34m'legs'\u001b[0m\u001b[0;34m,\u001b[0m\u001b[0;34m'tail'\u001b[0m\u001b[0;34m,\u001b[0m\u001b[0;34m'domestic'\u001b[0m\u001b[0;34m,\u001b[0m\u001b[0;34m'catsize'\u001b[0m\u001b[0;34m]\u001b[0m\u001b[0;34m]\u001b[0m\u001b[0;34m.\u001b[0m\u001b[0mvalues\u001b[0m \u001b[0;34m,\u001b[0m \u001b[0mclass_names\u001b[0m\u001b[0;34m=\u001b[0m \u001b[0mdf_zoo\u001b[0m\u001b[0;34m[\u001b[0m\u001b[0;34m\"type\"\u001b[0m\u001b[0;34m]\u001b[0m\u001b[0;34m,\u001b[0m \u001b[0mfilled\u001b[0m \u001b[0;34m=\u001b[0m \u001b[0;32mTrue\u001b[0m\u001b[0;34m)\u001b[0m\u001b[0;34m\u001b[0m\u001b[0;34m\u001b[0m\u001b[0m\n\u001b[0m",
            "\u001b[0;32m/shared-libs/python3.7/py/lib/python3.7/site-packages/sklearn/utils/validation.py\u001b[0m in \u001b[0;36minner_f\u001b[0;34m(*args, **kwargs)\u001b[0m\n\u001b[1;32m     61\u001b[0m             \u001b[0mextra_args\u001b[0m \u001b[0;34m=\u001b[0m \u001b[0mlen\u001b[0m\u001b[0;34m(\u001b[0m\u001b[0margs\u001b[0m\u001b[0;34m)\u001b[0m \u001b[0;34m-\u001b[0m \u001b[0mlen\u001b[0m\u001b[0;34m(\u001b[0m\u001b[0mall_args\u001b[0m\u001b[0;34m)\u001b[0m\u001b[0;34m\u001b[0m\u001b[0;34m\u001b[0m\u001b[0m\n\u001b[1;32m     62\u001b[0m             \u001b[0;32mif\u001b[0m \u001b[0mextra_args\u001b[0m \u001b[0;34m<=\u001b[0m \u001b[0;36m0\u001b[0m\u001b[0;34m:\u001b[0m\u001b[0;34m\u001b[0m\u001b[0;34m\u001b[0m\u001b[0m\n\u001b[0;32m---> 63\u001b[0;31m                 \u001b[0;32mreturn\u001b[0m \u001b[0mf\u001b[0m\u001b[0;34m(\u001b[0m\u001b[0;34m*\u001b[0m\u001b[0margs\u001b[0m\u001b[0;34m,\u001b[0m \u001b[0;34m**\u001b[0m\u001b[0mkwargs\u001b[0m\u001b[0;34m)\u001b[0m\u001b[0;34m\u001b[0m\u001b[0;34m\u001b[0m\u001b[0m\n\u001b[0m\u001b[1;32m     64\u001b[0m \u001b[0;34m\u001b[0m\u001b[0m\n\u001b[1;32m     65\u001b[0m             \u001b[0;31m# extra_args > 0\u001b[0m\u001b[0;34m\u001b[0m\u001b[0;34m\u001b[0m\u001b[0;34m\u001b[0m\u001b[0m\n",
            "\u001b[0;32m/shared-libs/python3.7/py/lib/python3.7/site-packages/sklearn/tree/_export.py\u001b[0m in \u001b[0;36mplot_tree\u001b[0;34m(decision_tree, max_depth, feature_names, class_names, label, filled, impurity, node_ids, proportion, rotate, rounded, precision, ax, fontsize)\u001b[0m\n\u001b[1;32m    192\u001b[0m         \u001b[0mproportion\u001b[0m\u001b[0;34m=\u001b[0m\u001b[0mproportion\u001b[0m\u001b[0;34m,\u001b[0m \u001b[0mrotate\u001b[0m\u001b[0;34m=\u001b[0m\u001b[0mrotate\u001b[0m\u001b[0;34m,\u001b[0m \u001b[0mrounded\u001b[0m\u001b[0;34m=\u001b[0m\u001b[0mrounded\u001b[0m\u001b[0;34m,\u001b[0m\u001b[0;34m\u001b[0m\u001b[0;34m\u001b[0m\u001b[0m\n\u001b[1;32m    193\u001b[0m         precision=precision, fontsize=fontsize)\n\u001b[0;32m--> 194\u001b[0;31m     \u001b[0;32mreturn\u001b[0m \u001b[0mexporter\u001b[0m\u001b[0;34m.\u001b[0m\u001b[0mexport\u001b[0m\u001b[0;34m(\u001b[0m\u001b[0mdecision_tree\u001b[0m\u001b[0;34m,\u001b[0m \u001b[0max\u001b[0m\u001b[0;34m=\u001b[0m\u001b[0max\u001b[0m\u001b[0;34m)\u001b[0m\u001b[0;34m\u001b[0m\u001b[0;34m\u001b[0m\u001b[0m\n\u001b[0m\u001b[1;32m    195\u001b[0m \u001b[0;34m\u001b[0m\u001b[0m\n\u001b[1;32m    196\u001b[0m \u001b[0;34m\u001b[0m\u001b[0m\n",
            "\u001b[0;32m/shared-libs/python3.7/py/lib/python3.7/site-packages/sklearn/tree/_export.py\u001b[0m in \u001b[0;36mexport\u001b[0;34m(self, decision_tree, ax)\u001b[0m\n\u001b[1;32m    583\u001b[0m         \u001b[0max\u001b[0m\u001b[0;34m.\u001b[0m\u001b[0mset_axis_off\u001b[0m\u001b[0;34m(\u001b[0m\u001b[0;34m)\u001b[0m\u001b[0;34m\u001b[0m\u001b[0;34m\u001b[0m\u001b[0m\n\u001b[1;32m    584\u001b[0m         my_tree = self._make_tree(0, decision_tree.tree_,\n\u001b[0;32m--> 585\u001b[0;31m                                   decision_tree.criterion)\n\u001b[0m\u001b[1;32m    586\u001b[0m         \u001b[0mdraw_tree\u001b[0m \u001b[0;34m=\u001b[0m \u001b[0mbuchheim\u001b[0m\u001b[0;34m(\u001b[0m\u001b[0mmy_tree\u001b[0m\u001b[0;34m)\u001b[0m\u001b[0;34m\u001b[0m\u001b[0;34m\u001b[0m\u001b[0m\n\u001b[1;32m    587\u001b[0m \u001b[0;34m\u001b[0m\u001b[0m\n",
            "\u001b[0;32m/shared-libs/python3.7/py/lib/python3.7/site-packages/sklearn/tree/_export.py\u001b[0m in \u001b[0;36m_make_tree\u001b[0;34m(self, node_id, et, criterion, depth)\u001b[0m\n\u001b[1;32m    563\u001b[0m         \u001b[0;31m# traverses _tree.Tree recursively, builds intermediate\u001b[0m\u001b[0;34m\u001b[0m\u001b[0;34m\u001b[0m\u001b[0;34m\u001b[0m\u001b[0m\n\u001b[1;32m    564\u001b[0m         \u001b[0;31m# \"_reingold_tilford.Tree\" object\u001b[0m\u001b[0;34m\u001b[0m\u001b[0;34m\u001b[0m\u001b[0;34m\u001b[0m\u001b[0m\n\u001b[0;32m--> 565\u001b[0;31m         \u001b[0mname\u001b[0m \u001b[0;34m=\u001b[0m \u001b[0mself\u001b[0m\u001b[0;34m.\u001b[0m\u001b[0mnode_to_str\u001b[0m\u001b[0;34m(\u001b[0m\u001b[0met\u001b[0m\u001b[0;34m,\u001b[0m \u001b[0mnode_id\u001b[0m\u001b[0;34m,\u001b[0m \u001b[0mcriterion\u001b[0m\u001b[0;34m=\u001b[0m\u001b[0mcriterion\u001b[0m\u001b[0;34m)\u001b[0m\u001b[0;34m\u001b[0m\u001b[0;34m\u001b[0m\u001b[0m\n\u001b[0m\u001b[1;32m    566\u001b[0m         if (et.children_left[node_id] != _tree.TREE_LEAF\n\u001b[1;32m    567\u001b[0m                 and (self.max_depth is None or depth <= self.max_depth)):\n",
            "\u001b[0;32m/shared-libs/python3.7/py/lib/python3.7/site-packages/sklearn/tree/_export.py\u001b[0m in \u001b[0;36mnode_to_str\u001b[0;34m(self, tree, node_id, criterion)\u001b[0m\n\u001b[1;32m    358\u001b[0m                                           \u001b[0mnp\u001b[0m\u001b[0;34m.\u001b[0m\u001b[0margmax\u001b[0m\u001b[0;34m(\u001b[0m\u001b[0mvalue\u001b[0m\u001b[0;34m)\u001b[0m\u001b[0;34m,\u001b[0m\u001b[0;34m\u001b[0m\u001b[0;34m\u001b[0m\u001b[0m\n\u001b[1;32m    359\u001b[0m                                           characters[2])\n\u001b[0;32m--> 360\u001b[0;31m             \u001b[0mnode_string\u001b[0m \u001b[0;34m+=\u001b[0m \u001b[0mclass_name\u001b[0m\u001b[0;34m\u001b[0m\u001b[0;34m\u001b[0m\u001b[0m\n\u001b[0m\u001b[1;32m    361\u001b[0m \u001b[0;34m\u001b[0m\u001b[0m\n\u001b[1;32m    362\u001b[0m         \u001b[0;31m# Clean up any trailing newlines\u001b[0m\u001b[0;34m\u001b[0m\u001b[0;34m\u001b[0m\u001b[0;34m\u001b[0m\u001b[0m\n",
            "\u001b[0;31mTypeError\u001b[0m: can only concatenate str (not \"numpy.int64\") to str"
          ]
        },
        {
          "data": {
            "text/plain": "<Figure size 432x288 with 1 Axes>",
            "image/png": "[encoded data removed]"
          },
          "metadata": {
            "image/png": {
              "width": 698,
              "height": 463
            }
          },
          "output_type": "display_data"
        }
      ],
      "execution_count": 53
    },
    {
      "cell_type": "markdown",
      "source": "<a style='text-decoration:none;line-height:16px;display:flex;color:#5B5B62;padding:10px;justify-content:end;' href='https://deepnote.com?utm_source=created-in-deepnote-cell&projectId=71bc9e0c-64cf-4f1c-ae0d-8f3f391206ba' target=\"_blank\">\n<img alt='Created in deepnote.com' style='display:inline;max-height:16px;margin:0px;margin-right:7.5px;' src='data:image/svg+xml;base64,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' > </img>\nCreated in <span style='font-weight:600;margin-left:4px;'>Deepnote</span></a>",
      "metadata": {
        "tags": [],
        "created_in_deepnote_cell": true,
        "deepnote_cell_type": "markdown"
      }
    }
  ],
  "nbformat": 4,
  "nbformat_minor": 2,
  "metadata": {
    "orig_nbformat": 2,
    "deepnote": {
      "is_reactive": false
    },
    "deepnote_notebook_id": "bd585729-b25a-4790-9fad-19cf7226797d",
    "deepnote_execution_queue": []
  }
}