{
 "cells": [
  {
   "cell_type": "markdown",
   "metadata": {},
   "source": [
    "**Exercise 2.2 (optional):** Write code that classifies a given amount of money (which you store in a variable `amount`), specified in cents, as greater monetary units. Your code lists the monetary equivalent in dollars (100 ct), quarters (25 ct), dimes (10 ct), nickels (5 ct), and pennies (1 ct). Your program should report the maximum number of dollars that fit in the amount, then the maximum number of quarters that fit in the remainder after you subtract the dollars, then the maximum number of dimes that fit in the remainder after you subtract the dollars and quarters, and so on for nickels and pennies. The result is that you express the amount as the minimum number of coins needed.  \n",
    "\n",
    "**Can you do it again? Would you change anything from the last time you had to do this?**"
   ]
  },
  {
   "cell_type": "code",
   "execution_count": 2,
   "metadata": {},
   "outputs": [
    {
     "name": "stdout",
     "output_type": "stream",
     "text": [
      "your dollars=2\n",
      "your quarters=2\n"
     ]
    }
   ],
   "source": [
    "def money(amount):\n",
    "    quarters,dimes,nickels,pennies=0,0,0,0\n",
    "    remainder=2\n",
    "    \n",
    "    if amount//100> 0:\n",
    "        dollars= amount//100\n",
    "        amount= amount-dollars*100\n",
    "        print(f\"your dollars={dollars}\")\n",
    "    \n",
    "    if amount//25>0:\n",
    "        quarters= amount//25\n",
    "        amount= amount- quarters*25\n",
    "        print(f\"your quarters={quarters}\")\n",
    "    \n",
    "    if amount//10>0:\n",
    "        dimes= amount//10\n",
    "        amount= amount- dimes*10\n",
    "        print(f\"your dimes={dimes}\")\n",
    "           \n",
    "    if amount//5> 0:\n",
    "        nickels= amount//5\n",
    "        amount= amount- nickels*5\n",
    "        print(f\"your nickels={nickels}\")\n",
    "   \n",
    "    if 5>amount>=1:\n",
    "        pennies= amount\n",
    "        print(f\"your pennies={pennies}\")\n",
    "   \n",
    "    return\n",
    "\n",
    "\n",
    "            \n",
    "        "
   ]
  },
  {
   "cell_type": "markdown",
   "metadata": {},
   "source": [
    "**Exercise (optional)**: The factorial of a positive integer is that integer, multiplied by all positive integers that are lower (excluding zero). You write the factorial as the number with an exclamation mark after it. E.g., the factorial of 5 is `5! = 5 * 4 * 3 * 2 * 1 = 120`. Write a function that calculates the factorial of its (integer) parameter. Test your function for different parameter values, but do not use very large numbers as factorials grow exponentially. Hint: to do this with a `while` loop, you need at least one more variable."
   ]
  },
  {
   "cell_type": "code",
   "execution_count": 36,
   "metadata": {},
   "outputs": [
    {
     "name": "stdout",
     "output_type": "stream",
     "text": [
      "2\n"
     ]
    }
   ],
   "source": [
    "# Factorial\n",
    "def factorial(number): \n",
    "    a=1\n",
    "    while number and number-1>0:\n",
    "        for i in range(number-1):\n",
    "            a = number*a\n",
    "            number= number-1\n",
    "          \n",
    "\n",
    "        return(a)\n",
    "    \n",
    "print(factorial(2))\n",
    "\n",
    "\n"
   ]
  },
  {
   "cell_type": "markdown",
   "metadata": {},
   "source": [
    "**Exercise 5.1 (optional):** Write a function that prints a multiplication table for digits 1 to 10. A multiplication table for the numbers 1 to `num = 3` looks as follows:\n",
    "\n",
    "`. |  1  2  3`<br>\n",
    "`------------`<br>\n",
    "`1 |  1  2  3`<br>\n",
    "`2 |  2  4  6`<br>\n",
    "`3 |  3  6  9`\n",
    "\n",
    "So the labels on the rows are multiplied by the labels on the columns, and the result is shown in the cell that is on that row/column combination. "
   ]
  },
  {
   "cell_type": "code",
   "execution_count": 23,
   "metadata": {},
   "outputs": [
    {
     "name": "stdout",
     "output_type": "stream",
     "text": [
      ". | 1 2 3\n",
      "---------\n",
      "1 | 1 2 3\n",
      "2 | 2 4 6\n",
      "3 | 3 6 9\n"
     ]
    }
   ],
   "source": [
    "# Print multiplication table\n",
    "def print_multiplication_table(n):\n",
    "    a= (\". | \" + str([i for i in range(1,n+1)]))\n",
    "    print(a.replace(\"[\",\"\").replace(\"]\",\"\").replace(\",\",\"\"))\n",
    "    print(n*3*'-',sep=' ')\n",
    "    for i in range(1,n+1):\n",
    "        b = [i,\"|\"]\n",
    "        b.extend(list(range(i,i*n+1,i)))\n",
    "        print(*b,sep=\" \")\n",
    "    \n",
    "    return\n",
    "    \n",
    "    \n",
    "    \n",
    "        \n",
    "print_multiplication_table(3)"
   ]
  },
  {
   "cell_type": "markdown",
   "metadata": {},
   "source": [
    "**Exercise 5.2 (optional):** If you did the previous exercise with a `while` loop, then do it again with a `for` loop. If you did it with a `for` loop, then do it again with a `while` loop. If you did not use a loop at all, you should be ashamed of yourself."
   ]
  },
  {
   "cell_type": "code",
   "execution_count": null,
   "metadata": {},
   "outputs": [],
   "source": [
    "# Print multiplication table\n",
    "def print_multiplication_table(n):\n",
    "    i=1\n",
    "    a= (\". | \" + str([i for i in range(1,n+1)]))\n",
    "    print(a.replace(\"[\",\"\").replace(\"]\",\"\").replace(\",\",\"\"))\n",
    "    print(n*3*'-',sep=' ')\n",
    "    while i<n+1:\n",
    "        b = [i,\"|\"]\n",
    "        b.extend(list(range(i,i*n+1,i)))\n",
    "        print(*b,sep=\" \")\n",
    "        i += 1\n",
    "    return\n",
    "\n",
    "print_multiplication_table(6)"
   ]
  },
  {
   "cell_type": "markdown",
   "metadata": {},
   "source": [
    "**Exercise 6.5 (optional):** Typical autocorrect functions are the following: \n",
    "1. if a word starts with two capitals, followed by a lower-case letter, the second capital is made lower case; \n",
    "2. if a sentence contains a word that is immediately followed by the same word, the second occurrence is removed; \n",
    "3. if a sentence starts with a lower-case letter, that letter is turned into a capital; \n",
    "4. if a word consists entirely of capitals, except for the first letter which is lower case, then the case of the letters in the word is reversed; and \n",
    "5. if the sentence contains the name of a day (in English) which does not start with a capital, the first letter is turned into a capital. \n",
    "\n",
    "Write a program that takes a sentence and makes these auto-corrections."
   ]
  },
  {
   "cell_type": "code",
   "execution_count": 42,
   "metadata": {},
   "outputs": [
    {
     "name": "stdout",
     "output_type": "stream",
     "text": [
      "as it turned out our chance meeting with Reverend Arthur Belling was to change our whole way of life and every sunday we'd hurry along to St Loony up the Cream Bun and Jam.\n"
     ]
    }
   ],
   "source": [
    "# Autocorrect.\n",
    "sentence = \"as it turned out our chance meeting with REverend aRTHUR BElling was \\\n",
    "was to change our whole way of life, and every sunday we'd hurry along to St lOONY up the Cream BUn and Jam.\"\n",
    "\n",
    "days = ['monday','tuesday','wednesday','thursday','friday','saturday','sunday']\n",
    "\n",
    "\n",
    "\n",
    "sentence.replace(\",\", \"\").replace('/',\"\").replace('  ',\" \").replace(sentence[0],sentence[0].upper()).split()\n",
    "\n",
    "\n",
    "       \n",
    "\n",
    "for word in list:\n",
    "    \n",
    "    if word[0].isupper() and word[1].isupper() and word[2].islower():\n",
    "        word2= word[0] + word[1].lower() + word[2:]\n",
    "        sentence= sentence.replace(word, word2)\n",
    "        list= sentence.replace(\",\", \"\").split()\n",
    "        \n",
    "        \n",
    "    if word[0].islower() and word[1:].isupper():\n",
    "        word2= word[0].upper() + word[1:].lower()\n",
    "        sentence= sentence.replace(word, word2)\n",
    "        list= sentence.split()\n",
    "        \n",
    "        \n",
    "        for day in days:\n",
    "            if day==word.lower():\n",
    "                word = word[0].upper()+word[1:].lower()\n",
    "                sentence= sentence.replace(word, word2)\n",
    "                list= sentence.split()\n",
    "                \n",
    "\n",
    "\n",
    "\n",
    "for i in range(len(list)-1): \n",
    "    if list[i]==list[i-1]:\n",
    "        list.remove(list[i])\n",
    "\n",
    "print(\" \".join(list))\n",
    "    \n",
    "         \n",
    "        \n",
    "    \n",
    "            \n",
    "            \n"
   ]
  },
  {
   "cell_type": "markdown",
   "metadata": {},
   "source": [
    "### Exercise 11.3 (Optional)\n",
    "In this directory you find a file `blakepoems.txt`. Write a program that processes the contents of this file, line by line. It creates an output file in the current working directory called `blkpms.txt`, which has the same contents as `blakepoems.txt`, except that all the vowels are removed (case-insensitively). At the end, display how many characters you read, and how many characters you wrote. If you want to check the contents of `blkpms.txt`, you can either open it in a text editor, or display the first 10 lines or so at the end of your program."
   ]
  },
  {
   "cell_type": "code",
   "execution_count": 46,
   "metadata": {},
   "outputs": [
    {
     "ename": "NameError",
     "evalue": "name 'answer' is not defined",
     "output_type": "error",
     "traceback": [
      "\u001b[1;31m---------------------------------------------------------------------------\u001b[0m",
      "\u001b[1;31mNameError\u001b[0m                                 Traceback (most recent call last)",
      "\u001b[1;32m<ipython-input-46-0c4be077def7>\u001b[0m in \u001b[0;36m<module>\u001b[1;34m\u001b[0m\n\u001b[0;32m      9\u001b[0m     \u001b[0msentences\u001b[0m \u001b[1;33m=\u001b[0m \u001b[0mline\u001b[0m\u001b[1;33m.\u001b[0m\u001b[0mreplace\u001b[0m\u001b[1;33m(\u001b[0m\u001b[1;34m\"?\"\u001b[0m\u001b[1;33m,\u001b[0m\u001b[1;34m\"\"\u001b[0m\u001b[1;33m)\u001b[0m\u001b[1;33m.\u001b[0m\u001b[0mreplace\u001b[0m\u001b[1;33m(\u001b[0m\u001b[1;34m\".\"\u001b[0m\u001b[1;33m,\u001b[0m\u001b[1;34m\"\"\u001b[0m\u001b[1;33m)\u001b[0m\u001b[1;33m.\u001b[0m\u001b[0mreplace\u001b[0m\u001b[1;33m(\u001b[0m\u001b[1;34m\",\"\u001b[0m\u001b[1;33m,\u001b[0m\u001b[1;34m\"\"\u001b[0m\u001b[1;33m)\u001b[0m\u001b[1;33m.\u001b[0m\u001b[0mlower\u001b[0m\u001b[1;33m(\u001b[0m\u001b[1;33m)\u001b[0m\u001b[1;33m.\u001b[0m\u001b[0mstrip\u001b[0m\u001b[1;33m(\u001b[0m\u001b[1;33m)\u001b[0m\u001b[1;33m.\u001b[0m\u001b[0msplit\u001b[0m\u001b[1;33m(\u001b[0m\u001b[1;33m)\u001b[0m\u001b[1;33m\u001b[0m\u001b[1;33m\u001b[0m\u001b[0m\n\u001b[0;32m     10\u001b[0m     \u001b[1;32mfor\u001b[0m \u001b[0mword\u001b[0m \u001b[1;32min\u001b[0m \u001b[0msentences\u001b[0m\u001b[1;33m:\u001b[0m\u001b[1;33m\u001b[0m\u001b[1;33m\u001b[0m\u001b[0m\n\u001b[1;32m---> 11\u001b[1;33m         \u001b[1;32mif\u001b[0m \u001b[0mword\u001b[0m \u001b[1;32mnot\u001b[0m \u001b[1;32min\u001b[0m \u001b[0manswer\u001b[0m\u001b[1;33m:\u001b[0m\u001b[1;33m\u001b[0m\u001b[1;33m\u001b[0m\u001b[0m\n\u001b[0m\u001b[0;32m     12\u001b[0m             \u001b[0manswer\u001b[0m\u001b[1;33m[\u001b[0m\u001b[0mword\u001b[0m\u001b[1;33m]\u001b[0m \u001b[1;33m=\u001b[0m \u001b[1;36m0\u001b[0m\u001b[1;33m\u001b[0m\u001b[1;33m\u001b[0m\u001b[0m\n\u001b[0;32m     13\u001b[0m         \u001b[0manswer\u001b[0m\u001b[1;33m[\u001b[0m\u001b[0mword\u001b[0m\u001b[1;33m]\u001b[0m \u001b[1;33m+=\u001b[0m \u001b[1;36m1\u001b[0m\u001b[1;33m\u001b[0m\u001b[1;33m\u001b[0m\u001b[0m\n",
      "\u001b[1;31mNameError\u001b[0m: name 'answer' is not defined"
     ]
    }
   ],
   "source": [
    "## Your Code Here\n",
    "    \n",
    "f1= open(\"blakepoems.txt\", \"r+\")\n",
    "f2= open(\"blkpms.txt\",\"w+\")       \n",
    "\n",
    "content = {}\n",
    "while True:\n",
    "    line = f1.readline()\n",
    "    if line == \"\":\n",
    "        break\n",
    "    sentences = line.replace(\"?\",\"\").replace(\".\",\"\").replace(\",\",\"\").lower().strip().split()\n",
    "    for word in sentences:\n",
    "        if word not in answer:\n",
    "            answer[word] = 0 \n",
    "        answer[word] += 1\n",
    "\n",
    "    \n",
    "    \n",
    "    f2.write(remove_vowels(line))\n",
    "\n",
    "f2.close()\n",
    "\n",
    "\n",
    "\n",
    "\n",
    "\n",
    "print(answer)"
   ]
  },
  {
   "cell_type": "code",
   "execution_count": null,
   "metadata": {},
   "outputs": [],
   "source": []
  }
 ],
 "metadata": {
  "kernelspec": {
   "display_name": "Python 3",
   "language": "python",
   "name": "python3"
  },
  "language_info": {
   "codemirror_mode": {
    "name": "ipython",
    "version": 3
   },
   "file_extension": ".py",
   "mimetype": "text/x-python",
   "name": "python",
   "nbconvert_exporter": "python",
   "pygments_lexer": "ipython3",
   "version": "3.8.5"
  }
 },
 "nbformat": 4,
 "nbformat_minor": 2
}
