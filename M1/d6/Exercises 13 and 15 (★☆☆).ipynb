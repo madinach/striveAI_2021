{
 "cells": [
  {
   "cell_type": "code",
   "execution_count": null,
   "metadata": {},
   "outputs": [],
   "source": [
    "# Import the needed libraries"
   ]
  },
  {
   "cell_type": "markdown",
   "metadata": {},
   "source": [
    "**13. Create a 10x10 array with random values and find the minimum and maximum values**"
   ]
  },
  {
   "cell_type": "code",
   "execution_count": 17,
   "metadata": {
    "scrolled": true
   },
   "outputs": [
    {
     "name": "stdout",
     "output_type": "stream",
     "text": [
      "your random array:\n",
      " [[-0.68  0.11 -1.56 -0.63 -0.37  0.58 -0.58 -1.19 -0.01 -0.56]\n",
      " [-0.65  0.29  1.33  2.54  0.42  0.64  0.36  1.38 -1.17  0.56]\n",
      " [-1.32  0.11  1.75 -1.09 -0.57  1.21  0.31 -1.23  0.55 -0.01]\n",
      " [-1.17 -0.82  0.75 -0.94  0.93  0.1   0.68 -0.13  0.4  -0.21]\n",
      " [ 0.05 -1.37 -0.1  -1.54 -0.45 -1.95  1.42  1.87  0.46 -0.58]\n",
      " [-0.83  1.86  0.68 -0.63 -0.58 -1.45 -0.51 -0.8  -1.62  0.22]\n",
      " [-1.57 -1.67 -0.17  0.28 -0.88  0.75 -1.07 -0.28  1.15  2.38]\n",
      " [ 1.33  2.24  0.26  0.45 -0.1   0.69  2.91  0.94  1.38 -1.35]\n",
      " [ 2.58 -0.12 -0.25 -0.81 -0.54  0.21 -1.    0.21  0.17 -2.26]\n",
      " [-1.1  -1.64  0.55  1.18 -1.01  0.91 -1.73  0.23 -1.55 -0.04]]\n",
      "max value: 2.91 and min value: -2.26\n"
     ]
    }
   ],
   "source": [
    "import numpy as np\n",
    "x = np.random.normal(size=(10,10)).round(2)\n",
    "print(f\"your random array:\\n {x}\")\n",
    "print(f\"max value: {x.max()} and min value: {x.min()}\")"
   ]
  },
  {
   "cell_type": "markdown",
   "metadata": {},
   "source": [
    "**15. Create a 2d array with 1 on the border and 0 inside**"
   ]
  },
  {
   "cell_type": "code",
   "execution_count": 41,
   "metadata": {},
   "outputs": [
    {
     "name": "stdout",
     "output_type": "stream",
     "text": [
      "[[1. 1. 1. 1.]\n",
      " [1. 0. 0. 1.]\n",
      " [1. 0. 0. 1.]\n",
      " [1. 1. 1. 1.]]\n"
     ]
    }
   ],
   "source": [
    "def border1inside0(a,b):\n",
    "    if a>= 3 and b>= 3:\n",
    "        array0= np.zeros((a,b))\n",
    "        array0[0, :]=1\n",
    "        array0[:, 0] =1\n",
    "        array0[a-1, :]=1\n",
    "        array0[:, b-1]=1\n",
    "        print(array0)\n",
    "        \n",
    "\n",
    "        \n",
    "border1inside0(4,4)"
   ]
  },
  {
   "cell_type": "code",
   "execution_count": null,
   "metadata": {},
   "outputs": [],
   "source": []
  }
 ],
 "metadata": {
  "kernelspec": {
   "display_name": "Python 3",
   "language": "python",
   "name": "python3"
  },
  "language_info": {
   "codemirror_mode": {
    "name": "ipython",
    "version": 3
   },
   "file_extension": ".py",
   "mimetype": "text/x-python",
   "name": "python",
   "nbconvert_exporter": "python",
   "pygments_lexer": "ipython3",
   "version": "3.8.5"
  }
 },
 "nbformat": 4,
 "nbformat_minor": 5
}
