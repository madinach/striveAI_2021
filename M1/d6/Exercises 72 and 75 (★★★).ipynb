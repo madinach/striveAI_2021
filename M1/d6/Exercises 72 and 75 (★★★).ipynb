{
 "cells": [
  {
   "cell_type": "code",
   "execution_count": null,
   "metadata": {
    "slideshow": {
     "slide_type": "slide"
    }
   },
   "outputs": [],
   "source": [
    "# Import the needed libraries"
   ]
  },
  {
   "cell_type": "markdown",
   "metadata": {},
   "source": [
    "**72. How to swap two rows of an array?** "
   ]
  },
  {
   "cell_type": "code",
   "execution_count": 6,
   "metadata": {},
   "outputs": [
    {
     "name": "stdout",
     "output_type": "stream",
     "text": [
      "[[  1 -65   5]\n",
      " [ 52   2  -1]\n",
      " [  2   3   5]]\n"
     ]
    }
   ],
   "source": [
    "import numpy as np\n",
    "array= np.array([[1, -65, 5], [2, 3, 5],[52, 2, -1]])\n",
    "row1_copy= array[1,:].copy()\n",
    "row2_copy= array[2,:].copy()\n",
    "array[1,:]= row2_copy\n",
    "array[2,:]= row1_copy\n",
    "print(array)\n"
   ]
  },
  {
   "cell_type": "markdown",
   "metadata": {},
   "source": [
    "**75. How to compute averages using a sliding window over an array?**"
   ]
  },
  {
   "cell_type": "code",
   "execution_count": 18,
   "metadata": {},
   "outputs": [
    {
     "name": "stdout",
     "output_type": "stream",
     "text": [
      "[  1.         -32.5         17.33333333   0.75         1.\n",
      "   0.33333333   0.28571429  -0.125     ]\n"
     ]
    }
   ],
   "source": [
    "array= np.array([1, -65, 52, 3, 5, 2, 2, -1])\n",
    "numbers= np.arange(1, 9)\n",
    "\n",
    "\n",
    "print(np.divide(array, numbers))"
   ]
  },
  {
   "cell_type": "code",
   "execution_count": null,
   "metadata": {},
   "outputs": [],
   "source": []
  }
 ],
 "metadata": {
  "kernelspec": {
   "display_name": "Python 3",
   "language": "python",
   "name": "python3"
  },
  "language_info": {
   "codemirror_mode": {
    "name": "ipython",
    "version": 3
   },
   "file_extension": ".py",
   "mimetype": "text/x-python",
   "name": "python",
   "nbconvert_exporter": "python",
   "pygments_lexer": "ipython3",
   "version": "3.8.5"
  }
 },
 "nbformat": 4,
 "nbformat_minor": 5
}
