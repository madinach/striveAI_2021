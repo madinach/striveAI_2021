{
 "cells": [
  {
   "cell_type": "markdown",
   "metadata": {
    "code_folding": []
   },
   "source": [
    "# Computer Vision Image annotations"
   ]
  },
  {
   "cell_type": "markdown",
   "metadata": {},
   "source": [
    "### Import statements"
   ]
  },
  {
   "cell_type": "code",
   "execution_count": 1,
   "metadata": {
    "ExecuteTime": {
     "end_time": "2020-02-15T09:14:06.475524Z",
     "start_time": "2020-02-15T09:14:06.427139Z"
    }
   },
   "outputs": [],
   "source": [
    "import cv2\n",
    "import numpy as np"
   ]
  },
  {
   "cell_type": "code",
   "execution_count": 2,
   "metadata": {
    "ExecuteTime": {
     "end_time": "2020-02-15T09:14:07.124720Z",
     "start_time": "2020-02-15T09:14:07.105909Z"
    }
   },
   "outputs": [
    {
     "data": {
      "text/plain": [
       "'4.5.2'"
      ]
     },
     "execution_count": 2,
     "metadata": {},
     "output_type": "execute_result"
    }
   ],
   "source": [
    "cv2.__version__"
   ]
  },
  {
   "cell_type": "markdown",
   "metadata": {},
   "source": [
    "### To edit an image making a copy of it is always a good idea!"
   ]
  },
  {
   "cell_type": "code",
   "execution_count": 5,
   "metadata": {
    "ExecuteTime": {
     "end_time": "2020-02-15T09:35:27.721084Z",
     "start_time": "2020-02-15T09:35:27.716611Z"
    }
   },
   "outputs": [],
   "source": [
    "# Load an image\n",
    "# And make a copy of the original image to avoid manipulating the original image\n",
    "img = cv2.imread('img.jpg')\n",
    "copy_img= img.copy()\n"
   ]
  },
  {
   "cell_type": "markdown",
   "metadata": {},
   "source": [
    "[Hint](# \"Numpy .copy function\") "
   ]
  },
  {
   "cell_type": "markdown",
   "metadata": {},
   "source": [
    "## Drawing"
   ]
  },
  {
   "cell_type": "markdown",
   "metadata": {},
   "source": [
    "### Drawing lines"
   ]
  },
  {
   "cell_type": "code",
   "execution_count": 10,
   "metadata": {
    "ExecuteTime": {
     "end_time": "2020-02-15T09:38:40.721765Z",
     "start_time": "2020-02-15T09:38:39.828422Z"
    }
   },
   "outputs": [],
   "source": [
    "# Draw some lines on top of the image \n",
    "cv2.line(copy_img, (100,1200), (0,600), (0, 0, 0), 10)\n",
    "# Show each channel channel on screen\n",
    "def view(image, name_of_window=\"window\"):\n",
    "    cv2.namedWindow(name_of_window, cv2.WINDOW_NORMAL)\n",
    "    cv2.imshow(name_of_window, image)\n",
    "    cv2.waitKey(0)\n",
    "    cv2.destroyAllWindows()\n",
    "view(copy_img)"
   ]
  },
  {
   "cell_type": "markdown",
   "metadata": {},
   "source": [
    "[Hint](# \"cv2.line function\") "
   ]
  },
  {
   "cell_type": "markdown",
   "metadata": {},
   "source": [
    "### Circles"
   ]
  },
  {
   "cell_type": "code",
   "execution_count": 15,
   "metadata": {
    "ExecuteTime": {
     "end_time": "2020-02-15T09:43:32.430250Z",
     "start_time": "2020-02-15T09:43:31.636424Z"
    }
   },
   "outputs": [],
   "source": [
    "# Draw some circles on top of the image\n",
    "O_img= img.copy()\n",
    "cv2.circle(O_img, (500,600), 100, (0,0,0), -1)\n",
    "view(O_img)\n"
   ]
  },
  {
   "cell_type": "markdown",
   "metadata": {},
   "source": [
    "[Hint](# \"cv2.circle\") "
   ]
  },
  {
   "cell_type": "markdown",
   "metadata": {},
   "source": [
    "### Ellipses"
   ]
  },
  {
   "cell_type": "code",
   "execution_count": 19,
   "metadata": {
    "ExecuteTime": {
     "end_time": "2020-02-15T09:45:24.604320Z",
     "start_time": "2020-02-15T09:45:23.867554Z"
    },
    "scrolled": false
   },
   "outputs": [
    {
     "ename": "error",
     "evalue": "OpenCV(4.5.2) :-1: error: (-5:Bad argument) in function 'ellipse'\n> Overload resolution failed:\n>  - ellipse() missing required argument 'endAngle' (pos 6)\n>  - ellipse() missing required argument 'endAngle' (pos 6)\n>  - Can't parse 'box' as RotatedRect. Expected sequence length 3, got 2\n>  - Can't parse 'box' as RotatedRect. Expected sequence length 3, got 2\n",
     "output_type": "error",
     "traceback": [
      "\u001b[1;31m---------------------------------------------------------------------------\u001b[0m",
      "\u001b[1;31merror\u001b[0m                                     Traceback (most recent call last)",
      "\u001b[1;32m<ipython-input-19-880ae4b39e1d>\u001b[0m in \u001b[0;36m<module>\u001b[1;34m\u001b[0m\n\u001b[0;32m      1\u001b[0m \u001b[1;31m# Draw some elipses on top of the image\u001b[0m\u001b[1;33m\u001b[0m\u001b[1;33m\u001b[0m\u001b[1;33m\u001b[0m\u001b[0m\n\u001b[0;32m      2\u001b[0m \u001b[0mO_img\u001b[0m\u001b[1;33m=\u001b[0m \u001b[0mimg\u001b[0m\u001b[1;33m.\u001b[0m\u001b[0mcopy\u001b[0m\u001b[1;33m(\u001b[0m\u001b[1;33m)\u001b[0m\u001b[1;33m\u001b[0m\u001b[1;33m\u001b[0m\u001b[0m\n\u001b[1;32m----> 3\u001b[1;33m \u001b[0mcv2\u001b[0m\u001b[1;33m.\u001b[0m\u001b[0mellipse\u001b[0m\u001b[1;33m(\u001b[0m\u001b[0mO_img\u001b[0m\u001b[1;33m,\u001b[0m \u001b[1;33m(\u001b[0m\u001b[1;36m200\u001b[0m\u001b[1;33m,\u001b[0m\u001b[1;36m600\u001b[0m\u001b[1;33m)\u001b[0m\u001b[1;33m,\u001b[0m \u001b[1;36m0\u001b[0m\u001b[1;33m,\u001b[0m\u001b[1;33m(\u001b[0m\u001b[1;36m0\u001b[0m\u001b[1;33m,\u001b[0m\u001b[1;36m0\u001b[0m\u001b[1;33m,\u001b[0m\u001b[1;36m0\u001b[0m\u001b[1;33m)\u001b[0m\u001b[1;33m,\u001b[0m \u001b[1;33m-\u001b[0m\u001b[1;36m1\u001b[0m\u001b[1;33m)\u001b[0m\u001b[1;33m\u001b[0m\u001b[1;33m\u001b[0m\u001b[0m\n\u001b[0m",
      "\u001b[1;31merror\u001b[0m: OpenCV(4.5.2) :-1: error: (-5:Bad argument) in function 'ellipse'\n> Overload resolution failed:\n>  - ellipse() missing required argument 'endAngle' (pos 6)\n>  - ellipse() missing required argument 'endAngle' (pos 6)\n>  - Can't parse 'box' as RotatedRect. Expected sequence length 3, got 2\n>  - Can't parse 'box' as RotatedRect. Expected sequence length 3, got 2\n"
     ]
    }
   ],
   "source": [
    "# Draw some elipses on top of the image\n",
    "O_img= img.copy()\n",
    "cv2.ellipse(O_img, (200,600), 0,(0,0,0), -1)"
   ]
  },
  {
   "cell_type": "markdown",
   "metadata": {},
   "source": [
    "[Hint](# \"cv2.ellipse\") "
   ]
  },
  {
   "cell_type": "markdown",
   "metadata": {},
   "source": [
    "### Poligons"
   ]
  },
  {
   "cell_type": "code",
   "execution_count": 4,
   "metadata": {
    "ExecuteTime": {
     "end_time": "2020-02-15T09:46:07.427824Z",
     "start_time": "2020-02-15T09:46:07.407515Z"
    }
   },
   "outputs": [],
   "source": [
    "# Lets draw some poligons, first declare the points of the poligon\n"
   ]
  },
  {
   "cell_type": "markdown",
   "metadata": {},
   "source": [
    "[Hint](# \"Example: np.array([[10,5],[120,130],[170,120],[250,210]], np.int32)\") "
   ]
  },
  {
   "cell_type": "code",
   "execution_count": 5,
   "metadata": {
    "ExecuteTime": {
     "end_time": "2020-02-15T09:46:54.459530Z",
     "start_time": "2020-02-15T09:46:53.738712Z"
    }
   },
   "outputs": [],
   "source": [
    "# Draw the poligon on top of the image\n"
   ]
  },
  {
   "cell_type": "markdown",
   "metadata": {},
   "source": [
    "[Hint](# \"cv2.polylines(img_copy,[pts],False,(255,0,0),3)\")  "
   ]
  },
  {
   "cell_type": "markdown",
   "metadata": {},
   "source": [
    "### Add an overlay on top of an image"
   ]
  },
  {
   "cell_type": "code",
   "execution_count": 6,
   "metadata": {
    "ExecuteTime": {
     "end_time": "2019-11-19T14:13:36.118430Z",
     "start_time": "2019-11-19T14:13:35.248063Z"
    },
    "scrolled": false
   },
   "outputs": [],
   "source": [
    "# Load an image and create a copy of it you can call it overlay\n",
    "# Create a rectangle with a fill color (-1) on top of the overlay image\n",
    "# Combine both images setting some opacity on the overlay\n",
    "# Add some text on top of the overlay and show the image on screen"
   ]
  },
  {
   "cell_type": "markdown",
   "metadata": {},
   "source": [
    "[Hint](# \"cv2.addWeighted\")  "
   ]
  },
  {
   "cell_type": "code",
   "execution_count": null,
   "metadata": {},
   "outputs": [],
   "source": []
  }
 ],
 "metadata": {
  "kernelspec": {
   "display_name": "Python 3",
   "language": "python",
   "name": "python3"
  },
  "language_info": {
   "codemirror_mode": {
    "name": "ipython",
    "version": 3
   },
   "file_extension": ".py",
   "mimetype": "text/x-python",
   "name": "python",
   "nbconvert_exporter": "python",
   "pygments_lexer": "ipython3",
   "version": "3.8.8"
  }
 },
 "nbformat": 4,
 "nbformat_minor": 2
}
