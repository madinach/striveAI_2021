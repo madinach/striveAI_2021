{
 "cells": [
  {
   "cell_type": "markdown",
   "metadata": {},
   "source": [
    "# OpenCV Callbacks"
   ]
  },
  {
   "cell_type": "code",
   "execution_count": 1,
   "metadata": {
    "ExecuteTime": {
     "end_time": "2019-11-19T09:54:11.762369Z",
     "start_time": "2019-11-19T09:54:09.945225Z"
    }
   },
   "outputs": [],
   "source": [
    "import cv2\n",
    "import numpy as np\n",
    "import matplotlib.pyplot as plt\n",
    "%matplotlib inline"
   ]
  },
  {
   "cell_type": "code",
   "execution_count": 2,
   "metadata": {},
   "outputs": [
    {
     "data": {
      "text/plain": [
       "array([[[171, 108, 133],\n",
       "        [160, 105, 141],\n",
       "        [163, 105, 141],\n",
       "        ...,\n",
       "        [206, 120,  94],\n",
       "        [198, 120,  95],\n",
       "        [202, 121,  89]],\n",
       "\n",
       "       [[163, 110, 141],\n",
       "        [156, 106, 139],\n",
       "        [165, 106, 140],\n",
       "        ...,\n",
       "        [210, 115,  98],\n",
       "        [203, 116,  98],\n",
       "        [200, 119, 106]],\n",
       "\n",
       "       [[168, 109, 134],\n",
       "        [167, 106, 139],\n",
       "        [159, 108, 156],\n",
       "        ...,\n",
       "        [203, 116,  98],\n",
       "        [199, 117,  95],\n",
       "        [194, 120, 100]],\n",
       "\n",
       "       ...,\n",
       "\n",
       "       [[220, 118,  34],\n",
       "        [224, 117,  36],\n",
       "        [218, 121,  42],\n",
       "        ...,\n",
       "        [253, 162,   8],\n",
       "        [254, 163,   6],\n",
       "        [254, 162,   8]],\n",
       "\n",
       "       [[219, 118,  40],\n",
       "        [215, 116,  48],\n",
       "        [212, 119,  47],\n",
       "        ...,\n",
       "        [253, 162,   8],\n",
       "        [253, 163,   7],\n",
       "        [254, 162,   8]],\n",
       "\n",
       "       [[215, 118,  38],\n",
       "        [206, 117,  50],\n",
       "        [210, 116,  44],\n",
       "        ...,\n",
       "        [253, 162,  13],\n",
       "        [252, 163,  11],\n",
       "        [252, 163,   6]]], dtype=uint8)"
      ]
     },
     "execution_count": 2,
     "metadata": {},
     "output_type": "execute_result"
    }
   ],
   "source": [
    "dog= cv2.imread('corona.png')\n",
    "dog"
   ]
  },
  {
   "cell_type": "code",
   "execution_count": 3,
   "metadata": {},
   "outputs": [],
   "source": [
    "def view(image, name_of_window=\"window\"):\n",
    "    cv2.namedWindow(name_of_window, cv2.WINDOW_NORMAL)\n",
    "    cv2.imshow(name_of_window, image)\n",
    "    cv2.waitKey(0)\n",
    "    cv2.destroyAllWindows()"
   ]
  },
  {
   "cell_type": "code",
   "execution_count": 4,
   "metadata": {},
   "outputs": [
    {
     "name": "stderr",
     "output_type": "stream",
     "text": [
      "<>:15: SyntaxWarning: 'int' object is not callable; perhaps you missed a comma?\n",
      "<>:20: SyntaxWarning: 'int' object is not callable; perhaps you missed a comma?\n",
      "<>:15: SyntaxWarning: 'int' object is not callable; perhaps you missed a comma?\n",
      "<>:20: SyntaxWarning: 'int' object is not callable; perhaps you missed a comma?\n",
      "<ipython-input-4-d9fb83db35ab>:15: SyntaxWarning: 'int' object is not callable; perhaps you missed a comma?\n",
      "  cv2.putText(img, f'Count-1= {count}',(200,200), cv2.FONT_HERSHEY_COMPEX, 1(0,255,0),3)\n",
      "<ipython-input-4-d9fb83db35ab>:20: SyntaxWarning: 'int' object is not callable; perhaps you missed a comma?\n",
      "  cv2.putText(img, f'Count-1= {count}',(200,200), cv2.FONT_HERSHEY_COMPEX, 1(0,255,0),3)\n"
     ]
    },
    {
     "data": {
      "text/plain": [
       "-1"
      ]
     },
     "execution_count": 4,
     "metadata": {},
     "output_type": "execute_result"
    }
   ],
   "source": [
    "count= 0\n",
    "\n",
    "cap= cv2.VideoCapture(0)\n",
    "key=0\n",
    "\n",
    "img= np.ones((200,500), dtype= 'uint8')\n",
    "while True:\n",
    "    ret, frame = cap.read()\n",
    "    \n",
    "    if(key == ord('q')):\n",
    "        break\n",
    "    if (key==ord('i') or key==ord('I')):\n",
    "        count+= 1\n",
    "        img= frame.copy()\n",
    "        cv2.putText(img, f'Count-1= {count}',(200,200), cv2.FONT_HERSHEY_COMPEX, 1(0,255,0),3)\n",
    "    \n",
    "    if (key==ord('d') or key==ord('D')):\n",
    "        count-=1\n",
    "        img= frame.copy()\n",
    "        cv2.putText(img, f'Count-1= {count}',(200,200), cv2.FONT_HERSHEY_COMPEX, 1(0,255,0),3)\n",
    "        \n",
    "    cv2.imshow(\"Image\", img)\n",
    "    key= cv2.waitKey(1)\n",
    "    \n",
    "cap.release()\n",
    "cv2.destroyAllWindows()\n",
    "cv2.waitKey(1)"
   ]
  },
  {
   "cell_type": "code",
   "execution_count": null,
   "metadata": {},
   "outputs": [],
   "source": [
    "gray= cv2.cvtColor(dog, cv2.COLOR_BGR2GRAY)\n",
    "_, three_img= cv2.threshold(gray, 200, 255, cv2.THRESH_BINARY)\n",
    "plt.figure(figsize=(20,15))\n",
    "plt.imshow(thres_img, cmap= \"gray\")\n",
    "\n",
    "gaussian_blur= cv2.GaussianBlur(dog,(9,9),0)\n",
    "median_blur= cv2.medianBlur(dog,9)"
   ]
  },
  {
   "cell_type": "markdown",
   "metadata": {},
   "source": [
    "## Keyboard callbacks"
   ]
  },
  {
   "cell_type": "code",
   "execution_count": null,
   "metadata": {
    "ExecuteTime": {
     "end_time": "2019-11-19T11:10:33.575331Z",
     "start_time": "2019-11-19T11:10:32.647518Z"
    }
   },
   "outputs": [],
   "source": [
    "# Load an image and show it on screen with cv2.imshow\n",
    "# When the key g or G is detected then change the image to show in grayscale\n",
    "# When the key c or C is detected then change the image to show in color\n",
    "# When the key t or T is detected then change the image to show the thresholded version of the image\n",
    "# When the key esc is detected close the image\n",
    "\n",
    "count= 0\n",
    "key= 0\n",
    "\n",
    "#img= np.ones(img.shape, dtype= \"uint8\")\n",
    "img = cv2.imread(cv2.samples.findFile(\"corona.png\"))\n",
    "\n",
    "while(True):\n",
    "    cv2.namedWindow('madi', cv2.WINDOW_NORMAL)\n",
    "    cv2.imshow(\"madi\", img)\n",
    "    \n",
    "    if (key== ord('q') or ord('Q') ):\n",
    "        gray_image = cv2.cvtColor(img, cv2.COLOR_BGR2GRAY)\n",
    "        \n",
    "    if (key== ord('c') or ord('C')):\n",
    "        color_image = cv2.cvtColor(img, cv2.COLOR_GRAY2RGB)\n",
    "                                  \n",
    "    if (key== ord('t') or ord('T')):\n",
    "        tresh_image = cv2.cvtColor(img, cv2.COLOR_BGR2GRAY)\n",
    "            \n",
    "        \n",
    "    #ret, frame= cap"
   ]
  },
  {
   "cell_type": "markdown",
   "metadata": {},
   "source": [
    "[Hint](# \"You will need to use cv2.waitKey and python ord functions\") "
   ]
  },
  {
   "cell_type": "code",
   "execution_count": null,
   "metadata": {},
   "outputs": [],
   "source": [
    "# Do the same as above but using your webcam image \n",
    "\n"
   ]
  },
  {
   "cell_type": "markdown",
   "metadata": {},
   "source": [
    "[Hint](# \"You will need to use cv2.VideoCapture function\") "
   ]
  },
  {
   "cell_type": "markdown",
   "metadata": {},
   "source": [
    "## Mouse callbacks"
   ]
  },
  {
   "cell_type": "code",
   "execution_count": null,
   "metadata": {},
   "outputs": [],
   "source": [
    "# Load an image and show it on screen with cv2.imshow\n",
    "# When the user clicks on top of the image save the coordinates\n",
    "# The user will then move the cursor without releasing the mouse button to another position\n",
    "# When the user releases the button draw a rectagle around the ROI\n",
    "# When the key esc is detected close the image\n"
   ]
  },
  {
   "cell_type": "code",
   "execution_count": null,
   "metadata": {},
   "outputs": [],
   "source": [
    "# Crop and save the ROI image to disk \n"
   ]
  },
  {
   "cell_type": "markdown",
   "metadata": {},
   "source": [
    "[Hint](# \"cv2.setMouseCallback\") "
   ]
  },
  {
   "cell_type": "markdown",
   "metadata": {},
   "source": [
    "## Trackbars"
   ]
  },
  {
   "cell_type": "code",
   "execution_count": 13,
   "metadata": {
    "ExecuteTime": {
     "end_time": "2019-11-19T11:17:26.647991Z",
     "start_time": "2019-11-19T11:17:26.635749Z"
    }
   },
   "outputs": [
    {
     "data": {
      "text/plain": [
       "-1"
      ]
     },
     "execution_count": 13,
     "metadata": {},
     "output_type": "execute_result"
    }
   ],
   "source": [
    "# Create a named window, load and show an image in that window\n",
    "window_name= 'mouse'\n",
    "img= dog.copy()\n",
    "\n",
    "cv2.namedWindow(window_name, cv2.WINDOW_AUTOSIZE)\n",
    "\n",
    "\n",
    "def draw_square(action, x, y, flags, userdata):\n",
    "    if (action==cv2.EVENT_LBUTTONUP):\n",
    "        cv2.rectangle(userdata, (x,y), (x+50, y+50),(0,255,0), -1 )\n",
    "        cv2.imshow(window_name,userdata)\n",
    "    \n",
    "    if (action==cv2.EVENT_LBUTTONUP):\n",
    "        cv2.rectangle(userdata, (x,y), (x+50, y+50),(255,0,0), -1 )\n",
    "        cv2.imshow(window_name,userdata)    \n",
    "        \n",
    "        \n",
    "cv2.setMouseCallback(window_name, draw_square, img)\n",
    "cv2.imshow(window_name, gray_img)\n",
    "cv2.waitKey()\n",
    "cv2.destroyAllWindows()\n",
    "cv2.waitKey(1)\n",
    "\n"
   ]
  },
  {
   "cell_type": "code",
   "execution_count": 12,
   "metadata": {},
   "outputs": [
    {
     "data": {
      "text/plain": [
       "-1"
      ]
     },
     "execution_count": 12,
     "metadata": {},
     "output_type": "execute_result"
    }
   ],
   "source": [
    "threshold_value= 128\n",
    "threshold_type= cv2.THRESH_BINARY\n",
    "\n",
    "threshold_types= [cv2.THRESH_BINARY, cv2.THRESH_BINARY_INV, cv2.THRESH_TOZERO, cv2.THRESH_TOZERO_INV, cv2.THRESH_TRUNC]\n",
    "window_name= 'threshold'\n",
    "\n",
    "dog= cv2.imread('corona.png')\n",
    "img= dog.copy()\n",
    "gray_img= cv2.cvtColor(img, cv2.COLOR_BGR2GRAY)\n",
    "\n",
    "cv2.namedWindow(window_name, cv2.WINDOW_AUTOSIZE)\n",
    "\n",
    "def change_threshold_value(val):\n",
    "    threshold_value= val\n",
    "    ret, thresh= cv2.threshold(gray_img, threshold_value, 255, threshold_type)\n",
    "    cv2.imshow(window_name,thresh)\n",
    "    \n",
    "def change_treshhold_type(val):\n",
    "    threshold_type= thresholdtypes[val]\n",
    "    ret, thresh= cv2.threshold(gray_img, threshold_value, 255, threshold_type)\n",
    "    cv2.imshow(window_name,thresh)\n",
    "    \n",
    "    \n",
    "cv2.createTrackbar('Threshold Value', window_name, threshold_value, 255, change_threshold_value)\n",
    "cv2.createTrackbar('Threshold Type', window_name, threshold_type, 4, change_threshold_value)\n",
    "\n",
    "cv2.imshow(window_name, gray_img)\n",
    "cv2.waitKey()\n",
    "cv2.destroyAllWindows()\n",
    "cv2.waitKey(1)"
   ]
  },
  {
   "cell_type": "markdown",
   "metadata": {},
   "source": [
    "[Hint](# \"cv2.namedWindow\") "
   ]
  },
  {
   "cell_type": "code",
   "execution_count": null,
   "metadata": {},
   "outputs": [],
   "source": [
    "# Add at least 3 different trackbars to the window (choose of any parameters that you want to modify with them)\n",
    "# Each trackbar will modify some parameter of the image, write a function for each trackbar\n",
    "# When the user move the trackbar around the image should be updated accordingly\n",
    "# When the key esc is detected close the image\n"
   ]
  },
  {
   "cell_type": "markdown",
   "metadata": {},
   "source": [
    "[Hint](# \"cv2.createTrackbar\") "
   ]
  },
  {
   "cell_type": "code",
   "execution_count": null,
   "metadata": {
    "ExecuteTime": {
     "end_time": "2019-11-19T11:17:40.562115Z",
     "start_time": "2019-11-19T11:17:39.321415Z"
    },
    "scrolled": false
   },
   "outputs": [],
   "source": [
    "# Do the same as above but using your webcam image so the trackbars will apply the changes on live image\n"
   ]
  }
 ],
 "metadata": {
  "kernelspec": {
   "display_name": "Python 3",
   "language": "python",
   "name": "python3"
  },
  "language_info": {
   "codemirror_mode": {
    "name": "ipython",
    "version": 3
   },
   "file_extension": ".py",
   "mimetype": "text/x-python",
   "name": "python",
   "nbconvert_exporter": "python",
   "pygments_lexer": "ipython3",
   "version": "3.8.8"
  }
 },
 "nbformat": 4,
 "nbformat_minor": 2
}
