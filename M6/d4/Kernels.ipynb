{
 "cells": [
  {
   "cell_type": "markdown",
   "metadata": {},
   "source": [
    "# Computer Vision Kernels"
   ]
  },
  {
   "cell_type": "markdown",
   "metadata": {},
   "source": [
    "## Import Statements"
   ]
  },
  {
   "cell_type": "code",
   "execution_count": 2,
   "metadata": {
    "ExecuteTime": {
     "end_time": "2019-11-19T09:54:11.762369Z",
     "start_time": "2019-11-19T09:54:09.945225Z"
    }
   },
   "outputs": [],
   "source": [
    "import cv2\n",
    "import numpy as np\n",
    "import matplotlib.pyplot as plt\n",
    "%matplotlib inline"
   ]
  },
  {
   "cell_type": "code",
   "execution_count": 4,
   "metadata": {},
   "outputs": [
    {
     "name": "stderr",
     "output_type": "stream",
     "text": [
      "<>:15: SyntaxWarning: 'int' object is not callable; perhaps you missed a comma?\n",
      "<>:20: SyntaxWarning: 'int' object is not callable; perhaps you missed a comma?\n",
      "<>:15: SyntaxWarning: 'int' object is not callable; perhaps you missed a comma?\n",
      "<>:20: SyntaxWarning: 'int' object is not callable; perhaps you missed a comma?\n",
      "<ipython-input-4-a4d45c5a9be1>:15: SyntaxWarning: 'int' object is not callable; perhaps you missed a comma?\n",
      "  cv2.putText(img, f'Count-1= {count}',(200,200), cv2.FONT_HERSHEY_COMPEX, 1(0,255,0),3)\n",
      "<ipython-input-4-a4d45c5a9be1>:20: SyntaxWarning: 'int' object is not callable; perhaps you missed a comma?\n",
      "  cv2.putText(img, f'Count-1= {count}',(200,200), cv2.FONT_HERSHEY_COMPEX, 1(0,255,0),3)\n"
     ]
    },
    {
     "ename": "KeyboardInterrupt",
     "evalue": "",
     "output_type": "error",
     "traceback": [
      "\u001b[1;31m---------------------------------------------------------------------------\u001b[0m",
      "\u001b[1;31mKeyboardInterrupt\u001b[0m                         Traceback (most recent call last)",
      "\u001b[1;32m<ipython-input-4-a4d45c5a9be1>\u001b[0m in \u001b[0;36m<module>\u001b[1;34m\u001b[0m\n\u001b[0;32m     21\u001b[0m \u001b[1;33m\u001b[0m\u001b[0m\n\u001b[0;32m     22\u001b[0m     \u001b[0mcv2\u001b[0m\u001b[1;33m.\u001b[0m\u001b[0mimshow\u001b[0m\u001b[1;33m(\u001b[0m\u001b[1;34m\"Image\"\u001b[0m\u001b[1;33m,\u001b[0m \u001b[0mimg\u001b[0m\u001b[1;33m)\u001b[0m\u001b[1;33m\u001b[0m\u001b[1;33m\u001b[0m\u001b[0m\n\u001b[1;32m---> 23\u001b[1;33m     \u001b[0mkey\u001b[0m\u001b[1;33m=\u001b[0m \u001b[0mcv2\u001b[0m\u001b[1;33m.\u001b[0m\u001b[0mwaitKey\u001b[0m\u001b[1;33m(\u001b[0m\u001b[1;36m1\u001b[0m\u001b[1;33m)\u001b[0m\u001b[1;33m\u001b[0m\u001b[1;33m\u001b[0m\u001b[0m\n\u001b[0m\u001b[0;32m     24\u001b[0m \u001b[1;33m\u001b[0m\u001b[0m\n\u001b[0;32m     25\u001b[0m \u001b[0mcap\u001b[0m\u001b[1;33m.\u001b[0m\u001b[0mrelease\u001b[0m\u001b[1;33m(\u001b[0m\u001b[1;33m)\u001b[0m\u001b[1;33m\u001b[0m\u001b[1;33m\u001b[0m\u001b[0m\n",
      "\u001b[1;31mKeyboardInterrupt\u001b[0m: "
     ]
    }
   ],
   "source": [
    "count= 0\n",
    "\n",
    "cap= cv2.VideoCapture(0)\n",
    "key=0\n",
    "\n",
    "img= np.ones((200,500), dtype= 'uint8')\n",
    "while True:\n",
    "    ret, frame = cap.read()\n",
    "    \n",
    "    if(key == ord('q')):\n",
    "        break\n",
    "    if (key==ord('i') or key==ord('I')):\n",
    "        count+= 1\n",
    "        img= frame.copy()\n",
    "        cv2.putText(img, f'Count-1= {count}',(200,200), cv2.FONT_HERSHEY_COMPEX, 1(0,255,0),3)\n",
    "    \n",
    "    if (key==ord('d') or key==ord('D')):\n",
    "        count-=1\n",
    "        img= frame.copy()\n",
    "        cv2.putText(img, f'Count-1= {count}',(200,200), cv2.FONT_HERSHEY_COMPEX, 1(0,255,0),3)\n",
    "        \n",
    "    cv2.imshow(\"Image\", img)\n",
    "    key= cv2.waitKey(1)\n",
    "    \n",
    "cap.release()\n",
    "cv2.destroyAllWindows()\n",
    "cv2.waitKey(1)\n",
    "        \n",
    "        \n",
    "                 "
   ]
  },
  {
   "cell_type": "code",
   "execution_count": null,
   "metadata": {},
   "outputs": [],
   "source": []
  },
  {
   "cell_type": "code",
   "execution_count": null,
   "metadata": {},
   "outputs": [],
   "source": [
    "gray= cv2.cvtColor(dog, cv2.COLOR_BGR2GRAY)\n",
    "_, three_img= cv2.threshold(gray, 200, 255, cv2.THRESH_BINARY)\n",
    "plt.figure(figsize=(20,15))\n",
    "plt.imshow(thres_img, cmap= \"gray\")\n",
    "\n",
    "gaussian_blur= cv2.GaussianBlur(dog,(9,9),0)\n",
    "median_blur= cv2.medianBlur(dog,9)"
   ]
  },
  {
   "cell_type": "markdown",
   "metadata": {},
   "source": [
    "## Blur"
   ]
  },
  {
   "cell_type": "code",
   "execution_count": 5,
   "metadata": {
    "ExecuteTime": {
     "end_time": "2019-11-19T11:10:33.575331Z",
     "start_time": "2019-11-19T11:10:32.647518Z"
    }
   },
   "outputs": [],
   "source": [
    "# Load one or more images to practive with \n"
   ]
  },
  {
   "cell_type": "code",
   "execution_count": null,
   "metadata": {},
   "outputs": [],
   "source": [
    "# Create a blur kernel with numpy of size (3,3)\n",
    "\n",
    "gaussian_blur= cv2.GaussianBlur(dog,(9,9),0)\n",
    "median_blur= cv2.medianBlur(dog,9)"
   ]
  },
  {
   "cell_type": "markdown",
   "metadata": {},
   "source": [
    "[Hint](# \"All values should sum up to 1 with the highest value in the center of the kernel, all values are positive.\") "
   ]
  },
  {
   "cell_type": "code",
   "execution_count": null,
   "metadata": {},
   "outputs": [],
   "source": [
    "# Create a copy of the imagre and apply the kernel to the image unsing cv2.filter2D and display the blurred image\n"
   ]
  },
  {
   "cell_type": "code",
   "execution_count": null,
   "metadata": {},
   "outputs": [],
   "source": [
    "# Repeat the operations but with kernels of size (5,5) and (7,7) what is the difference?\n"
   ]
  },
  {
   "cell_type": "code",
   "execution_count": null,
   "metadata": {
    "ExecuteTime": {
     "end_time": "2019-11-19T11:15:37.953209Z",
     "start_time": "2019-11-19T11:15:36.886841Z"
    }
   },
   "outputs": [],
   "source": [
    "# Create a new copy of the original image and apply a GaussianBlur\n"
   ]
  },
  {
   "cell_type": "markdown",
   "metadata": {},
   "source": [
    "[Hint](# \"cv2.GaussianBlur\") "
   ]
  },
  {
   "cell_type": "code",
   "execution_count": null,
   "metadata": {
    "ExecuteTime": {
     "end_time": "2019-11-19T11:15:56.352801Z",
     "start_time": "2019-11-19T11:15:55.083352Z"
    }
   },
   "outputs": [],
   "source": [
    "# Experiment with cv2.blur\n"
   ]
  },
  {
   "cell_type": "code",
   "execution_count": null,
   "metadata": {
    "ExecuteTime": {
     "end_time": "2019-11-19T11:16:03.392401Z",
     "start_time": "2019-11-19T11:16:02.343726Z"
    }
   },
   "outputs": [],
   "source": [
    "# Experiment with cv2.medianBlur\n"
   ]
  },
  {
   "cell_type": "code",
   "execution_count": null,
   "metadata": {
    "ExecuteTime": {
     "end_time": "2019-11-19T11:16:11.722041Z",
     "start_time": "2019-11-19T11:16:10.683587Z"
    }
   },
   "outputs": [],
   "source": [
    "# Experiment with cv2.bilateralFilter\n"
   ]
  },
  {
   "cell_type": "markdown",
   "metadata": {},
   "source": [
    "## Sharpening"
   ]
  },
  {
   "cell_type": "code",
   "execution_count": null,
   "metadata": {
    "ExecuteTime": {
     "end_time": "2019-11-19T11:17:26.647991Z",
     "start_time": "2019-11-19T11:17:26.635749Z"
    }
   },
   "outputs": [],
   "source": [
    "# Create a 3 by 3 sharpening kernel with numpy\n"
   ]
  },
  {
   "cell_type": "markdown",
   "metadata": {},
   "source": [
    "[Hint](# \"All values should sum up to 1 with the highest value in the center of the kernel.\") "
   ]
  },
  {
   "cell_type": "code",
   "execution_count": null,
   "metadata": {
    "ExecuteTime": {
     "end_time": "2019-11-19T11:17:40.562115Z",
     "start_time": "2019-11-19T11:17:39.321415Z"
    },
    "scrolled": false
   },
   "outputs": [],
   "source": [
    "# Create a copy of the imagre and apply the kernel to the image unsing cv2.filter2D and display the filtered image\n"
   ]
  },
  {
   "cell_type": "markdown",
   "metadata": {},
   "source": [
    "## Edge detection"
   ]
  },
  {
   "cell_type": "code",
   "execution_count": null,
   "metadata": {
    "ExecuteTime": {
     "end_time": "2019-11-19T11:18:47.282871Z",
     "start_time": "2019-11-19T11:18:46.445945Z"
    }
   },
   "outputs": [],
   "source": [
    "# Create a 3 by 3 kernel with numpy to detect edges\n"
   ]
  },
  {
   "cell_type": "markdown",
   "metadata": {},
   "source": [
    "[Hint](# \"All values should sum up to 0 with the highest value in the center of the kernel.\") "
   ]
  },
  {
   "cell_type": "code",
   "execution_count": null,
   "metadata": {},
   "outputs": [],
   "source": [
    "# Create a copy of the imagre and apply the kernel to the image unsing cv2.filter2D and display the filtered image\n"
   ]
  },
  {
   "cell_type": "code",
   "execution_count": 6,
   "metadata": {
    "ExecuteTime": {
     "end_time": "2019-11-19T12:15:36.114613Z",
     "start_time": "2019-11-19T12:15:35.200520Z"
    },
    "scrolled": false
   },
   "outputs": [],
   "source": [
    "# Use cv2.Sobel to detect edges in the x orientation\n"
   ]
  },
  {
   "cell_type": "code",
   "execution_count": null,
   "metadata": {},
   "outputs": [],
   "source": [
    "# Use cv2.Sobel to detect edges in the y orientation\n"
   ]
  },
  {
   "cell_type": "code",
   "execution_count": null,
   "metadata": {},
   "outputs": [],
   "source": [
    "# Use cv2.Sobel and try to detect edges in the x and y orientation\n"
   ]
  },
  {
   "cell_type": "code",
   "execution_count": null,
   "metadata": {
    "ExecuteTime": {
     "end_time": "2019-11-19T12:16:03.167922Z",
     "start_time": "2019-11-19T12:16:02.679969Z"
    },
    "scrolled": false
   },
   "outputs": [],
   "source": [
    "# Use cv2.Canny to detect edges\n",
    "canny= cv2.Canny(dog,100,200)\n",
    "plt.figure(figsize= (20,15))\n",
    "plt.imshow(canny, cmap= 'gray')"
   ]
  }
 ],
 "metadata": {
  "kernelspec": {
   "display_name": "Python 3",
   "language": "python",
   "name": "python3"
  },
  "language_info": {
   "codemirror_mode": {
    "name": "ipython",
    "version": 3
   },
   "file_extension": ".py",
   "mimetype": "text/x-python",
   "name": "python",
   "nbconvert_exporter": "python",
   "pygments_lexer": "ipython3",
   "version": "3.8.8"
  }
 },
 "nbformat": 4,
 "nbformat_minor": 2
}
