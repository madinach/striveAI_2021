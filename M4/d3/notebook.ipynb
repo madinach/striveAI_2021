{
 "cells": [
  {
   "cell_type": "markdown",
   "source": "Variables or features explanations:\n* age (Age in years)\n* sex : (1 = male, 0 = female)\n* cp (Chest Pain Type): [0: Typical Angina, 1: Atypical Angina, 2: Non-Anginal Pain, 3: Asymptomatic]\n* trestbps (Resting Blood Pressure in mm/hg )\n* chol (Serum Cholesterol in mg/dl)\n* fps (Fasting Blood Sugar > 120 mg/dl): [0 = no, 1 = yes]\n* restecg (Resting ECG): [0: normal, 1: having ST-T wave abnormality , 2: showing probable or definite left ventricular hypertrophy]\n* thalach (maximum heart rate achieved)\n* exang (Exercise Induced Angina): [1 = yes, 0 = no]\n* oldpeak (ST depression induced by exercise relative to rest)\n* slope (the slope of the peak exercise ST segment)\n* ca [number of major vessels (0–3)]\n* thal : [1 = normal, 2 = fixed defect, 3 = reversible defect]\n* target: [0 = disease, 1 = no disease]",
   "metadata": {
    "tags": [],
    "cell_id": "00000-f4ea209e-8e43-44ff-b0a0-5bf3946b2572",
    "deepnote_cell_type": "markdown"
   }
  },
  {
   "cell_type": "code",
   "metadata": {
    "tags": [],
    "cell_id": "00000-12a1814d-3519-43f4-b7c2-632764855b8f",
    "deepnote_to_be_reexecuted": false,
    "source_hash": "ae72fa5c",
    "execution_start": 1620392082674,
    "execution_millis": 1006,
    "deepnote_cell_type": "code"
   },
   "source": "import pandas as pd\nimport numpy as np\nimport seaborn as sns\nimport matplotlib.pyplot as plt\nfrom scipy import stats\n\nimport sklearn\nfrom sklearn.preprocessing import MinMaxScaler\nfrom sklearn.preprocessing import MaxAbsScaler\nfrom sklearn.preprocessing import StandardScaler\nfrom sklearn.preprocessing import RobustScaler\nfrom sklearn.preprocessing import Normalizer\nfrom sklearn.preprocessing import QuantileTransformer\nfrom sklearn.preprocessing import PowerTransformer\n\nfrom sklearn import pipeline      # Pipeline\nfrom sklearn import preprocessing # OrdinalEncoder, LabelEncoder\nfrom sklearn import impute\nfrom sklearn import compose\nfrom sklearn import model_selection # train_test_split\nfrom sklearn import metrics         # accuracy_score, balanced_accuracy_score, plot_confusion_matrix\nfrom sklearn import set_config\n",
   "execution_count": 1,
   "outputs": []
  },
  {
   "cell_type": "code",
   "source": "df = pd.read_csv('./heart.csv')",
   "metadata": {
    "tags": [],
    "cell_id": "00001-b71c02ef-f70b-48f1-8d55-f3de08f51aea",
    "deepnote_to_be_reexecuted": false,
    "source_hash": "280d832c",
    "execution_start": 1620392083686,
    "execution_millis": 5,
    "deepnote_cell_type": "code"
   },
   "outputs": [],
   "execution_count": 2
  },
  {
   "cell_type": "code",
   "source": "df.head()",
   "metadata": {
    "tags": [],
    "cell_id": "00001-1c26e33f-3e7c-4ba0-84da-cd0bf4dd881b",
    "deepnote_to_be_reexecuted": false,
    "source_hash": "c085b6ba",
    "execution_start": 1620392084143,
    "execution_millis": 49,
    "deepnote_cell_type": "code"
   },
   "outputs": [
    {
     "output_type": "execute_result",
     "execution_count": 3,
     "data": {
      "application/vnd.deepnote.dataframe.v2+json": {
       "row_count": 5,
       "column_count": 14,
       "columns": [
        {
         "name": "age",
         "dtype": "int64",
         "stats": {
          "unique_count": 5,
          "nan_count": 0,
          "min": "37",
          "max": "63",
          "histogram": [
           {
            "bin_start": 37,
            "bin_end": 39.6,
            "count": 1
           },
           {
            "bin_start": 39.6,
            "bin_end": 42.2,
            "count": 1
           },
           {
            "bin_start": 42.2,
            "bin_end": 44.8,
            "count": 0
           },
           {
            "bin_start": 44.8,
            "bin_end": 47.4,
            "count": 0
           },
           {
            "bin_start": 47.4,
            "bin_end": 50,
            "count": 0
           },
           {
            "bin_start": 50,
            "bin_end": 52.6,
            "count": 0
           },
           {
            "bin_start": 52.6,
            "bin_end": 55.2,
            "count": 0
           },
           {
            "bin_start": 55.2,
            "bin_end": 57.8,
            "count": 2
           },
           {
            "bin_start": 57.8,
            "bin_end": 60.400000000000006,
            "count": 0
           },
           {
            "bin_start": 60.400000000000006,
            "bin_end": 63,
            "count": 1
           }
          ]
         }
        },
        {
         "name": "sex",
         "dtype": "int64",
         "stats": {
          "unique_count": 2,
          "nan_count": 0,
          "min": "0",
          "max": "1",
          "histogram": [
           {
            "bin_start": 0,
            "bin_end": 0.1,
            "count": 2
           },
           {
            "bin_start": 0.1,
            "bin_end": 0.2,
            "count": 0
           },
           {
            "bin_start": 0.2,
            "bin_end": 0.30000000000000004,
            "count": 0
           },
           {
            "bin_start": 0.30000000000000004,
            "bin_end": 0.4,
            "count": 0
           },
           {
            "bin_start": 0.4,
            "bin_end": 0.5,
            "count": 0
           },
           {
            "bin_start": 0.5,
            "bin_end": 0.6000000000000001,
            "count": 0
           },
           {
            "bin_start": 0.6000000000000001,
            "bin_end": 0.7000000000000001,
            "count": 0
           },
           {
            "bin_start": 0.7000000000000001,
            "bin_end": 0.8,
            "count": 0
           },
           {
            "bin_start": 0.8,
            "bin_end": 0.9,
            "count": 0
           },
           {
            "bin_start": 0.9,
            "bin_end": 1,
            "count": 3
           }
          ]
         }
        },
        {
         "name": "cp",
         "dtype": "int64",
         "stats": {
          "unique_count": 4,
          "nan_count": 0,
          "min": "0",
          "max": "3",
          "histogram": [
           {
            "bin_start": 0,
            "bin_end": 0.3,
            "count": 1
           },
           {
            "bin_start": 0.3,
            "bin_end": 0.6,
            "count": 0
           },
           {
            "bin_start": 0.6,
            "bin_end": 0.8999999999999999,
            "count": 0
           },
           {
            "bin_start": 0.8999999999999999,
            "bin_end": 1.2,
            "count": 2
           },
           {
            "bin_start": 1.2,
            "bin_end": 1.5,
            "count": 0
           },
           {
            "bin_start": 1.5,
            "bin_end": 1.7999999999999998,
            "count": 0
           },
           {
            "bin_start": 1.7999999999999998,
            "bin_end": 2.1,
            "count": 1
           },
           {
            "bin_start": 2.1,
            "bin_end": 2.4,
            "count": 0
           },
           {
            "bin_start": 2.4,
            "bin_end": 2.6999999999999997,
            "count": 0
           },
           {
            "bin_start": 2.6999999999999997,
            "bin_end": 3,
            "count": 1
           }
          ]
         }
        },
        {
         "name": "trestbps",
         "dtype": "int64",
         "stats": {
          "unique_count": 3,
          "nan_count": 0,
          "min": "120",
          "max": "145",
          "histogram": [
           {
            "bin_start": 120,
            "bin_end": 122.5,
            "count": 2
           },
           {
            "bin_start": 122.5,
            "bin_end": 125,
            "count": 0
           },
           {
            "bin_start": 125,
            "bin_end": 127.5,
            "count": 0
           },
           {
            "bin_start": 127.5,
            "bin_end": 130,
            "count": 0
           },
           {
            "bin_start": 130,
            "bin_end": 132.5,
            "count": 2
           },
           {
            "bin_start": 132.5,
            "bin_end": 135,
            "count": 0
           },
           {
            "bin_start": 135,
            "bin_end": 137.5,
            "count": 0
           },
           {
            "bin_start": 137.5,
            "bin_end": 140,
            "count": 0
           },
           {
            "bin_start": 140,
            "bin_end": 142.5,
            "count": 0
           },
           {
            "bin_start": 142.5,
            "bin_end": 145,
            "count": 1
           }
          ]
         }
        },
        {
         "name": "chol",
         "dtype": "int64",
         "stats": {
          "unique_count": 5,
          "nan_count": 0,
          "min": "204",
          "max": "354",
          "histogram": [
           {
            "bin_start": 204,
            "bin_end": 219,
            "count": 1
           },
           {
            "bin_start": 219,
            "bin_end": 234,
            "count": 1
           },
           {
            "bin_start": 234,
            "bin_end": 249,
            "count": 1
           },
           {
            "bin_start": 249,
            "bin_end": 264,
            "count": 1
           },
           {
            "bin_start": 264,
            "bin_end": 279,
            "count": 0
           },
           {
            "bin_start": 279,
            "bin_end": 294,
            "count": 0
           },
           {
            "bin_start": 294,
            "bin_end": 309,
            "count": 0
           },
           {
            "bin_start": 309,
            "bin_end": 324,
            "count": 0
           },
           {
            "bin_start": 324,
            "bin_end": 339,
            "count": 0
           },
           {
            "bin_start": 339,
            "bin_end": 354,
            "count": 1
           }
          ]
         }
        },
        {
         "name": "fbs",
         "dtype": "int64",
         "stats": {
          "unique_count": 2,
          "nan_count": 0,
          "min": "0",
          "max": "1",
          "histogram": [
           {
            "bin_start": 0,
            "bin_end": 0.1,
            "count": 4
           },
           {
            "bin_start": 0.1,
            "bin_end": 0.2,
            "count": 0
           },
           {
            "bin_start": 0.2,
            "bin_end": 0.30000000000000004,
            "count": 0
           },
           {
            "bin_start": 0.30000000000000004,
            "bin_end": 0.4,
            "count": 0
           },
           {
            "bin_start": 0.4,
            "bin_end": 0.5,
            "count": 0
           },
           {
            "bin_start": 0.5,
            "bin_end": 0.6000000000000001,
            "count": 0
           },
           {
            "bin_start": 0.6000000000000001,
            "bin_end": 0.7000000000000001,
            "count": 0
           },
           {
            "bin_start": 0.7000000000000001,
            "bin_end": 0.8,
            "count": 0
           },
           {
            "bin_start": 0.8,
            "bin_end": 0.9,
            "count": 0
           },
           {
            "bin_start": 0.9,
            "bin_end": 1,
            "count": 1
           }
          ]
         }
        },
        {
         "name": "restecg",
         "dtype": "int64",
         "stats": {
          "unique_count": 2,
          "nan_count": 0,
          "min": "0",
          "max": "1",
          "histogram": [
           {
            "bin_start": 0,
            "bin_end": 0.1,
            "count": 2
           },
           {
            "bin_start": 0.1,
            "bin_end": 0.2,
            "count": 0
           },
           {
            "bin_start": 0.2,
            "bin_end": 0.30000000000000004,
            "count": 0
           },
           {
            "bin_start": 0.30000000000000004,
            "bin_end": 0.4,
            "count": 0
           },
           {
            "bin_start": 0.4,
            "bin_end": 0.5,
            "count": 0
           },
           {
            "bin_start": 0.5,
            "bin_end": 0.6000000000000001,
            "count": 0
           },
           {
            "bin_start": 0.6000000000000001,
            "bin_end": 0.7000000000000001,
            "count": 0
           },
           {
            "bin_start": 0.7000000000000001,
            "bin_end": 0.8,
            "count": 0
           },
           {
            "bin_start": 0.8,
            "bin_end": 0.9,
            "count": 0
           },
           {
            "bin_start": 0.9,
            "bin_end": 1,
            "count": 3
           }
          ]
         }
        },
        {
         "name": "thalach",
         "dtype": "int64",
         "stats": {
          "unique_count": 5,
          "nan_count": 0,
          "min": "150",
          "max": "187",
          "histogram": [
           {
            "bin_start": 150,
            "bin_end": 153.7,
            "count": 1
           },
           {
            "bin_start": 153.7,
            "bin_end": 157.4,
            "count": 0
           },
           {
            "bin_start": 157.4,
            "bin_end": 161.1,
            "count": 0
           },
           {
            "bin_start": 161.1,
            "bin_end": 164.8,
            "count": 1
           },
           {
            "bin_start": 164.8,
            "bin_end": 168.5,
            "count": 0
           },
           {
            "bin_start": 168.5,
            "bin_end": 172.2,
            "count": 1
           },
           {
            "bin_start": 172.2,
            "bin_end": 175.9,
            "count": 0
           },
           {
            "bin_start": 175.9,
            "bin_end": 179.6,
            "count": 1
           },
           {
            "bin_start": 179.6,
            "bin_end": 183.3,
            "count": 0
           },
           {
            "bin_start": 183.3,
            "bin_end": 187,
            "count": 1
           }
          ]
         }
        },
        {
         "name": "exang",
         "dtype": "int64",
         "stats": {
          "unique_count": 2,
          "nan_count": 0,
          "min": "0",
          "max": "1",
          "histogram": [
           {
            "bin_start": 0,
            "bin_end": 0.1,
            "count": 4
           },
           {
            "bin_start": 0.1,
            "bin_end": 0.2,
            "count": 0
           },
           {
            "bin_start": 0.2,
            "bin_end": 0.30000000000000004,
            "count": 0
           },
           {
            "bin_start": 0.30000000000000004,
            "bin_end": 0.4,
            "count": 0
           },
           {
            "bin_start": 0.4,
            "bin_end": 0.5,
            "count": 0
           },
           {
            "bin_start": 0.5,
            "bin_end": 0.6000000000000001,
            "count": 0
           },
           {
            "bin_start": 0.6000000000000001,
            "bin_end": 0.7000000000000001,
            "count": 0
           },
           {
            "bin_start": 0.7000000000000001,
            "bin_end": 0.8,
            "count": 0
           },
           {
            "bin_start": 0.8,
            "bin_end": 0.9,
            "count": 0
           },
           {
            "bin_start": 0.9,
            "bin_end": 1,
            "count": 1
           }
          ]
         }
        },
        {
         "name": "oldpeak",
         "dtype": "float64",
         "stats": {
          "unique_count": 5,
          "nan_count": 0,
          "min": "0.6",
          "max": "3.5",
          "histogram": [
           {
            "bin_start": 0.6,
            "bin_end": 0.8899999999999999,
            "count": 2
           },
           {
            "bin_start": 0.8899999999999999,
            "bin_end": 1.18,
            "count": 0
           },
           {
            "bin_start": 1.18,
            "bin_end": 1.4699999999999998,
            "count": 1
           },
           {
            "bin_start": 1.4699999999999998,
            "bin_end": 1.7599999999999998,
            "count": 0
           },
           {
            "bin_start": 1.7599999999999998,
            "bin_end": 2.05,
            "count": 0
           },
           {
            "bin_start": 2.05,
            "bin_end": 2.34,
            "count": 1
           },
           {
            "bin_start": 2.34,
            "bin_end": 2.63,
            "count": 0
           },
           {
            "bin_start": 2.63,
            "bin_end": 2.92,
            "count": 0
           },
           {
            "bin_start": 2.92,
            "bin_end": 3.21,
            "count": 0
           },
           {
            "bin_start": 3.21,
            "bin_end": 3.5,
            "count": 1
           }
          ]
         }
        },
        {
         "name": "slope",
         "dtype": "int64",
         "stats": {
          "unique_count": 2,
          "nan_count": 0,
          "min": "0",
          "max": "2",
          "histogram": [
           {
            "bin_start": 0,
            "bin_end": 0.2,
            "count": 2
           },
           {
            "bin_start": 0.2,
            "bin_end": 0.4,
            "count": 0
           },
           {
            "bin_start": 0.4,
            "bin_end": 0.6000000000000001,
            "count": 0
           },
           {
            "bin_start": 0.6000000000000001,
            "bin_end": 0.8,
            "count": 0
           },
           {
            "bin_start": 0.8,
            "bin_end": 1,
            "count": 0
           },
           {
            "bin_start": 1,
            "bin_end": 1.2000000000000002,
            "count": 0
           },
           {
            "bin_start": 1.2000000000000002,
            "bin_end": 1.4000000000000001,
            "count": 0
           },
           {
            "bin_start": 1.4000000000000001,
            "bin_end": 1.6,
            "count": 0
           },
           {
            "bin_start": 1.6,
            "bin_end": 1.8,
            "count": 0
           },
           {
            "bin_start": 1.8,
            "bin_end": 2,
            "count": 3
           }
          ]
         }
        },
        {
         "name": "ca",
         "dtype": "int64",
         "stats": {
          "unique_count": 1,
          "nan_count": 0,
          "min": "0",
          "max": "0",
          "histogram": [
           {
            "bin_start": -0.5,
            "bin_end": -0.4,
            "count": 0
           },
           {
            "bin_start": -0.4,
            "bin_end": -0.3,
            "count": 0
           },
           {
            "bin_start": -0.3,
            "bin_end": -0.19999999999999996,
            "count": 0
           },
           {
            "bin_start": -0.19999999999999996,
            "bin_end": -0.09999999999999998,
            "count": 0
           },
           {
            "bin_start": -0.09999999999999998,
            "bin_end": 0,
            "count": 0
           },
           {
            "bin_start": 0,
            "bin_end": 0.10000000000000009,
            "count": 5
           },
           {
            "bin_start": 0.10000000000000009,
            "bin_end": 0.20000000000000007,
            "count": 0
           },
           {
            "bin_start": 0.20000000000000007,
            "bin_end": 0.30000000000000004,
            "count": 0
           },
           {
            "bin_start": 0.30000000000000004,
            "bin_end": 0.4,
            "count": 0
           },
           {
            "bin_start": 0.4,
            "bin_end": 0.5,
            "count": 0
           }
          ]
         }
        },
        {
         "name": "thal",
         "dtype": "int64",
         "stats": {
          "unique_count": 2,
          "nan_count": 0,
          "min": "1",
          "max": "2",
          "histogram": [
           {
            "bin_start": 1,
            "bin_end": 1.1,
            "count": 1
           },
           {
            "bin_start": 1.1,
            "bin_end": 1.2,
            "count": 0
           },
           {
            "bin_start": 1.2,
            "bin_end": 1.3,
            "count": 0
           },
           {
            "bin_start": 1.3,
            "bin_end": 1.4,
            "count": 0
           },
           {
            "bin_start": 1.4,
            "bin_end": 1.5,
            "count": 0
           },
           {
            "bin_start": 1.5,
            "bin_end": 1.6,
            "count": 0
           },
           {
            "bin_start": 1.6,
            "bin_end": 1.7000000000000002,
            "count": 0
           },
           {
            "bin_start": 1.7000000000000002,
            "bin_end": 1.8,
            "count": 0
           },
           {
            "bin_start": 1.8,
            "bin_end": 1.9,
            "count": 0
           },
           {
            "bin_start": 1.9,
            "bin_end": 2,
            "count": 4
           }
          ]
         }
        },
        {
         "name": "target",
         "dtype": "int64",
         "stats": {
          "unique_count": 1,
          "nan_count": 0,
          "min": "1",
          "max": "1",
          "histogram": [
           {
            "bin_start": 0.5,
            "bin_end": 0.6,
            "count": 0
           },
           {
            "bin_start": 0.6,
            "bin_end": 0.7,
            "count": 0
           },
           {
            "bin_start": 0.7,
            "bin_end": 0.8,
            "count": 0
           },
           {
            "bin_start": 0.8,
            "bin_end": 0.9,
            "count": 0
           },
           {
            "bin_start": 0.9,
            "bin_end": 1,
            "count": 0
           },
           {
            "bin_start": 1,
            "bin_end": 1.1,
            "count": 5
           },
           {
            "bin_start": 1.1,
            "bin_end": 1.2000000000000002,
            "count": 0
           },
           {
            "bin_start": 1.2000000000000002,
            "bin_end": 1.3,
            "count": 0
           },
           {
            "bin_start": 1.3,
            "bin_end": 1.4,
            "count": 0
           },
           {
            "bin_start": 1.4,
            "bin_end": 1.5,
            "count": 0
           }
          ]
         }
        },
        {
         "name": "_deepnote_index_column",
         "dtype": "int64"
        }
       ],
       "rows_top": [
        {
         "age": 63,
         "sex": 1,
         "cp": 3,
         "trestbps": 145,
         "chol": 233,
         "fbs": 1,
         "restecg": 0,
         "thalach": 150,
         "exang": 0,
         "oldpeak": 2.3,
         "slope": 0,
         "ca": 0,
         "thal": 1,
         "target": 1,
         "_deepnote_index_column": 0
        },
        {
         "age": 37,
         "sex": 1,
         "cp": 2,
         "trestbps": 130,
         "chol": 250,
         "fbs": 0,
         "restecg": 1,
         "thalach": 187,
         "exang": 0,
         "oldpeak": 3.5,
         "slope": 0,
         "ca": 0,
         "thal": 2,
         "target": 1,
         "_deepnote_index_column": 1
        },
        {
         "age": 41,
         "sex": 0,
         "cp": 1,
         "trestbps": 130,
         "chol": 204,
         "fbs": 0,
         "restecg": 0,
         "thalach": 172,
         "exang": 0,
         "oldpeak": 1.4,
         "slope": 2,
         "ca": 0,
         "thal": 2,
         "target": 1,
         "_deepnote_index_column": 2
        },
        {
         "age": 56,
         "sex": 1,
         "cp": 1,
         "trestbps": 120,
         "chol": 236,
         "fbs": 0,
         "restecg": 1,
         "thalach": 178,
         "exang": 0,
         "oldpeak": 0.8,
         "slope": 2,
         "ca": 0,
         "thal": 2,
         "target": 1,
         "_deepnote_index_column": 3
        },
        {
         "age": 57,
         "sex": 0,
         "cp": 0,
         "trestbps": 120,
         "chol": 354,
         "fbs": 0,
         "restecg": 1,
         "thalach": 163,
         "exang": 1,
         "oldpeak": 0.6,
         "slope": 2,
         "ca": 0,
         "thal": 2,
         "target": 1,
         "_deepnote_index_column": 4
        }
       ],
       "rows_bottom": null
      },
      "text/plain": "   age  sex  cp  trestbps  chol  fbs  restecg  thalach  exang  oldpeak  slope  \\\n0   63    1   3       145   233    1        0      150      0      2.3      0   \n1   37    1   2       130   250    0        1      187      0      3.5      0   \n2   41    0   1       130   204    0        0      172      0      1.4      2   \n3   56    1   1       120   236    0        1      178      0      0.8      2   \n4   57    0   0       120   354    0        1      163      1      0.6      2   \n\n   ca  thal  target  \n0   0     1       1  \n1   0     2       1  \n2   0     2       1  \n3   0     2       1  \n4   0     2       1  ",
      "text/html": "<div>\n<style scoped>\n    .dataframe tbody tr th:only-of-type {\n        vertical-align: middle;\n    }\n\n    .dataframe tbody tr th {\n        vertical-align: top;\n    }\n\n    .dataframe thead th {\n        text-align: right;\n    }\n</style>\n<table border=\"1\" class=\"dataframe\">\n  <thead>\n    <tr style=\"text-align: right;\">\n      <th></th>\n      <th>age</th>\n      <th>sex</th>\n      <th>cp</th>\n      <th>trestbps</th>\n      <th>chol</th>\n      <th>fbs</th>\n      <th>restecg</th>\n      <th>thalach</th>\n      <th>exang</th>\n      <th>oldpeak</th>\n      <th>slope</th>\n      <th>ca</th>\n      <th>thal</th>\n      <th>target</th>\n    </tr>\n  </thead>\n  <tbody>\n    <tr>\n      <th>0</th>\n      <td>63</td>\n      <td>1</td>\n      <td>3</td>\n      <td>145</td>\n      <td>233</td>\n      <td>1</td>\n      <td>0</td>\n      <td>150</td>\n      <td>0</td>\n      <td>2.3</td>\n      <td>0</td>\n      <td>0</td>\n      <td>1</td>\n      <td>1</td>\n    </tr>\n    <tr>\n      <th>1</th>\n      <td>37</td>\n      <td>1</td>\n      <td>2</td>\n      <td>130</td>\n      <td>250</td>\n      <td>0</td>\n      <td>1</td>\n      <td>187</td>\n      <td>0</td>\n      <td>3.5</td>\n      <td>0</td>\n      <td>0</td>\n      <td>2</td>\n      <td>1</td>\n    </tr>\n    <tr>\n      <th>2</th>\n      <td>41</td>\n      <td>0</td>\n      <td>1</td>\n      <td>130</td>\n      <td>204</td>\n      <td>0</td>\n      <td>0</td>\n      <td>172</td>\n      <td>0</td>\n      <td>1.4</td>\n      <td>2</td>\n      <td>0</td>\n      <td>2</td>\n      <td>1</td>\n    </tr>\n    <tr>\n      <th>3</th>\n      <td>56</td>\n      <td>1</td>\n      <td>1</td>\n      <td>120</td>\n      <td>236</td>\n      <td>0</td>\n      <td>1</td>\n      <td>178</td>\n      <td>0</td>\n      <td>0.8</td>\n      <td>2</td>\n      <td>0</td>\n      <td>2</td>\n      <td>1</td>\n    </tr>\n    <tr>\n      <th>4</th>\n      <td>57</td>\n      <td>0</td>\n      <td>0</td>\n      <td>120</td>\n      <td>354</td>\n      <td>0</td>\n      <td>1</td>\n      <td>163</td>\n      <td>1</td>\n      <td>0.6</td>\n      <td>2</td>\n      <td>0</td>\n      <td>2</td>\n      <td>1</td>\n    </tr>\n  </tbody>\n</table>\n</div>"
     },
     "metadata": {}
    }
   ],
   "execution_count": 3
  },
  {
   "cell_type": "code",
   "source": "df.info(), df.describe()",
   "metadata": {
    "tags": [],
    "cell_id": "00002-9aa2ec9c-62e7-4176-aaf0-771b88b05acc",
    "deepnote_to_be_reexecuted": false,
    "source_hash": "ebb9d023",
    "execution_start": 1620392084715,
    "execution_millis": 42,
    "deepnote_cell_type": "code"
   },
   "outputs": [
    {
     "name": "stdout",
     "text": "<class 'pandas.core.frame.DataFrame'>\nRangeIndex: 303 entries, 0 to 302\nData columns (total 14 columns):\n #   Column    Non-Null Count  Dtype  \n---  ------    --------------  -----  \n 0   age       303 non-null    int64  \n 1   sex       303 non-null    int64  \n 2   cp        303 non-null    int64  \n 3   trestbps  303 non-null    int64  \n 4   chol      303 non-null    int64  \n 5   fbs       303 non-null    int64  \n 6   restecg   303 non-null    int64  \n 7   thalach   303 non-null    int64  \n 8   exang     303 non-null    int64  \n 9   oldpeak   303 non-null    float64\n 10  slope     303 non-null    int64  \n 11  ca        303 non-null    int64  \n 12  thal      303 non-null    int64  \n 13  target    303 non-null    int64  \ndtypes: float64(1), int64(13)\nmemory usage: 33.3 KB\n",
     "output_type": "stream"
    },
    {
     "output_type": "execute_result",
     "execution_count": 4,
     "data": {
      "text/plain": "(None,\n               age         sex          cp    trestbps        chol         fbs  \\\n count  303.000000  303.000000  303.000000  303.000000  303.000000  303.000000   \n mean    54.366337    0.683168    0.966997  131.623762  246.264026    0.148515   \n std      9.082101    0.466011    1.032052   17.538143   51.830751    0.356198   \n min     29.000000    0.000000    0.000000   94.000000  126.000000    0.000000   \n 25%     47.500000    0.000000    0.000000  120.000000  211.000000    0.000000   \n 50%     55.000000    1.000000    1.000000  130.000000  240.000000    0.000000   \n 75%     61.000000    1.000000    2.000000  140.000000  274.500000    0.000000   \n max     77.000000    1.000000    3.000000  200.000000  564.000000    1.000000   \n \n           restecg     thalach       exang     oldpeak       slope          ca  \\\n count  303.000000  303.000000  303.000000  303.000000  303.000000  303.000000   \n mean     0.528053  149.646865    0.326733    1.039604    1.399340    0.729373   \n std      0.525860   22.905161    0.469794    1.161075    0.616226    1.022606   \n min      0.000000   71.000000    0.000000    0.000000    0.000000    0.000000   \n 25%      0.000000  133.500000    0.000000    0.000000    1.000000    0.000000   \n 50%      1.000000  153.000000    0.000000    0.800000    1.000000    0.000000   \n 75%      1.000000  166.000000    1.000000    1.600000    2.000000    1.000000   \n max      2.000000  202.000000    1.000000    6.200000    2.000000    4.000000   \n \n              thal      target  \n count  303.000000  303.000000  \n mean     2.313531    0.544554  \n std      0.612277    0.498835  \n min      0.000000    0.000000  \n 25%      2.000000    0.000000  \n 50%      2.000000    1.000000  \n 75%      3.000000    1.000000  \n max      3.000000    1.000000  )"
     },
     "metadata": {}
    }
   ],
   "execution_count": 4
  },
  {
   "cell_type": "code",
   "source": "df.isna().sum()",
   "metadata": {
    "tags": [],
    "cell_id": "00003-3f19787f-619a-482b-80d2-9a22d5776c36",
    "deepnote_to_be_reexecuted": false,
    "source_hash": "d794f466",
    "execution_start": 1620392086081,
    "execution_millis": 14,
    "deepnote_cell_type": "code"
   },
   "outputs": [
    {
     "output_type": "execute_result",
     "execution_count": 5,
     "data": {
      "text/plain": "age         0\nsex         0\ncp          0\ntrestbps    0\nchol        0\nfbs         0\nrestecg     0\nthalach     0\nexang       0\noldpeak     0\nslope       0\nca          0\nthal        0\ntarget      0\ndtype: int64"
     },
     "metadata": {}
    }
   ],
   "execution_count": 5
  },
  {
   "cell_type": "code",
   "source": "df.nunique()",
   "metadata": {
    "tags": [],
    "cell_id": "00006-52a05e81-f838-420b-885c-006a8182894f",
    "deepnote_to_be_reexecuted": false,
    "source_hash": "ae6b491",
    "execution_start": 1620392086591,
    "execution_millis": 12,
    "deepnote_cell_type": "code"
   },
   "outputs": [
    {
     "output_type": "execute_result",
     "execution_count": 6,
     "data": {
      "text/plain": "age          41\nsex           2\ncp            4\ntrestbps     49\nchol        152\nfbs           2\nrestecg       3\nthalach      91\nexang         2\noldpeak      40\nslope         3\nca            5\nthal          4\ntarget        2\ndtype: int64"
     },
     "metadata": {}
    }
   ],
   "execution_count": 6
  },
  {
   "cell_type": "code",
   "source": "sns.set(style=\"white\") \nplt.rcParams['figure.figsize'] = (15, 10) \nsns.heatmap(df.corr(), annot = True, linewidths=.5, cmap=\"Blues\")\nplt.title('Corelation Between Variables', fontsize = 30)\nplt.show()",
   "metadata": {
    "tags": [],
    "cell_id": "00005-98a25249-001e-4ed5-a0ab-164443206715",
    "deepnote_to_be_reexecuted": false,
    "source_hash": "6769a942",
    "execution_start": 1620392087689,
    "execution_millis": 1727,
    "deepnote_cell_type": "code"
   },
   "outputs": [
    {
     "data": {
      "text/plain": "<Figure size 1080x720 with 2 Axes>",
      "image/png": "[encoded data removed]"
     },
     "metadata": {
      "image/png": {
       "width": 844,
       "height": 606
      }
     },
     "output_type": "display_data"
    }
   ],
   "execution_count": 7
  },
  {
   "cell_type": "code",
   "source": "vars= df.columns\nfor var in vars:\n    df[var].plot.hist(bins=500)\n    plt.title(var)\n    plt.show();",
   "metadata": {
    "tags": [],
    "cell_id": "00006-2e438710-e5cf-4871-b10d-84ddf7867adb",
    "deepnote_to_be_reexecuted": false,
    "source_hash": "c7ef951c",
    "execution_start": 1620392090195,
    "execution_millis": 14490,
    "deepnote_cell_type": "code"
   },
   "outputs": [
    {
     "data": {
      "text/plain": "<Figure size 1080x720 with 1 Axes>",
      "image/png": "[encoded data removed]"
     },
     "metadata": {
      "image/png": {
       "width": 902,
       "height": 593
      }
     },
     "output_type": "display_data"
    },
    {
     "data": {
      "text/plain": "<Figure size 1080x720 with 1 Axes>",
      "image/png": "[encoded data removed]"
     },
     "metadata": {
      "image/png": {
       "width": 898,
       "height": 593
      }
     },
     "output_type": "display_data"
    },
    {
     "data": {
      "text/plain": "<Figure size 1080x720 with 1 Axes>",
      "image/png": "[encoded data removed]"
     },
     "metadata": {
      "image/png": {
       "width": 898,
       "height": 593
      }
     },
     "output_type": "display_data"
    },
    {
     "data": {
      "text/plain": "<Figure size 1080x720 with 1 Axes>",
      "image/png": "[encoded data removed]"
     },
     "metadata": {
      "image/png": {
       "width": 891,
       "height": 593
      }
     },
     "output_type": "display_data"
    },
    {
     "data": {
      "text/plain": "<Figure size 1080x720 with 1 Axes>",
      "image/png": "[encoded data removed]"
     },
     "metadata": {
      "image/png": {
       "width": 884,
       "height": 593
      }
     },
     "output_type": "display_data"
    },
    {
     "data": {
      "text/plain": "<Figure size 1080x720 with 1 Axes>",
      "image/png": "[encoded data removed]"
     },
     "metadata": {
      "image/png": {
       "width": 898,
       "height": 593
      }
     },
     "output_type": "display_data"
    },
    {
     "data": {
      "text/plain": "<Figure size 1080x720 with 1 Axes>",
      "image/png": "[encoded data removed]"
     },
     "metadata": {
      "image/png": {
       "width": 898,
       "height": 593
      }
     },
     "output_type": "display_data"
    },
    {
     "data": {
      "text/plain": "<Figure size 1080x720 with 1 Axes>",
      "image/png": "[encoded data removed]"
     },
     "metadata": {
      "image/png": {
       "width": 891,
       "height": 593
      }
     },
     "output_type": "display_data"
    },
    {
     "data": {
      "text/plain": "<Figure size 1080x720 with 1 Axes>",
      "image/png": "[encoded data removed]"
     },
     "metadata": {
      "image/png": {
       "width": 898,
       "height": 593
      }
     },
     "output_type": "display_data"
    },
    {
     "data": {
      "text/plain": "<Figure size 1080x720 with 1 Axes>",
      "image/png": "[encoded data removed]"
     },
     "metadata": {
      "image/png": {
       "width": 898,
       "height": 593
      }
     },
     "output_type": "display_data"
    },
    {
     "data": {
      "text/plain": "<Figure size 1080x720 with 1 Axes>",
      "image/png": "[encoded data removed]"
     },
     "metadata": {
      "image/png": {
       "width": 898,
       "height": 593
      }
     },
     "output_type": "display_data"
    },
    {
     "data": {
      "text/plain": "<Figure size 1080x720 with 1 Axes>",
      "image/png": "[encoded data removed]"
     },
     "metadata": {
      "image/png": {
       "width": 898,
       "height": 593
      }
     },
     "output_type": "display_data"
    },
    {
     "data": {
      "text/plain": "<Figure size 1080x720 with 1 Axes>",
      "image/png": "[encoded data removed]"
     },
     "metadata": {
      "image/png": {
       "width": 898,
       "height": 593
      }
     },
     "output_type": "display_data"
    },
    {
     "data": {
      "text/plain": "<Figure size 1080x720 with 1 Axes>",
      "image/png": "[encoded data removed]"
     },
     "metadata": {
      "image/png": {
       "width": 898,
       "height": 593
      }
     },
     "output_type": "display_data"
    }
   ],
   "execution_count": 8
  },
  {
   "cell_type": "code",
   "source": "df.describe()",
   "metadata": {
    "tags": [],
    "cell_id": "00007-1edae554-b2ea-4f96-9c50-505691eec882",
    "deepnote_to_be_reexecuted": false,
    "source_hash": "f88152d9",
    "execution_start": 1620392104695,
    "execution_millis": 91,
    "deepnote_cell_type": "code"
   },
   "outputs": [
    {
     "output_type": "execute_result",
     "execution_count": 9,
     "data": {
      "application/vnd.deepnote.dataframe.v2+json": {
       "row_count": 8,
       "column_count": 14,
       "columns": [
        {
         "name": "age",
         "dtype": "float64",
         "stats": {
          "unique_count": 8,
          "nan_count": 0,
          "min": "9.082100989837857",
          "max": "303.0",
          "histogram": [
           {
            "bin_start": 9.082100989837857,
            "bin_end": 38.47389089085407,
            "count": 2
           },
           {
            "bin_start": 38.47389089085407,
            "bin_end": 67.86568079187029,
            "count": 4
           },
           {
            "bin_start": 67.86568079187029,
            "bin_end": 97.25747069288651,
            "count": 1
           },
           {
            "bin_start": 97.25747069288651,
            "bin_end": 126.64926059390272,
            "count": 0
           },
           {
            "bin_start": 126.64926059390272,
            "bin_end": 156.04105049491895,
            "count": 0
           },
           {
            "bin_start": 156.04105049491895,
            "bin_end": 185.4328403959352,
            "count": 0
           },
           {
            "bin_start": 185.4328403959352,
            "bin_end": 214.8246302969514,
            "count": 0
           },
           {
            "bin_start": 214.8246302969514,
            "bin_end": 244.2164201979676,
            "count": 0
           },
           {
            "bin_start": 244.2164201979676,
            "bin_end": 273.6082100989838,
            "count": 0
           },
           {
            "bin_start": 273.6082100989838,
            "bin_end": 303,
            "count": 1
           }
          ]
         }
        },
        {
         "name": "sex",
         "dtype": "float64",
         "stats": {
          "unique_count": 5,
          "nan_count": 0,
          "min": "0.0",
          "max": "303.0",
          "histogram": [
           {
            "bin_start": 0,
            "bin_end": 30.3,
            "count": 7
           },
           {
            "bin_start": 30.3,
            "bin_end": 60.6,
            "count": 0
           },
           {
            "bin_start": 60.6,
            "bin_end": 90.9,
            "count": 0
           },
           {
            "bin_start": 90.9,
            "bin_end": 121.2,
            "count": 0
           },
           {
            "bin_start": 121.2,
            "bin_end": 151.5,
            "count": 0
           },
           {
            "bin_start": 151.5,
            "bin_end": 181.8,
            "count": 0
           },
           {
            "bin_start": 181.8,
            "bin_end": 212.1,
            "count": 0
           },
           {
            "bin_start": 212.1,
            "bin_end": 242.4,
            "count": 0
           },
           {
            "bin_start": 242.4,
            "bin_end": 272.7,
            "count": 0
           },
           {
            "bin_start": 272.7,
            "bin_end": 303,
            "count": 1
           }
          ]
         }
        },
        {
         "name": "cp",
         "dtype": "float64",
         "stats": {
          "unique_count": 7,
          "nan_count": 0,
          "min": "0.0",
          "max": "303.0",
          "histogram": [
           {
            "bin_start": 0,
            "bin_end": 30.3,
            "count": 7
           },
           {
            "bin_start": 30.3,
            "bin_end": 60.6,
            "count": 0
           },
           {
            "bin_start": 60.6,
            "bin_end": 90.9,
            "count": 0
           },
           {
            "bin_start": 90.9,
            "bin_end": 121.2,
            "count": 0
           },
           {
            "bin_start": 121.2,
            "bin_end": 151.5,
            "count": 0
           },
           {
            "bin_start": 151.5,
            "bin_end": 181.8,
            "count": 0
           },
           {
            "bin_start": 181.8,
            "bin_end": 212.1,
            "count": 0
           },
           {
            "bin_start": 212.1,
            "bin_end": 242.4,
            "count": 0
           },
           {
            "bin_start": 242.4,
            "bin_end": 272.7,
            "count": 0
           },
           {
            "bin_start": 272.7,
            "bin_end": 303,
            "count": 1
           }
          ]
         }
        },
        {
         "name": "trestbps",
         "dtype": "float64",
         "stats": {
          "unique_count": 8,
          "nan_count": 0,
          "min": "17.5381428135171",
          "max": "303.0",
          "histogram": [
           {
            "bin_start": 17.5381428135171,
            "bin_end": 46.084328532165394,
            "count": 1
           },
           {
            "bin_start": 46.084328532165394,
            "bin_end": 74.63051425081369,
            "count": 0
           },
           {
            "bin_start": 74.63051425081369,
            "bin_end": 103.17669996946198,
            "count": 1
           },
           {
            "bin_start": 103.17669996946198,
            "bin_end": 131.72288568811027,
            "count": 3
           },
           {
            "bin_start": 131.72288568811027,
            "bin_end": 160.26907140675857,
            "count": 1
           },
           {
            "bin_start": 160.26907140675857,
            "bin_end": 188.81525712540687,
            "count": 0
           },
           {
            "bin_start": 188.81525712540687,
            "bin_end": 217.36144284405515,
            "count": 1
           },
           {
            "bin_start": 217.36144284405515,
            "bin_end": 245.90762856270345,
            "count": 0
           },
           {
            "bin_start": 245.90762856270345,
            "bin_end": 274.4538142813517,
            "count": 0
           },
           {
            "bin_start": 274.4538142813517,
            "bin_end": 303,
            "count": 1
           }
          ]
         }
        },
        {
         "name": "chol",
         "dtype": "float64",
         "stats": {
          "unique_count": 8,
          "nan_count": 0,
          "min": "51.83075098793003",
          "max": "564.0",
          "histogram": [
           {
            "bin_start": 51.83075098793003,
            "bin_end": 103.04767588913703,
            "count": 1
           },
           {
            "bin_start": 103.04767588913703,
            "bin_end": 154.26460079034402,
            "count": 1
           },
           {
            "bin_start": 154.26460079034402,
            "bin_end": 205.481525691551,
            "count": 0
           },
           {
            "bin_start": 205.481525691551,
            "bin_end": 256.69845059275804,
            "count": 3
           },
           {
            "bin_start": 256.69845059275804,
            "bin_end": 307.91537549396503,
            "count": 2
           },
           {
            "bin_start": 307.91537549396503,
            "bin_end": 359.132300395172,
            "count": 0
           },
           {
            "bin_start": 359.132300395172,
            "bin_end": 410.349225296379,
            "count": 0
           },
           {
            "bin_start": 410.349225296379,
            "bin_end": 461.566150197586,
            "count": 0
           },
           {
            "bin_start": 461.566150197586,
            "bin_end": 512.783075098793,
            "count": 0
           },
           {
            "bin_start": 512.783075098793,
            "bin_end": 564,
            "count": 1
           }
          ]
         }
        },
        {
         "name": "fbs",
         "dtype": "float64",
         "stats": {
          "unique_count": 5,
          "nan_count": 0,
          "min": "0.0",
          "max": "303.0",
          "histogram": [
           {
            "bin_start": 0,
            "bin_end": 30.3,
            "count": 7
           },
           {
            "bin_start": 30.3,
            "bin_end": 60.6,
            "count": 0
           },
           {
            "bin_start": 60.6,
            "bin_end": 90.9,
            "count": 0
           },
           {
            "bin_start": 90.9,
            "bin_end": 121.2,
            "count": 0
           },
           {
            "bin_start": 121.2,
            "bin_end": 151.5,
            "count": 0
           },
           {
            "bin_start": 151.5,
            "bin_end": 181.8,
            "count": 0
           },
           {
            "bin_start": 181.8,
            "bin_end": 212.1,
            "count": 0
           },
           {
            "bin_start": 212.1,
            "bin_end": 242.4,
            "count": 0
           },
           {
            "bin_start": 242.4,
            "bin_end": 272.7,
            "count": 0
           },
           {
            "bin_start": 272.7,
            "bin_end": 303,
            "count": 1
           }
          ]
         }
        },
        {
         "name": "restecg",
         "dtype": "float64",
         "stats": {
          "unique_count": 6,
          "nan_count": 0,
          "min": "0.0",
          "max": "303.0",
          "histogram": [
           {
            "bin_start": 0,
            "bin_end": 30.3,
            "count": 7
           },
           {
            "bin_start": 30.3,
            "bin_end": 60.6,
            "count": 0
           },
           {
            "bin_start": 60.6,
            "bin_end": 90.9,
            "count": 0
           },
           {
            "bin_start": 90.9,
            "bin_end": 121.2,
            "count": 0
           },
           {
            "bin_start": 121.2,
            "bin_end": 151.5,
            "count": 0
           },
           {
            "bin_start": 151.5,
            "bin_end": 181.8,
            "count": 0
           },
           {
            "bin_start": 181.8,
            "bin_end": 212.1,
            "count": 0
           },
           {
            "bin_start": 212.1,
            "bin_end": 242.4,
            "count": 0
           },
           {
            "bin_start": 242.4,
            "bin_end": 272.7,
            "count": 0
           },
           {
            "bin_start": 272.7,
            "bin_end": 303,
            "count": 1
           }
          ]
         }
        },
        {
         "name": "thalach",
         "dtype": "float64",
         "stats": {
          "unique_count": 8,
          "nan_count": 0,
          "min": "22.905161114914094",
          "max": "303.0",
          "histogram": [
           {
            "bin_start": 22.905161114914094,
            "bin_end": 50.914645003422685,
            "count": 1
           },
           {
            "bin_start": 50.914645003422685,
            "bin_end": 78.92412889193128,
            "count": 1
           },
           {
            "bin_start": 78.92412889193128,
            "bin_end": 106.93361278043987,
            "count": 0
           },
           {
            "bin_start": 106.93361278043987,
            "bin_end": 134.94309666894844,
            "count": 1
           },
           {
            "bin_start": 134.94309666894844,
            "bin_end": 162.95258055745705,
            "count": 2
           },
           {
            "bin_start": 162.95258055745705,
            "bin_end": 190.96206444596567,
            "count": 1
           },
           {
            "bin_start": 190.96206444596567,
            "bin_end": 218.97154833447422,
            "count": 1
           },
           {
            "bin_start": 218.97154833447422,
            "bin_end": 246.98103222298283,
            "count": 0
           },
           {
            "bin_start": 246.98103222298283,
            "bin_end": 274.9905161114914,
            "count": 0
           },
           {
            "bin_start": 274.9905161114914,
            "bin_end": 303,
            "count": 1
           }
          ]
         }
        },
        {
         "name": "exang",
         "dtype": "float64",
         "stats": {
          "unique_count": 5,
          "nan_count": 0,
          "min": "0.0",
          "max": "303.0",
          "histogram": [
           {
            "bin_start": 0,
            "bin_end": 30.3,
            "count": 7
           },
           {
            "bin_start": 30.3,
            "bin_end": 60.6,
            "count": 0
           },
           {
            "bin_start": 60.6,
            "bin_end": 90.9,
            "count": 0
           },
           {
            "bin_start": 90.9,
            "bin_end": 121.2,
            "count": 0
           },
           {
            "bin_start": 121.2,
            "bin_end": 151.5,
            "count": 0
           },
           {
            "bin_start": 151.5,
            "bin_end": 181.8,
            "count": 0
           },
           {
            "bin_start": 181.8,
            "bin_end": 212.1,
            "count": 0
           },
           {
            "bin_start": 212.1,
            "bin_end": 242.4,
            "count": 0
           },
           {
            "bin_start": 242.4,
            "bin_end": 272.7,
            "count": 0
           },
           {
            "bin_start": 272.7,
            "bin_end": 303,
            "count": 1
           }
          ]
         }
        },
        {
         "name": "oldpeak",
         "dtype": "float64",
         "stats": {
          "unique_count": 7,
          "nan_count": 0,
          "min": "0.0",
          "max": "303.0",
          "histogram": [
           {
            "bin_start": 0,
            "bin_end": 30.3,
            "count": 7
           },
           {
            "bin_start": 30.3,
            "bin_end": 60.6,
            "count": 0
           },
           {
            "bin_start": 60.6,
            "bin_end": 90.9,
            "count": 0
           },
           {
            "bin_start": 90.9,
            "bin_end": 121.2,
            "count": 0
           },
           {
            "bin_start": 121.2,
            "bin_end": 151.5,
            "count": 0
           },
           {
            "bin_start": 151.5,
            "bin_end": 181.8,
            "count": 0
           },
           {
            "bin_start": 181.8,
            "bin_end": 212.1,
            "count": 0
           },
           {
            "bin_start": 212.1,
            "bin_end": 242.4,
            "count": 0
           },
           {
            "bin_start": 242.4,
            "bin_end": 272.7,
            "count": 0
           },
           {
            "bin_start": 272.7,
            "bin_end": 303,
            "count": 1
           }
          ]
         }
        },
        {
         "name": "slope",
         "dtype": "float64",
         "stats": {
          "unique_count": 6,
          "nan_count": 0,
          "min": "0.0",
          "max": "303.0",
          "histogram": [
           {
            "bin_start": 0,
            "bin_end": 30.3,
            "count": 7
           },
           {
            "bin_start": 30.3,
            "bin_end": 60.6,
            "count": 0
           },
           {
            "bin_start": 60.6,
            "bin_end": 90.9,
            "count": 0
           },
           {
            "bin_start": 90.9,
            "bin_end": 121.2,
            "count": 0
           },
           {
            "bin_start": 121.2,
            "bin_end": 151.5,
            "count": 0
           },
           {
            "bin_start": 151.5,
            "bin_end": 181.8,
            "count": 0
           },
           {
            "bin_start": 181.8,
            "bin_end": 212.1,
            "count": 0
           },
           {
            "bin_start": 212.1,
            "bin_end": 242.4,
            "count": 0
           },
           {
            "bin_start": 242.4,
            "bin_end": 272.7,
            "count": 0
           },
           {
            "bin_start": 272.7,
            "bin_end": 303,
            "count": 1
           }
          ]
         }
        },
        {
         "name": "ca",
         "dtype": "float64",
         "stats": {
          "unique_count": 6,
          "nan_count": 0,
          "min": "0.0",
          "max": "303.0",
          "histogram": [
           {
            "bin_start": 0,
            "bin_end": 30.3,
            "count": 7
           },
           {
            "bin_start": 30.3,
            "bin_end": 60.6,
            "count": 0
           },
           {
            "bin_start": 60.6,
            "bin_end": 90.9,
            "count": 0
           },
           {
            "bin_start": 90.9,
            "bin_end": 121.2,
            "count": 0
           },
           {
            "bin_start": 121.2,
            "bin_end": 151.5,
            "count": 0
           },
           {
            "bin_start": 151.5,
            "bin_end": 181.8,
            "count": 0
           },
           {
            "bin_start": 181.8,
            "bin_end": 212.1,
            "count": 0
           },
           {
            "bin_start": 212.1,
            "bin_end": 242.4,
            "count": 0
           },
           {
            "bin_start": 242.4,
            "bin_end": 272.7,
            "count": 0
           },
           {
            "bin_start": 272.7,
            "bin_end": 303,
            "count": 1
           }
          ]
         }
        },
        {
         "name": "thal",
         "dtype": "float64",
         "stats": {
          "unique_count": 6,
          "nan_count": 0,
          "min": "0.0",
          "max": "303.0",
          "histogram": [
           {
            "bin_start": 0,
            "bin_end": 30.3,
            "count": 7
           },
           {
            "bin_start": 30.3,
            "bin_end": 60.6,
            "count": 0
           },
           {
            "bin_start": 60.6,
            "bin_end": 90.9,
            "count": 0
           },
           {
            "bin_start": 90.9,
            "bin_end": 121.2,
            "count": 0
           },
           {
            "bin_start": 121.2,
            "bin_end": 151.5,
            "count": 0
           },
           {
            "bin_start": 151.5,
            "bin_end": 181.8,
            "count": 0
           },
           {
            "bin_start": 181.8,
            "bin_end": 212.1,
            "count": 0
           },
           {
            "bin_start": 212.1,
            "bin_end": 242.4,
            "count": 0
           },
           {
            "bin_start": 242.4,
            "bin_end": 272.7,
            "count": 0
           },
           {
            "bin_start": 272.7,
            "bin_end": 303,
            "count": 1
           }
          ]
         }
        },
        {
         "name": "target",
         "dtype": "float64",
         "stats": {
          "unique_count": 5,
          "nan_count": 0,
          "min": "0.0",
          "max": "303.0",
          "histogram": [
           {
            "bin_start": 0,
            "bin_end": 30.3,
            "count": 7
           },
           {
            "bin_start": 30.3,
            "bin_end": 60.6,
            "count": 0
           },
           {
            "bin_start": 60.6,
            "bin_end": 90.9,
            "count": 0
           },
           {
            "bin_start": 90.9,
            "bin_end": 121.2,
            "count": 0
           },
           {
            "bin_start": 121.2,
            "bin_end": 151.5,
            "count": 0
           },
           {
            "bin_start": 151.5,
            "bin_end": 181.8,
            "count": 0
           },
           {
            "bin_start": 181.8,
            "bin_end": 212.1,
            "count": 0
           },
           {
            "bin_start": 212.1,
            "bin_end": 242.4,
            "count": 0
           },
           {
            "bin_start": 242.4,
            "bin_end": 272.7,
            "count": 0
           },
           {
            "bin_start": 272.7,
            "bin_end": 303,
            "count": 1
           }
          ]
         }
        },
        {
         "name": "_deepnote_index_column",
         "dtype": "object"
        }
       ],
       "rows_top": [
        {
         "age": 303,
         "sex": 303,
         "cp": 303,
         "trestbps": 303,
         "chol": 303,
         "fbs": 303,
         "restecg": 303,
         "thalach": 303,
         "exang": 303,
         "oldpeak": 303,
         "slope": 303,
         "ca": 303,
         "thal": 303,
         "target": 303,
         "_deepnote_index_column": "count"
        },
        {
         "age": 54.366336633663366,
         "sex": 0.6831683168316832,
         "cp": 0.966996699669967,
         "trestbps": 131.62376237623764,
         "chol": 246.26402640264027,
         "fbs": 0.1485148514851485,
         "restecg": 0.528052805280528,
         "thalach": 149.64686468646866,
         "exang": 0.32673267326732675,
         "oldpeak": 1.0396039603960396,
         "slope": 1.3993399339933994,
         "ca": 0.7293729372937293,
         "thal": 2.3135313531353137,
         "target": 0.5445544554455446,
         "_deepnote_index_column": "mean"
        },
        {
         "age": 9.082100989837857,
         "sex": 0.46601082333962385,
         "cp": 1.0320524894832985,
         "trestbps": 17.5381428135171,
         "chol": 51.83075098793003,
         "fbs": 0.35619787492797644,
         "restecg": 0.525859596359298,
         "thalach": 22.905161114914094,
         "exang": 0.4697944645223165,
         "oldpeak": 1.1610750220686348,
         "slope": 0.6162261453459619,
         "ca": 1.022606364969327,
         "thal": 0.6122765072781409,
         "target": 0.4988347841643913,
         "_deepnote_index_column": "std"
        },
        {
         "age": 29,
         "sex": 0,
         "cp": 0,
         "trestbps": 94,
         "chol": 126,
         "fbs": 0,
         "restecg": 0,
         "thalach": 71,
         "exang": 0,
         "oldpeak": 0,
         "slope": 0,
         "ca": 0,
         "thal": 0,
         "target": 0,
         "_deepnote_index_column": "min"
        },
        {
         "age": 47.5,
         "sex": 0,
         "cp": 0,
         "trestbps": 120,
         "chol": 211,
         "fbs": 0,
         "restecg": 0,
         "thalach": 133.5,
         "exang": 0,
         "oldpeak": 0,
         "slope": 1,
         "ca": 0,
         "thal": 2,
         "target": 0,
         "_deepnote_index_column": "25%"
        },
        {
         "age": 55,
         "sex": 1,
         "cp": 1,
         "trestbps": 130,
         "chol": 240,
         "fbs": 0,
         "restecg": 1,
         "thalach": 153,
         "exang": 0,
         "oldpeak": 0.8,
         "slope": 1,
         "ca": 0,
         "thal": 2,
         "target": 1,
         "_deepnote_index_column": "50%"
        },
        {
         "age": 61,
         "sex": 1,
         "cp": 2,
         "trestbps": 140,
         "chol": 274.5,
         "fbs": 0,
         "restecg": 1,
         "thalach": 166,
         "exang": 1,
         "oldpeak": 1.6,
         "slope": 2,
         "ca": 1,
         "thal": 3,
         "target": 1,
         "_deepnote_index_column": "75%"
        },
        {
         "age": 77,
         "sex": 1,
         "cp": 3,
         "trestbps": 200,
         "chol": 564,
         "fbs": 1,
         "restecg": 2,
         "thalach": 202,
         "exang": 1,
         "oldpeak": 6.2,
         "slope": 2,
         "ca": 4,
         "thal": 3,
         "target": 1,
         "_deepnote_index_column": "max"
        }
       ],
       "rows_bottom": null
      },
      "text/plain": "              age         sex          cp    trestbps        chol         fbs  \\\ncount  303.000000  303.000000  303.000000  303.000000  303.000000  303.000000   \nmean    54.366337    0.683168    0.966997  131.623762  246.264026    0.148515   \nstd      9.082101    0.466011    1.032052   17.538143   51.830751    0.356198   \nmin     29.000000    0.000000    0.000000   94.000000  126.000000    0.000000   \n25%     47.500000    0.000000    0.000000  120.000000  211.000000    0.000000   \n50%     55.000000    1.000000    1.000000  130.000000  240.000000    0.000000   \n75%     61.000000    1.000000    2.000000  140.000000  274.500000    0.000000   \nmax     77.000000    1.000000    3.000000  200.000000  564.000000    1.000000   \n\n          restecg     thalach       exang     oldpeak       slope          ca  \\\ncount  303.000000  303.000000  303.000000  303.000000  303.000000  303.000000   \nmean     0.528053  149.646865    0.326733    1.039604    1.399340    0.729373   \nstd      0.525860   22.905161    0.469794    1.161075    0.616226    1.022606   \nmin      0.000000   71.000000    0.000000    0.000000    0.000000    0.000000   \n25%      0.000000  133.500000    0.000000    0.000000    1.000000    0.000000   \n50%      1.000000  153.000000    0.000000    0.800000    1.000000    0.000000   \n75%      1.000000  166.000000    1.000000    1.600000    2.000000    1.000000   \nmax      2.000000  202.000000    1.000000    6.200000    2.000000    4.000000   \n\n             thal      target  \ncount  303.000000  303.000000  \nmean     2.313531    0.544554  \nstd      0.612277    0.498835  \nmin      0.000000    0.000000  \n25%      2.000000    0.000000  \n50%      2.000000    1.000000  \n75%      3.000000    1.000000  \nmax      3.000000    1.000000  ",
      "text/html": "<div>\n<style scoped>\n    .dataframe tbody tr th:only-of-type {\n        vertical-align: middle;\n    }\n\n    .dataframe tbody tr th {\n        vertical-align: top;\n    }\n\n    .dataframe thead th {\n        text-align: right;\n    }\n</style>\n<table border=\"1\" class=\"dataframe\">\n  <thead>\n    <tr style=\"text-align: right;\">\n      <th></th>\n      <th>age</th>\n      <th>sex</th>\n      <th>cp</th>\n      <th>trestbps</th>\n      <th>chol</th>\n      <th>fbs</th>\n      <th>restecg</th>\n      <th>thalach</th>\n      <th>exang</th>\n      <th>oldpeak</th>\n      <th>slope</th>\n      <th>ca</th>\n      <th>thal</th>\n      <th>target</th>\n    </tr>\n  </thead>\n  <tbody>\n    <tr>\n      <th>count</th>\n      <td>303.000000</td>\n      <td>303.000000</td>\n      <td>303.000000</td>\n      <td>303.000000</td>\n      <td>303.000000</td>\n      <td>303.000000</td>\n      <td>303.000000</td>\n      <td>303.000000</td>\n      <td>303.000000</td>\n      <td>303.000000</td>\n      <td>303.000000</td>\n      <td>303.000000</td>\n      <td>303.000000</td>\n      <td>303.000000</td>\n    </tr>\n    <tr>\n      <th>mean</th>\n      <td>54.366337</td>\n      <td>0.683168</td>\n      <td>0.966997</td>\n      <td>131.623762</td>\n      <td>246.264026</td>\n      <td>0.148515</td>\n      <td>0.528053</td>\n      <td>149.646865</td>\n      <td>0.326733</td>\n      <td>1.039604</td>\n      <td>1.399340</td>\n      <td>0.729373</td>\n      <td>2.313531</td>\n      <td>0.544554</td>\n    </tr>\n    <tr>\n      <th>std</th>\n      <td>9.082101</td>\n      <td>0.466011</td>\n      <td>1.032052</td>\n      <td>17.538143</td>\n      <td>51.830751</td>\n      <td>0.356198</td>\n      <td>0.525860</td>\n      <td>22.905161</td>\n      <td>0.469794</td>\n      <td>1.161075</td>\n      <td>0.616226</td>\n      <td>1.022606</td>\n      <td>0.612277</td>\n      <td>0.498835</td>\n    </tr>\n    <tr>\n      <th>min</th>\n      <td>29.000000</td>\n      <td>0.000000</td>\n      <td>0.000000</td>\n      <td>94.000000</td>\n      <td>126.000000</td>\n      <td>0.000000</td>\n      <td>0.000000</td>\n      <td>71.000000</td>\n      <td>0.000000</td>\n      <td>0.000000</td>\n      <td>0.000000</td>\n      <td>0.000000</td>\n      <td>0.000000</td>\n      <td>0.000000</td>\n    </tr>\n    <tr>\n      <th>25%</th>\n      <td>47.500000</td>\n      <td>0.000000</td>\n      <td>0.000000</td>\n      <td>120.000000</td>\n      <td>211.000000</td>\n      <td>0.000000</td>\n      <td>0.000000</td>\n      <td>133.500000</td>\n      <td>0.000000</td>\n      <td>0.000000</td>\n      <td>1.000000</td>\n      <td>0.000000</td>\n      <td>2.000000</td>\n      <td>0.000000</td>\n    </tr>\n    <tr>\n      <th>50%</th>\n      <td>55.000000</td>\n      <td>1.000000</td>\n      <td>1.000000</td>\n      <td>130.000000</td>\n      <td>240.000000</td>\n      <td>0.000000</td>\n      <td>1.000000</td>\n      <td>153.000000</td>\n      <td>0.000000</td>\n      <td>0.800000</td>\n      <td>1.000000</td>\n      <td>0.000000</td>\n      <td>2.000000</td>\n      <td>1.000000</td>\n    </tr>\n    <tr>\n      <th>75%</th>\n      <td>61.000000</td>\n      <td>1.000000</td>\n      <td>2.000000</td>\n      <td>140.000000</td>\n      <td>274.500000</td>\n      <td>0.000000</td>\n      <td>1.000000</td>\n      <td>166.000000</td>\n      <td>1.000000</td>\n      <td>1.600000</td>\n      <td>2.000000</td>\n      <td>1.000000</td>\n      <td>3.000000</td>\n      <td>1.000000</td>\n    </tr>\n    <tr>\n      <th>max</th>\n      <td>77.000000</td>\n      <td>1.000000</td>\n      <td>3.000000</td>\n      <td>200.000000</td>\n      <td>564.000000</td>\n      <td>1.000000</td>\n      <td>2.000000</td>\n      <td>202.000000</td>\n      <td>1.000000</td>\n      <td>6.200000</td>\n      <td>2.000000</td>\n      <td>4.000000</td>\n      <td>3.000000</td>\n      <td>1.000000</td>\n    </tr>\n  </tbody>\n</table>\n</div>"
     },
     "metadata": {}
    }
   ],
   "execution_count": 9
  },
  {
   "cell_type": "code",
   "source": "df.loc[df['ca'] == 4, 'ca'] = np.NaN\ndf.loc[df['thal'] == 0, 'thal'] = np.NaN\n# df = df.fillna(df.median())\ndf.isna().sum()",
   "metadata": {
    "tags": [],
    "cell_id": "00008-e58401a1-369a-4357-9f07-c128e4e0314c",
    "deepnote_to_be_reexecuted": false,
    "source_hash": "a63e6512",
    "execution_start": 1620392106525,
    "execution_millis": 16,
    "deepnote_cell_type": "code"
   },
   "outputs": [
    {
     "output_type": "execute_result",
     "execution_count": 10,
     "data": {
      "text/plain": "age         0\nsex         0\ncp          0\ntrestbps    0\nchol        0\nfbs         0\nrestecg     0\nthalach     0\nexang       0\noldpeak     0\nslope       0\nca          5\nthal        2\ntarget      0\ndtype: int64"
     },
     "metadata": {}
    }
   ],
   "execution_count": 10
  },
  {
   "cell_type": "code",
   "source": "print(df.corr()[\"target\"].abs().sort_values(ascending=False))",
   "metadata": {
    "tags": [],
    "cell_id": "00011-9bf169b2-05d1-415f-9702-3bbb2702a2a3",
    "deepnote_to_be_reexecuted": false,
    "source_hash": "bd061fe0",
    "execution_start": 1620392108020,
    "execution_millis": 47,
    "deepnote_cell_type": "code"
   },
   "outputs": [
    {
     "name": "stdout",
     "text": "target      1.000000\nca          0.464357\nexang       0.436757\ncp          0.433798\noldpeak     0.430696\nthalach     0.421741\nthal        0.365264\nslope       0.345877\nsex         0.280937\nage         0.225439\ntrestbps    0.144931\nrestecg     0.137230\nchol        0.085239\nfbs         0.028046\nName: target, dtype: float64\n",
     "output_type": "stream"
    }
   ],
   "execution_count": 11
  },
  {
   "cell_type": "code",
   "source": "#target\ny = df[\"target\"]\nsns.countplot(y)\ntarget_temp = df.target.value_counts()\n\nprint(target_temp)",
   "metadata": {
    "tags": [],
    "cell_id": "00012-6491d8da-c6b8-4f59-a061-e504d1e7fdb4",
    "deepnote_to_be_reexecuted": false,
    "source_hash": "48cd8ef",
    "execution_start": 1620392109929,
    "execution_millis": 172,
    "deepnote_cell_type": "code"
   },
   "outputs": [
    {
     "name": "stdout",
     "text": "1    165\n0    138\nName: target, dtype: int64\n/shared-libs/python3.7/py/lib/python3.7/site-packages/seaborn/_decorators.py:43: FutureWarning: Pass the following variable as a keyword arg: x. From version 0.12, the only valid positional argument will be `data`, and passing other arguments without an explicit keyword will result in an error or misinterpretation.\n  FutureWarning\n",
     "output_type": "stream"
    },
    {
     "data": {
      "text/plain": "<Figure size 1080x720 with 1 Axes>",
      "image/png": "[encoded data removed]"
     },
     "metadata": {
      "image/png": {
       "width": 898,
       "height": 594
      }
     },
     "output_type": "display_data"
    }
   ],
   "execution_count": 12
  },
  {
   "cell_type": "code",
   "source": "dataset= df\nsns.barplot(dataset[\"sex\"],y)",
   "metadata": {
    "tags": [],
    "cell_id": "00013-859b07cc-b721-49ed-b736-60cae85c87ef",
    "deepnote_to_be_reexecuted": false,
    "source_hash": "4366c274",
    "execution_start": 1620392111585,
    "execution_millis": 198,
    "deepnote_cell_type": "code"
   },
   "outputs": [
    {
     "name": "stderr",
     "text": "/shared-libs/python3.7/py/lib/python3.7/site-packages/seaborn/_decorators.py:43: FutureWarning: Pass the following variables as keyword args: x, y. From version 0.12, the only valid positional argument will be `data`, and passing other arguments without an explicit keyword will result in an error or misinterpretation.\n  FutureWarning\n",
     "output_type": "stream"
    },
    {
     "output_type": "execute_result",
     "execution_count": 13,
     "data": {
      "text/plain": "<AxesSubplot:xlabel='sex', ylabel='target'>"
     },
     "metadata": {}
    },
    {
     "data": {
      "text/plain": "<Figure size 1080x720 with 1 Axes>",
      "image/png": "[encoded data removed]"
     },
     "metadata": {
      "image/png": {
       "width": 895,
       "height": 594
      }
     },
     "output_type": "display_data"
    }
   ],
   "execution_count": 13
  },
  {
   "cell_type": "code",
   "source": "sns.barplot(dataset[\"cp\"],y)",
   "metadata": {
    "tags": [],
    "cell_id": "00014-bcb3753f-2837-43db-8f64-7e57bcee9139",
    "deepnote_to_be_reexecuted": false,
    "source_hash": "88d5bb45",
    "execution_start": 1620392113178,
    "execution_millis": 247,
    "deepnote_cell_type": "code"
   },
   "outputs": [
    {
     "name": "stderr",
     "text": "/shared-libs/python3.7/py/lib/python3.7/site-packages/seaborn/_decorators.py:43: FutureWarning: Pass the following variables as keyword args: x, y. From version 0.12, the only valid positional argument will be `data`, and passing other arguments without an explicit keyword will result in an error or misinterpretation.\n  FutureWarning\n",
     "output_type": "stream"
    },
    {
     "output_type": "execute_result",
     "execution_count": 14,
     "data": {
      "text/plain": "<AxesSubplot:xlabel='cp', ylabel='target'>"
     },
     "metadata": {}
    },
    {
     "data": {
      "text/plain": "<Figure size 1080x720 with 1 Axes>",
      "image/png": "[encoded data removed]"
     },
     "metadata": {
      "image/png": {
       "width": 895,
       "height": 594
      }
     },
     "output_type": "display_data"
    }
   ],
   "execution_count": 14
  },
  {
   "cell_type": "code",
   "source": "sns.barplot(dataset[\"restecg\"],y)",
   "metadata": {
    "tags": [],
    "cell_id": "00015-80fb4d95-2285-44dd-afd6-0ad887ca765b",
    "deepnote_to_be_reexecuted": false,
    "source_hash": "a8425722",
    "execution_start": 1620392115558,
    "execution_millis": 332,
    "deepnote_cell_type": "code"
   },
   "outputs": [
    {
     "name": "stderr",
     "text": "/shared-libs/python3.7/py/lib/python3.7/site-packages/seaborn/_decorators.py:43: FutureWarning: Pass the following variables as keyword args: x, y. From version 0.12, the only valid positional argument will be `data`, and passing other arguments without an explicit keyword will result in an error or misinterpretation.\n  FutureWarning\n",
     "output_type": "stream"
    },
    {
     "output_type": "execute_result",
     "execution_count": 15,
     "data": {
      "text/plain": "<AxesSubplot:xlabel='restecg', ylabel='target'>"
     },
     "metadata": {}
    },
    {
     "data": {
      "text/plain": "<Figure size 1080x720 with 1 Axes>",
      "image/png": "[encoded data removed]"
     },
     "metadata": {
      "image/png": {
       "width": 895,
       "height": 594
      }
     },
     "output_type": "display_data"
    }
   ],
   "execution_count": 15
  },
  {
   "cell_type": "markdown",
   "source": "We realize that people with restecg '1' and '0' are much more likely to have a heart disease than with restecg '2'",
   "metadata": {
    "tags": [],
    "cell_id": "00016-f51b4776-7738-432d-bcbd-f064b24c4243",
    "deepnote_cell_type": "text-cell-p"
   }
  },
  {
   "cell_type": "code",
   "source": "sns.barplot(dataset[\"exang\"],y)",
   "metadata": {
    "tags": [],
    "cell_id": "00017-6e9ba83b-6f5f-4d20-8d21-1c362fc3fba6",
    "deepnote_to_be_reexecuted": false,
    "source_hash": "53a7e7b2",
    "execution_start": 1620392120976,
    "execution_millis": 212,
    "deepnote_cell_type": "code"
   },
   "outputs": [
    {
     "name": "stderr",
     "text": "/shared-libs/python3.7/py/lib/python3.7/site-packages/seaborn/_decorators.py:43: FutureWarning: Pass the following variables as keyword args: x, y. From version 0.12, the only valid positional argument will be `data`, and passing other arguments without an explicit keyword will result in an error or misinterpretation.\n  FutureWarning\n",
     "output_type": "stream"
    },
    {
     "output_type": "execute_result",
     "execution_count": 16,
     "data": {
      "text/plain": "<AxesSubplot:xlabel='exang', ylabel='target'>"
     },
     "metadata": {}
    },
    {
     "data": {
      "text/plain": "<Figure size 1080x720 with 1 Axes>",
      "image/png": "[encoded data removed]"
     },
     "metadata": {
      "image/png": {
       "width": 895,
       "height": 594
      }
     },
     "output_type": "display_data"
    }
   ],
   "execution_count": 16
  },
  {
   "cell_type": "code",
   "source": "sns.barplot(dataset[\"ca\"],y)",
   "metadata": {
    "tags": [],
    "cell_id": "00018-9d1372d7-8c50-4358-a715-76f393d81bf9",
    "deepnote_to_be_reexecuted": false,
    "source_hash": "51c862a1",
    "execution_start": 1620392122185,
    "execution_millis": 279,
    "deepnote_cell_type": "code"
   },
   "outputs": [
    {
     "name": "stderr",
     "text": "/shared-libs/python3.7/py/lib/python3.7/site-packages/seaborn/_decorators.py:43: FutureWarning: Pass the following variables as keyword args: x, y. From version 0.12, the only valid positional argument will be `data`, and passing other arguments without an explicit keyword will result in an error or misinterpretation.\n  FutureWarning\n",
     "output_type": "stream"
    },
    {
     "output_type": "execute_result",
     "execution_count": 17,
     "data": {
      "text/plain": "<AxesSubplot:xlabel='ca', ylabel='target'>"
     },
     "metadata": {}
    },
    {
     "data": {
      "text/plain": "<Figure size 1080x720 with 1 Axes>",
      "image/png": "[encoded data removed]"
     },
     "metadata": {
      "image/png": {
       "width": 895,
       "height": 594
      }
     },
     "output_type": "display_data"
    }
   ],
   "execution_count": 17
  },
  {
   "cell_type": "markdown",
   "source": "ca=4 has astonishingly large number of heart patients ",
   "metadata": {
    "tags": [],
    "cell_id": "00019-05cd7771-3b37-46af-b741-1d2aaee4a5f2",
    "deepnote_cell_type": "text-cell-p"
   }
  },
  {
   "cell_type": "code",
   "source": "fig = plt.figure(figsize=(15,10))\n\nsns.boxplot(data = df)",
   "metadata": {
    "tags": [],
    "cell_id": "00019-35c5edda-d244-43a4-a63a-f3b4b9061f32",
    "deepnote_to_be_reexecuted": false,
    "source_hash": "9494a730",
    "execution_start": 1620392123865,
    "execution_millis": 396,
    "deepnote_cell_type": "code"
   },
   "outputs": [
    {
     "output_type": "execute_result",
     "execution_count": 18,
     "data": {
      "text/plain": "<AxesSubplot:>"
     },
     "metadata": {}
    },
    {
     "data": {
      "text/plain": "<Figure size 1080x720 with 1 Axes>",
      "image/png": "[encoded data removed]"
     },
     "metadata": {
      "image/png": {
       "width": 881,
       "height": 577
      }
     },
     "output_type": "display_data"
    }
   ],
   "execution_count": 18
  },
  {
   "cell_type": "code",
   "source": "# define continuous variable & plot\ncontinous_features = ['age','trestbps','chol','thalach','oldpeak']  \ndef outliers(df_out, drop = False):\n    for each_feature in df_out.columns:\n        feature_data = df_out[each_feature]\n        Q1 = np.percentile(feature_data, 25.) # 25th percentile of the data of the given feature\n        Q3 = np.percentile(feature_data, 75.) # 75th percentile of the data of the given feature\n        IQR = Q3-Q1 #Interquartile Range\n        outlier_step = IQR * 1.5\n        outliers = feature_data[~((feature_data >= Q1 - outlier_step) & (feature_data <= Q3 + outlier_step))].index.tolist()  \n        if not drop:\n            print('For the feature {}, No of Outliers is {}'.format(each_feature, len(outliers)))\n        if drop:\n            df.drop(outliers, inplace = True, errors = 'ignore')\n            print('Outliers from {} feature removed'.format(each_feature))\n\noutliers(df[continous_features])",
   "metadata": {
    "tags": [],
    "cell_id": "00021-93cc09a0-a665-414b-842a-427a8cb10fd1",
    "deepnote_to_be_reexecuted": false,
    "source_hash": "742e5536",
    "execution_start": 1620392125399,
    "execution_millis": 60,
    "deepnote_cell_type": "code"
   },
   "outputs": [
    {
     "name": "stdout",
     "text": "For the feature age, No of Outliers is 0\nFor the feature trestbps, No of Outliers is 9\nFor the feature chol, No of Outliers is 5\nFor the feature thalach, No of Outliers is 1\nFor the feature oldpeak, No of Outliers is 5\n",
     "output_type": "stream"
    }
   ],
   "execution_count": 19
  },
  {
   "cell_type": "code",
   "source": "outliers(df[continous_features], drop=True)",
   "metadata": {
    "tags": [],
    "cell_id": "00022-4c425d24-6d29-4107-a37c-3c21d48b1046",
    "deepnote_to_be_reexecuted": false,
    "source_hash": "a0850864",
    "execution_start": 1620392126089,
    "execution_millis": 11,
    "deepnote_cell_type": "code"
   },
   "outputs": [
    {
     "name": "stdout",
     "text": "Outliers from age feature removed\nOutliers from trestbps feature removed\nOutliers from chol feature removed\nOutliers from thalach feature removed\nOutliers from oldpeak feature removed\n",
     "output_type": "stream"
    }
   ],
   "execution_count": 20
  },
  {
   "cell_type": "code",
   "source": "df.info()",
   "metadata": {
    "tags": [],
    "cell_id": "00023-a20b0200-ce29-4afe-9c75-b19305144d6b",
    "deepnote_to_be_reexecuted": false,
    "source_hash": "de1e323c",
    "execution_start": 1620392126891,
    "execution_millis": 23,
    "deepnote_cell_type": "code"
   },
   "outputs": [
    {
     "name": "stdout",
     "text": "<class 'pandas.core.frame.DataFrame'>\nInt64Index: 284 entries, 0 to 302\nData columns (total 14 columns):\n #   Column    Non-Null Count  Dtype  \n---  ------    --------------  -----  \n 0   age       284 non-null    int64  \n 1   sex       284 non-null    int64  \n 2   cp        284 non-null    int64  \n 3   trestbps  284 non-null    int64  \n 4   chol      284 non-null    int64  \n 5   fbs       284 non-null    int64  \n 6   restecg   284 non-null    int64  \n 7   thalach   284 non-null    int64  \n 8   exang     284 non-null    int64  \n 9   oldpeak   284 non-null    float64\n 10  slope     284 non-null    int64  \n 11  ca        279 non-null    float64\n 12  thal      282 non-null    float64\n 13  target    284 non-null    int64  \ndtypes: float64(3), int64(11)\nmemory usage: 33.3 KB\n",
     "output_type": "stream"
    }
   ],
   "execution_count": 21
  },
  {
   "cell_type": "code",
   "source": "added = np.random.randint(df['age'].min(), df['age'].max(), size=df.shape[0] // 2)\nadded\n",
   "metadata": {
    "tags": [],
    "cell_id": "00024-d6e109f2-cff5-4ed1-b10b-4d6b1bd9edbc",
    "deepnote_to_be_reexecuted": false,
    "source_hash": "19dc71ba",
    "execution_start": 1620392127886,
    "execution_millis": 9,
    "deepnote_cell_type": "code"
   },
   "outputs": [
    {
     "output_type": "execute_result",
     "execution_count": 22,
     "data": {
      "text/plain": "array([30, 54, 63, 53, 40, 42, 72, 30, 48, 74, 44, 52, 49, 41, 59, 50, 54,\n       59, 61, 53, 48, 74, 67, 65, 39, 34, 38, 42, 69, 45, 30, 42, 35, 48,\n       43, 58, 57, 34, 54, 46, 69, 36, 30, 53, 29, 76, 67, 70, 68, 37, 48,\n       43, 29, 49, 35, 46, 76, 33, 73, 30, 52, 33, 34, 51, 33, 73, 54, 54,\n       76, 62, 65, 36, 30, 31, 30, 61, 44, 54, 64, 65, 55, 43, 65, 59, 42,\n       59, 36, 68, 68, 53, 69, 52, 67, 74, 34, 60, 72, 44, 60, 35, 70, 36,\n       62, 76, 41, 58, 67, 73, 34, 60, 42, 34, 38, 55, 54, 66, 34, 29, 29,\n       56, 69, 66, 73, 61, 48, 71, 61, 65, 75, 70, 49, 42, 39, 43, 61, 53,\n       33, 73, 34, 37, 37, 32])"
     },
     "metadata": {}
    }
   ],
   "execution_count": 22
  },
  {
   "cell_type": "code",
   "source": "added = np.array([])\nfor col in df.columns:\n    added = np.append(added, np.random.randint(df[col].min(), df[col].max(), size=df.shape[0] // 2))",
   "metadata": {
    "tags": [],
    "cell_id": "00025-e2c70917-f5fe-4f1e-9c46-8403e8941950",
    "deepnote_to_be_reexecuted": false,
    "source_hash": "866808e3",
    "execution_start": 1620392129255,
    "execution_millis": 4,
    "deepnote_cell_type": "code"
   },
   "outputs": [],
   "execution_count": 23
  },
  {
   "cell_type": "code",
   "source": "added",
   "metadata": {
    "tags": [],
    "cell_id": "00026-8f1750f4-2dab-4d97-9754-8292afd8bc39",
    "deepnote_to_be_reexecuted": false,
    "source_hash": "cbdbe0f7",
    "execution_start": 1620392129927,
    "execution_millis": 15,
    "deepnote_cell_type": "code"
   },
   "outputs": [
    {
     "output_type": "execute_result",
     "execution_count": 24,
     "data": {
      "text/plain": "array([74., 41., 66., ...,  0.,  0.,  0.])"
     },
     "metadata": {}
    }
   ],
   "execution_count": 24
  },
  {
   "cell_type": "code",
   "source": "added = added.reshape(df.shape[1], df.shape[0] // 2).transpose()",
   "metadata": {
    "tags": [],
    "cell_id": "00027-0b97cd86-3754-4875-b3e6-dd0a3a207f17",
    "deepnote_to_be_reexecuted": false,
    "source_hash": "daf23511",
    "execution_start": 1620392130956,
    "execution_millis": 3,
    "deepnote_cell_type": "code"
   },
   "outputs": [],
   "execution_count": 25
  },
  {
   "cell_type": "code",
   "source": "added.shape",
   "metadata": {
    "tags": [],
    "cell_id": "00028-139b9795-9b35-4de9-84e8-1bfdd06469f6",
    "deepnote_to_be_reexecuted": false,
    "source_hash": "ae08121e",
    "execution_start": 1620392132274,
    "execution_millis": 22,
    "deepnote_cell_type": "code"
   },
   "outputs": [
    {
     "output_type": "execute_result",
     "execution_count": 26,
     "data": {
      "text/plain": "(142, 14)"
     },
     "metadata": {}
    }
   ],
   "execution_count": 26
  },
  {
   "cell_type": "code",
   "source": "df_added = pd.DataFrame(added, columns=df.columns)\ndf_added",
   "metadata": {
    "tags": [],
    "cell_id": "00029-2ba0192f-3c43-407a-8dc0-17cc46bccf23",
    "deepnote_to_be_reexecuted": false,
    "source_hash": "d5158fac",
    "execution_start": 1620392133376,
    "execution_millis": 82,
    "deepnote_cell_type": "code"
   },
   "outputs": [
    {
     "output_type": "execute_result",
     "execution_count": 27,
     "data": {
      "application/vnd.deepnote.dataframe.v2+json": {
       "row_count": 142,
       "column_count": 14,
       "columns": [
        {
         "name": "age",
         "dtype": "float64",
         "stats": {
          "unique_count": 45,
          "nan_count": 0,
          "min": "29.0",
          "max": "75.0",
          "histogram": [
           {
            "bin_start": 29,
            "bin_end": 33.6,
            "count": 15
           },
           {
            "bin_start": 33.6,
            "bin_end": 38.2,
            "count": 21
           },
           {
            "bin_start": 38.2,
            "bin_end": 42.8,
            "count": 10
           },
           {
            "bin_start": 42.8,
            "bin_end": 47.4,
            "count": 14
           },
           {
            "bin_start": 47.4,
            "bin_end": 52,
            "count": 14
           },
           {
            "bin_start": 52,
            "bin_end": 56.599999999999994,
            "count": 15
           },
           {
            "bin_start": 56.599999999999994,
            "bin_end": 61.199999999999996,
            "count": 10
           },
           {
            "bin_start": 61.199999999999996,
            "bin_end": 65.8,
            "count": 11
           },
           {
            "bin_start": 65.8,
            "bin_end": 70.4,
            "count": 18
           },
           {
            "bin_start": 70.4,
            "bin_end": 75,
            "count": 14
           }
          ]
         }
        },
        {
         "name": "sex",
         "dtype": "float64",
         "stats": {
          "unique_count": 1,
          "nan_count": 0,
          "min": "0.0",
          "max": "0.0",
          "histogram": [
           {
            "bin_start": -0.5,
            "bin_end": -0.4,
            "count": 0
           },
           {
            "bin_start": -0.4,
            "bin_end": -0.3,
            "count": 0
           },
           {
            "bin_start": -0.3,
            "bin_end": -0.19999999999999996,
            "count": 0
           },
           {
            "bin_start": -0.19999999999999996,
            "bin_end": -0.09999999999999998,
            "count": 0
           },
           {
            "bin_start": -0.09999999999999998,
            "bin_end": 0,
            "count": 0
           },
           {
            "bin_start": 0,
            "bin_end": 0.10000000000000009,
            "count": 142
           },
           {
            "bin_start": 0.10000000000000009,
            "bin_end": 0.20000000000000007,
            "count": 0
           },
           {
            "bin_start": 0.20000000000000007,
            "bin_end": 0.30000000000000004,
            "count": 0
           },
           {
            "bin_start": 0.30000000000000004,
            "bin_end": 0.4,
            "count": 0
           },
           {
            "bin_start": 0.4,
            "bin_end": 0.5,
            "count": 0
           }
          ]
         }
        },
        {
         "name": "cp",
         "dtype": "float64",
         "stats": {
          "unique_count": 3,
          "nan_count": 0,
          "min": "0.0",
          "max": "2.0",
          "histogram": [
           {
            "bin_start": 0,
            "bin_end": 0.2,
            "count": 42
           },
           {
            "bin_start": 0.2,
            "bin_end": 0.4,
            "count": 0
           },
           {
            "bin_start": 0.4,
            "bin_end": 0.6000000000000001,
            "count": 0
           },
           {
            "bin_start": 0.6000000000000001,
            "bin_end": 0.8,
            "count": 0
           },
           {
            "bin_start": 0.8,
            "bin_end": 1,
            "count": 0
           },
           {
            "bin_start": 1,
            "bin_end": 1.2000000000000002,
            "count": 56
           },
           {
            "bin_start": 1.2000000000000002,
            "bin_end": 1.4000000000000001,
            "count": 0
           },
           {
            "bin_start": 1.4000000000000001,
            "bin_end": 1.6,
            "count": 0
           },
           {
            "bin_start": 1.6,
            "bin_end": 1.8,
            "count": 0
           },
           {
            "bin_start": 1.8,
            "bin_end": 2,
            "count": 44
           }
          ]
         }
        },
        {
         "name": "trestbps",
         "dtype": "float64",
         "stats": {
          "unique_count": 67,
          "nan_count": 0,
          "min": "95.0",
          "max": "169.0",
          "histogram": [
           {
            "bin_start": 95,
            "bin_end": 102.4,
            "count": 14
           },
           {
            "bin_start": 102.4,
            "bin_end": 109.8,
            "count": 14
           },
           {
            "bin_start": 109.8,
            "bin_end": 117.2,
            "count": 16
           },
           {
            "bin_start": 117.2,
            "bin_end": 124.6,
            "count": 18
           },
           {
            "bin_start": 124.6,
            "bin_end": 132,
            "count": 11
           },
           {
            "bin_start": 132,
            "bin_end": 139.4,
            "count": 16
           },
           {
            "bin_start": 139.4,
            "bin_end": 146.8,
            "count": 11
           },
           {
            "bin_start": 146.8,
            "bin_end": 154.2,
            "count": 17
           },
           {
            "bin_start": 154.2,
            "bin_end": 161.60000000000002,
            "count": 13
           },
           {
            "bin_start": 161.60000000000002,
            "bin_end": 169,
            "count": 12
           }
          ]
         }
        },
        {
         "name": "chol",
         "dtype": "float64",
         "stats": {
          "unique_count": 104,
          "nan_count": 0,
          "min": "126.0",
          "max": "358.0",
          "histogram": [
           {
            "bin_start": 126,
            "bin_end": 149.2,
            "count": 17
           },
           {
            "bin_start": 149.2,
            "bin_end": 172.4,
            "count": 16
           },
           {
            "bin_start": 172.4,
            "bin_end": 195.6,
            "count": 13
           },
           {
            "bin_start": 195.6,
            "bin_end": 218.8,
            "count": 17
           },
           {
            "bin_start": 218.8,
            "bin_end": 242,
            "count": 9
           },
           {
            "bin_start": 242,
            "bin_end": 265.2,
            "count": 17
           },
           {
            "bin_start": 265.2,
            "bin_end": 288.4,
            "count": 12
           },
           {
            "bin_start": 288.4,
            "bin_end": 311.6,
            "count": 15
           },
           {
            "bin_start": 311.6,
            "bin_end": 334.79999999999995,
            "count": 11
           },
           {
            "bin_start": 334.79999999999995,
            "bin_end": 358,
            "count": 15
           }
          ]
         }
        },
        {
         "name": "fbs",
         "dtype": "float64",
         "stats": {
          "unique_count": 1,
          "nan_count": 0,
          "min": "0.0",
          "max": "0.0",
          "histogram": [
           {
            "bin_start": -0.5,
            "bin_end": -0.4,
            "count": 0
           },
           {
            "bin_start": -0.4,
            "bin_end": -0.3,
            "count": 0
           },
           {
            "bin_start": -0.3,
            "bin_end": -0.19999999999999996,
            "count": 0
           },
           {
            "bin_start": -0.19999999999999996,
            "bin_end": -0.09999999999999998,
            "count": 0
           },
           {
            "bin_start": -0.09999999999999998,
            "bin_end": 0,
            "count": 0
           },
           {
            "bin_start": 0,
            "bin_end": 0.10000000000000009,
            "count": 142
           },
           {
            "bin_start": 0.10000000000000009,
            "bin_end": 0.20000000000000007,
            "count": 0
           },
           {
            "bin_start": 0.20000000000000007,
            "bin_end": 0.30000000000000004,
            "count": 0
           },
           {
            "bin_start": 0.30000000000000004,
            "bin_end": 0.4,
            "count": 0
           },
           {
            "bin_start": 0.4,
            "bin_end": 0.5,
            "count": 0
           }
          ]
         }
        },
        {
         "name": "restecg",
         "dtype": "float64",
         "stats": {
          "unique_count": 2,
          "nan_count": 0,
          "min": "0.0",
          "max": "1.0",
          "histogram": [
           {
            "bin_start": 0,
            "bin_end": 0.1,
            "count": 73
           },
           {
            "bin_start": 0.1,
            "bin_end": 0.2,
            "count": 0
           },
           {
            "bin_start": 0.2,
            "bin_end": 0.30000000000000004,
            "count": 0
           },
           {
            "bin_start": 0.30000000000000004,
            "bin_end": 0.4,
            "count": 0
           },
           {
            "bin_start": 0.4,
            "bin_end": 0.5,
            "count": 0
           },
           {
            "bin_start": 0.5,
            "bin_end": 0.6000000000000001,
            "count": 0
           },
           {
            "bin_start": 0.6000000000000001,
            "bin_end": 0.7000000000000001,
            "count": 0
           },
           {
            "bin_start": 0.7000000000000001,
            "bin_end": 0.8,
            "count": 0
           },
           {
            "bin_start": 0.8,
            "bin_end": 0.9,
            "count": 0
           },
           {
            "bin_start": 0.9,
            "bin_end": 1,
            "count": 69
           }
          ]
         }
        },
        {
         "name": "thalach",
         "dtype": "float64",
         "stats": {
          "unique_count": 79,
          "nan_count": 0,
          "min": "90.0",
          "max": "201.0",
          "histogram": [
           {
            "bin_start": 90,
            "bin_end": 101.1,
            "count": 19
           },
           {
            "bin_start": 101.1,
            "bin_end": 112.2,
            "count": 15
           },
           {
            "bin_start": 112.2,
            "bin_end": 123.3,
            "count": 12
           },
           {
            "bin_start": 123.3,
            "bin_end": 134.4,
            "count": 14
           },
           {
            "bin_start": 134.4,
            "bin_end": 145.5,
            "count": 17
           },
           {
            "bin_start": 145.5,
            "bin_end": 156.6,
            "count": 13
           },
           {
            "bin_start": 156.6,
            "bin_end": 167.7,
            "count": 12
           },
           {
            "bin_start": 167.7,
            "bin_end": 178.8,
            "count": 15
           },
           {
            "bin_start": 178.8,
            "bin_end": 189.89999999999998,
            "count": 7
           },
           {
            "bin_start": 189.89999999999998,
            "bin_end": 201,
            "count": 18
           }
          ]
         }
        },
        {
         "name": "exang",
         "dtype": "float64",
         "stats": {
          "unique_count": 1,
          "nan_count": 0,
          "min": "0.0",
          "max": "0.0",
          "histogram": [
           {
            "bin_start": -0.5,
            "bin_end": -0.4,
            "count": 0
           },
           {
            "bin_start": -0.4,
            "bin_end": -0.3,
            "count": 0
           },
           {
            "bin_start": -0.3,
            "bin_end": -0.19999999999999996,
            "count": 0
           },
           {
            "bin_start": -0.19999999999999996,
            "bin_end": -0.09999999999999998,
            "count": 0
           },
           {
            "bin_start": -0.09999999999999998,
            "bin_end": 0,
            "count": 0
           },
           {
            "bin_start": 0,
            "bin_end": 0.10000000000000009,
            "count": 142
           },
           {
            "bin_start": 0.10000000000000009,
            "bin_end": 0.20000000000000007,
            "count": 0
           },
           {
            "bin_start": 0.20000000000000007,
            "bin_end": 0.30000000000000004,
            "count": 0
           },
           {
            "bin_start": 0.30000000000000004,
            "bin_end": 0.4,
            "count": 0
           },
           {
            "bin_start": 0.4,
            "bin_end": 0.5,
            "count": 0
           }
          ]
         }
        },
        {
         "name": "oldpeak",
         "dtype": "float64",
         "stats": {
          "unique_count": 4,
          "nan_count": 0,
          "min": "0.0",
          "max": "3.0",
          "histogram": [
           {
            "bin_start": 0,
            "bin_end": 0.3,
            "count": 34
           },
           {
            "bin_start": 0.3,
            "bin_end": 0.6,
            "count": 0
           },
           {
            "bin_start": 0.6,
            "bin_end": 0.8999999999999999,
            "count": 0
           },
           {
            "bin_start": 0.8999999999999999,
            "bin_end": 1.2,
            "count": 33
           },
           {
            "bin_start": 1.2,
            "bin_end": 1.5,
            "count": 0
           },
           {
            "bin_start": 1.5,
            "bin_end": 1.7999999999999998,
            "count": 0
           },
           {
            "bin_start": 1.7999999999999998,
            "bin_end": 2.1,
            "count": 39
           },
           {
            "bin_start": 2.1,
            "bin_end": 2.4,
            "count": 0
           },
           {
            "bin_start": 2.4,
            "bin_end": 2.6999999999999997,
            "count": 0
           },
           {
            "bin_start": 2.6999999999999997,
            "bin_end": 3,
            "count": 36
           }
          ]
         }
        },
        {
         "name": "slope",
         "dtype": "float64",
         "stats": {
          "unique_count": 2,
          "nan_count": 0,
          "min": "0.0",
          "max": "1.0",
          "histogram": [
           {
            "bin_start": 0,
            "bin_end": 0.1,
            "count": 67
           },
           {
            "bin_start": 0.1,
            "bin_end": 0.2,
            "count": 0
           },
           {
            "bin_start": 0.2,
            "bin_end": 0.30000000000000004,
            "count": 0
           },
           {
            "bin_start": 0.30000000000000004,
            "bin_end": 0.4,
            "count": 0
           },
           {
            "bin_start": 0.4,
            "bin_end": 0.5,
            "count": 0
           },
           {
            "bin_start": 0.5,
            "bin_end": 0.6000000000000001,
            "count": 0
           },
           {
            "bin_start": 0.6000000000000001,
            "bin_end": 0.7000000000000001,
            "count": 0
           },
           {
            "bin_start": 0.7000000000000001,
            "bin_end": 0.8,
            "count": 0
           },
           {
            "bin_start": 0.8,
            "bin_end": 0.9,
            "count": 0
           },
           {
            "bin_start": 0.9,
            "bin_end": 1,
            "count": 75
           }
          ]
         }
        },
        {
         "name": "ca",
         "dtype": "float64",
         "stats": {
          "unique_count": 3,
          "nan_count": 0,
          "min": "0.0",
          "max": "2.0",
          "histogram": [
           {
            "bin_start": 0,
            "bin_end": 0.2,
            "count": 50
           },
           {
            "bin_start": 0.2,
            "bin_end": 0.4,
            "count": 0
           },
           {
            "bin_start": 0.4,
            "bin_end": 0.6000000000000001,
            "count": 0
           },
           {
            "bin_start": 0.6000000000000001,
            "bin_end": 0.8,
            "count": 0
           },
           {
            "bin_start": 0.8,
            "bin_end": 1,
            "count": 0
           },
           {
            "bin_start": 1,
            "bin_end": 1.2000000000000002,
            "count": 46
           },
           {
            "bin_start": 1.2000000000000002,
            "bin_end": 1.4000000000000001,
            "count": 0
           },
           {
            "bin_start": 1.4000000000000001,
            "bin_end": 1.6,
            "count": 0
           },
           {
            "bin_start": 1.6,
            "bin_end": 1.8,
            "count": 0
           },
           {
            "bin_start": 1.8,
            "bin_end": 2,
            "count": 46
           }
          ]
         }
        },
        {
         "name": "thal",
         "dtype": "float64",
         "stats": {
          "unique_count": 2,
          "nan_count": 0,
          "min": "1.0",
          "max": "2.0",
          "histogram": [
           {
            "bin_start": 1,
            "bin_end": 1.1,
            "count": 75
           },
           {
            "bin_start": 1.1,
            "bin_end": 1.2,
            "count": 0
           },
           {
            "bin_start": 1.2,
            "bin_end": 1.3,
            "count": 0
           },
           {
            "bin_start": 1.3,
            "bin_end": 1.4,
            "count": 0
           },
           {
            "bin_start": 1.4,
            "bin_end": 1.5,
            "count": 0
           },
           {
            "bin_start": 1.5,
            "bin_end": 1.6,
            "count": 0
           },
           {
            "bin_start": 1.6,
            "bin_end": 1.7000000000000002,
            "count": 0
           },
           {
            "bin_start": 1.7000000000000002,
            "bin_end": 1.8,
            "count": 0
           },
           {
            "bin_start": 1.8,
            "bin_end": 1.9,
            "count": 0
           },
           {
            "bin_start": 1.9,
            "bin_end": 2,
            "count": 67
           }
          ]
         }
        },
        {
         "name": "target",
         "dtype": "float64",
         "stats": {
          "unique_count": 1,
          "nan_count": 0,
          "min": "0.0",
          "max": "0.0",
          "histogram": [
           {
            "bin_start": -0.5,
            "bin_end": -0.4,
            "count": 0
           },
           {
            "bin_start": -0.4,
            "bin_end": -0.3,
            "count": 0
           },
           {
            "bin_start": -0.3,
            "bin_end": -0.19999999999999996,
            "count": 0
           },
           {
            "bin_start": -0.19999999999999996,
            "bin_end": -0.09999999999999998,
            "count": 0
           },
           {
            "bin_start": -0.09999999999999998,
            "bin_end": 0,
            "count": 0
           },
           {
            "bin_start": 0,
            "bin_end": 0.10000000000000009,
            "count": 142
           },
           {
            "bin_start": 0.10000000000000009,
            "bin_end": 0.20000000000000007,
            "count": 0
           },
           {
            "bin_start": 0.20000000000000007,
            "bin_end": 0.30000000000000004,
            "count": 0
           },
           {
            "bin_start": 0.30000000000000004,
            "bin_end": 0.4,
            "count": 0
           },
           {
            "bin_start": 0.4,
            "bin_end": 0.5,
            "count": 0
           }
          ]
         }
        },
        {
         "name": "_deepnote_index_column",
         "dtype": "int64"
        }
       ],
       "rows_top": [
        {
         "age": 74,
         "sex": 0,
         "cp": 0,
         "trestbps": 158,
         "chol": 323,
         "fbs": 0,
         "restecg": 1,
         "thalach": 131,
         "exang": 0,
         "oldpeak": 2,
         "slope": 0,
         "ca": 2,
         "thal": 1,
         "target": 0,
         "_deepnote_index_column": 0
        },
        {
         "age": 41,
         "sex": 0,
         "cp": 2,
         "trestbps": 147,
         "chol": 245,
         "fbs": 0,
         "restecg": 0,
         "thalach": 177,
         "exang": 0,
         "oldpeak": 1,
         "slope": 0,
         "ca": 2,
         "thal": 2,
         "target": 0,
         "_deepnote_index_column": 1
        },
        {
         "age": 66,
         "sex": 0,
         "cp": 0,
         "trestbps": 150,
         "chol": 310,
         "fbs": 0,
         "restecg": 1,
         "thalach": 196,
         "exang": 0,
         "oldpeak": 3,
         "slope": 1,
         "ca": 1,
         "thal": 2,
         "target": 0,
         "_deepnote_index_column": 2
        },
        {
         "age": 72,
         "sex": 0,
         "cp": 1,
         "trestbps": 157,
         "chol": 356,
         "fbs": 0,
         "restecg": 0,
         "thalach": 114,
         "exang": 0,
         "oldpeak": 2,
         "slope": 1,
         "ca": 0,
         "thal": 2,
         "target": 0,
         "_deepnote_index_column": 3
        },
        {
         "age": 72,
         "sex": 0,
         "cp": 0,
         "trestbps": 162,
         "chol": 205,
         "fbs": 0,
         "restecg": 1,
         "thalach": 90,
         "exang": 0,
         "oldpeak": 1,
         "slope": 0,
         "ca": 0,
         "thal": 1,
         "target": 0,
         "_deepnote_index_column": 4
        },
        {
         "age": 75,
         "sex": 0,
         "cp": 2,
         "trestbps": 104,
         "chol": 269,
         "fbs": 0,
         "restecg": 0,
         "thalach": 99,
         "exang": 0,
         "oldpeak": 2,
         "slope": 1,
         "ca": 2,
         "thal": 1,
         "target": 0,
         "_deepnote_index_column": 5
        },
        {
         "age": 50,
         "sex": 0,
         "cp": 1,
         "trestbps": 124,
         "chol": 162,
         "fbs": 0,
         "restecg": 0,
         "thalach": 173,
         "exang": 0,
         "oldpeak": 0,
         "slope": 0,
         "ca": 0,
         "thal": 2,
         "target": 0,
         "_deepnote_index_column": 6
        },
        {
         "age": 65,
         "sex": 0,
         "cp": 2,
         "trestbps": 158,
         "chol": 240,
         "fbs": 0,
         "restecg": 0,
         "thalach": 149,
         "exang": 0,
         "oldpeak": 0,
         "slope": 0,
         "ca": 0,
         "thal": 2,
         "target": 0,
         "_deepnote_index_column": 7
        },
        {
         "age": 61,
         "sex": 0,
         "cp": 2,
         "trestbps": 165,
         "chol": 278,
         "fbs": 0,
         "restecg": 0,
         "thalach": 166,
         "exang": 0,
         "oldpeak": 2,
         "slope": 1,
         "ca": 2,
         "thal": 2,
         "target": 0,
         "_deepnote_index_column": 8
        },
        {
         "age": 35,
         "sex": 0,
         "cp": 2,
         "trestbps": 146,
         "chol": 292,
         "fbs": 0,
         "restecg": 0,
         "thalach": 164,
         "exang": 0,
         "oldpeak": 0,
         "slope": 1,
         "ca": 1,
         "thal": 2,
         "target": 0,
         "_deepnote_index_column": 9
        },
        {
         "age": 68,
         "sex": 0,
         "cp": 2,
         "trestbps": 140,
         "chol": 293,
         "fbs": 0,
         "restecg": 0,
         "thalach": 97,
         "exang": 0,
         "oldpeak": 3,
         "slope": 0,
         "ca": 2,
         "thal": 1,
         "target": 0,
         "_deepnote_index_column": 10
        },
        {
         "age": 29,
         "sex": 0,
         "cp": 0,
         "trestbps": 151,
         "chol": 321,
         "fbs": 0,
         "restecg": 1,
         "thalach": 193,
         "exang": 0,
         "oldpeak": 2,
         "slope": 1,
         "ca": 2,
         "thal": 1,
         "target": 0,
         "_deepnote_index_column": 11
        },
        {
         "age": 29,
         "sex": 0,
         "cp": 1,
         "trestbps": 97,
         "chol": 126,
         "fbs": 0,
         "restecg": 0,
         "thalach": 147,
         "exang": 0,
         "oldpeak": 2,
         "slope": 0,
         "ca": 2,
         "thal": 2,
         "target": 0,
         "_deepnote_index_column": 12
        },
        {
         "age": 63,
         "sex": 0,
         "cp": 1,
         "trestbps": 127,
         "chol": 235,
         "fbs": 0,
         "restecg": 1,
         "thalach": 99,
         "exang": 0,
         "oldpeak": 1,
         "slope": 1,
         "ca": 0,
         "thal": 2,
         "target": 0,
         "_deepnote_index_column": 13
        },
        {
         "age": 34,
         "sex": 0,
         "cp": 2,
         "trestbps": 122,
         "chol": 258,
         "fbs": 0,
         "restecg": 0,
         "thalach": 131,
         "exang": 0,
         "oldpeak": 3,
         "slope": 0,
         "ca": 1,
         "thal": 1,
         "target": 0,
         "_deepnote_index_column": 14
        },
        {
         "age": 62,
         "sex": 0,
         "cp": 2,
         "trestbps": 113,
         "chol": 127,
         "fbs": 0,
         "restecg": 1,
         "thalach": 110,
         "exang": 0,
         "oldpeak": 0,
         "slope": 0,
         "ca": 0,
         "thal": 1,
         "target": 0,
         "_deepnote_index_column": 15
        },
        {
         "age": 50,
         "sex": 0,
         "cp": 2,
         "trestbps": 140,
         "chol": 278,
         "fbs": 0,
         "restecg": 0,
         "thalach": 195,
         "exang": 0,
         "oldpeak": 1,
         "slope": 1,
         "ca": 1,
         "thal": 1,
         "target": 0,
         "_deepnote_index_column": 16
        },
        {
         "age": 39,
         "sex": 0,
         "cp": 0,
         "trestbps": 128,
         "chol": 290,
         "fbs": 0,
         "restecg": 1,
         "thalach": 132,
         "exang": 0,
         "oldpeak": 0,
         "slope": 0,
         "ca": 2,
         "thal": 2,
         "target": 0,
         "_deepnote_index_column": 17
        },
        {
         "age": 38,
         "sex": 0,
         "cp": 1,
         "trestbps": 108,
         "chol": 229,
         "fbs": 0,
         "restecg": 0,
         "thalach": 131,
         "exang": 0,
         "oldpeak": 0,
         "slope": 1,
         "ca": 1,
         "thal": 1,
         "target": 0,
         "_deepnote_index_column": 18
        },
        {
         "age": 37,
         "sex": 0,
         "cp": 1,
         "trestbps": 107,
         "chol": 152,
         "fbs": 0,
         "restecg": 1,
         "thalach": 148,
         "exang": 0,
         "oldpeak": 3,
         "slope": 1,
         "ca": 2,
         "thal": 2,
         "target": 0,
         "_deepnote_index_column": 19
        },
        {
         "age": 44,
         "sex": 0,
         "cp": 1,
         "trestbps": 112,
         "chol": 177,
         "fbs": 0,
         "restecg": 0,
         "thalach": 198,
         "exang": 0,
         "oldpeak": 1,
         "slope": 1,
         "ca": 0,
         "thal": 1,
         "target": 0,
         "_deepnote_index_column": 20
        },
        {
         "age": 44,
         "sex": 0,
         "cp": 1,
         "trestbps": 154,
         "chol": 126,
         "fbs": 0,
         "restecg": 0,
         "thalach": 102,
         "exang": 0,
         "oldpeak": 2,
         "slope": 1,
         "ca": 2,
         "thal": 1,
         "target": 0,
         "_deepnote_index_column": 21
        },
        {
         "age": 69,
         "sex": 0,
         "cp": 1,
         "trestbps": 115,
         "chol": 128,
         "fbs": 0,
         "restecg": 1,
         "thalach": 135,
         "exang": 0,
         "oldpeak": 0,
         "slope": 1,
         "ca": 2,
         "thal": 1,
         "target": 0,
         "_deepnote_index_column": 22
        },
        {
         "age": 51,
         "sex": 0,
         "cp": 1,
         "trestbps": 118,
         "chol": 130,
         "fbs": 0,
         "restecg": 1,
         "thalach": 102,
         "exang": 0,
         "oldpeak": 1,
         "slope": 1,
         "ca": 2,
         "thal": 1,
         "target": 0,
         "_deepnote_index_column": 23
        },
        {
         "age": 49,
         "sex": 0,
         "cp": 0,
         "trestbps": 148,
         "chol": 257,
         "fbs": 0,
         "restecg": 1,
         "thalach": 163,
         "exang": 0,
         "oldpeak": 1,
         "slope": 1,
         "ca": 2,
         "thal": 2,
         "target": 0,
         "_deepnote_index_column": 24
        },
        {
         "age": 29,
         "sex": 0,
         "cp": 2,
         "trestbps": 102,
         "chol": 344,
         "fbs": 0,
         "restecg": 1,
         "thalach": 94,
         "exang": 0,
         "oldpeak": 1,
         "slope": 0,
         "ca": 0,
         "thal": 2,
         "target": 0,
         "_deepnote_index_column": 25
        },
        {
         "age": 63,
         "sex": 0,
         "cp": 2,
         "trestbps": 123,
         "chol": 280,
         "fbs": 0,
         "restecg": 1,
         "thalach": 136,
         "exang": 0,
         "oldpeak": 2,
         "slope": 1,
         "ca": 1,
         "thal": 1,
         "target": 0,
         "_deepnote_index_column": 26
        },
        {
         "age": 34,
         "sex": 0,
         "cp": 2,
         "trestbps": 106,
         "chol": 225,
         "fbs": 0,
         "restecg": 0,
         "thalach": 176,
         "exang": 0,
         "oldpeak": 2,
         "slope": 1,
         "ca": 2,
         "thal": 2,
         "target": 0,
         "_deepnote_index_column": 27
        },
        {
         "age": 52,
         "sex": 0,
         "cp": 0,
         "trestbps": 113,
         "chol": 344,
         "fbs": 0,
         "restecg": 0,
         "thalach": 107,
         "exang": 0,
         "oldpeak": 2,
         "slope": 0,
         "ca": 2,
         "thal": 2,
         "target": 0,
         "_deepnote_index_column": 28
        },
        {
         "age": 30,
         "sex": 0,
         "cp": 1,
         "trestbps": 107,
         "chol": 231,
         "fbs": 0,
         "restecg": 1,
         "thalach": 97,
         "exang": 0,
         "oldpeak": 0,
         "slope": 0,
         "ca": 2,
         "thal": 1,
         "target": 0,
         "_deepnote_index_column": 29
        },
        {
         "age": 56,
         "sex": 0,
         "cp": 1,
         "trestbps": 115,
         "chol": 192,
         "fbs": 0,
         "restecg": 0,
         "thalach": 152,
         "exang": 0,
         "oldpeak": 3,
         "slope": 1,
         "ca": 2,
         "thal": 1,
         "target": 0,
         "_deepnote_index_column": 30
        },
        {
         "age": 43,
         "sex": 0,
         "cp": 2,
         "trestbps": 119,
         "chol": 339,
         "fbs": 0,
         "restecg": 0,
         "thalach": 201,
         "exang": 0,
         "oldpeak": 3,
         "slope": 0,
         "ca": 0,
         "thal": 1,
         "target": 0,
         "_deepnote_index_column": 31
        },
        {
         "age": 75,
         "sex": 0,
         "cp": 2,
         "trestbps": 166,
         "chol": 206,
         "fbs": 0,
         "restecg": 1,
         "thalach": 133,
         "exang": 0,
         "oldpeak": 2,
         "slope": 0,
         "ca": 1,
         "thal": 1,
         "target": 0,
         "_deepnote_index_column": 32
        },
        {
         "age": 54,
         "sex": 0,
         "cp": 2,
         "trestbps": 135,
         "chol": 193,
         "fbs": 0,
         "restecg": 1,
         "thalach": 109,
         "exang": 0,
         "oldpeak": 2,
         "slope": 1,
         "ca": 0,
         "thal": 1,
         "target": 0,
         "_deepnote_index_column": 33
        },
        {
         "age": 52,
         "sex": 0,
         "cp": 1,
         "trestbps": 97,
         "chol": 214,
         "fbs": 0,
         "restecg": 0,
         "thalach": 187,
         "exang": 0,
         "oldpeak": 3,
         "slope": 0,
         "ca": 2,
         "thal": 2,
         "target": 0,
         "_deepnote_index_column": 34
        }
       ],
       "rows_bottom": [
        {
         "age": 71,
         "sex": 0,
         "cp": 1,
         "trestbps": 120,
         "chol": 343,
         "fbs": 0,
         "restecg": 1,
         "thalach": 125,
         "exang": 0,
         "oldpeak": 3,
         "slope": 1,
         "ca": 1,
         "thal": 1,
         "target": 0,
         "_deepnote_index_column": 106
        },
        {
         "age": 51,
         "sex": 0,
         "cp": 0,
         "trestbps": 95,
         "chol": 137,
         "fbs": 0,
         "restecg": 1,
         "thalach": 169,
         "exang": 0,
         "oldpeak": 1,
         "slope": 1,
         "ca": 0,
         "thal": 1,
         "target": 0,
         "_deepnote_index_column": 107
        },
        {
         "age": 61,
         "sex": 0,
         "cp": 0,
         "trestbps": 117,
         "chol": 140,
         "fbs": 0,
         "restecg": 1,
         "thalach": 140,
         "exang": 0,
         "oldpeak": 3,
         "slope": 1,
         "ca": 0,
         "thal": 1,
         "target": 0,
         "_deepnote_index_column": 108
        },
        {
         "age": 42,
         "sex": 0,
         "cp": 0,
         "trestbps": 155,
         "chol": 317,
         "fbs": 0,
         "restecg": 1,
         "thalach": 119,
         "exang": 0,
         "oldpeak": 2,
         "slope": 1,
         "ca": 1,
         "thal": 2,
         "target": 0,
         "_deepnote_index_column": 109
        },
        {
         "age": 33,
         "sex": 0,
         "cp": 2,
         "trestbps": 109,
         "chol": 260,
         "fbs": 0,
         "restecg": 0,
         "thalach": 101,
         "exang": 0,
         "oldpeak": 2,
         "slope": 1,
         "ca": 2,
         "thal": 1,
         "target": 0,
         "_deepnote_index_column": 110
        },
        {
         "age": 37,
         "sex": 0,
         "cp": 1,
         "trestbps": 109,
         "chol": 181,
         "fbs": 0,
         "restecg": 1,
         "thalach": 191,
         "exang": 0,
         "oldpeak": 0,
         "slope": 0,
         "ca": 1,
         "thal": 1,
         "target": 0,
         "_deepnote_index_column": 111
        },
        {
         "age": 31,
         "sex": 0,
         "cp": 1,
         "trestbps": 140,
         "chol": 293,
         "fbs": 0,
         "restecg": 0,
         "thalach": 135,
         "exang": 0,
         "oldpeak": 3,
         "slope": 1,
         "ca": 0,
         "thal": 1,
         "target": 0,
         "_deepnote_index_column": 112
        },
        {
         "age": 65,
         "sex": 0,
         "cp": 2,
         "trestbps": 160,
         "chol": 153,
         "fbs": 0,
         "restecg": 1,
         "thalach": 95,
         "exang": 0,
         "oldpeak": 3,
         "slope": 1,
         "ca": 0,
         "thal": 2,
         "target": 0,
         "_deepnote_index_column": 113
        },
        {
         "age": 53,
         "sex": 0,
         "cp": 0,
         "trestbps": 134,
         "chol": 174,
         "fbs": 0,
         "restecg": 0,
         "thalach": 176,
         "exang": 0,
         "oldpeak": 2,
         "slope": 0,
         "ca": 0,
         "thal": 1,
         "target": 0,
         "_deepnote_index_column": 114
        },
        {
         "age": 67,
         "sex": 0,
         "cp": 1,
         "trestbps": 113,
         "chol": 351,
         "fbs": 0,
         "restecg": 1,
         "thalach": 182,
         "exang": 0,
         "oldpeak": 2,
         "slope": 1,
         "ca": 1,
         "thal": 1,
         "target": 0,
         "_deepnote_index_column": 115
        },
        {
         "age": 47,
         "sex": 0,
         "cp": 0,
         "trestbps": 167,
         "chol": 358,
         "fbs": 0,
         "restecg": 0,
         "thalach": 174,
         "exang": 0,
         "oldpeak": 0,
         "slope": 1,
         "ca": 1,
         "thal": 2,
         "target": 0,
         "_deepnote_index_column": 116
        },
        {
         "age": 66,
         "sex": 0,
         "cp": 1,
         "trestbps": 129,
         "chol": 319,
         "fbs": 0,
         "restecg": 0,
         "thalach": 132,
         "exang": 0,
         "oldpeak": 3,
         "slope": 0,
         "ca": 2,
         "thal": 2,
         "target": 0,
         "_deepnote_index_column": 117
        },
        {
         "age": 32,
         "sex": 0,
         "cp": 1,
         "trestbps": 100,
         "chol": 289,
         "fbs": 0,
         "restecg": 0,
         "thalach": 118,
         "exang": 0,
         "oldpeak": 0,
         "slope": 1,
         "ca": 2,
         "thal": 2,
         "target": 0,
         "_deepnote_index_column": 118
        },
        {
         "age": 44,
         "sex": 0,
         "cp": 1,
         "trestbps": 155,
         "chol": 245,
         "fbs": 0,
         "restecg": 1,
         "thalach": 143,
         "exang": 0,
         "oldpeak": 2,
         "slope": 0,
         "ca": 1,
         "thal": 1,
         "target": 0,
         "_deepnote_index_column": 119
        },
        {
         "age": 67,
         "sex": 0,
         "cp": 2,
         "trestbps": 113,
         "chol": 166,
         "fbs": 0,
         "restecg": 0,
         "thalach": 130,
         "exang": 0,
         "oldpeak": 2,
         "slope": 0,
         "ca": 1,
         "thal": 1,
         "target": 0,
         "_deepnote_index_column": 120
        },
        {
         "age": 48,
         "sex": 0,
         "cp": 2,
         "trestbps": 106,
         "chol": 216,
         "fbs": 0,
         "restecg": 1,
         "thalach": 198,
         "exang": 0,
         "oldpeak": 3,
         "slope": 1,
         "ca": 2,
         "thal": 2,
         "target": 0,
         "_deepnote_index_column": 121
        },
        {
         "age": 42,
         "sex": 0,
         "cp": 1,
         "trestbps": 101,
         "chol": 126,
         "fbs": 0,
         "restecg": 0,
         "thalach": 115,
         "exang": 0,
         "oldpeak": 3,
         "slope": 1,
         "ca": 2,
         "thal": 2,
         "target": 0,
         "_deepnote_index_column": 122
        },
        {
         "age": 75,
         "sex": 0,
         "cp": 1,
         "trestbps": 105,
         "chol": 160,
         "fbs": 0,
         "restecg": 0,
         "thalach": 177,
         "exang": 0,
         "oldpeak": 3,
         "slope": 1,
         "ca": 1,
         "thal": 1,
         "target": 0,
         "_deepnote_index_column": 123
        },
        {
         "age": 72,
         "sex": 0,
         "cp": 1,
         "trestbps": 161,
         "chol": 317,
         "fbs": 0,
         "restecg": 1,
         "thalach": 173,
         "exang": 0,
         "oldpeak": 1,
         "slope": 1,
         "ca": 1,
         "thal": 2,
         "target": 0,
         "_deepnote_index_column": 124
        },
        {
         "age": 36,
         "sex": 0,
         "cp": 0,
         "trestbps": 123,
         "chol": 289,
         "fbs": 0,
         "restecg": 1,
         "thalach": 126,
         "exang": 0,
         "oldpeak": 3,
         "slope": 1,
         "ca": 0,
         "thal": 2,
         "target": 0,
         "_deepnote_index_column": 125
        },
        {
         "age": 39,
         "sex": 0,
         "cp": 1,
         "trestbps": 139,
         "chol": 205,
         "fbs": 0,
         "restecg": 0,
         "thalach": 139,
         "exang": 0,
         "oldpeak": 3,
         "slope": 1,
         "ca": 1,
         "thal": 2,
         "target": 0,
         "_deepnote_index_column": 126
        },
        {
         "age": 52,
         "sex": 0,
         "cp": 2,
         "trestbps": 157,
         "chol": 250,
         "fbs": 0,
         "restecg": 0,
         "thalach": 143,
         "exang": 0,
         "oldpeak": 0,
         "slope": 1,
         "ca": 2,
         "thal": 2,
         "target": 0,
         "_deepnote_index_column": 127
        },
        {
         "age": 50,
         "sex": 0,
         "cp": 2,
         "trestbps": 132,
         "chol": 173,
         "fbs": 0,
         "restecg": 0,
         "thalach": 143,
         "exang": 0,
         "oldpeak": 3,
         "slope": 1,
         "ca": 0,
         "thal": 1,
         "target": 0,
         "_deepnote_index_column": 128
        },
        {
         "age": 50,
         "sex": 0,
         "cp": 0,
         "trestbps": 127,
         "chol": 141,
         "fbs": 0,
         "restecg": 1,
         "thalach": 110,
         "exang": 0,
         "oldpeak": 2,
         "slope": 1,
         "ca": 0,
         "thal": 2,
         "target": 0,
         "_deepnote_index_column": 129
        },
        {
         "age": 45,
         "sex": 0,
         "cp": 1,
         "trestbps": 149,
         "chol": 279,
         "fbs": 0,
         "restecg": 1,
         "thalach": 101,
         "exang": 0,
         "oldpeak": 0,
         "slope": 0,
         "ca": 2,
         "thal": 2,
         "target": 0,
         "_deepnote_index_column": 130
        },
        {
         "age": 62,
         "sex": 0,
         "cp": 1,
         "trestbps": 123,
         "chol": 313,
         "fbs": 0,
         "restecg": 1,
         "thalach": 128,
         "exang": 0,
         "oldpeak": 2,
         "slope": 0,
         "ca": 1,
         "thal": 1,
         "target": 0,
         "_deepnote_index_column": 131
        },
        {
         "age": 73,
         "sex": 0,
         "cp": 0,
         "trestbps": 132,
         "chol": 337,
         "fbs": 0,
         "restecg": 1,
         "thalach": 167,
         "exang": 0,
         "oldpeak": 2,
         "slope": 0,
         "ca": 1,
         "thal": 1,
         "target": 0,
         "_deepnote_index_column": 132
        },
        {
         "age": 36,
         "sex": 0,
         "cp": 1,
         "trestbps": 142,
         "chol": 252,
         "fbs": 0,
         "restecg": 0,
         "thalach": 199,
         "exang": 0,
         "oldpeak": 0,
         "slope": 0,
         "ca": 1,
         "thal": 2,
         "target": 0,
         "_deepnote_index_column": 133
        },
        {
         "age": 38,
         "sex": 0,
         "cp": 1,
         "trestbps": 149,
         "chol": 259,
         "fbs": 0,
         "restecg": 1,
         "thalach": 197,
         "exang": 0,
         "oldpeak": 3,
         "slope": 0,
         "ca": 1,
         "thal": 2,
         "target": 0,
         "_deepnote_index_column": 134
        },
        {
         "age": 63,
         "sex": 0,
         "cp": 2,
         "trestbps": 107,
         "chol": 166,
         "fbs": 0,
         "restecg": 0,
         "thalach": 115,
         "exang": 0,
         "oldpeak": 3,
         "slope": 0,
         "ca": 1,
         "thal": 1,
         "target": 0,
         "_deepnote_index_column": 135
        },
        {
         "age": 36,
         "sex": 0,
         "cp": 1,
         "trestbps": 121,
         "chol": 356,
         "fbs": 0,
         "restecg": 1,
         "thalach": 154,
         "exang": 0,
         "oldpeak": 3,
         "slope": 1,
         "ca": 0,
         "thal": 2,
         "target": 0,
         "_deepnote_index_column": 136
        },
        {
         "age": 40,
         "sex": 0,
         "cp": 2,
         "trestbps": 162,
         "chol": 175,
         "fbs": 0,
         "restecg": 0,
         "thalach": 104,
         "exang": 0,
         "oldpeak": 1,
         "slope": 0,
         "ca": 1,
         "thal": 2,
         "target": 0,
         "_deepnote_index_column": 137
        },
        {
         "age": 70,
         "sex": 0,
         "cp": 1,
         "trestbps": 157,
         "chol": 279,
         "fbs": 0,
         "restecg": 1,
         "thalach": 166,
         "exang": 0,
         "oldpeak": 1,
         "slope": 0,
         "ca": 0,
         "thal": 2,
         "target": 0,
         "_deepnote_index_column": 138
        },
        {
         "age": 67,
         "sex": 0,
         "cp": 2,
         "trestbps": 136,
         "chol": 310,
         "fbs": 0,
         "restecg": 1,
         "thalach": 162,
         "exang": 0,
         "oldpeak": 3,
         "slope": 1,
         "ca": 0,
         "thal": 1,
         "target": 0,
         "_deepnote_index_column": 139
        },
        {
         "age": 36,
         "sex": 0,
         "cp": 0,
         "trestbps": 163,
         "chol": 328,
         "fbs": 0,
         "restecg": 0,
         "thalach": 114,
         "exang": 0,
         "oldpeak": 0,
         "slope": 0,
         "ca": 0,
         "thal": 1,
         "target": 0,
         "_deepnote_index_column": 140
        },
        {
         "age": 41,
         "sex": 0,
         "cp": 2,
         "trestbps": 129,
         "chol": 314,
         "fbs": 0,
         "restecg": 0,
         "thalach": 181,
         "exang": 0,
         "oldpeak": 0,
         "slope": 1,
         "ca": 2,
         "thal": 1,
         "target": 0,
         "_deepnote_index_column": 141
        }
       ]
      },
      "text/plain": "      age  sex   cp  trestbps   chol  fbs  restecg  thalach  exang  oldpeak  \\\n0    74.0  0.0  0.0     158.0  323.0  0.0      1.0    131.0    0.0      2.0   \n1    41.0  0.0  2.0     147.0  245.0  0.0      0.0    177.0    0.0      1.0   \n2    66.0  0.0  0.0     150.0  310.0  0.0      1.0    196.0    0.0      3.0   \n3    72.0  0.0  1.0     157.0  356.0  0.0      0.0    114.0    0.0      2.0   \n4    72.0  0.0  0.0     162.0  205.0  0.0      1.0     90.0    0.0      1.0   \n..    ...  ...  ...       ...    ...  ...      ...      ...    ...      ...   \n137  40.0  0.0  2.0     162.0  175.0  0.0      0.0    104.0    0.0      1.0   \n138  70.0  0.0  1.0     157.0  279.0  0.0      1.0    166.0    0.0      1.0   \n139  67.0  0.0  2.0     136.0  310.0  0.0      1.0    162.0    0.0      3.0   \n140  36.0  0.0  0.0     163.0  328.0  0.0      0.0    114.0    0.0      0.0   \n141  41.0  0.0  2.0     129.0  314.0  0.0      0.0    181.0    0.0      0.0   \n\n     slope   ca  thal  target  \n0      0.0  2.0   1.0     0.0  \n1      0.0  2.0   2.0     0.0  \n2      1.0  1.0   2.0     0.0  \n3      1.0  0.0   2.0     0.0  \n4      0.0  0.0   1.0     0.0  \n..     ...  ...   ...     ...  \n137    0.0  1.0   2.0     0.0  \n138    0.0  0.0   2.0     0.0  \n139    1.0  0.0   1.0     0.0  \n140    0.0  0.0   1.0     0.0  \n141    1.0  2.0   1.0     0.0  \n\n[142 rows x 14 columns]",
      "text/html": "<div>\n<style scoped>\n    .dataframe tbody tr th:only-of-type {\n        vertical-align: middle;\n    }\n\n    .dataframe tbody tr th {\n        vertical-align: top;\n    }\n\n    .dataframe thead th {\n        text-align: right;\n    }\n</style>\n<table border=\"1\" class=\"dataframe\">\n  <thead>\n    <tr style=\"text-align: right;\">\n      <th></th>\n      <th>age</th>\n      <th>sex</th>\n      <th>cp</th>\n      <th>trestbps</th>\n      <th>chol</th>\n      <th>fbs</th>\n      <th>restecg</th>\n      <th>thalach</th>\n      <th>exang</th>\n      <th>oldpeak</th>\n      <th>slope</th>\n      <th>ca</th>\n      <th>thal</th>\n      <th>target</th>\n    </tr>\n  </thead>\n  <tbody>\n    <tr>\n      <th>0</th>\n      <td>74.0</td>\n      <td>0.0</td>\n      <td>0.0</td>\n      <td>158.0</td>\n      <td>323.0</td>\n      <td>0.0</td>\n      <td>1.0</td>\n      <td>131.0</td>\n      <td>0.0</td>\n      <td>2.0</td>\n      <td>0.0</td>\n      <td>2.0</td>\n      <td>1.0</td>\n      <td>0.0</td>\n    </tr>\n    <tr>\n      <th>1</th>\n      <td>41.0</td>\n      <td>0.0</td>\n      <td>2.0</td>\n      <td>147.0</td>\n      <td>245.0</td>\n      <td>0.0</td>\n      <td>0.0</td>\n      <td>177.0</td>\n      <td>0.0</td>\n      <td>1.0</td>\n      <td>0.0</td>\n      <td>2.0</td>\n      <td>2.0</td>\n      <td>0.0</td>\n    </tr>\n    <tr>\n      <th>2</th>\n      <td>66.0</td>\n      <td>0.0</td>\n      <td>0.0</td>\n      <td>150.0</td>\n      <td>310.0</td>\n      <td>0.0</td>\n      <td>1.0</td>\n      <td>196.0</td>\n      <td>0.0</td>\n      <td>3.0</td>\n      <td>1.0</td>\n      <td>1.0</td>\n      <td>2.0</td>\n      <td>0.0</td>\n    </tr>\n    <tr>\n      <th>3</th>\n      <td>72.0</td>\n      <td>0.0</td>\n      <td>1.0</td>\n      <td>157.0</td>\n      <td>356.0</td>\n      <td>0.0</td>\n      <td>0.0</td>\n      <td>114.0</td>\n      <td>0.0</td>\n      <td>2.0</td>\n      <td>1.0</td>\n      <td>0.0</td>\n      <td>2.0</td>\n      <td>0.0</td>\n    </tr>\n    <tr>\n      <th>4</th>\n      <td>72.0</td>\n      <td>0.0</td>\n      <td>0.0</td>\n      <td>162.0</td>\n      <td>205.0</td>\n      <td>0.0</td>\n      <td>1.0</td>\n      <td>90.0</td>\n      <td>0.0</td>\n      <td>1.0</td>\n      <td>0.0</td>\n      <td>0.0</td>\n      <td>1.0</td>\n      <td>0.0</td>\n    </tr>\n    <tr>\n      <th>...</th>\n      <td>...</td>\n      <td>...</td>\n      <td>...</td>\n      <td>...</td>\n      <td>...</td>\n      <td>...</td>\n      <td>...</td>\n      <td>...</td>\n      <td>...</td>\n      <td>...</td>\n      <td>...</td>\n      <td>...</td>\n      <td>...</td>\n      <td>...</td>\n    </tr>\n    <tr>\n      <th>137</th>\n      <td>40.0</td>\n      <td>0.0</td>\n      <td>2.0</td>\n      <td>162.0</td>\n      <td>175.0</td>\n      <td>0.0</td>\n      <td>0.0</td>\n      <td>104.0</td>\n      <td>0.0</td>\n      <td>1.0</td>\n      <td>0.0</td>\n      <td>1.0</td>\n      <td>2.0</td>\n      <td>0.0</td>\n    </tr>\n    <tr>\n      <th>138</th>\n      <td>70.0</td>\n      <td>0.0</td>\n      <td>1.0</td>\n      <td>157.0</td>\n      <td>279.0</td>\n      <td>0.0</td>\n      <td>1.0</td>\n      <td>166.0</td>\n      <td>0.0</td>\n      <td>1.0</td>\n      <td>0.0</td>\n      <td>0.0</td>\n      <td>2.0</td>\n      <td>0.0</td>\n    </tr>\n    <tr>\n      <th>139</th>\n      <td>67.0</td>\n      <td>0.0</td>\n      <td>2.0</td>\n      <td>136.0</td>\n      <td>310.0</td>\n      <td>0.0</td>\n      <td>1.0</td>\n      <td>162.0</td>\n      <td>0.0</td>\n      <td>3.0</td>\n      <td>1.0</td>\n      <td>0.0</td>\n      <td>1.0</td>\n      <td>0.0</td>\n    </tr>\n    <tr>\n      <th>140</th>\n      <td>36.0</td>\n      <td>0.0</td>\n      <td>0.0</td>\n      <td>163.0</td>\n      <td>328.0</td>\n      <td>0.0</td>\n      <td>0.0</td>\n      <td>114.0</td>\n      <td>0.0</td>\n      <td>0.0</td>\n      <td>0.0</td>\n      <td>0.0</td>\n      <td>1.0</td>\n      <td>0.0</td>\n    </tr>\n    <tr>\n      <th>141</th>\n      <td>41.0</td>\n      <td>0.0</td>\n      <td>2.0</td>\n      <td>129.0</td>\n      <td>314.0</td>\n      <td>0.0</td>\n      <td>0.0</td>\n      <td>181.0</td>\n      <td>0.0</td>\n      <td>0.0</td>\n      <td>1.0</td>\n      <td>2.0</td>\n      <td>1.0</td>\n      <td>0.0</td>\n    </tr>\n  </tbody>\n</table>\n<p>142 rows × 14 columns</p>\n</div>"
     },
     "metadata": {}
    }
   ],
   "execution_count": 27
  },
  {
   "cell_type": "code",
   "source": "dfs = [df, df_added]\n\ndf_final = pd.concat(dfs, ignore_index=True)",
   "metadata": {
    "tags": [],
    "cell_id": "00031-5d77865b-4375-403d-8ffd-f76b853ccb6b",
    "deepnote_to_be_reexecuted": false,
    "source_hash": "ce04cbf2",
    "execution_start": 1620392134866,
    "execution_millis": 1,
    "deepnote_cell_type": "code"
   },
   "outputs": [],
   "execution_count": 28
  },
  {
   "cell_type": "code",
   "source": "df_final",
   "metadata": {
    "tags": [],
    "cell_id": "00032-b2fe1b2e-c28e-44f5-bc2d-f4eed3e8bcb3",
    "deepnote_to_be_reexecuted": false,
    "source_hash": "5d0cd32d",
    "execution_start": 1620392136398,
    "execution_millis": 91,
    "deepnote_cell_type": "code"
   },
   "outputs": [
    {
     "output_type": "execute_result",
     "execution_count": 29,
     "data": {
      "application/vnd.deepnote.dataframe.v2+json": {
       "row_count": 426,
       "column_count": 14,
       "columns": [
        {
         "name": "age",
         "dtype": "float64",
         "stats": {
          "unique_count": 49,
          "nan_count": 0,
          "min": "29.0",
          "max": "77.0",
          "histogram": [
           {
            "bin_start": 29,
            "bin_end": 33.8,
            "count": 16
           },
           {
            "bin_start": 33.8,
            "bin_end": 38.6,
            "count": 32
           },
           {
            "bin_start": 38.6,
            "bin_end": 43.4,
            "count": 45
           },
           {
            "bin_start": 43.4,
            "bin_end": 48.2,
            "count": 52
           },
           {
            "bin_start": 48.2,
            "bin_end": 53,
            "count": 51
           },
           {
            "bin_start": 53,
            "bin_end": 57.8,
            "count": 68
           },
           {
            "bin_start": 57.8,
            "bin_end": 62.6,
            "count": 70
           },
           {
            "bin_start": 62.6,
            "bin_end": 67.4,
            "count": 54
           },
           {
            "bin_start": 67.4,
            "bin_end": 72.19999999999999,
            "count": 27
           },
           {
            "bin_start": 72.19999999999999,
            "bin_end": 77,
            "count": 11
           }
          ]
         }
        },
        {
         "name": "sex",
         "dtype": "float64",
         "stats": {
          "unique_count": 2,
          "nan_count": 0,
          "min": "0.0",
          "max": "1.0",
          "histogram": [
           {
            "bin_start": 0,
            "bin_end": 0.1,
            "count": 227
           },
           {
            "bin_start": 0.1,
            "bin_end": 0.2,
            "count": 0
           },
           {
            "bin_start": 0.2,
            "bin_end": 0.30000000000000004,
            "count": 0
           },
           {
            "bin_start": 0.30000000000000004,
            "bin_end": 0.4,
            "count": 0
           },
           {
            "bin_start": 0.4,
            "bin_end": 0.5,
            "count": 0
           },
           {
            "bin_start": 0.5,
            "bin_end": 0.6000000000000001,
            "count": 0
           },
           {
            "bin_start": 0.6000000000000001,
            "bin_end": 0.7000000000000001,
            "count": 0
           },
           {
            "bin_start": 0.7000000000000001,
            "bin_end": 0.8,
            "count": 0
           },
           {
            "bin_start": 0.8,
            "bin_end": 0.9,
            "count": 0
           },
           {
            "bin_start": 0.9,
            "bin_end": 1,
            "count": 199
           }
          ]
         }
        },
        {
         "name": "cp",
         "dtype": "float64",
         "stats": {
          "unique_count": 4,
          "nan_count": 0,
          "min": "0.0",
          "max": "3.0",
          "histogram": [
           {
            "bin_start": 0,
            "bin_end": 0.3,
            "count": 172
           },
           {
            "bin_start": 0.3,
            "bin_end": 0.6,
            "count": 0
           },
           {
            "bin_start": 0.6,
            "bin_end": 0.8999999999999999,
            "count": 0
           },
           {
            "bin_start": 0.8999999999999999,
            "bin_end": 1.2,
            "count": 105
           },
           {
            "bin_start": 1.2,
            "bin_end": 1.5,
            "count": 0
           },
           {
            "bin_start": 1.5,
            "bin_end": 1.7999999999999998,
            "count": 0
           },
           {
            "bin_start": 1.7999999999999998,
            "bin_end": 2.1,
            "count": 127
           },
           {
            "bin_start": 2.1,
            "bin_end": 2.4,
            "count": 0
           },
           {
            "bin_start": 2.4,
            "bin_end": 2.6999999999999997,
            "count": 0
           },
           {
            "bin_start": 2.6999999999999997,
            "bin_end": 3,
            "count": 22
           }
          ]
         }
        },
        {
         "name": "trestbps",
         "dtype": "float64",
         "stats": {
          "unique_count": 72,
          "nan_count": 0,
          "min": "94.0",
          "max": "170.0",
          "histogram": [
           {
            "bin_start": 94,
            "bin_end": 101.6,
            "count": 20
           },
           {
            "bin_start": 101.6,
            "bin_end": 109.2,
            "count": 28
           },
           {
            "bin_start": 109.2,
            "bin_end": 116.8,
            "count": 45
           },
           {
            "bin_start": 116.8,
            "bin_end": 124.4,
            "count": 74
           },
           {
            "bin_start": 124.4,
            "bin_end": 132,
            "count": 74
           },
           {
            "bin_start": 132,
            "bin_end": 139.6,
            "count": 50
           },
           {
            "bin_start": 139.6,
            "bin_end": 147.2,
            "count": 53
           },
           {
            "bin_start": 147.2,
            "bin_end": 154.8,
            "count": 39
           },
           {
            "bin_start": 154.8,
            "bin_end": 162.39999999999998,
            "count": 28
           },
           {
            "bin_start": 162.39999999999998,
            "bin_end": 170,
            "count": 15
           }
          ]
         }
        },
        {
         "name": "chol",
         "dtype": "float64",
         "stats": {
          "unique_count": 184,
          "nan_count": 0,
          "min": "126.0",
          "max": "360.0",
          "histogram": [
           {
            "bin_start": 126,
            "bin_end": 149.4,
            "count": 22
           },
           {
            "bin_start": 149.4,
            "bin_end": 172.8,
            "count": 23
           },
           {
            "bin_start": 172.8,
            "bin_end": 196.2,
            "count": 40
           },
           {
            "bin_start": 196.2,
            "bin_end": 219.6,
            "count": 71
           },
           {
            "bin_start": 219.6,
            "bin_end": 243,
            "count": 66
           },
           {
            "bin_start": 243,
            "bin_end": 266.4,
            "count": 71
           },
           {
            "bin_start": 266.4,
            "bin_end": 289.79999999999995,
            "count": 49
           },
           {
            "bin_start": 289.79999999999995,
            "bin_end": 313.2,
            "count": 42
           },
           {
            "bin_start": 313.2,
            "bin_end": 336.6,
            "count": 21
           },
           {
            "bin_start": 336.6,
            "bin_end": 360,
            "count": 21
           }
          ]
         }
        },
        {
         "name": "fbs",
         "dtype": "float64",
         "stats": {
          "unique_count": 2,
          "nan_count": 0,
          "min": "0.0",
          "max": "1.0",
          "histogram": [
           {
            "bin_start": 0,
            "bin_end": 0.1,
            "count": 386
           },
           {
            "bin_start": 0.1,
            "bin_end": 0.2,
            "count": 0
           },
           {
            "bin_start": 0.2,
            "bin_end": 0.30000000000000004,
            "count": 0
           },
           {
            "bin_start": 0.30000000000000004,
            "bin_end": 0.4,
            "count": 0
           },
           {
            "bin_start": 0.4,
            "bin_end": 0.5,
            "count": 0
           },
           {
            "bin_start": 0.5,
            "bin_end": 0.6000000000000001,
            "count": 0
           },
           {
            "bin_start": 0.6000000000000001,
            "bin_end": 0.7000000000000001,
            "count": 0
           },
           {
            "bin_start": 0.7000000000000001,
            "bin_end": 0.8,
            "count": 0
           },
           {
            "bin_start": 0.8,
            "bin_end": 0.9,
            "count": 0
           },
           {
            "bin_start": 0.9,
            "bin_end": 1,
            "count": 40
           }
          ]
         }
        },
        {
         "name": "restecg",
         "dtype": "float64",
         "stats": {
          "unique_count": 3,
          "nan_count": 0,
          "min": "0.0",
          "max": "2.0",
          "histogram": [
           {
            "bin_start": 0,
            "bin_end": 0.2,
            "count": 210
           },
           {
            "bin_start": 0.2,
            "bin_end": 0.4,
            "count": 0
           },
           {
            "bin_start": 0.4,
            "bin_end": 0.6000000000000001,
            "count": 0
           },
           {
            "bin_start": 0.6000000000000001,
            "bin_end": 0.8,
            "count": 0
           },
           {
            "bin_start": 0.8,
            "bin_end": 1,
            "count": 0
           },
           {
            "bin_start": 1,
            "bin_end": 1.2000000000000002,
            "count": 214
           },
           {
            "bin_start": 1.2000000000000002,
            "bin_end": 1.4000000000000001,
            "count": 0
           },
           {
            "bin_start": 1.4000000000000001,
            "bin_end": 1.6,
            "count": 0
           },
           {
            "bin_start": 1.6,
            "bin_end": 1.8,
            "count": 0
           },
           {
            "bin_start": 1.8,
            "bin_end": 2,
            "count": 2
           }
          ]
         }
        },
        {
         "name": "thalach",
         "dtype": "float64",
         "stats": {
          "unique_count": 108,
          "nan_count": 0,
          "min": "88.0",
          "max": "202.0",
          "histogram": [
           {
            "bin_start": 88,
            "bin_end": 99.4,
            "count": 23
           },
           {
            "bin_start": 99.4,
            "bin_end": 110.8,
            "count": 26
           },
           {
            "bin_start": 110.8,
            "bin_end": 122.2,
            "count": 35
           },
           {
            "bin_start": 122.2,
            "bin_end": 133.6,
            "count": 46
           },
           {
            "bin_start": 133.6,
            "bin_end": 145,
            "count": 54
           },
           {
            "bin_start": 145,
            "bin_end": 156.4,
            "count": 62
           },
           {
            "bin_start": 156.4,
            "bin_end": 167.8,
            "count": 67
           },
           {
            "bin_start": 167.8,
            "bin_end": 179.2,
            "count": 69
           },
           {
            "bin_start": 179.2,
            "bin_end": 190.60000000000002,
            "count": 24
           },
           {
            "bin_start": 190.60000000000002,
            "bin_end": 202,
            "count": 20
           }
          ]
         }
        },
        {
         "name": "exang",
         "dtype": "float64",
         "stats": {
          "unique_count": 2,
          "nan_count": 0,
          "min": "0.0",
          "max": "1.0",
          "histogram": [
           {
            "bin_start": 0,
            "bin_end": 0.1,
            "count": 336
           },
           {
            "bin_start": 0.1,
            "bin_end": 0.2,
            "count": 0
           },
           {
            "bin_start": 0.2,
            "bin_end": 0.30000000000000004,
            "count": 0
           },
           {
            "bin_start": 0.30000000000000004,
            "bin_end": 0.4,
            "count": 0
           },
           {
            "bin_start": 0.4,
            "bin_end": 0.5,
            "count": 0
           },
           {
            "bin_start": 0.5,
            "bin_end": 0.6000000000000001,
            "count": 0
           },
           {
            "bin_start": 0.6000000000000001,
            "bin_end": 0.7000000000000001,
            "count": 0
           },
           {
            "bin_start": 0.7000000000000001,
            "bin_end": 0.8,
            "count": 0
           },
           {
            "bin_start": 0.8,
            "bin_end": 0.9,
            "count": 0
           },
           {
            "bin_start": 0.9,
            "bin_end": 1,
            "count": 90
           }
          ]
         }
        },
        {
         "name": "oldpeak",
         "dtype": "float64",
         "stats": {
          "unique_count": 36,
          "nan_count": 0,
          "min": "0.0",
          "max": "4.0",
          "histogram": [
           {
            "bin_start": 0,
            "bin_end": 0.4,
            "count": 152
           },
           {
            "bin_start": 0.4,
            "bin_end": 0.8,
            "count": 28
           },
           {
            "bin_start": 0.8,
            "bin_end": 1.2000000000000002,
            "count": 78
           },
           {
            "bin_start": 1.2000000000000002,
            "bin_end": 1.6,
            "count": 19
           },
           {
            "bin_start": 1.6,
            "bin_end": 2,
            "count": 23
           },
           {
            "bin_start": 2,
            "bin_end": 2.4000000000000004,
            "count": 58
           },
           {
            "bin_start": 2.4000000000000004,
            "bin_end": 2.8000000000000003,
            "count": 14
           },
           {
            "bin_start": 2.8000000000000003,
            "bin_end": 3.2,
            "count": 43
           },
           {
            "bin_start": 3.2,
            "bin_end": 3.6,
            "count": 5
           },
           {
            "bin_start": 3.6,
            "bin_end": 4,
            "count": 6
           }
          ]
         }
        },
        {
         "name": "slope",
         "dtype": "float64",
         "stats": {
          "unique_count": 3,
          "nan_count": 0,
          "min": "0.0",
          "max": "2.0",
          "histogram": [
           {
            "bin_start": 0,
            "bin_end": 0.2,
            "count": 83
           },
           {
            "bin_start": 0.2,
            "bin_end": 0.4,
            "count": 0
           },
           {
            "bin_start": 0.4,
            "bin_end": 0.6000000000000001,
            "count": 0
           },
           {
            "bin_start": 0.6000000000000001,
            "bin_end": 0.8,
            "count": 0
           },
           {
            "bin_start": 0.8,
            "bin_end": 1,
            "count": 0
           },
           {
            "bin_start": 1,
            "bin_end": 1.2000000000000002,
            "count": 205
           },
           {
            "bin_start": 1.2000000000000002,
            "bin_end": 1.4000000000000001,
            "count": 0
           },
           {
            "bin_start": 1.4000000000000001,
            "bin_end": 1.6,
            "count": 0
           },
           {
            "bin_start": 1.6,
            "bin_end": 1.8,
            "count": 0
           },
           {
            "bin_start": 1.8,
            "bin_end": 2,
            "count": 138
           }
          ]
         }
        },
        {
         "name": "ca",
         "dtype": "float64",
         "stats": {
          "unique_count": 4,
          "nan_count": 5,
          "min": "0.0",
          "max": "3.0",
          "histogram": [
           {
            "bin_start": 0,
            "bin_end": 0.3,
            "count": 215
           },
           {
            "bin_start": 0.3,
            "bin_end": 0.6,
            "count": 0
           },
           {
            "bin_start": 0.6,
            "bin_end": 0.8999999999999999,
            "count": 0
           },
           {
            "bin_start": 0.8999999999999999,
            "bin_end": 1.2,
            "count": 109
           },
           {
            "bin_start": 1.2,
            "bin_end": 1.5,
            "count": 0
           },
           {
            "bin_start": 1.5,
            "bin_end": 1.7999999999999998,
            "count": 0
           },
           {
            "bin_start": 1.7999999999999998,
            "bin_end": 2.1,
            "count": 81
           },
           {
            "bin_start": 2.1,
            "bin_end": 2.4,
            "count": 0
           },
           {
            "bin_start": 2.4,
            "bin_end": 2.6999999999999997,
            "count": 0
           },
           {
            "bin_start": 2.6999999999999997,
            "bin_end": 3,
            "count": 16
           }
          ]
         }
        },
        {
         "name": "thal",
         "dtype": "float64",
         "stats": {
          "unique_count": 3,
          "nan_count": 2,
          "min": "1.0",
          "max": "3.0",
          "histogram": [
           {
            "bin_start": 1,
            "bin_end": 1.2,
            "count": 92
           },
           {
            "bin_start": 1.2,
            "bin_end": 1.4,
            "count": 0
           },
           {
            "bin_start": 1.4,
            "bin_end": 1.6,
            "count": 0
           },
           {
            "bin_start": 1.6,
            "bin_end": 1.8,
            "count": 0
           },
           {
            "bin_start": 1.8,
            "bin_end": 2,
            "count": 0
           },
           {
            "bin_start": 2,
            "bin_end": 2.2,
            "count": 227
           },
           {
            "bin_start": 2.2,
            "bin_end": 2.4000000000000004,
            "count": 0
           },
           {
            "bin_start": 2.4000000000000004,
            "bin_end": 2.6,
            "count": 0
           },
           {
            "bin_start": 2.6,
            "bin_end": 2.8,
            "count": 0
           },
           {
            "bin_start": 2.8,
            "bin_end": 3,
            "count": 105
           }
          ]
         }
        },
        {
         "name": "target",
         "dtype": "float64",
         "stats": {
          "unique_count": 2,
          "nan_count": 0,
          "min": "0.0",
          "max": "1.0",
          "histogram": [
           {
            "bin_start": 0,
            "bin_end": 0.1,
            "count": 267
           },
           {
            "bin_start": 0.1,
            "bin_end": 0.2,
            "count": 0
           },
           {
            "bin_start": 0.2,
            "bin_end": 0.30000000000000004,
            "count": 0
           },
           {
            "bin_start": 0.30000000000000004,
            "bin_end": 0.4,
            "count": 0
           },
           {
            "bin_start": 0.4,
            "bin_end": 0.5,
            "count": 0
           },
           {
            "bin_start": 0.5,
            "bin_end": 0.6000000000000001,
            "count": 0
           },
           {
            "bin_start": 0.6000000000000001,
            "bin_end": 0.7000000000000001,
            "count": 0
           },
           {
            "bin_start": 0.7000000000000001,
            "bin_end": 0.8,
            "count": 0
           },
           {
            "bin_start": 0.8,
            "bin_end": 0.9,
            "count": 0
           },
           {
            "bin_start": 0.9,
            "bin_end": 1,
            "count": 159
           }
          ]
         }
        },
        {
         "name": "_deepnote_index_column",
         "dtype": "int64"
        }
       ],
       "rows_top": [
        {
         "age": 63,
         "sex": 1,
         "cp": 3,
         "trestbps": 145,
         "chol": 233,
         "fbs": 1,
         "restecg": 0,
         "thalach": 150,
         "exang": 0,
         "oldpeak": 2.3,
         "slope": 0,
         "ca": 0,
         "thal": 1,
         "target": 1,
         "_deepnote_index_column": 0
        },
        {
         "age": 37,
         "sex": 1,
         "cp": 2,
         "trestbps": 130,
         "chol": 250,
         "fbs": 0,
         "restecg": 1,
         "thalach": 187,
         "exang": 0,
         "oldpeak": 3.5,
         "slope": 0,
         "ca": 0,
         "thal": 2,
         "target": 1,
         "_deepnote_index_column": 1
        },
        {
         "age": 41,
         "sex": 0,
         "cp": 1,
         "trestbps": 130,
         "chol": 204,
         "fbs": 0,
         "restecg": 0,
         "thalach": 172,
         "exang": 0,
         "oldpeak": 1.4,
         "slope": 2,
         "ca": 0,
         "thal": 2,
         "target": 1,
         "_deepnote_index_column": 2
        },
        {
         "age": 56,
         "sex": 1,
         "cp": 1,
         "trestbps": 120,
         "chol": 236,
         "fbs": 0,
         "restecg": 1,
         "thalach": 178,
         "exang": 0,
         "oldpeak": 0.8,
         "slope": 2,
         "ca": 0,
         "thal": 2,
         "target": 1,
         "_deepnote_index_column": 3
        },
        {
         "age": 57,
         "sex": 0,
         "cp": 0,
         "trestbps": 120,
         "chol": 354,
         "fbs": 0,
         "restecg": 1,
         "thalach": 163,
         "exang": 1,
         "oldpeak": 0.6,
         "slope": 2,
         "ca": 0,
         "thal": 2,
         "target": 1,
         "_deepnote_index_column": 4
        },
        {
         "age": 57,
         "sex": 1,
         "cp": 0,
         "trestbps": 140,
         "chol": 192,
         "fbs": 0,
         "restecg": 1,
         "thalach": 148,
         "exang": 0,
         "oldpeak": 0.4,
         "slope": 1,
         "ca": 0,
         "thal": 1,
         "target": 1,
         "_deepnote_index_column": 5
        },
        {
         "age": 56,
         "sex": 0,
         "cp": 1,
         "trestbps": 140,
         "chol": 294,
         "fbs": 0,
         "restecg": 0,
         "thalach": 153,
         "exang": 0,
         "oldpeak": 1.3,
         "slope": 1,
         "ca": 0,
         "thal": 2,
         "target": 1,
         "_deepnote_index_column": 6
        },
        {
         "age": 44,
         "sex": 1,
         "cp": 1,
         "trestbps": 120,
         "chol": 263,
         "fbs": 0,
         "restecg": 1,
         "thalach": 173,
         "exang": 0,
         "oldpeak": 0,
         "slope": 2,
         "ca": 0,
         "thal": 3,
         "target": 1,
         "_deepnote_index_column": 7
        },
        {
         "age": 57,
         "sex": 1,
         "cp": 2,
         "trestbps": 150,
         "chol": 168,
         "fbs": 0,
         "restecg": 1,
         "thalach": 174,
         "exang": 0,
         "oldpeak": 1.6,
         "slope": 2,
         "ca": 0,
         "thal": 2,
         "target": 1,
         "_deepnote_index_column": 8
        },
        {
         "age": 54,
         "sex": 1,
         "cp": 0,
         "trestbps": 140,
         "chol": 239,
         "fbs": 0,
         "restecg": 1,
         "thalach": 160,
         "exang": 0,
         "oldpeak": 1.2,
         "slope": 2,
         "ca": 0,
         "thal": 2,
         "target": 1,
         "_deepnote_index_column": 9
        },
        {
         "age": 48,
         "sex": 0,
         "cp": 2,
         "trestbps": 130,
         "chol": 275,
         "fbs": 0,
         "restecg": 1,
         "thalach": 139,
         "exang": 0,
         "oldpeak": 0.2,
         "slope": 2,
         "ca": 0,
         "thal": 2,
         "target": 1,
         "_deepnote_index_column": 10
        },
        {
         "age": 49,
         "sex": 1,
         "cp": 1,
         "trestbps": 130,
         "chol": 266,
         "fbs": 0,
         "restecg": 1,
         "thalach": 171,
         "exang": 0,
         "oldpeak": 0.6,
         "slope": 2,
         "ca": 0,
         "thal": 2,
         "target": 1,
         "_deepnote_index_column": 11
        },
        {
         "age": 64,
         "sex": 1,
         "cp": 3,
         "trestbps": 110,
         "chol": 211,
         "fbs": 0,
         "restecg": 0,
         "thalach": 144,
         "exang": 1,
         "oldpeak": 1.8,
         "slope": 1,
         "ca": 0,
         "thal": 2,
         "target": 1,
         "_deepnote_index_column": 12
        },
        {
         "age": 58,
         "sex": 0,
         "cp": 3,
         "trestbps": 150,
         "chol": 283,
         "fbs": 1,
         "restecg": 0,
         "thalach": 162,
         "exang": 0,
         "oldpeak": 1,
         "slope": 2,
         "ca": 0,
         "thal": 2,
         "target": 1,
         "_deepnote_index_column": 13
        },
        {
         "age": 50,
         "sex": 0,
         "cp": 2,
         "trestbps": 120,
         "chol": 219,
         "fbs": 0,
         "restecg": 1,
         "thalach": 158,
         "exang": 0,
         "oldpeak": 1.6,
         "slope": 1,
         "ca": 0,
         "thal": 2,
         "target": 1,
         "_deepnote_index_column": 14
        },
        {
         "age": 58,
         "sex": 0,
         "cp": 2,
         "trestbps": 120,
         "chol": 340,
         "fbs": 0,
         "restecg": 1,
         "thalach": 172,
         "exang": 0,
         "oldpeak": 0,
         "slope": 2,
         "ca": 0,
         "thal": 2,
         "target": 1,
         "_deepnote_index_column": 15
        },
        {
         "age": 66,
         "sex": 0,
         "cp": 3,
         "trestbps": 150,
         "chol": 226,
         "fbs": 0,
         "restecg": 1,
         "thalach": 114,
         "exang": 0,
         "oldpeak": 2.6,
         "slope": 0,
         "ca": 0,
         "thal": 2,
         "target": 1,
         "_deepnote_index_column": 16
        },
        {
         "age": 43,
         "sex": 1,
         "cp": 0,
         "trestbps": 150,
         "chol": 247,
         "fbs": 0,
         "restecg": 1,
         "thalach": 171,
         "exang": 0,
         "oldpeak": 1.5,
         "slope": 2,
         "ca": 0,
         "thal": 2,
         "target": 1,
         "_deepnote_index_column": 17
        },
        {
         "age": 69,
         "sex": 0,
         "cp": 3,
         "trestbps": 140,
         "chol": 239,
         "fbs": 0,
         "restecg": 1,
         "thalach": 151,
         "exang": 0,
         "oldpeak": 1.8,
         "slope": 2,
         "ca": 2,
         "thal": 2,
         "target": 1,
         "_deepnote_index_column": 18
        },
        {
         "age": 59,
         "sex": 1,
         "cp": 0,
         "trestbps": 135,
         "chol": 234,
         "fbs": 0,
         "restecg": 1,
         "thalach": 161,
         "exang": 0,
         "oldpeak": 0.5,
         "slope": 1,
         "ca": 0,
         "thal": 3,
         "target": 1,
         "_deepnote_index_column": 19
        },
        {
         "age": 44,
         "sex": 1,
         "cp": 2,
         "trestbps": 130,
         "chol": 233,
         "fbs": 0,
         "restecg": 1,
         "thalach": 179,
         "exang": 1,
         "oldpeak": 0.4,
         "slope": 2,
         "ca": 0,
         "thal": 2,
         "target": 1,
         "_deepnote_index_column": 20
        },
        {
         "age": 42,
         "sex": 1,
         "cp": 0,
         "trestbps": 140,
         "chol": 226,
         "fbs": 0,
         "restecg": 1,
         "thalach": 178,
         "exang": 0,
         "oldpeak": 0,
         "slope": 2,
         "ca": 0,
         "thal": 2,
         "target": 1,
         "_deepnote_index_column": 21
        },
        {
         "age": 61,
         "sex": 1,
         "cp": 2,
         "trestbps": 150,
         "chol": 243,
         "fbs": 1,
         "restecg": 1,
         "thalach": 137,
         "exang": 1,
         "oldpeak": 1,
         "slope": 1,
         "ca": 0,
         "thal": 2,
         "target": 1,
         "_deepnote_index_column": 22
        },
        {
         "age": 40,
         "sex": 1,
         "cp": 3,
         "trestbps": 140,
         "chol": 199,
         "fbs": 0,
         "restecg": 1,
         "thalach": 178,
         "exang": 1,
         "oldpeak": 1.4,
         "slope": 2,
         "ca": 0,
         "thal": 3,
         "target": 1,
         "_deepnote_index_column": 23
        },
        {
         "age": 71,
         "sex": 0,
         "cp": 1,
         "trestbps": 160,
         "chol": 302,
         "fbs": 0,
         "restecg": 1,
         "thalach": 162,
         "exang": 0,
         "oldpeak": 0.4,
         "slope": 2,
         "ca": 2,
         "thal": 2,
         "target": 1,
         "_deepnote_index_column": 24
        },
        {
         "age": 59,
         "sex": 1,
         "cp": 2,
         "trestbps": 150,
         "chol": 212,
         "fbs": 1,
         "restecg": 1,
         "thalach": 157,
         "exang": 0,
         "oldpeak": 1.6,
         "slope": 2,
         "ca": 0,
         "thal": 2,
         "target": 1,
         "_deepnote_index_column": 25
        },
        {
         "age": 51,
         "sex": 1,
         "cp": 2,
         "trestbps": 110,
         "chol": 175,
         "fbs": 0,
         "restecg": 1,
         "thalach": 123,
         "exang": 0,
         "oldpeak": 0.6,
         "slope": 2,
         "ca": 0,
         "thal": 2,
         "target": 1,
         "_deepnote_index_column": 26
        },
        {
         "age": 53,
         "sex": 1,
         "cp": 2,
         "trestbps": 130,
         "chol": 197,
         "fbs": 1,
         "restecg": 0,
         "thalach": 152,
         "exang": 0,
         "oldpeak": 1.2,
         "slope": 0,
         "ca": 0,
         "thal": 2,
         "target": 1,
         "_deepnote_index_column": 27
        },
        {
         "age": 41,
         "sex": 0,
         "cp": 1,
         "trestbps": 105,
         "chol": 198,
         "fbs": 0,
         "restecg": 1,
         "thalach": 168,
         "exang": 0,
         "oldpeak": 0,
         "slope": 2,
         "ca": 1,
         "thal": 2,
         "target": 1,
         "_deepnote_index_column": 28
        },
        {
         "age": 65,
         "sex": 1,
         "cp": 0,
         "trestbps": 120,
         "chol": 177,
         "fbs": 0,
         "restecg": 1,
         "thalach": 140,
         "exang": 0,
         "oldpeak": 0.4,
         "slope": 2,
         "ca": 0,
         "thal": 3,
         "target": 1,
         "_deepnote_index_column": 29
        },
        {
         "age": 44,
         "sex": 1,
         "cp": 1,
         "trestbps": 130,
         "chol": 219,
         "fbs": 0,
         "restecg": 0,
         "thalach": 188,
         "exang": 0,
         "oldpeak": 0,
         "slope": 2,
         "ca": 0,
         "thal": 2,
         "target": 1,
         "_deepnote_index_column": 30
        },
        {
         "age": 54,
         "sex": 1,
         "cp": 2,
         "trestbps": 125,
         "chol": 273,
         "fbs": 0,
         "restecg": 0,
         "thalach": 152,
         "exang": 0,
         "oldpeak": 0.5,
         "slope": 0,
         "ca": 1,
         "thal": 2,
         "target": 1,
         "_deepnote_index_column": 31
        },
        {
         "age": 51,
         "sex": 1,
         "cp": 3,
         "trestbps": 125,
         "chol": 213,
         "fbs": 0,
         "restecg": 0,
         "thalach": 125,
         "exang": 1,
         "oldpeak": 1.4,
         "slope": 2,
         "ca": 1,
         "thal": 2,
         "target": 1,
         "_deepnote_index_column": 32
        },
        {
         "age": 46,
         "sex": 0,
         "cp": 2,
         "trestbps": 142,
         "chol": 177,
         "fbs": 0,
         "restecg": 0,
         "thalach": 160,
         "exang": 1,
         "oldpeak": 1.4,
         "slope": 0,
         "ca": 0,
         "thal": 2,
         "target": 1,
         "_deepnote_index_column": 33
        },
        {
         "age": 54,
         "sex": 0,
         "cp": 2,
         "trestbps": 135,
         "chol": 304,
         "fbs": 1,
         "restecg": 1,
         "thalach": 170,
         "exang": 0,
         "oldpeak": 0,
         "slope": 2,
         "ca": 0,
         "thal": 2,
         "target": 1,
         "_deepnote_index_column": 34
        }
       ],
       "rows_bottom": [
        {
         "age": 71,
         "sex": 0,
         "cp": 1,
         "trestbps": 120,
         "chol": 343,
         "fbs": 0,
         "restecg": 1,
         "thalach": 125,
         "exang": 0,
         "oldpeak": 3,
         "slope": 1,
         "ca": 1,
         "thal": 1,
         "target": 0,
         "_deepnote_index_column": 390
        },
        {
         "age": 51,
         "sex": 0,
         "cp": 0,
         "trestbps": 95,
         "chol": 137,
         "fbs": 0,
         "restecg": 1,
         "thalach": 169,
         "exang": 0,
         "oldpeak": 1,
         "slope": 1,
         "ca": 0,
         "thal": 1,
         "target": 0,
         "_deepnote_index_column": 391
        },
        {
         "age": 61,
         "sex": 0,
         "cp": 0,
         "trestbps": 117,
         "chol": 140,
         "fbs": 0,
         "restecg": 1,
         "thalach": 140,
         "exang": 0,
         "oldpeak": 3,
         "slope": 1,
         "ca": 0,
         "thal": 1,
         "target": 0,
         "_deepnote_index_column": 392
        },
        {
         "age": 42,
         "sex": 0,
         "cp": 0,
         "trestbps": 155,
         "chol": 317,
         "fbs": 0,
         "restecg": 1,
         "thalach": 119,
         "exang": 0,
         "oldpeak": 2,
         "slope": 1,
         "ca": 1,
         "thal": 2,
         "target": 0,
         "_deepnote_index_column": 393
        },
        {
         "age": 33,
         "sex": 0,
         "cp": 2,
         "trestbps": 109,
         "chol": 260,
         "fbs": 0,
         "restecg": 0,
         "thalach": 101,
         "exang": 0,
         "oldpeak": 2,
         "slope": 1,
         "ca": 2,
         "thal": 1,
         "target": 0,
         "_deepnote_index_column": 394
        },
        {
         "age": 37,
         "sex": 0,
         "cp": 1,
         "trestbps": 109,
         "chol": 181,
         "fbs": 0,
         "restecg": 1,
         "thalach": 191,
         "exang": 0,
         "oldpeak": 0,
         "slope": 0,
         "ca": 1,
         "thal": 1,
         "target": 0,
         "_deepnote_index_column": 395
        },
        {
         "age": 31,
         "sex": 0,
         "cp": 1,
         "trestbps": 140,
         "chol": 293,
         "fbs": 0,
         "restecg": 0,
         "thalach": 135,
         "exang": 0,
         "oldpeak": 3,
         "slope": 1,
         "ca": 0,
         "thal": 1,
         "target": 0,
         "_deepnote_index_column": 396
        },
        {
         "age": 65,
         "sex": 0,
         "cp": 2,
         "trestbps": 160,
         "chol": 153,
         "fbs": 0,
         "restecg": 1,
         "thalach": 95,
         "exang": 0,
         "oldpeak": 3,
         "slope": 1,
         "ca": 0,
         "thal": 2,
         "target": 0,
         "_deepnote_index_column": 397
        },
        {
         "age": 53,
         "sex": 0,
         "cp": 0,
         "trestbps": 134,
         "chol": 174,
         "fbs": 0,
         "restecg": 0,
         "thalach": 176,
         "exang": 0,
         "oldpeak": 2,
         "slope": 0,
         "ca": 0,
         "thal": 1,
         "target": 0,
         "_deepnote_index_column": 398
        },
        {
         "age": 67,
         "sex": 0,
         "cp": 1,
         "trestbps": 113,
         "chol": 351,
         "fbs": 0,
         "restecg": 1,
         "thalach": 182,
         "exang": 0,
         "oldpeak": 2,
         "slope": 1,
         "ca": 1,
         "thal": 1,
         "target": 0,
         "_deepnote_index_column": 399
        },
        {
         "age": 47,
         "sex": 0,
         "cp": 0,
         "trestbps": 167,
         "chol": 358,
         "fbs": 0,
         "restecg": 0,
         "thalach": 174,
         "exang": 0,
         "oldpeak": 0,
         "slope": 1,
         "ca": 1,
         "thal": 2,
         "target": 0,
         "_deepnote_index_column": 400
        },
        {
         "age": 66,
         "sex": 0,
         "cp": 1,
         "trestbps": 129,
         "chol": 319,
         "fbs": 0,
         "restecg": 0,
         "thalach": 132,
         "exang": 0,
         "oldpeak": 3,
         "slope": 0,
         "ca": 2,
         "thal": 2,
         "target": 0,
         "_deepnote_index_column": 401
        },
        {
         "age": 32,
         "sex": 0,
         "cp": 1,
         "trestbps": 100,
         "chol": 289,
         "fbs": 0,
         "restecg": 0,
         "thalach": 118,
         "exang": 0,
         "oldpeak": 0,
         "slope": 1,
         "ca": 2,
         "thal": 2,
         "target": 0,
         "_deepnote_index_column": 402
        },
        {
         "age": 44,
         "sex": 0,
         "cp": 1,
         "trestbps": 155,
         "chol": 245,
         "fbs": 0,
         "restecg": 1,
         "thalach": 143,
         "exang": 0,
         "oldpeak": 2,
         "slope": 0,
         "ca": 1,
         "thal": 1,
         "target": 0,
         "_deepnote_index_column": 403
        },
        {
         "age": 67,
         "sex": 0,
         "cp": 2,
         "trestbps": 113,
         "chol": 166,
         "fbs": 0,
         "restecg": 0,
         "thalach": 130,
         "exang": 0,
         "oldpeak": 2,
         "slope": 0,
         "ca": 1,
         "thal": 1,
         "target": 0,
         "_deepnote_index_column": 404
        },
        {
         "age": 48,
         "sex": 0,
         "cp": 2,
         "trestbps": 106,
         "chol": 216,
         "fbs": 0,
         "restecg": 1,
         "thalach": 198,
         "exang": 0,
         "oldpeak": 3,
         "slope": 1,
         "ca": 2,
         "thal": 2,
         "target": 0,
         "_deepnote_index_column": 405
        },
        {
         "age": 42,
         "sex": 0,
         "cp": 1,
         "trestbps": 101,
         "chol": 126,
         "fbs": 0,
         "restecg": 0,
         "thalach": 115,
         "exang": 0,
         "oldpeak": 3,
         "slope": 1,
         "ca": 2,
         "thal": 2,
         "target": 0,
         "_deepnote_index_column": 406
        },
        {
         "age": 75,
         "sex": 0,
         "cp": 1,
         "trestbps": 105,
         "chol": 160,
         "fbs": 0,
         "restecg": 0,
         "thalach": 177,
         "exang": 0,
         "oldpeak": 3,
         "slope": 1,
         "ca": 1,
         "thal": 1,
         "target": 0,
         "_deepnote_index_column": 407
        },
        {
         "age": 72,
         "sex": 0,
         "cp": 1,
         "trestbps": 161,
         "chol": 317,
         "fbs": 0,
         "restecg": 1,
         "thalach": 173,
         "exang": 0,
         "oldpeak": 1,
         "slope": 1,
         "ca": 1,
         "thal": 2,
         "target": 0,
         "_deepnote_index_column": 408
        },
        {
         "age": 36,
         "sex": 0,
         "cp": 0,
         "trestbps": 123,
         "chol": 289,
         "fbs": 0,
         "restecg": 1,
         "thalach": 126,
         "exang": 0,
         "oldpeak": 3,
         "slope": 1,
         "ca": 0,
         "thal": 2,
         "target": 0,
         "_deepnote_index_column": 409
        },
        {
         "age": 39,
         "sex": 0,
         "cp": 1,
         "trestbps": 139,
         "chol": 205,
         "fbs": 0,
         "restecg": 0,
         "thalach": 139,
         "exang": 0,
         "oldpeak": 3,
         "slope": 1,
         "ca": 1,
         "thal": 2,
         "target": 0,
         "_deepnote_index_column": 410
        },
        {
         "age": 52,
         "sex": 0,
         "cp": 2,
         "trestbps": 157,
         "chol": 250,
         "fbs": 0,
         "restecg": 0,
         "thalach": 143,
         "exang": 0,
         "oldpeak": 0,
         "slope": 1,
         "ca": 2,
         "thal": 2,
         "target": 0,
         "_deepnote_index_column": 411
        },
        {
         "age": 50,
         "sex": 0,
         "cp": 2,
         "trestbps": 132,
         "chol": 173,
         "fbs": 0,
         "restecg": 0,
         "thalach": 143,
         "exang": 0,
         "oldpeak": 3,
         "slope": 1,
         "ca": 0,
         "thal": 1,
         "target": 0,
         "_deepnote_index_column": 412
        },
        {
         "age": 50,
         "sex": 0,
         "cp": 0,
         "trestbps": 127,
         "chol": 141,
         "fbs": 0,
         "restecg": 1,
         "thalach": 110,
         "exang": 0,
         "oldpeak": 2,
         "slope": 1,
         "ca": 0,
         "thal": 2,
         "target": 0,
         "_deepnote_index_column": 413
        },
        {
         "age": 45,
         "sex": 0,
         "cp": 1,
         "trestbps": 149,
         "chol": 279,
         "fbs": 0,
         "restecg": 1,
         "thalach": 101,
         "exang": 0,
         "oldpeak": 0,
         "slope": 0,
         "ca": 2,
         "thal": 2,
         "target": 0,
         "_deepnote_index_column": 414
        },
        {
         "age": 62,
         "sex": 0,
         "cp": 1,
         "trestbps": 123,
         "chol": 313,
         "fbs": 0,
         "restecg": 1,
         "thalach": 128,
         "exang": 0,
         "oldpeak": 2,
         "slope": 0,
         "ca": 1,
         "thal": 1,
         "target": 0,
         "_deepnote_index_column": 415
        },
        {
         "age": 73,
         "sex": 0,
         "cp": 0,
         "trestbps": 132,
         "chol": 337,
         "fbs": 0,
         "restecg": 1,
         "thalach": 167,
         "exang": 0,
         "oldpeak": 2,
         "slope": 0,
         "ca": 1,
         "thal": 1,
         "target": 0,
         "_deepnote_index_column": 416
        },
        {
         "age": 36,
         "sex": 0,
         "cp": 1,
         "trestbps": 142,
         "chol": 252,
         "fbs": 0,
         "restecg": 0,
         "thalach": 199,
         "exang": 0,
         "oldpeak": 0,
         "slope": 0,
         "ca": 1,
         "thal": 2,
         "target": 0,
         "_deepnote_index_column": 417
        },
        {
         "age": 38,
         "sex": 0,
         "cp": 1,
         "trestbps": 149,
         "chol": 259,
         "fbs": 0,
         "restecg": 1,
         "thalach": 197,
         "exang": 0,
         "oldpeak": 3,
         "slope": 0,
         "ca": 1,
         "thal": 2,
         "target": 0,
         "_deepnote_index_column": 418
        },
        {
         "age": 63,
         "sex": 0,
         "cp": 2,
         "trestbps": 107,
         "chol": 166,
         "fbs": 0,
         "restecg": 0,
         "thalach": 115,
         "exang": 0,
         "oldpeak": 3,
         "slope": 0,
         "ca": 1,
         "thal": 1,
         "target": 0,
         "_deepnote_index_column": 419
        },
        {
         "age": 36,
         "sex": 0,
         "cp": 1,
         "trestbps": 121,
         "chol": 356,
         "fbs": 0,
         "restecg": 1,
         "thalach": 154,
         "exang": 0,
         "oldpeak": 3,
         "slope": 1,
         "ca": 0,
         "thal": 2,
         "target": 0,
         "_deepnote_index_column": 420
        },
        {
         "age": 40,
         "sex": 0,
         "cp": 2,
         "trestbps": 162,
         "chol": 175,
         "fbs": 0,
         "restecg": 0,
         "thalach": 104,
         "exang": 0,
         "oldpeak": 1,
         "slope": 0,
         "ca": 1,
         "thal": 2,
         "target": 0,
         "_deepnote_index_column": 421
        },
        {
         "age": 70,
         "sex": 0,
         "cp": 1,
         "trestbps": 157,
         "chol": 279,
         "fbs": 0,
         "restecg": 1,
         "thalach": 166,
         "exang": 0,
         "oldpeak": 1,
         "slope": 0,
         "ca": 0,
         "thal": 2,
         "target": 0,
         "_deepnote_index_column": 422
        },
        {
         "age": 67,
         "sex": 0,
         "cp": 2,
         "trestbps": 136,
         "chol": 310,
         "fbs": 0,
         "restecg": 1,
         "thalach": 162,
         "exang": 0,
         "oldpeak": 3,
         "slope": 1,
         "ca": 0,
         "thal": 1,
         "target": 0,
         "_deepnote_index_column": 423
        },
        {
         "age": 36,
         "sex": 0,
         "cp": 0,
         "trestbps": 163,
         "chol": 328,
         "fbs": 0,
         "restecg": 0,
         "thalach": 114,
         "exang": 0,
         "oldpeak": 0,
         "slope": 0,
         "ca": 0,
         "thal": 1,
         "target": 0,
         "_deepnote_index_column": 424
        },
        {
         "age": 41,
         "sex": 0,
         "cp": 2,
         "trestbps": 129,
         "chol": 314,
         "fbs": 0,
         "restecg": 0,
         "thalach": 181,
         "exang": 0,
         "oldpeak": 0,
         "slope": 1,
         "ca": 2,
         "thal": 1,
         "target": 0,
         "_deepnote_index_column": 425
        }
       ]
      },
      "text/plain": "      age  sex   cp  trestbps   chol  fbs  restecg  thalach  exang  oldpeak  \\\n0    63.0  1.0  3.0     145.0  233.0  1.0      0.0    150.0    0.0      2.3   \n1    37.0  1.0  2.0     130.0  250.0  0.0      1.0    187.0    0.0      3.5   \n2    41.0  0.0  1.0     130.0  204.0  0.0      0.0    172.0    0.0      1.4   \n3    56.0  1.0  1.0     120.0  236.0  0.0      1.0    178.0    0.0      0.8   \n4    57.0  0.0  0.0     120.0  354.0  0.0      1.0    163.0    1.0      0.6   \n..    ...  ...  ...       ...    ...  ...      ...      ...    ...      ...   \n421  40.0  0.0  2.0     162.0  175.0  0.0      0.0    104.0    0.0      1.0   \n422  70.0  0.0  1.0     157.0  279.0  0.0      1.0    166.0    0.0      1.0   \n423  67.0  0.0  2.0     136.0  310.0  0.0      1.0    162.0    0.0      3.0   \n424  36.0  0.0  0.0     163.0  328.0  0.0      0.0    114.0    0.0      0.0   \n425  41.0  0.0  2.0     129.0  314.0  0.0      0.0    181.0    0.0      0.0   \n\n     slope   ca  thal  target  \n0      0.0  0.0   1.0     1.0  \n1      0.0  0.0   2.0     1.0  \n2      2.0  0.0   2.0     1.0  \n3      2.0  0.0   2.0     1.0  \n4      2.0  0.0   2.0     1.0  \n..     ...  ...   ...     ...  \n421    0.0  1.0   2.0     0.0  \n422    0.0  0.0   2.0     0.0  \n423    1.0  0.0   1.0     0.0  \n424    0.0  0.0   1.0     0.0  \n425    1.0  2.0   1.0     0.0  \n\n[426 rows x 14 columns]",
      "text/html": "<div>\n<style scoped>\n    .dataframe tbody tr th:only-of-type {\n        vertical-align: middle;\n    }\n\n    .dataframe tbody tr th {\n        vertical-align: top;\n    }\n\n    .dataframe thead th {\n        text-align: right;\n    }\n</style>\n<table border=\"1\" class=\"dataframe\">\n  <thead>\n    <tr style=\"text-align: right;\">\n      <th></th>\n      <th>age</th>\n      <th>sex</th>\n      <th>cp</th>\n      <th>trestbps</th>\n      <th>chol</th>\n      <th>fbs</th>\n      <th>restecg</th>\n      <th>thalach</th>\n      <th>exang</th>\n      <th>oldpeak</th>\n      <th>slope</th>\n      <th>ca</th>\n      <th>thal</th>\n      <th>target</th>\n    </tr>\n  </thead>\n  <tbody>\n    <tr>\n      <th>0</th>\n      <td>63.0</td>\n      <td>1.0</td>\n      <td>3.0</td>\n      <td>145.0</td>\n      <td>233.0</td>\n      <td>1.0</td>\n      <td>0.0</td>\n      <td>150.0</td>\n      <td>0.0</td>\n      <td>2.3</td>\n      <td>0.0</td>\n      <td>0.0</td>\n      <td>1.0</td>\n      <td>1.0</td>\n    </tr>\n    <tr>\n      <th>1</th>\n      <td>37.0</td>\n      <td>1.0</td>\n      <td>2.0</td>\n      <td>130.0</td>\n      <td>250.0</td>\n      <td>0.0</td>\n      <td>1.0</td>\n      <td>187.0</td>\n      <td>0.0</td>\n      <td>3.5</td>\n      <td>0.0</td>\n      <td>0.0</td>\n      <td>2.0</td>\n      <td>1.0</td>\n    </tr>\n    <tr>\n      <th>2</th>\n      <td>41.0</td>\n      <td>0.0</td>\n      <td>1.0</td>\n      <td>130.0</td>\n      <td>204.0</td>\n      <td>0.0</td>\n      <td>0.0</td>\n      <td>172.0</td>\n      <td>0.0</td>\n      <td>1.4</td>\n      <td>2.0</td>\n      <td>0.0</td>\n      <td>2.0</td>\n      <td>1.0</td>\n    </tr>\n    <tr>\n      <th>3</th>\n      <td>56.0</td>\n      <td>1.0</td>\n      <td>1.0</td>\n      <td>120.0</td>\n      <td>236.0</td>\n      <td>0.0</td>\n      <td>1.0</td>\n      <td>178.0</td>\n      <td>0.0</td>\n      <td>0.8</td>\n      <td>2.0</td>\n      <td>0.0</td>\n      <td>2.0</td>\n      <td>1.0</td>\n    </tr>\n    <tr>\n      <th>4</th>\n      <td>57.0</td>\n      <td>0.0</td>\n      <td>0.0</td>\n      <td>120.0</td>\n      <td>354.0</td>\n      <td>0.0</td>\n      <td>1.0</td>\n      <td>163.0</td>\n      <td>1.0</td>\n      <td>0.6</td>\n      <td>2.0</td>\n      <td>0.0</td>\n      <td>2.0</td>\n      <td>1.0</td>\n    </tr>\n    <tr>\n      <th>...</th>\n      <td>...</td>\n      <td>...</td>\n      <td>...</td>\n      <td>...</td>\n      <td>...</td>\n      <td>...</td>\n      <td>...</td>\n      <td>...</td>\n      <td>...</td>\n      <td>...</td>\n      <td>...</td>\n      <td>...</td>\n      <td>...</td>\n      <td>...</td>\n    </tr>\n    <tr>\n      <th>421</th>\n      <td>40.0</td>\n      <td>0.0</td>\n      <td>2.0</td>\n      <td>162.0</td>\n      <td>175.0</td>\n      <td>0.0</td>\n      <td>0.0</td>\n      <td>104.0</td>\n      <td>0.0</td>\n      <td>1.0</td>\n      <td>0.0</td>\n      <td>1.0</td>\n      <td>2.0</td>\n      <td>0.0</td>\n    </tr>\n    <tr>\n      <th>422</th>\n      <td>70.0</td>\n      <td>0.0</td>\n      <td>1.0</td>\n      <td>157.0</td>\n      <td>279.0</td>\n      <td>0.0</td>\n      <td>1.0</td>\n      <td>166.0</td>\n      <td>0.0</td>\n      <td>1.0</td>\n      <td>0.0</td>\n      <td>0.0</td>\n      <td>2.0</td>\n      <td>0.0</td>\n    </tr>\n    <tr>\n      <th>423</th>\n      <td>67.0</td>\n      <td>0.0</td>\n      <td>2.0</td>\n      <td>136.0</td>\n      <td>310.0</td>\n      <td>0.0</td>\n      <td>1.0</td>\n      <td>162.0</td>\n      <td>0.0</td>\n      <td>3.0</td>\n      <td>1.0</td>\n      <td>0.0</td>\n      <td>1.0</td>\n      <td>0.0</td>\n    </tr>\n    <tr>\n      <th>424</th>\n      <td>36.0</td>\n      <td>0.0</td>\n      <td>0.0</td>\n      <td>163.0</td>\n      <td>328.0</td>\n      <td>0.0</td>\n      <td>0.0</td>\n      <td>114.0</td>\n      <td>0.0</td>\n      <td>0.0</td>\n      <td>0.0</td>\n      <td>0.0</td>\n      <td>1.0</td>\n      <td>0.0</td>\n    </tr>\n    <tr>\n      <th>425</th>\n      <td>41.0</td>\n      <td>0.0</td>\n      <td>2.0</td>\n      <td>129.0</td>\n      <td>314.0</td>\n      <td>0.0</td>\n      <td>0.0</td>\n      <td>181.0</td>\n      <td>0.0</td>\n      <td>0.0</td>\n      <td>1.0</td>\n      <td>2.0</td>\n      <td>1.0</td>\n      <td>0.0</td>\n    </tr>\n  </tbody>\n</table>\n<p>426 rows × 14 columns</p>\n</div>"
     },
     "metadata": {}
    }
   ],
   "execution_count": 29
  },
  {
   "cell_type": "code",
   "source": "df_final.describe()",
   "metadata": {
    "tags": [],
    "cell_id": "00034-076c6f67-21f9-45e7-8775-f47050c48186",
    "deepnote_to_be_reexecuted": false,
    "source_hash": "e283b98e",
    "execution_start": 1620392137640,
    "execution_millis": 88,
    "deepnote_cell_type": "code"
   },
   "outputs": [
    {
     "output_type": "execute_result",
     "execution_count": 30,
     "data": {
      "application/vnd.deepnote.dataframe.v2+json": {
       "row_count": 8,
       "column_count": 14,
       "columns": [
        {
         "name": "age",
         "dtype": "float64",
         "stats": {
          "unique_count": 8,
          "nan_count": 0,
          "min": "10.998623598956698",
          "max": "426.0",
          "histogram": [
           {
            "bin_start": 10.998623598956698,
            "bin_end": 52.49876123906103,
            "count": 3
           },
           {
            "bin_start": 52.49876123906103,
            "bin_end": 93.99889887916537,
            "count": 4
           },
           {
            "bin_start": 93.99889887916537,
            "bin_end": 135.4990365192697,
            "count": 0
           },
           {
            "bin_start": 135.4990365192697,
            "bin_end": 176.99917415937404,
            "count": 0
           },
           {
            "bin_start": 176.99917415937404,
            "bin_end": 218.49931179947836,
            "count": 0
           },
           {
            "bin_start": 218.49931179947836,
            "bin_end": 259.9994494395827,
            "count": 0
           },
           {
            "bin_start": 259.9994494395827,
            "bin_end": 301.499587079687,
            "count": 0
           },
           {
            "bin_start": 301.499587079687,
            "bin_end": 342.9997247197914,
            "count": 0
           },
           {
            "bin_start": 342.9997247197914,
            "bin_end": 384.4998623598957,
            "count": 0
           },
           {
            "bin_start": 384.4998623598957,
            "bin_end": 426,
            "count": 1
           }
          ]
         }
        },
        {
         "name": "sex",
         "dtype": "float64",
         "stats": {
          "unique_count": 5,
          "nan_count": 0,
          "min": "0.0",
          "max": "426.0",
          "histogram": [
           {
            "bin_start": 0,
            "bin_end": 42.6,
            "count": 7
           },
           {
            "bin_start": 42.6,
            "bin_end": 85.2,
            "count": 0
           },
           {
            "bin_start": 85.2,
            "bin_end": 127.80000000000001,
            "count": 0
           },
           {
            "bin_start": 127.80000000000001,
            "bin_end": 170.4,
            "count": 0
           },
           {
            "bin_start": 170.4,
            "bin_end": 213,
            "count": 0
           },
           {
            "bin_start": 213,
            "bin_end": 255.60000000000002,
            "count": 0
           },
           {
            "bin_start": 255.60000000000002,
            "bin_end": 298.2,
            "count": 0
           },
           {
            "bin_start": 298.2,
            "bin_end": 340.8,
            "count": 0
           },
           {
            "bin_start": 340.8,
            "bin_end": 383.40000000000003,
            "count": 0
           },
           {
            "bin_start": 383.40000000000003,
            "bin_end": 426,
            "count": 1
           }
          ]
         }
        },
        {
         "name": "cp",
         "dtype": "float64",
         "stats": {
          "unique_count": 7,
          "nan_count": 0,
          "min": "0.0",
          "max": "426.0",
          "histogram": [
           {
            "bin_start": 0,
            "bin_end": 42.6,
            "count": 7
           },
           {
            "bin_start": 42.6,
            "bin_end": 85.2,
            "count": 0
           },
           {
            "bin_start": 85.2,
            "bin_end": 127.80000000000001,
            "count": 0
           },
           {
            "bin_start": 127.80000000000001,
            "bin_end": 170.4,
            "count": 0
           },
           {
            "bin_start": 170.4,
            "bin_end": 213,
            "count": 0
           },
           {
            "bin_start": 213,
            "bin_end": 255.60000000000002,
            "count": 0
           },
           {
            "bin_start": 255.60000000000002,
            "bin_end": 298.2,
            "count": 0
           },
           {
            "bin_start": 298.2,
            "bin_end": 340.8,
            "count": 0
           },
           {
            "bin_start": 340.8,
            "bin_end": 383.40000000000003,
            "count": 0
           },
           {
            "bin_start": 383.40000000000003,
            "bin_end": 426,
            "count": 1
           }
          ]
         }
        },
        {
         "name": "trestbps",
         "dtype": "float64",
         "stats": {
          "unique_count": 8,
          "nan_count": 0,
          "min": "17.362408643770703",
          "max": "426.0",
          "histogram": [
           {
            "bin_start": 17.362408643770703,
            "bin_end": 58.226167779393634,
            "count": 1
           },
           {
            "bin_start": 58.226167779393634,
            "bin_end": 99.08992691501656,
            "count": 1
           },
           {
            "bin_start": 99.08992691501656,
            "bin_end": 139.95368605063948,
            "count": 3
           },
           {
            "bin_start": 139.95368605063948,
            "bin_end": 180.8174451862624,
            "count": 2
           },
           {
            "bin_start": 180.8174451862624,
            "bin_end": 221.68120432188533,
            "count": 0
           },
           {
            "bin_start": 221.68120432188533,
            "bin_end": 262.5449634575083,
            "count": 0
           },
           {
            "bin_start": 262.5449634575083,
            "bin_end": 303.40872259313124,
            "count": 0
           },
           {
            "bin_start": 303.40872259313124,
            "bin_end": 344.27248172875414,
            "count": 0
           },
           {
            "bin_start": 344.27248172875414,
            "bin_end": 385.13624086437704,
            "count": 0
           },
           {
            "bin_start": 385.13624086437704,
            "bin_end": 426,
            "count": 1
           }
          ]
         }
        },
        {
         "name": "chol",
         "dtype": "float64",
         "stats": {
          "unique_count": 8,
          "nan_count": 0,
          "min": "54.25460659124871",
          "max": "426.0",
          "histogram": [
           {
            "bin_start": 54.25460659124871,
            "bin_end": 91.42914593212384,
            "count": 1
           },
           {
            "bin_start": 91.42914593212384,
            "bin_end": 128.60368527299897,
            "count": 1
           },
           {
            "bin_start": 128.60368527299897,
            "bin_end": 165.7782246138741,
            "count": 0
           },
           {
            "bin_start": 165.7782246138741,
            "bin_end": 202.95276395474923,
            "count": 0
           },
           {
            "bin_start": 202.95276395474923,
            "bin_end": 240.12730329562436,
            "count": 2
           },
           {
            "bin_start": 240.12730329562436,
            "bin_end": 277.3018426364995,
            "count": 1
           },
           {
            "bin_start": 277.3018426364995,
            "bin_end": 314.4763819773746,
            "count": 1
           },
           {
            "bin_start": 314.4763819773746,
            "bin_end": 351.65092131824974,
            "count": 0
           },
           {
            "bin_start": 351.65092131824974,
            "bin_end": 388.8254606591249,
            "count": 1
           },
           {
            "bin_start": 388.8254606591249,
            "bin_end": 426,
            "count": 1
           }
          ]
         }
        },
        {
         "name": "fbs",
         "dtype": "float64",
         "stats": {
          "unique_count": 5,
          "nan_count": 0,
          "min": "0.0",
          "max": "426.0",
          "histogram": [
           {
            "bin_start": 0,
            "bin_end": 42.6,
            "count": 7
           },
           {
            "bin_start": 42.6,
            "bin_end": 85.2,
            "count": 0
           },
           {
            "bin_start": 85.2,
            "bin_end": 127.80000000000001,
            "count": 0
           },
           {
            "bin_start": 127.80000000000001,
            "bin_end": 170.4,
            "count": 0
           },
           {
            "bin_start": 170.4,
            "bin_end": 213,
            "count": 0
           },
           {
            "bin_start": 213,
            "bin_end": 255.60000000000002,
            "count": 0
           },
           {
            "bin_start": 255.60000000000002,
            "bin_end": 298.2,
            "count": 0
           },
           {
            "bin_start": 298.2,
            "bin_end": 340.8,
            "count": 0
           },
           {
            "bin_start": 340.8,
            "bin_end": 383.40000000000003,
            "count": 0
           },
           {
            "bin_start": 383.40000000000003,
            "bin_end": 426,
            "count": 1
           }
          ]
         }
        },
        {
         "name": "restecg",
         "dtype": "float64",
         "stats": {
          "unique_count": 6,
          "nan_count": 0,
          "min": "0.0",
          "max": "426.0",
          "histogram": [
           {
            "bin_start": 0,
            "bin_end": 42.6,
            "count": 7
           },
           {
            "bin_start": 42.6,
            "bin_end": 85.2,
            "count": 0
           },
           {
            "bin_start": 85.2,
            "bin_end": 127.80000000000001,
            "count": 0
           },
           {
            "bin_start": 127.80000000000001,
            "bin_end": 170.4,
            "count": 0
           },
           {
            "bin_start": 170.4,
            "bin_end": 213,
            "count": 0
           },
           {
            "bin_start": 213,
            "bin_end": 255.60000000000002,
            "count": 0
           },
           {
            "bin_start": 255.60000000000002,
            "bin_end": 298.2,
            "count": 0
           },
           {
            "bin_start": 298.2,
            "bin_end": 340.8,
            "count": 0
           },
           {
            "bin_start": 340.8,
            "bin_end": 383.40000000000003,
            "count": 0
           },
           {
            "bin_start": 383.40000000000003,
            "bin_end": 426,
            "count": 1
           }
          ]
         }
        },
        {
         "name": "thalach",
         "dtype": "float64",
         "stats": {
          "unique_count": 8,
          "nan_count": 0,
          "min": "26.7933959143486",
          "max": "426.0",
          "histogram": [
           {
            "bin_start": 26.7933959143486,
            "bin_end": 66.71405632291373,
            "count": 1
           },
           {
            "bin_start": 66.71405632291373,
            "bin_end": 106.63471673147887,
            "count": 1
           },
           {
            "bin_start": 106.63471673147887,
            "bin_end": 146.55537714004402,
            "count": 1
           },
           {
            "bin_start": 146.55537714004402,
            "bin_end": 186.47603754860916,
            "count": 3
           },
           {
            "bin_start": 186.47603754860916,
            "bin_end": 226.3966979571743,
            "count": 1
           },
           {
            "bin_start": 226.3966979571743,
            "bin_end": 266.31735836573944,
            "count": 0
           },
           {
            "bin_start": 266.31735836573944,
            "bin_end": 306.2380187743046,
            "count": 0
           },
           {
            "bin_start": 306.2380187743046,
            "bin_end": 346.1586791828697,
            "count": 0
           },
           {
            "bin_start": 346.1586791828697,
            "bin_end": 386.07933959143486,
            "count": 0
           },
           {
            "bin_start": 386.07933959143486,
            "bin_end": 426,
            "count": 1
           }
          ]
         }
        },
        {
         "name": "exang",
         "dtype": "float64",
         "stats": {
          "unique_count": 5,
          "nan_count": 0,
          "min": "0.0",
          "max": "426.0",
          "histogram": [
           {
            "bin_start": 0,
            "bin_end": 42.6,
            "count": 7
           },
           {
            "bin_start": 42.6,
            "bin_end": 85.2,
            "count": 0
           },
           {
            "bin_start": 85.2,
            "bin_end": 127.80000000000001,
            "count": 0
           },
           {
            "bin_start": 127.80000000000001,
            "bin_end": 170.4,
            "count": 0
           },
           {
            "bin_start": 170.4,
            "bin_end": 213,
            "count": 0
           },
           {
            "bin_start": 213,
            "bin_end": 255.60000000000002,
            "count": 0
           },
           {
            "bin_start": 255.60000000000002,
            "bin_end": 298.2,
            "count": 0
           },
           {
            "bin_start": 298.2,
            "bin_end": 340.8,
            "count": 0
           },
           {
            "bin_start": 340.8,
            "bin_end": 383.40000000000003,
            "count": 0
           },
           {
            "bin_start": 383.40000000000003,
            "bin_end": 426,
            "count": 1
           }
          ]
         }
        },
        {
         "name": "oldpeak",
         "dtype": "float64",
         "stats": {
          "unique_count": 7,
          "nan_count": 0,
          "min": "0.0",
          "max": "426.0",
          "histogram": [
           {
            "bin_start": 0,
            "bin_end": 42.6,
            "count": 7
           },
           {
            "bin_start": 42.6,
            "bin_end": 85.2,
            "count": 0
           },
           {
            "bin_start": 85.2,
            "bin_end": 127.80000000000001,
            "count": 0
           },
           {
            "bin_start": 127.80000000000001,
            "bin_end": 170.4,
            "count": 0
           },
           {
            "bin_start": 170.4,
            "bin_end": 213,
            "count": 0
           },
           {
            "bin_start": 213,
            "bin_end": 255.60000000000002,
            "count": 0
           },
           {
            "bin_start": 255.60000000000002,
            "bin_end": 298.2,
            "count": 0
           },
           {
            "bin_start": 298.2,
            "bin_end": 340.8,
            "count": 0
           },
           {
            "bin_start": 340.8,
            "bin_end": 383.40000000000003,
            "count": 0
           },
           {
            "bin_start": 383.40000000000003,
            "bin_end": 426,
            "count": 1
           }
          ]
         }
        },
        {
         "name": "slope",
         "dtype": "float64",
         "stats": {
          "unique_count": 6,
          "nan_count": 0,
          "min": "0.0",
          "max": "426.0",
          "histogram": [
           {
            "bin_start": 0,
            "bin_end": 42.6,
            "count": 7
           },
           {
            "bin_start": 42.6,
            "bin_end": 85.2,
            "count": 0
           },
           {
            "bin_start": 85.2,
            "bin_end": 127.80000000000001,
            "count": 0
           },
           {
            "bin_start": 127.80000000000001,
            "bin_end": 170.4,
            "count": 0
           },
           {
            "bin_start": 170.4,
            "bin_end": 213,
            "count": 0
           },
           {
            "bin_start": 213,
            "bin_end": 255.60000000000002,
            "count": 0
           },
           {
            "bin_start": 255.60000000000002,
            "bin_end": 298.2,
            "count": 0
           },
           {
            "bin_start": 298.2,
            "bin_end": 340.8,
            "count": 0
           },
           {
            "bin_start": 340.8,
            "bin_end": 383.40000000000003,
            "count": 0
           },
           {
            "bin_start": 383.40000000000003,
            "bin_end": 426,
            "count": 1
           }
          ]
         }
        },
        {
         "name": "ca",
         "dtype": "float64",
         "stats": {
          "unique_count": 6,
          "nan_count": 0,
          "min": "0.0",
          "max": "421.0",
          "histogram": [
           {
            "bin_start": 0,
            "bin_end": 42.1,
            "count": 7
           },
           {
            "bin_start": 42.1,
            "bin_end": 84.2,
            "count": 0
           },
           {
            "bin_start": 84.2,
            "bin_end": 126.30000000000001,
            "count": 0
           },
           {
            "bin_start": 126.30000000000001,
            "bin_end": 168.4,
            "count": 0
           },
           {
            "bin_start": 168.4,
            "bin_end": 210.5,
            "count": 0
           },
           {
            "bin_start": 210.5,
            "bin_end": 252.60000000000002,
            "count": 0
           },
           {
            "bin_start": 252.60000000000002,
            "bin_end": 294.7,
            "count": 0
           },
           {
            "bin_start": 294.7,
            "bin_end": 336.8,
            "count": 0
           },
           {
            "bin_start": 336.8,
            "bin_end": 378.90000000000003,
            "count": 0
           },
           {
            "bin_start": 378.90000000000003,
            "bin_end": 421,
            "count": 1
           }
          ]
         }
        },
        {
         "name": "thal",
         "dtype": "float64",
         "stats": {
          "unique_count": 6,
          "nan_count": 0,
          "min": "0.6817468438418129",
          "max": "424.0",
          "histogram": [
           {
            "bin_start": 0.6817468438418129,
            "bin_end": 43.01357215945763,
            "count": 7
           },
           {
            "bin_start": 43.01357215945763,
            "bin_end": 85.34539747507344,
            "count": 0
           },
           {
            "bin_start": 85.34539747507344,
            "bin_end": 127.67722279068926,
            "count": 0
           },
           {
            "bin_start": 127.67722279068926,
            "bin_end": 170.00904810630507,
            "count": 0
           },
           {
            "bin_start": 170.00904810630507,
            "bin_end": 212.3408734219209,
            "count": 0
           },
           {
            "bin_start": 212.3408734219209,
            "bin_end": 254.6726987375367,
            "count": 0
           },
           {
            "bin_start": 254.6726987375367,
            "bin_end": 297.0045240531526,
            "count": 0
           },
           {
            "bin_start": 297.0045240531526,
            "bin_end": 339.33634936876837,
            "count": 0
           },
           {
            "bin_start": 339.33634936876837,
            "bin_end": 381.66817468438416,
            "count": 0
           },
           {
            "bin_start": 381.66817468438416,
            "bin_end": 424,
            "count": 1
           }
          ]
         }
        },
        {
         "name": "target",
         "dtype": "float64",
         "stats": {
          "unique_count": 5,
          "nan_count": 0,
          "min": "0.0",
          "max": "426.0",
          "histogram": [
           {
            "bin_start": 0,
            "bin_end": 42.6,
            "count": 7
           },
           {
            "bin_start": 42.6,
            "bin_end": 85.2,
            "count": 0
           },
           {
            "bin_start": 85.2,
            "bin_end": 127.80000000000001,
            "count": 0
           },
           {
            "bin_start": 127.80000000000001,
            "bin_end": 170.4,
            "count": 0
           },
           {
            "bin_start": 170.4,
            "bin_end": 213,
            "count": 0
           },
           {
            "bin_start": 213,
            "bin_end": 255.60000000000002,
            "count": 0
           },
           {
            "bin_start": 255.60000000000002,
            "bin_end": 298.2,
            "count": 0
           },
           {
            "bin_start": 298.2,
            "bin_end": 340.8,
            "count": 0
           },
           {
            "bin_start": 340.8,
            "bin_end": 383.40000000000003,
            "count": 0
           },
           {
            "bin_start": 383.40000000000003,
            "bin_end": 426,
            "count": 1
           }
          ]
         }
        },
        {
         "name": "_deepnote_index_column",
         "dtype": "object"
        }
       ],
       "rows_top": [
        {
         "age": 426,
         "sex": 426,
         "cp": 426,
         "trestbps": 426,
         "chol": 426,
         "fbs": 426,
         "restecg": 426,
         "thalach": 426,
         "exang": 426,
         "oldpeak": 426,
         "slope": 426,
         "ca": 421,
         "thal": 424,
         "target": 426,
         "_deepnote_index_column": "count"
        },
        {
         "age": 53.117370892018776,
         "sex": 0.4671361502347418,
         "cp": 0.9976525821596244,
         "trestbps": 130.2488262910798,
         "chol": 240.23239436619718,
         "fbs": 0.09389671361502347,
         "restecg": 0.5117370892018779,
         "thalach": 147.7605633802817,
         "exang": 0.2112676056338028,
         "oldpeak": 1.1464788732394366,
         "slope": 1.1291079812206573,
         "ca": 0.7577197149643705,
         "thal": 2.0306603773584904,
         "target": 0.3732394366197183,
         "_deepnote_index_column": "mean"
        },
        {
         "age": 10.998623598956698,
         "sex": 0.49950541680696253,
         "cp": 0.9542445765934552,
         "trestbps": 17.362408643770703,
         "chol": 54.25460659124871,
         "fbs": 0.29202792555990487,
         "restecg": 0.5097665314608492,
         "thalach": 26.7933959143486,
         "exang": 0.40868775796791584,
         "oldpeak": 1.0917872215773863,
         "slope": 0.7094306931001935,
         "ca": 0.8934782366395333,
         "thal": 0.6817468438418129,
         "target": 0.48423360812844624,
         "_deepnote_index_column": "std"
        },
        {
         "age": 29,
         "sex": 0,
         "cp": 0,
         "trestbps": 94,
         "chol": 126,
         "fbs": 0,
         "restecg": 0,
         "thalach": 88,
         "exang": 0,
         "oldpeak": 0,
         "slope": 0,
         "ca": 0,
         "thal": 1,
         "target": 0,
         "_deepnote_index_column": "min"
        },
        {
         "age": 44,
         "sex": 0,
         "cp": 0,
         "trestbps": 119.25,
         "chol": 203.25,
         "fbs": 0,
         "restecg": 0,
         "thalach": 130,
         "exang": 0,
         "oldpeak": 0,
         "slope": 1,
         "ca": 0,
         "thal": 2,
         "target": 0,
         "_deepnote_index_column": "25%"
        },
        {
         "age": 54,
         "sex": 0,
         "cp": 1,
         "trestbps": 130,
         "chol": 239,
         "fbs": 0,
         "restecg": 1,
         "thalach": 151,
         "exang": 0,
         "oldpeak": 1,
         "slope": 1,
         "ca": 0,
         "thal": 2,
         "target": 0,
         "_deepnote_index_column": "50%"
        },
        {
         "age": 61,
         "sex": 1,
         "cp": 2,
         "trestbps": 140,
         "chol": 278,
         "fbs": 0,
         "restecg": 1,
         "thalach": 168.75,
         "exang": 0,
         "oldpeak": 2,
         "slope": 2,
         "ca": 1,
         "thal": 2,
         "target": 1,
         "_deepnote_index_column": "75%"
        },
        {
         "age": 77,
         "sex": 1,
         "cp": 3,
         "trestbps": 170,
         "chol": 360,
         "fbs": 1,
         "restecg": 2,
         "thalach": 202,
         "exang": 1,
         "oldpeak": 4,
         "slope": 2,
         "ca": 3,
         "thal": 3,
         "target": 1,
         "_deepnote_index_column": "max"
        }
       ],
       "rows_bottom": null
      },
      "text/plain": "              age         sex          cp    trestbps        chol         fbs  \\\ncount  426.000000  426.000000  426.000000  426.000000  426.000000  426.000000   \nmean    53.117371    0.467136    0.997653  130.248826  240.232394    0.093897   \nstd     10.998624    0.499505    0.954245   17.362409   54.254607    0.292028   \nmin     29.000000    0.000000    0.000000   94.000000  126.000000    0.000000   \n25%     44.000000    0.000000    0.000000  119.250000  203.250000    0.000000   \n50%     54.000000    0.000000    1.000000  130.000000  239.000000    0.000000   \n75%     61.000000    1.000000    2.000000  140.000000  278.000000    0.000000   \nmax     77.000000    1.000000    3.000000  170.000000  360.000000    1.000000   \n\n          restecg     thalach       exang     oldpeak       slope          ca  \\\ncount  426.000000  426.000000  426.000000  426.000000  426.000000  421.000000   \nmean     0.511737  147.760563    0.211268    1.146479    1.129108    0.757720   \nstd      0.509767   26.793396    0.408688    1.091787    0.709431    0.893478   \nmin      0.000000   88.000000    0.000000    0.000000    0.000000    0.000000   \n25%      0.000000  130.000000    0.000000    0.000000    1.000000    0.000000   \n50%      1.000000  151.000000    0.000000    1.000000    1.000000    0.000000   \n75%      1.000000  168.750000    0.000000    2.000000    2.000000    1.000000   \nmax      2.000000  202.000000    1.000000    4.000000    2.000000    3.000000   \n\n             thal      target  \ncount  424.000000  426.000000  \nmean     2.030660    0.373239  \nstd      0.681747    0.484234  \nmin      1.000000    0.000000  \n25%      2.000000    0.000000  \n50%      2.000000    0.000000  \n75%      2.000000    1.000000  \nmax      3.000000    1.000000  ",
      "text/html": "<div>\n<style scoped>\n    .dataframe tbody tr th:only-of-type {\n        vertical-align: middle;\n    }\n\n    .dataframe tbody tr th {\n        vertical-align: top;\n    }\n\n    .dataframe thead th {\n        text-align: right;\n    }\n</style>\n<table border=\"1\" class=\"dataframe\">\n  <thead>\n    <tr style=\"text-align: right;\">\n      <th></th>\n      <th>age</th>\n      <th>sex</th>\n      <th>cp</th>\n      <th>trestbps</th>\n      <th>chol</th>\n      <th>fbs</th>\n      <th>restecg</th>\n      <th>thalach</th>\n      <th>exang</th>\n      <th>oldpeak</th>\n      <th>slope</th>\n      <th>ca</th>\n      <th>thal</th>\n      <th>target</th>\n    </tr>\n  </thead>\n  <tbody>\n    <tr>\n      <th>count</th>\n      <td>426.000000</td>\n      <td>426.000000</td>\n      <td>426.000000</td>\n      <td>426.000000</td>\n      <td>426.000000</td>\n      <td>426.000000</td>\n      <td>426.000000</td>\n      <td>426.000000</td>\n      <td>426.000000</td>\n      <td>426.000000</td>\n      <td>426.000000</td>\n      <td>421.000000</td>\n      <td>424.000000</td>\n      <td>426.000000</td>\n    </tr>\n    <tr>\n      <th>mean</th>\n      <td>53.117371</td>\n      <td>0.467136</td>\n      <td>0.997653</td>\n      <td>130.248826</td>\n      <td>240.232394</td>\n      <td>0.093897</td>\n      <td>0.511737</td>\n      <td>147.760563</td>\n      <td>0.211268</td>\n      <td>1.146479</td>\n      <td>1.129108</td>\n      <td>0.757720</td>\n      <td>2.030660</td>\n      <td>0.373239</td>\n    </tr>\n    <tr>\n      <th>std</th>\n      <td>10.998624</td>\n      <td>0.499505</td>\n      <td>0.954245</td>\n      <td>17.362409</td>\n      <td>54.254607</td>\n      <td>0.292028</td>\n      <td>0.509767</td>\n      <td>26.793396</td>\n      <td>0.408688</td>\n      <td>1.091787</td>\n      <td>0.709431</td>\n      <td>0.893478</td>\n      <td>0.681747</td>\n      <td>0.484234</td>\n    </tr>\n    <tr>\n      <th>min</th>\n      <td>29.000000</td>\n      <td>0.000000</td>\n      <td>0.000000</td>\n      <td>94.000000</td>\n      <td>126.000000</td>\n      <td>0.000000</td>\n      <td>0.000000</td>\n      <td>88.000000</td>\n      <td>0.000000</td>\n      <td>0.000000</td>\n      <td>0.000000</td>\n      <td>0.000000</td>\n      <td>1.000000</td>\n      <td>0.000000</td>\n    </tr>\n    <tr>\n      <th>25%</th>\n      <td>44.000000</td>\n      <td>0.000000</td>\n      <td>0.000000</td>\n      <td>119.250000</td>\n      <td>203.250000</td>\n      <td>0.000000</td>\n      <td>0.000000</td>\n      <td>130.000000</td>\n      <td>0.000000</td>\n      <td>0.000000</td>\n      <td>1.000000</td>\n      <td>0.000000</td>\n      <td>2.000000</td>\n      <td>0.000000</td>\n    </tr>\n    <tr>\n      <th>50%</th>\n      <td>54.000000</td>\n      <td>0.000000</td>\n      <td>1.000000</td>\n      <td>130.000000</td>\n      <td>239.000000</td>\n      <td>0.000000</td>\n      <td>1.000000</td>\n      <td>151.000000</td>\n      <td>0.000000</td>\n      <td>1.000000</td>\n      <td>1.000000</td>\n      <td>0.000000</td>\n      <td>2.000000</td>\n      <td>0.000000</td>\n    </tr>\n    <tr>\n      <th>75%</th>\n      <td>61.000000</td>\n      <td>1.000000</td>\n      <td>2.000000</td>\n      <td>140.000000</td>\n      <td>278.000000</td>\n      <td>0.000000</td>\n      <td>1.000000</td>\n      <td>168.750000</td>\n      <td>0.000000</td>\n      <td>2.000000</td>\n      <td>2.000000</td>\n      <td>1.000000</td>\n      <td>2.000000</td>\n      <td>1.000000</td>\n    </tr>\n    <tr>\n      <th>max</th>\n      <td>77.000000</td>\n      <td>1.000000</td>\n      <td>3.000000</td>\n      <td>170.000000</td>\n      <td>360.000000</td>\n      <td>1.000000</td>\n      <td>2.000000</td>\n      <td>202.000000</td>\n      <td>1.000000</td>\n      <td>4.000000</td>\n      <td>2.000000</td>\n      <td>3.000000</td>\n      <td>3.000000</td>\n      <td>1.000000</td>\n    </tr>\n  </tbody>\n</table>\n</div>"
     },
     "metadata": {}
    }
   ],
   "execution_count": 30
  },
  {
   "cell_type": "code",
   "source": "df.describe()",
   "metadata": {
    "tags": [],
    "cell_id": "00033-45f3ed3f-d02a-44fa-a90c-910908eac55d",
    "deepnote_to_be_reexecuted": false,
    "source_hash": "f88152d9",
    "execution_start": 1620392138419,
    "execution_millis": 81,
    "deepnote_cell_type": "code"
   },
   "outputs": [
    {
     "output_type": "execute_result",
     "execution_count": 31,
     "data": {
      "application/vnd.deepnote.dataframe.v2+json": {
       "row_count": 8,
       "column_count": 14,
       "columns": [
        {
         "name": "age",
         "dtype": "float64",
         "stats": {
          "unique_count": 8,
          "nan_count": 0,
          "min": "9.16167812090892",
          "max": "284.0",
          "histogram": [
           {
            "bin_start": 9.16167812090892,
            "bin_end": 36.64551030881803,
            "count": 2
           },
           {
            "bin_start": 36.64551030881803,
            "bin_end": 64.12934249672713,
            "count": 4
           },
           {
            "bin_start": 64.12934249672713,
            "bin_end": 91.61317468463623,
            "count": 1
           },
           {
            "bin_start": 91.61317468463623,
            "bin_end": 119.09700687254535,
            "count": 0
           },
           {
            "bin_start": 119.09700687254535,
            "bin_end": 146.58083906045448,
            "count": 0
           },
           {
            "bin_start": 146.58083906045448,
            "bin_end": 174.06467124836357,
            "count": 0
           },
           {
            "bin_start": 174.06467124836357,
            "bin_end": 201.54850343627268,
            "count": 0
           },
           {
            "bin_start": 201.54850343627268,
            "bin_end": 229.0323356241818,
            "count": 0
           },
           {
            "bin_start": 229.0323356241818,
            "bin_end": 256.5161678120909,
            "count": 0
           },
           {
            "bin_start": 256.5161678120909,
            "bin_end": 284,
            "count": 1
           }
          ]
         }
        },
        {
         "name": "sex",
         "dtype": "float64",
         "stats": {
          "unique_count": 5,
          "nan_count": 0,
          "min": "0.0",
          "max": "284.0",
          "histogram": [
           {
            "bin_start": 0,
            "bin_end": 28.4,
            "count": 7
           },
           {
            "bin_start": 28.4,
            "bin_end": 56.8,
            "count": 0
           },
           {
            "bin_start": 56.8,
            "bin_end": 85.19999999999999,
            "count": 0
           },
           {
            "bin_start": 85.19999999999999,
            "bin_end": 113.6,
            "count": 0
           },
           {
            "bin_start": 113.6,
            "bin_end": 142,
            "count": 0
           },
           {
            "bin_start": 142,
            "bin_end": 170.39999999999998,
            "count": 0
           },
           {
            "bin_start": 170.39999999999998,
            "bin_end": 198.79999999999998,
            "count": 0
           },
           {
            "bin_start": 198.79999999999998,
            "bin_end": 227.2,
            "count": 0
           },
           {
            "bin_start": 227.2,
            "bin_end": 255.6,
            "count": 0
           },
           {
            "bin_start": 255.6,
            "bin_end": 284,
            "count": 1
           }
          ]
         }
        },
        {
         "name": "cp",
         "dtype": "float64",
         "stats": {
          "unique_count": 7,
          "nan_count": 0,
          "min": "0.0",
          "max": "284.0",
          "histogram": [
           {
            "bin_start": 0,
            "bin_end": 28.4,
            "count": 7
           },
           {
            "bin_start": 28.4,
            "bin_end": 56.8,
            "count": 0
           },
           {
            "bin_start": 56.8,
            "bin_end": 85.19999999999999,
            "count": 0
           },
           {
            "bin_start": 85.19999999999999,
            "bin_end": 113.6,
            "count": 0
           },
           {
            "bin_start": 113.6,
            "bin_end": 142,
            "count": 0
           },
           {
            "bin_start": 142,
            "bin_end": 170.39999999999998,
            "count": 0
           },
           {
            "bin_start": 170.39999999999998,
            "bin_end": 198.79999999999998,
            "count": 0
           },
           {
            "bin_start": 198.79999999999998,
            "bin_end": 227.2,
            "count": 0
           },
           {
            "bin_start": 227.2,
            "bin_end": 255.6,
            "count": 0
           },
           {
            "bin_start": 255.6,
            "bin_end": 284,
            "count": 1
           }
          ]
         }
        },
        {
         "name": "trestbps",
         "dtype": "float64",
         "stats": {
          "unique_count": 8,
          "nan_count": 0,
          "min": "15.368132704135675",
          "max": "284.0",
          "histogram": [
           {
            "bin_start": 15.368132704135675,
            "bin_end": 42.231319433722106,
            "count": 1
           },
           {
            "bin_start": 42.231319433722106,
            "bin_end": 69.09450616330854,
            "count": 0
           },
           {
            "bin_start": 69.09450616330854,
            "bin_end": 95.95769289289497,
            "count": 1
           },
           {
            "bin_start": 95.95769289289497,
            "bin_end": 122.8208796224814,
            "count": 1
           },
           {
            "bin_start": 122.8208796224814,
            "bin_end": 149.68406635206782,
            "count": 3
           },
           {
            "bin_start": 149.68406635206782,
            "bin_end": 176.54725308165428,
            "count": 1
           },
           {
            "bin_start": 176.54725308165428,
            "bin_end": 203.41043981124068,
            "count": 0
           },
           {
            "bin_start": 203.41043981124068,
            "bin_end": 230.27362654082714,
            "count": 0
           },
           {
            "bin_start": 230.27362654082714,
            "bin_end": 257.13681327041354,
            "count": 0
           },
           {
            "bin_start": 257.13681327041354,
            "bin_end": 284,
            "count": 1
           }
          ]
         }
        },
        {
         "name": "chol",
         "dtype": "float64",
         "stats": {
          "unique_count": 8,
          "nan_count": 0,
          "min": "44.753833788622785",
          "max": "360.0",
          "histogram": [
           {
            "bin_start": 44.753833788622785,
            "bin_end": 76.27845040976051,
            "count": 1
           },
           {
            "bin_start": 76.27845040976051,
            "bin_end": 107.80306703089823,
            "count": 0
           },
           {
            "bin_start": 107.80306703089823,
            "bin_end": 139.32768365203594,
            "count": 1
           },
           {
            "bin_start": 139.32768365203594,
            "bin_end": 170.85230027317368,
            "count": 0
           },
           {
            "bin_start": 170.85230027317368,
            "bin_end": 202.3769168943114,
            "count": 0
           },
           {
            "bin_start": 202.3769168943114,
            "bin_end": 233.9015335154491,
            "count": 1
           },
           {
            "bin_start": 233.9015335154491,
            "bin_end": 265.42615013658684,
            "count": 2
           },
           {
            "bin_start": 265.42615013658684,
            "bin_end": 296.9507667577245,
            "count": 2
           },
           {
            "bin_start": 296.9507667577245,
            "bin_end": 328.47538337886226,
            "count": 0
           },
           {
            "bin_start": 328.47538337886226,
            "bin_end": 360,
            "count": 1
           }
          ]
         }
        },
        {
         "name": "fbs",
         "dtype": "float64",
         "stats": {
          "unique_count": 5,
          "nan_count": 0,
          "min": "0.0",
          "max": "284.0",
          "histogram": [
           {
            "bin_start": 0,
            "bin_end": 28.4,
            "count": 7
           },
           {
            "bin_start": 28.4,
            "bin_end": 56.8,
            "count": 0
           },
           {
            "bin_start": 56.8,
            "bin_end": 85.19999999999999,
            "count": 0
           },
           {
            "bin_start": 85.19999999999999,
            "bin_end": 113.6,
            "count": 0
           },
           {
            "bin_start": 113.6,
            "bin_end": 142,
            "count": 0
           },
           {
            "bin_start": 142,
            "bin_end": 170.39999999999998,
            "count": 0
           },
           {
            "bin_start": 170.39999999999998,
            "bin_end": 198.79999999999998,
            "count": 0
           },
           {
            "bin_start": 198.79999999999998,
            "bin_end": 227.2,
            "count": 0
           },
           {
            "bin_start": 227.2,
            "bin_end": 255.6,
            "count": 0
           },
           {
            "bin_start": 255.6,
            "bin_end": 284,
            "count": 1
           }
          ]
         }
        },
        {
         "name": "restecg",
         "dtype": "float64",
         "stats": {
          "unique_count": 6,
          "nan_count": 0,
          "min": "0.0",
          "max": "284.0",
          "histogram": [
           {
            "bin_start": 0,
            "bin_end": 28.4,
            "count": 7
           },
           {
            "bin_start": 28.4,
            "bin_end": 56.8,
            "count": 0
           },
           {
            "bin_start": 56.8,
            "bin_end": 85.19999999999999,
            "count": 0
           },
           {
            "bin_start": 85.19999999999999,
            "bin_end": 113.6,
            "count": 0
           },
           {
            "bin_start": 113.6,
            "bin_end": 142,
            "count": 0
           },
           {
            "bin_start": 142,
            "bin_end": 170.39999999999998,
            "count": 0
           },
           {
            "bin_start": 170.39999999999998,
            "bin_end": 198.79999999999998,
            "count": 0
           },
           {
            "bin_start": 198.79999999999998,
            "bin_end": 227.2,
            "count": 0
           },
           {
            "bin_start": 227.2,
            "bin_end": 255.6,
            "count": 0
           },
           {
            "bin_start": 255.6,
            "bin_end": 284,
            "count": 1
           }
          ]
         }
        },
        {
         "name": "thalach",
         "dtype": "float64",
         "stats": {
          "unique_count": 8,
          "nan_count": 0,
          "min": "22.692715550883484",
          "max": "284.0",
          "histogram": [
           {
            "bin_start": 22.692715550883484,
            "bin_end": 48.82344399579514,
            "count": 1
           },
           {
            "bin_start": 48.82344399579514,
            "bin_end": 74.9541724407068,
            "count": 0
           },
           {
            "bin_start": 74.9541724407068,
            "bin_end": 101.08490088561845,
            "count": 1
           },
           {
            "bin_start": 101.08490088561845,
            "bin_end": 127.2156293305301,
            "count": 0
           },
           {
            "bin_start": 127.2156293305301,
            "bin_end": 153.34635777544176,
            "count": 3
           },
           {
            "bin_start": 153.34635777544176,
            "bin_end": 179.4770862203534,
            "count": 1
           },
           {
            "bin_start": 179.4770862203534,
            "bin_end": 205.60781466526507,
            "count": 1
           },
           {
            "bin_start": 205.60781466526507,
            "bin_end": 231.73854311017672,
            "count": 0
           },
           {
            "bin_start": 231.73854311017672,
            "bin_end": 257.86927155508835,
            "count": 0
           },
           {
            "bin_start": 257.86927155508835,
            "bin_end": 284,
            "count": 1
           }
          ]
         }
        },
        {
         "name": "exang",
         "dtype": "float64",
         "stats": {
          "unique_count": 5,
          "nan_count": 0,
          "min": "0.0",
          "max": "284.0",
          "histogram": [
           {
            "bin_start": 0,
            "bin_end": 28.4,
            "count": 7
           },
           {
            "bin_start": 28.4,
            "bin_end": 56.8,
            "count": 0
           },
           {
            "bin_start": 56.8,
            "bin_end": 85.19999999999999,
            "count": 0
           },
           {
            "bin_start": 85.19999999999999,
            "bin_end": 113.6,
            "count": 0
           },
           {
            "bin_start": 113.6,
            "bin_end": 142,
            "count": 0
           },
           {
            "bin_start": 142,
            "bin_end": 170.39999999999998,
            "count": 0
           },
           {
            "bin_start": 170.39999999999998,
            "bin_end": 198.79999999999998,
            "count": 0
           },
           {
            "bin_start": 198.79999999999998,
            "bin_end": 227.2,
            "count": 0
           },
           {
            "bin_start": 227.2,
            "bin_end": 255.6,
            "count": 0
           },
           {
            "bin_start": 255.6,
            "bin_end": 284,
            "count": 1
           }
          ]
         }
        },
        {
         "name": "oldpeak",
         "dtype": "float64",
         "stats": {
          "unique_count": 7,
          "nan_count": 0,
          "min": "0.0",
          "max": "284.0",
          "histogram": [
           {
            "bin_start": 0,
            "bin_end": 28.4,
            "count": 7
           },
           {
            "bin_start": 28.4,
            "bin_end": 56.8,
            "count": 0
           },
           {
            "bin_start": 56.8,
            "bin_end": 85.19999999999999,
            "count": 0
           },
           {
            "bin_start": 85.19999999999999,
            "bin_end": 113.6,
            "count": 0
           },
           {
            "bin_start": 113.6,
            "bin_end": 142,
            "count": 0
           },
           {
            "bin_start": 142,
            "bin_end": 170.39999999999998,
            "count": 0
           },
           {
            "bin_start": 170.39999999999998,
            "bin_end": 198.79999999999998,
            "count": 0
           },
           {
            "bin_start": 198.79999999999998,
            "bin_end": 227.2,
            "count": 0
           },
           {
            "bin_start": 227.2,
            "bin_end": 255.6,
            "count": 0
           },
           {
            "bin_start": 255.6,
            "bin_end": 284,
            "count": 1
           }
          ]
         }
        },
        {
         "name": "slope",
         "dtype": "float64",
         "stats": {
          "unique_count": 6,
          "nan_count": 0,
          "min": "0.0",
          "max": "284.0",
          "histogram": [
           {
            "bin_start": 0,
            "bin_end": 28.4,
            "count": 7
           },
           {
            "bin_start": 28.4,
            "bin_end": 56.8,
            "count": 0
           },
           {
            "bin_start": 56.8,
            "bin_end": 85.19999999999999,
            "count": 0
           },
           {
            "bin_start": 85.19999999999999,
            "bin_end": 113.6,
            "count": 0
           },
           {
            "bin_start": 113.6,
            "bin_end": 142,
            "count": 0
           },
           {
            "bin_start": 142,
            "bin_end": 170.39999999999998,
            "count": 0
           },
           {
            "bin_start": 170.39999999999998,
            "bin_end": 198.79999999999998,
            "count": 0
           },
           {
            "bin_start": 198.79999999999998,
            "bin_end": 227.2,
            "count": 0
           },
           {
            "bin_start": 227.2,
            "bin_end": 255.6,
            "count": 0
           },
           {
            "bin_start": 255.6,
            "bin_end": 284,
            "count": 1
           }
          ]
         }
        },
        {
         "name": "ca",
         "dtype": "float64",
         "stats": {
          "unique_count": 6,
          "nan_count": 0,
          "min": "0.0",
          "max": "279.0",
          "histogram": [
           {
            "bin_start": 0,
            "bin_end": 27.9,
            "count": 7
           },
           {
            "bin_start": 27.9,
            "bin_end": 55.8,
            "count": 0
           },
           {
            "bin_start": 55.8,
            "bin_end": 83.69999999999999,
            "count": 0
           },
           {
            "bin_start": 83.69999999999999,
            "bin_end": 111.6,
            "count": 0
           },
           {
            "bin_start": 111.6,
            "bin_end": 139.5,
            "count": 0
           },
           {
            "bin_start": 139.5,
            "bin_end": 167.39999999999998,
            "count": 0
           },
           {
            "bin_start": 167.39999999999998,
            "bin_end": 195.29999999999998,
            "count": 0
           },
           {
            "bin_start": 195.29999999999998,
            "bin_end": 223.2,
            "count": 0
           },
           {
            "bin_start": 223.2,
            "bin_end": 251.1,
            "count": 0
           },
           {
            "bin_start": 251.1,
            "bin_end": 279,
            "count": 1
           }
          ]
         }
        },
        {
         "name": "thal",
         "dtype": "float64",
         "stats": {
          "unique_count": 6,
          "nan_count": 0,
          "min": "0.5800325401725921",
          "max": "282.0",
          "histogram": [
           {
            "bin_start": 0.5800325401725921,
            "bin_end": 28.722029286155337,
            "count": 7
           },
           {
            "bin_start": 28.722029286155337,
            "bin_end": 56.864026032138085,
            "count": 0
           },
           {
            "bin_start": 56.864026032138085,
            "bin_end": 85.00602277812084,
            "count": 0
           },
           {
            "bin_start": 85.00602277812084,
            "bin_end": 113.14801952410357,
            "count": 0
           },
           {
            "bin_start": 113.14801952410357,
            "bin_end": 141.2900162700863,
            "count": 0
           },
           {
            "bin_start": 141.2900162700863,
            "bin_end": 169.43201301606908,
            "count": 0
           },
           {
            "bin_start": 169.43201301606908,
            "bin_end": 197.57400976205182,
            "count": 0
           },
           {
            "bin_start": 197.57400976205182,
            "bin_end": 225.71600650803455,
            "count": 0
           },
           {
            "bin_start": 225.71600650803455,
            "bin_end": 253.8580032540173,
            "count": 0
           },
           {
            "bin_start": 253.8580032540173,
            "bin_end": 282,
            "count": 1
           }
          ]
         }
        },
        {
         "name": "target",
         "dtype": "float64",
         "stats": {
          "unique_count": 5,
          "nan_count": 0,
          "min": "0.0",
          "max": "284.0",
          "histogram": [
           {
            "bin_start": 0,
            "bin_end": 28.4,
            "count": 7
           },
           {
            "bin_start": 28.4,
            "bin_end": 56.8,
            "count": 0
           },
           {
            "bin_start": 56.8,
            "bin_end": 85.19999999999999,
            "count": 0
           },
           {
            "bin_start": 85.19999999999999,
            "bin_end": 113.6,
            "count": 0
           },
           {
            "bin_start": 113.6,
            "bin_end": 142,
            "count": 0
           },
           {
            "bin_start": 142,
            "bin_end": 170.39999999999998,
            "count": 0
           },
           {
            "bin_start": 170.39999999999998,
            "bin_end": 198.79999999999998,
            "count": 0
           },
           {
            "bin_start": 198.79999999999998,
            "bin_end": 227.2,
            "count": 0
           },
           {
            "bin_start": 227.2,
            "bin_end": 255.6,
            "count": 0
           },
           {
            "bin_start": 255.6,
            "bin_end": 284,
            "count": 1
           }
          ]
         }
        },
        {
         "name": "_deepnote_index_column",
         "dtype": "object"
        }
       ],
       "rows_top": [
        {
         "age": 284,
         "sex": 284,
         "cp": 284,
         "trestbps": 284,
         "chol": 284,
         "fbs": 284,
         "restecg": 284,
         "thalach": 284,
         "exang": 284,
         "oldpeak": 284,
         "slope": 284,
         "ca": 279,
         "thal": 282,
         "target": 284,
         "_deepnote_index_column": "count"
        },
        {
         "age": 53.99295774647887,
         "sex": 0.7007042253521126,
         "cp": 0.9894366197183099,
         "trestbps": 129.91197183098592,
         "chol": 242.07746478873239,
         "fbs": 0.14084507042253522,
         "restecg": 0.5246478873239436,
         "thalach": 150.04225352112675,
         "exang": 0.31690140845070425,
         "oldpeak": 0.9485915492957746,
         "slope": 1.4295774647887325,
         "ca": 0.6487455197132617,
         "thal": 2.3120567375886525,
         "target": 0.5598591549295775,
         "_deepnote_index_column": "mean"
        },
        {
         "age": 9.16167812090892,
         "sex": 0.45875796044519596,
         "cp": 1.031257611359263,
         "trestbps": 15.368132704135675,
         "chol": 44.753833788622785,
         "fbs": 0.3484757175691453,
         "restecg": 0.5142061870369125,
         "thalach": 22.692715550883484,
         "exang": 0.4660899427882212,
         "oldpeak": 1.026141416733977,
         "slope": 0.5991500142377042,
         "ca": 0.9087446098558633,
         "thal": 0.5800325401725921,
         "target": 0.4972802153729861,
         "_deepnote_index_column": "std"
        },
        {
         "age": 29,
         "sex": 0,
         "cp": 0,
         "trestbps": 94,
         "chol": 126,
         "fbs": 0,
         "restecg": 0,
         "thalach": 88,
         "exang": 0,
         "oldpeak": 0,
         "slope": 0,
         "ca": 0,
         "thal": 1,
         "target": 0,
         "_deepnote_index_column": "min"
        },
        {
         "age": 46.75,
         "sex": 0,
         "cp": 0,
         "trestbps": 120,
         "chol": 209.75,
         "fbs": 0,
         "restecg": 0,
         "thalach": 133.75,
         "exang": 0,
         "oldpeak": 0,
         "slope": 1,
         "ca": 0,
         "thal": 2,
         "target": 0,
         "_deepnote_index_column": "25%"
        },
        {
         "age": 55,
         "sex": 1,
         "cp": 1,
         "trestbps": 130,
         "chol": 239,
         "fbs": 0,
         "restecg": 1,
         "thalach": 153,
         "exang": 0,
         "oldpeak": 0.6,
         "slope": 1,
         "ca": 0,
         "thal": 2,
         "target": 1,
         "_deepnote_index_column": "50%"
        },
        {
         "age": 60,
         "sex": 1,
         "cp": 2,
         "trestbps": 140,
         "chol": 270.25,
         "fbs": 0,
         "restecg": 1,
         "thalach": 168,
         "exang": 1,
         "oldpeak": 1.6,
         "slope": 2,
         "ca": 1,
         "thal": 3,
         "target": 1,
         "_deepnote_index_column": "75%"
        },
        {
         "age": 77,
         "sex": 1,
         "cp": 3,
         "trestbps": 170,
         "chol": 360,
         "fbs": 1,
         "restecg": 2,
         "thalach": 202,
         "exang": 1,
         "oldpeak": 4,
         "slope": 2,
         "ca": 3,
         "thal": 3,
         "target": 1,
         "_deepnote_index_column": "max"
        }
       ],
       "rows_bottom": null
      },
      "text/plain": "              age         sex          cp    trestbps        chol         fbs  \\\ncount  284.000000  284.000000  284.000000  284.000000  284.000000  284.000000   \nmean    53.992958    0.700704    0.989437  129.911972  242.077465    0.140845   \nstd      9.161678    0.458758    1.031258   15.368133   44.753834    0.348476   \nmin     29.000000    0.000000    0.000000   94.000000  126.000000    0.000000   \n25%     46.750000    0.000000    0.000000  120.000000  209.750000    0.000000   \n50%     55.000000    1.000000    1.000000  130.000000  239.000000    0.000000   \n75%     60.000000    1.000000    2.000000  140.000000  270.250000    0.000000   \nmax     77.000000    1.000000    3.000000  170.000000  360.000000    1.000000   \n\n          restecg     thalach       exang     oldpeak       slope          ca  \\\ncount  284.000000  284.000000  284.000000  284.000000  284.000000  279.000000   \nmean     0.524648  150.042254    0.316901    0.948592    1.429577    0.648746   \nstd      0.514206   22.692716    0.466090    1.026141    0.599150    0.908745   \nmin      0.000000   88.000000    0.000000    0.000000    0.000000    0.000000   \n25%      0.000000  133.750000    0.000000    0.000000    1.000000    0.000000   \n50%      1.000000  153.000000    0.000000    0.600000    1.000000    0.000000   \n75%      1.000000  168.000000    1.000000    1.600000    2.000000    1.000000   \nmax      2.000000  202.000000    1.000000    4.000000    2.000000    3.000000   \n\n             thal      target  \ncount  282.000000  284.000000  \nmean     2.312057    0.559859  \nstd      0.580033    0.497280  \nmin      1.000000    0.000000  \n25%      2.000000    0.000000  \n50%      2.000000    1.000000  \n75%      3.000000    1.000000  \nmax      3.000000    1.000000  ",
      "text/html": "<div>\n<style scoped>\n    .dataframe tbody tr th:only-of-type {\n        vertical-align: middle;\n    }\n\n    .dataframe tbody tr th {\n        vertical-align: top;\n    }\n\n    .dataframe thead th {\n        text-align: right;\n    }\n</style>\n<table border=\"1\" class=\"dataframe\">\n  <thead>\n    <tr style=\"text-align: right;\">\n      <th></th>\n      <th>age</th>\n      <th>sex</th>\n      <th>cp</th>\n      <th>trestbps</th>\n      <th>chol</th>\n      <th>fbs</th>\n      <th>restecg</th>\n      <th>thalach</th>\n      <th>exang</th>\n      <th>oldpeak</th>\n      <th>slope</th>\n      <th>ca</th>\n      <th>thal</th>\n      <th>target</th>\n    </tr>\n  </thead>\n  <tbody>\n    <tr>\n      <th>count</th>\n      <td>284.000000</td>\n      <td>284.000000</td>\n      <td>284.000000</td>\n      <td>284.000000</td>\n      <td>284.000000</td>\n      <td>284.000000</td>\n      <td>284.000000</td>\n      <td>284.000000</td>\n      <td>284.000000</td>\n      <td>284.000000</td>\n      <td>284.000000</td>\n      <td>279.000000</td>\n      <td>282.000000</td>\n      <td>284.000000</td>\n    </tr>\n    <tr>\n      <th>mean</th>\n      <td>53.992958</td>\n      <td>0.700704</td>\n      <td>0.989437</td>\n      <td>129.911972</td>\n      <td>242.077465</td>\n      <td>0.140845</td>\n      <td>0.524648</td>\n      <td>150.042254</td>\n      <td>0.316901</td>\n      <td>0.948592</td>\n      <td>1.429577</td>\n      <td>0.648746</td>\n      <td>2.312057</td>\n      <td>0.559859</td>\n    </tr>\n    <tr>\n      <th>std</th>\n      <td>9.161678</td>\n      <td>0.458758</td>\n      <td>1.031258</td>\n      <td>15.368133</td>\n      <td>44.753834</td>\n      <td>0.348476</td>\n      <td>0.514206</td>\n      <td>22.692716</td>\n      <td>0.466090</td>\n      <td>1.026141</td>\n      <td>0.599150</td>\n      <td>0.908745</td>\n      <td>0.580033</td>\n      <td>0.497280</td>\n    </tr>\n    <tr>\n      <th>min</th>\n      <td>29.000000</td>\n      <td>0.000000</td>\n      <td>0.000000</td>\n      <td>94.000000</td>\n      <td>126.000000</td>\n      <td>0.000000</td>\n      <td>0.000000</td>\n      <td>88.000000</td>\n      <td>0.000000</td>\n      <td>0.000000</td>\n      <td>0.000000</td>\n      <td>0.000000</td>\n      <td>1.000000</td>\n      <td>0.000000</td>\n    </tr>\n    <tr>\n      <th>25%</th>\n      <td>46.750000</td>\n      <td>0.000000</td>\n      <td>0.000000</td>\n      <td>120.000000</td>\n      <td>209.750000</td>\n      <td>0.000000</td>\n      <td>0.000000</td>\n      <td>133.750000</td>\n      <td>0.000000</td>\n      <td>0.000000</td>\n      <td>1.000000</td>\n      <td>0.000000</td>\n      <td>2.000000</td>\n      <td>0.000000</td>\n    </tr>\n    <tr>\n      <th>50%</th>\n      <td>55.000000</td>\n      <td>1.000000</td>\n      <td>1.000000</td>\n      <td>130.000000</td>\n      <td>239.000000</td>\n      <td>0.000000</td>\n      <td>1.000000</td>\n      <td>153.000000</td>\n      <td>0.000000</td>\n      <td>0.600000</td>\n      <td>1.000000</td>\n      <td>0.000000</td>\n      <td>2.000000</td>\n      <td>1.000000</td>\n    </tr>\n    <tr>\n      <th>75%</th>\n      <td>60.000000</td>\n      <td>1.000000</td>\n      <td>2.000000</td>\n      <td>140.000000</td>\n      <td>270.250000</td>\n      <td>0.000000</td>\n      <td>1.000000</td>\n      <td>168.000000</td>\n      <td>1.000000</td>\n      <td>1.600000</td>\n      <td>2.000000</td>\n      <td>1.000000</td>\n      <td>3.000000</td>\n      <td>1.000000</td>\n    </tr>\n    <tr>\n      <th>max</th>\n      <td>77.000000</td>\n      <td>1.000000</td>\n      <td>3.000000</td>\n      <td>170.000000</td>\n      <td>360.000000</td>\n      <td>1.000000</td>\n      <td>2.000000</td>\n      <td>202.000000</td>\n      <td>1.000000</td>\n      <td>4.000000</td>\n      <td>2.000000</td>\n      <td>3.000000</td>\n      <td>3.000000</td>\n      <td>1.000000</td>\n    </tr>\n  </tbody>\n</table>\n</div>"
     },
     "metadata": {}
    }
   ],
   "execution_count": 31
  },
  {
   "cell_type": "code",
   "source": "same_range = []\nfor col in df:\n    same_range.append((df[col].max() == df_final[col].max(), df[col].min() == df_final[col].min()))\n\nsame_range",
   "metadata": {
    "tags": [],
    "cell_id": "00034-d1c30dc3-6932-4eda-8150-b46404939f67",
    "deepnote_to_be_reexecuted": false,
    "source_hash": "ed19ecc1",
    "execution_start": 1620392139852,
    "execution_millis": 10,
    "deepnote_cell_type": "code"
   },
   "outputs": [
    {
     "output_type": "execute_result",
     "execution_count": 32,
     "data": {
      "text/plain": "[(True, True),\n (True, True),\n (True, True),\n (True, True),\n (True, True),\n (True, True),\n (True, True),\n (True, True),\n (True, True),\n (True, True),\n (True, True),\n (True, True),\n (True, True),\n (True, True)]"
     },
     "metadata": {}
    }
   ],
   "execution_count": 32
  },
  {
   "cell_type": "code",
   "source": "#Binary: sex, fbs, exang, target\n#Categorical: cp, restecg, slope, ca, thal\n#Continuous: age, trestbps, chol, thalac, oldpeak\n#\n#var= ['sex','fbs','cp','restecg', 'exang', 'slope', 'ca', 'thal', 'age','trestbps', 'chol','thalach','oldpeak']\nfrom sklearn.model_selection import train_test_split\nimport category_encoders as ce\nimport time\n\ncat_vars = ['sex','fbs','cp','restecg', 'exang', 'slope', 'ca', 'thal']\nnum_vars = ['age','trestbps', 'chol','thalach','oldpeak']\nvar= cat_vars + num_vars\nx = df_final[var]\ny = df_final['target']\n\nx_train, x_val, y_train, y_val = train_test_split(x, y, test_size=0.20,random_state=0)",
   "metadata": {
    "tags": [],
    "cell_id": "00035-722ffd22-71a9-4856-9156-dd85ed04e5b4",
    "deepnote_to_be_reexecuted": false,
    "source_hash": "23f6373a",
    "execution_start": 1620392141371,
    "execution_millis": 71,
    "deepnote_cell_type": "code"
   },
   "outputs": [],
   "execution_count": 33
  },
  {
   "cell_type": "code",
   "source": "# Tree models preprocessing\n\nset_config(display='diagram')\n# num_preprocessing = pipeline.Pipeline(steps=[\n#     ('scaler', preprocessing.StandardScaler())    \n# ])\n\ncat_4_treeModels = pipeline.Pipeline(steps=[\n    ('target', ce.TargetEncoder(cols = cat_vars))\n    # ('ordinal', preprocessing.OrdinalEncoder(categories='auto', handle_unknown='use_encoded_value', unknown_value=-9999))\n])\n\ntree_prepro = compose.ColumnTransformer(transformers=[\n    # ('num', num_preprocessing, num_vars),\n    ('cat', cat_4_treeModels, cat_vars),\n], remainder='drop') # Drop other vars not specified in num_vars or cat_vars\n\n\ntree_prepro",
   "metadata": {
    "tags": [],
    "cell_id": "00036-8dd97eb0-1185-4b39-9b7c-67b887c81cf5",
    "deepnote_to_be_reexecuted": false,
    "source_hash": "b90609cc",
    "execution_start": 1620392145151,
    "execution_millis": 26,
    "deepnote_cell_type": "code"
   },
   "outputs": [
    {
     "output_type": "execute_result",
     "execution_count": 34,
     "data": {
      "text/plain": "ColumnTransformer(transformers=[('cat',\n                                 Pipeline(steps=[('target',\n                                                  TargetEncoder(cols=['sex',\n                                                                      'fbs',\n                                                                      'cp',\n                                                                      'restecg',\n                                                                      'exang',\n                                                                      'slope',\n                                                                      'ca',\n                                                                      'thal']))]),\n                                 ['sex', 'fbs', 'cp', 'restecg', 'exang',\n                                  'slope', 'ca', 'thal'])])",
      "text/html": "<style>#sk-8f2d01ea-3617-4980-84d3-c79498901945 {color: black;background-color: white;}#sk-8f2d01ea-3617-4980-84d3-c79498901945 pre{padding: 0;}#sk-8f2d01ea-3617-4980-84d3-c79498901945 div.sk-toggleable {background-color: white;}#sk-8f2d01ea-3617-4980-84d3-c79498901945 label.sk-toggleable__label {cursor: pointer;display: block;width: 100%;margin-bottom: 0;padding: 0.2em 0.3em;box-sizing: border-box;text-align: center;}#sk-8f2d01ea-3617-4980-84d3-c79498901945 div.sk-toggleable__content {max-height: 0;max-width: 0;overflow: hidden;text-align: left;background-color: #f0f8ff;}#sk-8f2d01ea-3617-4980-84d3-c79498901945 div.sk-toggleable__content pre {margin: 0.2em;color: black;border-radius: 0.25em;background-color: #f0f8ff;}#sk-8f2d01ea-3617-4980-84d3-c79498901945 input.sk-toggleable__control:checked~div.sk-toggleable__content {max-height: 200px;max-width: 100%;overflow: auto;}#sk-8f2d01ea-3617-4980-84d3-c79498901945 div.sk-estimator input.sk-toggleable__control:checked~label.sk-toggleable__label {background-color: #d4ebff;}#sk-8f2d01ea-3617-4980-84d3-c79498901945 div.sk-label input.sk-toggleable__control:checked~label.sk-toggleable__label {background-color: #d4ebff;}#sk-8f2d01ea-3617-4980-84d3-c79498901945 input.sk-hidden--visually {border: 0;clip: rect(1px 1px 1px 1px);clip: rect(1px, 1px, 1px, 1px);height: 1px;margin: -1px;overflow: hidden;padding: 0;position: absolute;width: 1px;}#sk-8f2d01ea-3617-4980-84d3-c79498901945 div.sk-estimator {font-family: monospace;background-color: #f0f8ff;margin: 0.25em 0.25em;border: 1px dotted black;border-radius: 0.25em;box-sizing: border-box;}#sk-8f2d01ea-3617-4980-84d3-c79498901945 div.sk-estimator:hover {background-color: #d4ebff;}#sk-8f2d01ea-3617-4980-84d3-c79498901945 div.sk-parallel-item::after {content: \"\";width: 100%;border-bottom: 1px solid gray;flex-grow: 1;}#sk-8f2d01ea-3617-4980-84d3-c79498901945 div.sk-label:hover label.sk-toggleable__label {background-color: #d4ebff;}#sk-8f2d01ea-3617-4980-84d3-c79498901945 div.sk-serial::before {content: \"\";position: absolute;border-left: 1px solid gray;box-sizing: border-box;top: 2em;bottom: 0;left: 50%;}#sk-8f2d01ea-3617-4980-84d3-c79498901945 div.sk-serial {display: flex;flex-direction: column;align-items: center;background-color: white;}#sk-8f2d01ea-3617-4980-84d3-c79498901945 div.sk-item {z-index: 1;}#sk-8f2d01ea-3617-4980-84d3-c79498901945 div.sk-parallel {display: flex;align-items: stretch;justify-content: center;background-color: white;}#sk-8f2d01ea-3617-4980-84d3-c79498901945 div.sk-parallel-item {display: flex;flex-direction: column;position: relative;background-color: white;}#sk-8f2d01ea-3617-4980-84d3-c79498901945 div.sk-parallel-item:first-child::after {align-self: flex-end;width: 50%;}#sk-8f2d01ea-3617-4980-84d3-c79498901945 div.sk-parallel-item:last-child::after {align-self: flex-start;width: 50%;}#sk-8f2d01ea-3617-4980-84d3-c79498901945 div.sk-parallel-item:only-child::after {width: 0;}#sk-8f2d01ea-3617-4980-84d3-c79498901945 div.sk-dashed-wrapped {border: 1px dashed gray;margin: 0.2em;box-sizing: border-box;padding-bottom: 0.1em;background-color: white;position: relative;}#sk-8f2d01ea-3617-4980-84d3-c79498901945 div.sk-label label {font-family: monospace;font-weight: bold;background-color: white;display: inline-block;line-height: 1.2em;}#sk-8f2d01ea-3617-4980-84d3-c79498901945 div.sk-label-container {position: relative;z-index: 2;text-align: center;}#sk-8f2d01ea-3617-4980-84d3-c79498901945 div.sk-container {display: inline-block;position: relative;}</style><div id=\"sk-8f2d01ea-3617-4980-84d3-c79498901945\" class\"sk-top-container\"><div class=\"sk-container\"><div class=\"sk-item sk-dashed-wrapped\"><div class=\"sk-label-container\"><div class=\"sk-label sk-toggleable\"><input class=\"sk-toggleable__control sk-hidden--visually\" id=\"6d0ce646-adc6-4867-8097-318b32e54ac8\" type=\"checkbox\" ><label class=\"sk-toggleable__label\" for=\"6d0ce646-adc6-4867-8097-318b32e54ac8\">ColumnTransformer</label><div class=\"sk-toggleable__content\"><pre>ColumnTransformer(transformers=[('cat',\n                                 Pipeline(steps=[('target',\n                                                  TargetEncoder(cols=['sex',\n                                                                      'fbs',\n                                                                      'cp',\n                                                                      'restecg',\n                                                                      'exang',\n                                                                      'slope',\n                                                                      'ca',\n                                                                      'thal']))]),\n                                 ['sex', 'fbs', 'cp', 'restecg', 'exang',\n                                  'slope', 'ca', 'thal'])])</pre></div></div></div><div class=\"sk-parallel\"><div class=\"sk-parallel-item\"><div class=\"sk-item\"><div class=\"sk-label-container\"><div class=\"sk-label sk-toggleable\"><input class=\"sk-toggleable__control sk-hidden--visually\" id=\"275e4a55-9792-4ce0-80d9-67f3f6e22e23\" type=\"checkbox\" ><label class=\"sk-toggleable__label\" for=\"275e4a55-9792-4ce0-80d9-67f3f6e22e23\">cat</label><div class=\"sk-toggleable__content\"><pre>['sex', 'fbs', 'cp', 'restecg', 'exang', 'slope', 'ca', 'thal']</pre></div></div></div><div class=\"sk-serial\"><div class=\"sk-item\"><div class=\"sk-serial\"><div class=\"sk-item\"><div class=\"sk-estimator sk-toggleable\"><input class=\"sk-toggleable__control sk-hidden--visually\" id=\"4b05a5d0-bf72-46fc-a1d4-7826985f9c18\" type=\"checkbox\" ><label class=\"sk-toggleable__label\" for=\"4b05a5d0-bf72-46fc-a1d4-7826985f9c18\">TargetEncoder</label><div class=\"sk-toggleable__content\"><pre>TargetEncoder(cols=['sex', 'fbs', 'cp', 'restecg', 'exang', 'slope', 'ca',\n                    'thal'])</pre></div></div></div></div></div></div></div></div></div></div></div></div>"
     },
     "metadata": {}
    }
   ],
   "execution_count": 34
  },
  {
   "cell_type": "code",
   "source": "# Multiplicative model preprocessing\n\nnum_4_multModels = pipeline.Pipeline(steps=[\n    ('quant', preprocessing.QuantileTransformer(output_distribution='normal', random_state=73)),\n    ('norm', preprocessing.Normalizer()),\n])\n\n\ncat_4_multModels = pipeline.Pipeline(steps=[\n    ('onehot', preprocessing.OneHotEncoder(categories='auto', handle_unknown='ignore'))\n])\n\nmult_prepro = compose.ColumnTransformer(transformers=[\n    ('num_m', num_4_multModels, num_vars),\n    ('cat_m', cat_4_multModels, cat_vars),\n], remainder='drop')",
   "metadata": {
    "tags": [],
    "cell_id": "00037-6a7a6825-553d-4b7b-b88a-366f20eaf302",
    "deepnote_to_be_reexecuted": false,
    "source_hash": "43ce3ebc",
    "execution_start": 1620392146005,
    "execution_millis": 2,
    "deepnote_cell_type": "code"
   },
   "outputs": [],
   "execution_count": 35
  },
  {
   "cell_type": "code",
   "source": "from sklearn.tree          import DecisionTreeClassifier\nfrom sklearn.ensemble      import RandomForestClassifier\nfrom sklearn.ensemble      import ExtraTreesClassifier\nfrom sklearn.ensemble      import AdaBoostClassifier\nfrom sklearn.ensemble      import GradientBoostingClassifier\nfrom sklearn.experimental  import enable_hist_gradient_boosting # Necesary for HistGradientBoostingClassifier\nfrom sklearn.ensemble      import HistGradientBoostingClassifier\nfrom xgboost               import XGBClassifier\nfrom lightgbm              import LGBMClassifier\nfrom catboost              import CatBoostClassifier\n\ntree_classifiers = {\n  \"Decision Tree\": DecisionTreeClassifier(),\n  \"Extra Trees\": ExtraTreesClassifier(),\n  \"Random Forest\": RandomForestClassifier(),\n  \"AdaBoost\": AdaBoostClassifier(), \n  \"Skl GBM\": GradientBoostingClassifier(),\n  \"Skl HistGBM\": HistGradientBoostingClassifier(), \n  \"XGBoost\": XGBClassifier(),\n  \"LightGBM\": LGBMClassifier(),\n  \"CatBoost\": CatBoostClassifier() }\n\ntree_pipelines = {name: pipeline.make_pipeline(tree_prepro, model) for name, model in tree_classifiers.items()}\ntree_pipelines",
   "metadata": {
    "tags": [],
    "cell_id": "00038-48b86226-2b28-4c52-83b8-089461f785ae",
    "deepnote_to_be_reexecuted": false,
    "source_hash": "3e1f3924",
    "execution_start": 1620393033070,
    "execution_millis": 102,
    "deepnote_cell_type": "code"
   },
   "outputs": [
    {
     "output_type": "execute_result",
     "execution_count": 44,
     "data": {
      "text/plain": "{'Decision Tree': Pipeline(steps=[('columntransformer',\n                  ColumnTransformer(transformers=[('cat',\n                                                   Pipeline(steps=[('target',\n                                                                    TargetEncoder(cols=['sex',\n                                                                                        'fbs',\n                                                                                        'cp',\n                                                                                        'restecg',\n                                                                                        'exang',\n                                                                                        'slope',\n                                                                                        'ca',\n                                                                                        'thal']))]),\n                                                   ['sex', 'fbs', 'cp',\n                                                    'restecg', 'exang', 'slope',\n                                                    'ca', 'thal'])])),\n                 ('decisiontreeclassifier', DecisionTreeClassifier())]),\n 'Extra Trees': Pipeline(steps=[('columntransformer',\n                  ColumnTransformer(transformers=[('cat',\n                                                   Pipeline(steps=[('target',\n                                                                    TargetEncoder(cols=['sex',\n                                                                                        'fbs',\n                                                                                        'cp',\n                                                                                        'restecg',\n                                                                                        'exang',\n                                                                                        'slope',\n                                                                                        'ca',\n                                                                                        'thal']))]),\n                                                   ['sex', 'fbs', 'cp',\n                                                    'restecg', 'exang', 'slope',\n                                                    'ca', 'thal'])])),\n                 ('extratreesclassifier', ExtraTreesClassifier())]),\n 'Random Forest': Pipeline(steps=[('columntransformer',\n                  ColumnTransformer(transformers=[('cat',\n                                                   Pipeline(steps=[('target',\n                                                                    TargetEncoder(cols=['sex',\n                                                                                        'fbs',\n                                                                                        'cp',\n                                                                                        'restecg',\n                                                                                        'exang',\n                                                                                        'slope',\n                                                                                        'ca',\n                                                                                        'thal']))]),\n                                                   ['sex', 'fbs', 'cp',\n                                                    'restecg', 'exang', 'slope',\n                                                    'ca', 'thal'])])),\n                 ('randomforestclassifier', RandomForestClassifier())]),\n 'AdaBoost': Pipeline(steps=[('columntransformer',\n                  ColumnTransformer(transformers=[('cat',\n                                                   Pipeline(steps=[('target',\n                                                                    TargetEncoder(cols=['sex',\n                                                                                        'fbs',\n                                                                                        'cp',\n                                                                                        'restecg',\n                                                                                        'exang',\n                                                                                        'slope',\n                                                                                        'ca',\n                                                                                        'thal']))]),\n                                                   ['sex', 'fbs', 'cp',\n                                                    'restecg', 'exang', 'slope',\n                                                    'ca', 'thal'])])),\n                 ('adaboostclassifier', AdaBoostClassifier())]),\n 'Skl GBM': Pipeline(steps=[('columntransformer',\n                  ColumnTransformer(transformers=[('cat',\n                                                   Pipeline(steps=[('target',\n                                                                    TargetEncoder(cols=['sex',\n                                                                                        'fbs',\n                                                                                        'cp',\n                                                                                        'restecg',\n                                                                                        'exang',\n                                                                                        'slope',\n                                                                                        'ca',\n                                                                                        'thal']))]),\n                                                   ['sex', 'fbs', 'cp',\n                                                    'restecg', 'exang', 'slope',\n                                                    'ca', 'thal'])])),\n                 ('gradientboostingclassifier', GradientBoostingClassifier())]),\n 'Skl HistGBM': Pipeline(steps=[('columntransformer',\n                  ColumnTransformer(transformers=[('cat',\n                                                   Pipeline(steps=[('target',\n                                                                    TargetEncoder(cols=['sex',\n                                                                                        'fbs',\n                                                                                        'cp',\n                                                                                        'restecg',\n                                                                                        'exang',\n                                                                                        'slope',\n                                                                                        'ca',\n                                                                                        'thal']))]),\n                                                   ['sex', 'fbs', 'cp',\n                                                    'restecg', 'exang', 'slope',\n                                                    'ca', 'thal'])])),\n                 ('histgradientboostingclassifier',\n                  HistGradientBoostingClassifier())]),\n 'XGBoost': Pipeline(steps=[('columntransformer',\n                  ColumnTransformer(transformers=[('cat',\n                                                   Pipeline(steps=[('target',\n                                                                    TargetEncoder(cols=['sex',\n                                                                                        'fbs',\n                                                                                        'cp',\n                                                                                        'restecg',\n                                                                                        'exang',\n                                                                                        'slope',\n                                                                                        'ca',\n                                                                                        'thal']))]),\n                                                   ['sex', 'fbs', 'cp',\n                                                    'restecg', 'exang', 'slope',\n                                                    'ca', 'thal'])])),\n                 ('xgbclassifier',\n                  XGBClassifier(base_score=None, booster=None,\n                                colsample_bylevel=None, colsample_bynode=None,\n                                co...\n                                importance_type='gain',\n                                interaction_constraints=None, learning_rate=None,\n                                max_delta_step=None, max_depth=None,\n                                min_child_weight=None, missing=nan,\n                                monotone_constraints=None, n_estimators=100,\n                                n_jobs=None, num_parallel_tree=None,\n                                random_state=None, reg_alpha=None,\n                                reg_lambda=None, scale_pos_weight=None,\n                                subsample=None, tree_method=None,\n                                validate_parameters=None, verbosity=None))]),\n 'LightGBM': Pipeline(steps=[('columntransformer',\n                  ColumnTransformer(transformers=[('cat',\n                                                   Pipeline(steps=[('target',\n                                                                    TargetEncoder(cols=['sex',\n                                                                                        'fbs',\n                                                                                        'cp',\n                                                                                        'restecg',\n                                                                                        'exang',\n                                                                                        'slope',\n                                                                                        'ca',\n                                                                                        'thal']))]),\n                                                   ['sex', 'fbs', 'cp',\n                                                    'restecg', 'exang', 'slope',\n                                                    'ca', 'thal'])])),\n                 ('lgbmclassifier', LGBMClassifier())]),\n 'CatBoost': Pipeline(steps=[('columntransformer',\n                  ColumnTransformer(transformers=[('cat',\n                                                   Pipeline(steps=[('target',\n                                                                    TargetEncoder(cols=['sex',\n                                                                                        'fbs',\n                                                                                        'cp',\n                                                                                        'restecg',\n                                                                                        'exang',\n                                                                                        'slope',\n                                                                                        'ca',\n                                                                                        'thal']))]),\n                                                   ['sex', 'fbs', 'cp',\n                                                    'restecg', 'exang', 'slope',\n                                                    'ca', 'thal'])])),\n                 ('catboostclassifier',\n                  <catboost.core.CatBoostClassifier object at 0x7f93513b4e90>)])}"
     },
     "metadata": {}
    }
   ],
   "execution_count": 44
  },
  {
   "cell_type": "code",
   "source": "from sklearn.svm import SVC\nfrom sklearn.linear_model import LogisticRegression\nfrom sklearn.neural_network import MLPClassifier\nfrom sklearn.neighbors import KNeighborsClassifier\n\nmult_classifiers = {\n  \"SVC\": SVC(random_state=0),\n  \"Logistic\": LogisticRegression(random_state=0),\n  \"Neural\": MLPClassifier(),\n  \"KNN\": KNeighborsClassifier(n_neighbors=10),\n}\n\nmult_pipelines = {name: pipeline.make_pipeline(mult_prepro, model) for name, model in mult_classifiers.items()}",
   "metadata": {
    "tags": [],
    "cell_id": "00039-b2e43bfa-802e-4b5d-849d-30818bd2795e",
    "deepnote_to_be_reexecuted": false,
    "source_hash": "e1bb1bc2",
    "execution_start": 1620392148111,
    "execution_millis": 18,
    "deepnote_cell_type": "code"
   },
   "outputs": [],
   "execution_count": 37
  },
  {
   "cell_type": "code",
   "source": "tree_classifiers = {name: pipeline.make_pipeline(tree_prepro, model) for name, model in tree_classifiers.items()}\n\nmult_classifiers = {name: pipeline.make_pipeline(mult_prepro, model) for name, model in mult_classifiers.items()}\n\nall_pipelines = {**tree_classifiers, **mult_classifiers}",
   "metadata": {
    "tags": [],
    "cell_id": "00040-2602d312-2995-423b-b6ab-f17006cae5ce",
    "deepnote_to_be_reexecuted": false,
    "source_hash": "d2a0ed6c",
    "execution_start": 1620392149149,
    "execution_millis": 0,
    "deepnote_cell_type": "code"
   },
   "outputs": [],
   "execution_count": 38
  },
  {
   "cell_type": "code",
   "source": "results = pd.DataFrame({'Model': [], 'Accuracy': [], 'Bal Acc.': [], 'Time': []})\nfor model_name, model in all_pipelines.items():\n    start_time = time.time()\n\n    model.fit(x_train, y_train)\n\n    pred = model.predict(x_val)\n\n    total_time = time.time() - start_time\n\n    results = results.append({\"Model\":    model_name,\n                              \"Accuracy\": metrics.accuracy_score(y_val, pred)*100,\n                              \"Bal Acc.\": metrics.balanced_accuracy_score(y_val, pred)*100,\n                              \"Time\":     total_time},\n                              ignore_index=True)\n\n\n\n\nresults_ord = results.sort_values(by=['Accuracy'], ascending=False, ignore_index=True)\nresults_ord.index += 1 \nresults_ord.style.bar(subset=['Accuracy', 'Bal Acc.'], vmin=0, vmax=100, color='#5fba7d')",
   "metadata": {
    "tags": [],
    "cell_id": "00041-fb118212-38aa-479a-bb93-57825ce73d35",
    "deepnote_to_be_reexecuted": false,
    "source_hash": "c529f8a5",
    "execution_start": 1620392149784,
    "execution_millis": 3778,
    "deepnote_cell_type": "code"
   },
   "outputs": [
    {
     "name": "stderr",
     "text": "11:\tlearn: 0.6288763\ttotal: 53.5ms\tremaining: 4.4s\n12:\tlearn: 0.6253751\ttotal: 54ms\tremaining: 4.1s\n13:\tlearn: 0.6214764\ttotal: 54.4ms\tremaining: 3.83s\n14:\tlearn: 0.6158260\ttotal: 54.9ms\tremaining: 3.61s\n15:\tlearn: 0.6130172\ttotal: 55.4ms\tremaining: 3.4s\n16:\tlearn: 0.6073383\ttotal: 55.9ms\tremaining: 3.23s\n17:\tlearn: 0.6053292\ttotal: 56.3ms\tremaining: 3.07s\n18:\tlearn: 0.6006754\ttotal: 56.8ms\tremaining: 2.93s\n19:\tlearn: 0.5959692\ttotal: 57.3ms\tremaining: 2.81s\n20:\tlearn: 0.5932242\ttotal: 57.7ms\tremaining: 2.69s\n21:\tlearn: 0.5890135\ttotal: 58.2ms\tremaining: 2.59s\n22:\tlearn: 0.5850533\ttotal: 58.8ms\tremaining: 2.5s\n23:\tlearn: 0.5799886\ttotal: 59.3ms\tremaining: 2.41s\n24:\tlearn: 0.5750900\ttotal: 59.8ms\tremaining: 2.33s\n25:\tlearn: 0.5708988\ttotal: 60.3ms\tremaining: 2.26s\n26:\tlearn: 0.5663553\ttotal: 60.9ms\tremaining: 2.19s\n27:\tlearn: 0.5616776\ttotal: 61.4ms\tremaining: 2.13s\n28:\tlearn: 0.5579019\ttotal: 61.9ms\tremaining: 2.07s\n29:\tlearn: 0.5536905\ttotal: 62.4ms\tremaining: 2.02s\n30:\tlearn: 0.5509456\ttotal: 62.9ms\tremaining: 1.97s\n31:\tlearn: 0.5493986\ttotal: 63.2ms\tremaining: 1.91s\n32:\tlearn: 0.5462743\ttotal: 63.7ms\tremaining: 1.87s\n33:\tlearn: 0.5418823\ttotal: 64.2ms\tremaining: 1.82s\n34:\tlearn: 0.5375605\ttotal: 64.7ms\tremaining: 1.78s\n35:\tlearn: 0.5344349\ttotal: 65.2ms\tremaining: 1.75s\n36:\tlearn: 0.5309965\ttotal: 65.8ms\tremaining: 1.71s\n37:\tlearn: 0.5282086\ttotal: 66.3ms\tremaining: 1.68s\n38:\tlearn: 0.5245091\ttotal: 66.8ms\tremaining: 1.65s\n39:\tlearn: 0.5207372\ttotal: 67.3ms\tremaining: 1.62s\n40:\tlearn: 0.5177430\ttotal: 67.9ms\tremaining: 1.59s\n41:\tlearn: 0.5143208\ttotal: 68.4ms\tremaining: 1.56s\n42:\tlearn: 0.5107452\ttotal: 68.9ms\tremaining: 1.53s\n43:\tlearn: 0.5077052\ttotal: 69.4ms\tremaining: 1.51s\n44:\tlearn: 0.5064899\ttotal: 69.8ms\tremaining: 1.48s\n45:\tlearn: 0.5031590\ttotal: 70.3ms\tremaining: 1.46s\n46:\tlearn: 0.4997844\ttotal: 70.8ms\tremaining: 1.44s\n47:\tlearn: 0.4975810\ttotal: 71.3ms\tremaining: 1.41s\n48:\tlearn: 0.4946587\ttotal: 71.8ms\tremaining: 1.39s\n49:\tlearn: 0.4911752\ttotal: 72.3ms\tremaining: 1.37s\n50:\tlearn: 0.4879195\ttotal: 72.8ms\tremaining: 1.35s\n51:\tlearn: 0.4855980\ttotal: 73.3ms\tremaining: 1.34s\n52:\tlearn: 0.4823938\ttotal: 73.9ms\tremaining: 1.32s\n53:\tlearn: 0.4788909\ttotal: 74.4ms\tremaining: 1.3s\n54:\tlearn: 0.4760533\ttotal: 74.9ms\tremaining: 1.29s\n55:\tlearn: 0.4730439\ttotal: 75.5ms\tremaining: 1.27s\n56:\tlearn: 0.4703864\ttotal: 76ms\tremaining: 1.26s\n57:\tlearn: 0.4674390\ttotal: 76.5ms\tremaining: 1.24s\n58:\tlearn: 0.4649204\ttotal: 77.1ms\tremaining: 1.23s\n59:\tlearn: 0.4631182\ttotal: 77.5ms\tremaining: 1.21s\n60:\tlearn: 0.4599288\ttotal: 78ms\tremaining: 1.2s\n61:\tlearn: 0.4570470\ttotal: 78.6ms\tremaining: 1.19s\n62:\tlearn: 0.4544894\ttotal: 79.1ms\tremaining: 1.18s\n63:\tlearn: 0.4518982\ttotal: 79.6ms\tremaining: 1.16s\n64:\tlearn: 0.4492335\ttotal: 80.1ms\tremaining: 1.15s\n65:\tlearn: 0.4476899\ttotal: 80.6ms\tremaining: 1.14s\n66:\tlearn: 0.4456809\ttotal: 81ms\tremaining: 1.13s\n67:\tlearn: 0.4430336\ttotal: 81.5ms\tremaining: 1.12s\n68:\tlearn: 0.4414879\ttotal: 81.9ms\tremaining: 1.1s\n69:\tlearn: 0.4398667\ttotal: 82.4ms\tremaining: 1.09s\n70:\tlearn: 0.4375979\ttotal: 83.2ms\tremaining: 1.09s\n71:\tlearn: 0.4349599\ttotal: 83.7ms\tremaining: 1.08s\n72:\tlearn: 0.4323569\ttotal: 84.3ms\tremaining: 1.07s\n73:\tlearn: 0.4306746\ttotal: 84.8ms\tremaining: 1.06s\n74:\tlearn: 0.4282021\ttotal: 85.3ms\tremaining: 1.05s\n75:\tlearn: 0.4257922\ttotal: 85.9ms\tremaining: 1.04s\n76:\tlearn: 0.4237909\ttotal: 86.4ms\tremaining: 1.03s\n77:\tlearn: 0.4228102\ttotal: 86.8ms\tremaining: 1.03s\n78:\tlearn: 0.4209946\ttotal: 87.3ms\tremaining: 1.02s\n79:\tlearn: 0.4190654\ttotal: 87.8ms\tremaining: 1.01s\n80:\tlearn: 0.4167679\ttotal: 88.3ms\tremaining: 1s\n81:\tlearn: 0.4154834\ttotal: 88.9ms\tremaining: 995ms\n82:\tlearn: 0.4136947\ttotal: 89.4ms\tremaining: 988ms\n83:\tlearn: 0.4112156\ttotal: 89.9ms\tremaining: 981ms\n84:\tlearn: 0.4093159\ttotal: 90.5ms\tremaining: 974ms\n85:\tlearn: 0.4073491\ttotal: 91ms\tremaining: 967ms\n86:\tlearn: 0.4051278\ttotal: 91.5ms\tremaining: 960ms\n87:\tlearn: 0.4037959\ttotal: 92ms\tremaining: 954ms\n88:\tlearn: 0.4022531\ttotal: 92.5ms\tremaining: 947ms\n89:\tlearn: 0.4002934\ttotal: 93ms\tremaining: 941ms\n90:\tlearn: 0.3981753\ttotal: 93.6ms\tremaining: 935ms\n91:\tlearn: 0.3964964\ttotal: 94.1ms\tremaining: 929ms\n92:\tlearn: 0.3947466\ttotal: 94.6ms\tremaining: 923ms\n93:\tlearn: 0.3938108\ttotal: 95ms\tremaining: 916ms\n94:\tlearn: 0.3917989\ttotal: 95.6ms\tremaining: 910ms\n95:\tlearn: 0.3900520\ttotal: 96.1ms\tremaining: 905ms\n96:\tlearn: 0.3884329\ttotal: 96.6ms\tremaining: 899ms\n97:\tlearn: 0.3867125\ttotal: 97.1ms\tremaining: 894ms\n98:\tlearn: 0.3856782\ttotal: 97.6ms\tremaining: 888ms\n99:\tlearn: 0.3841395\ttotal: 98.1ms\tremaining: 883ms\n100:\tlearn: 0.3827294\ttotal: 98.5ms\tremaining: 877ms\n101:\tlearn: 0.3807388\ttotal: 99ms\tremaining: 872ms\n102:\tlearn: 0.3797891\ttotal: 99.5ms\tremaining: 866ms\n103:\tlearn: 0.3783520\ttotal: 100ms\tremaining: 861ms\n104:\tlearn: 0.3768555\ttotal: 101ms\tremaining: 857ms\n105:\tlearn: 0.3759713\ttotal: 101ms\tremaining: 851ms\n106:\tlearn: 0.3748553\ttotal: 101ms\tremaining: 847ms\n107:\tlearn: 0.3741793\ttotal: 102ms\tremaining: 842ms\n108:\tlearn: 0.3730862\ttotal: 102ms\tremaining: 837ms\n109:\tlearn: 0.3716965\ttotal: 103ms\tremaining: 833ms\n110:\tlearn: 0.3705662\ttotal: 104ms\tremaining: 829ms\n111:\tlearn: 0.3694050\ttotal: 104ms\tremaining: 825ms\n112:\tlearn: 0.3677660\ttotal: 105ms\tremaining: 821ms\n113:\tlearn: 0.3663385\ttotal: 105ms\tremaining: 817ms\n114:\tlearn: 0.3648095\ttotal: 106ms\tremaining: 813ms\n115:\tlearn: 0.3636325\ttotal: 106ms\tremaining: 810ms\n116:\tlearn: 0.3628997\ttotal: 107ms\tremaining: 805ms\n117:\tlearn: 0.3612822\ttotal: 107ms\tremaining: 801ms\n118:\tlearn: 0.3599360\ttotal: 108ms\tremaining: 798ms\n119:\tlearn: 0.3587072\ttotal: 108ms\tremaining: 794ms\n120:\tlearn: 0.3574011\ttotal: 109ms\tremaining: 791ms\n121:\tlearn: 0.3558607\ttotal: 109ms\tremaining: 787ms\n122:\tlearn: 0.3542750\ttotal: 110ms\tremaining: 784ms\n123:\tlearn: 0.3532354\ttotal: 110ms\tremaining: 780ms\n124:\tlearn: 0.3522393\ttotal: 111ms\tremaining: 777ms\n125:\tlearn: 0.3511471\ttotal: 111ms\tremaining: 773ms\n126:\tlearn: 0.3506310\ttotal: 112ms\tremaining: 769ms\n127:\tlearn: 0.3492199\ttotal: 112ms\tremaining: 766ms\n128:\tlearn: 0.3479031\ttotal: 113ms\tremaining: 763ms\n129:\tlearn: 0.3465297\ttotal: 113ms\tremaining: 759ms\n130:\tlearn: 0.3455045\ttotal: 114ms\tremaining: 756ms\n131:\tlearn: 0.3443175\ttotal: 114ms\tremaining: 753ms\n132:\tlearn: 0.3431265\ttotal: 115ms\tremaining: 750ms\n133:\tlearn: 0.3422790\ttotal: 115ms\tremaining: 746ms\n134:\tlearn: 0.3418210\ttotal: 116ms\tremaining: 742ms\n135:\tlearn: 0.3404116\ttotal: 116ms\tremaining: 739ms\n136:\tlearn: 0.3394196\ttotal: 117ms\tremaining: 736ms\n137:\tlearn: 0.3386171\ttotal: 117ms\tremaining: 734ms\n138:\tlearn: 0.3372437\ttotal: 118ms\tremaining: 731ms\n139:\tlearn: 0.3360233\ttotal: 119ms\tremaining: 728ms\n140:\tlearn: 0.3351773\ttotal: 119ms\tremaining: 725ms\n141:\tlearn: 0.3341457\ttotal: 120ms\tremaining: 722ms\n142:\tlearn: 0.3333715\ttotal: 120ms\tremaining: 719ms\n143:\tlearn: 0.3323423\ttotal: 121ms\tremaining: 717ms\n144:\tlearn: 0.3315333\ttotal: 121ms\tremaining: 714ms\n145:\tlearn: 0.3303460\ttotal: 122ms\tremaining: 711ms\n146:\tlearn: 0.3291297\ttotal: 122ms\tremaining: 709ms\n147:\tlearn: 0.3283884\ttotal: 123ms\tremaining: 706ms\n148:\tlearn: 0.3273417\ttotal: 123ms\tremaining: 703ms\n149:\tlearn: 0.3264108\ttotal: 124ms\tremaining: 701ms\n150:\tlearn: 0.3254248\ttotal: 124ms\tremaining: 698ms\n151:\tlearn: 0.3243353\ttotal: 125ms\tremaining: 696ms\n152:\tlearn: 0.3233710\ttotal: 125ms\tremaining: 693ms\n153:\tlearn: 0.3226428\ttotal: 126ms\tremaining: 691ms\n154:\tlearn: 0.3223979\ttotal: 126ms\tremaining: 688ms\n155:\tlearn: 0.3213360\ttotal: 127ms\tremaining: 685ms\n156:\tlearn: 0.3204828\ttotal: 127ms\tremaining: 683ms\n157:\tlearn: 0.3195185\ttotal: 128ms\tremaining: 680ms\n158:\tlearn: 0.3184765\ttotal: 128ms\tremaining: 678ms\n159:\tlearn: 0.3176451\ttotal: 129ms\tremaining: 676ms\n160:\tlearn: 0.3166785\ttotal: 129ms\tremaining: 674ms\n161:\tlearn: 0.3155774\ttotal: 130ms\tremaining: 671ms\n162:\tlearn: 0.3149786\ttotal: 130ms\tremaining: 669ms\n163:\tlearn: 0.3140570\ttotal: 131ms\tremaining: 667ms\n164:\tlearn: 0.3130755\ttotal: 131ms\tremaining: 665ms\n165:\tlearn: 0.3121034\ttotal: 132ms\tremaining: 662ms\n166:\tlearn: 0.3112245\ttotal: 132ms\tremaining: 660ms\n167:\tlearn: 0.3109056\ttotal: 133ms\tremaining: 658ms\n168:\tlearn: 0.3099745\ttotal: 133ms\tremaining: 656ms\n169:\tlearn: 0.3089898\ttotal: 134ms\tremaining: 654ms\n170:\tlearn: 0.3085441\ttotal: 134ms\tremaining: 652ms\n171:\tlearn: 0.3077816\ttotal: 135ms\tremaining: 650ms\n172:\tlearn: 0.3069522\ttotal: 135ms\tremaining: 648ms\n173:\tlearn: 0.3063597\ttotal: 136ms\tremaining: 646ms\n174:\tlearn: 0.3055249\ttotal: 137ms\tremaining: 644ms\n175:\tlearn: 0.3048309\ttotal: 137ms\tremaining: 642ms\n176:\tlearn: 0.3038939\ttotal: 138ms\tremaining: 640ms\n177:\tlearn: 0.3032725\ttotal: 138ms\tremaining: 638ms\n178:\tlearn: 0.3026692\ttotal: 139ms\tremaining: 637ms\n179:\tlearn: 0.3018637\ttotal: 139ms\tremaining: 635ms\n180:\tlearn: 0.3010136\ttotal: 140ms\tremaining: 633ms\n181:\tlearn: 0.3001855\ttotal: 140ms\tremaining: 631ms\n182:\tlearn: 0.2993601\ttotal: 141ms\tremaining: 629ms\n183:\tlearn: 0.2985452\ttotal: 142ms\tremaining: 628ms\n184:\tlearn: 0.2980718\ttotal: 142ms\tremaining: 625ms\n185:\tlearn: 0.2972868\ttotal: 143ms\tremaining: 624ms\n186:\tlearn: 0.2967657\ttotal: 143ms\tremaining: 622ms\n187:\tlearn: 0.2958375\ttotal: 144ms\tremaining: 620ms\n188:\tlearn: 0.2952311\ttotal: 144ms\tremaining: 618ms\n189:\tlearn: 0.2945043\ttotal: 145ms\tremaining: 616ms\n190:\tlearn: 0.2937677\ttotal: 145ms\tremaining: 615ms\n191:\tlearn: 0.2930691\ttotal: 146ms\tremaining: 613ms\n192:\tlearn: 0.2925143\ttotal: 146ms\tremaining: 611ms\n193:\tlearn: 0.2917457\ttotal: 147ms\tremaining: 610ms\n194:\tlearn: 0.2912474\ttotal: 147ms\tremaining: 608ms\n195:\tlearn: 0.2910281\ttotal: 148ms\tremaining: 606ms\n196:\tlearn: 0.2903046\ttotal: 148ms\tremaining: 604ms\n197:\tlearn: 0.2896163\ttotal: 149ms\tremaining: 602ms\n198:\tlearn: 0.2889766\ttotal: 149ms\tremaining: 601ms\n199:\tlearn: 0.2883161\ttotal: 150ms\tremaining: 599ms\n200:\tlearn: 0.2877469\ttotal: 150ms\tremaining: 597ms\n201:\tlearn: 0.2872644\ttotal: 151ms\tremaining: 596ms\n202:\tlearn: 0.2866886\ttotal: 151ms\tremaining: 594ms\n203:\tlearn: 0.2860038\ttotal: 152ms\tremaining: 592ms\n204:\tlearn: 0.2855823\ttotal: 152ms\tremaining: 591ms\n205:\tlearn: 0.2849448\ttotal: 153ms\tremaining: 589ms\n206:\tlearn: 0.2843500\ttotal: 153ms\tremaining: 588ms\n207:\tlearn: 0.2837231\ttotal: 154ms\tremaining: 586ms\n208:\tlearn: 0.2833433\ttotal: 154ms\tremaining: 584ms\n209:\tlearn: 0.2827188\ttotal: 155ms\tremaining: 583ms\n210:\tlearn: 0.2819964\ttotal: 155ms\tremaining: 581ms\n211:\tlearn: 0.2814068\ttotal: 156ms\tremaining: 580ms\n212:\tlearn: 0.2808143\ttotal: 156ms\tremaining: 578ms\n213:\tlearn: 0.2802387\ttotal: 157ms\tremaining: 577ms\n214:\tlearn: 0.2795662\ttotal: 157ms\tremaining: 575ms\n215:\tlearn: 0.2789086\ttotal: 158ms\tremaining: 573ms\n216:\tlearn: 0.2782791\ttotal: 159ms\tremaining: 572ms\n217:\tlearn: 0.2776267\ttotal: 159ms\tremaining: 570ms\n218:\tlearn: 0.2771656\ttotal: 160ms\tremaining: 569ms\n219:\tlearn: 0.2765918\ttotal: 160ms\tremaining: 567ms\n220:\tlearn: 0.2760090\ttotal: 161ms\tremaining: 566ms\n221:\tlearn: 0.2754898\ttotal: 161ms\tremaining: 564ms\n222:\tlearn: 0.2752688\ttotal: 162ms\tremaining: 563ms\n223:\tlearn: 0.2747758\ttotal: 162ms\tremaining: 561ms\n224:\tlearn: 0.2741734\ttotal: 163ms\tremaining: 560ms\n225:\tlearn: 0.2740148\ttotal: 163ms\tremaining: 558ms\n226:\tlearn: 0.2736933\ttotal: 163ms\tremaining: 557ms\n227:\tlearn: 0.2732535\ttotal: 164ms\tremaining: 555ms\n228:\tlearn: 0.2727539\ttotal: 165ms\tremaining: 554ms\n229:\tlearn: 0.2725049\ttotal: 165ms\tremaining: 553ms\n230:\tlearn: 0.2720525\ttotal: 166ms\tremaining: 551ms\n231:\tlearn: 0.2719914\ttotal: 166ms\tremaining: 549ms\n232:\tlearn: 0.2714829\ttotal: 167ms\tremaining: 548ms\n233:\tlearn: 0.2710015\ttotal: 167ms\tremaining: 547ms\n234:\tlearn: 0.2704784\ttotal: 168ms\tremaining: 545ms\n235:\tlearn: 0.2699168\ttotal: 168ms\tremaining: 544ms\n236:\tlearn: 0.2695309\ttotal: 169ms\tremaining: 543ms\n237:\tlearn: 0.2689779\ttotal: 169ms\tremaining: 541ms\n238:\tlearn: 0.2685351\ttotal: 170ms\tremaining: 540ms\n239:\tlearn: 0.2683595\ttotal: 170ms\tremaining: 539ms\n240:\tlearn: 0.2679115\ttotal: 171ms\tremaining: 538ms\n241:\tlearn: 0.2674728\ttotal: 171ms\tremaining: 537ms\n242:\tlearn: 0.2669943\ttotal: 172ms\tremaining: 535ms\n243:\tlearn: 0.2663936\ttotal: 172ms\tremaining: 534ms\n244:\tlearn: 0.2662341\ttotal: 173ms\tremaining: 533ms\n245:\tlearn: 0.2658932\ttotal: 173ms\tremaining: 531ms\n246:\tlearn: 0.2654528\ttotal: 174ms\tremaining: 530ms\n247:\tlearn: 0.2649189\ttotal: 174ms\tremaining: 529ms\n248:\tlearn: 0.2644400\ttotal: 175ms\tremaining: 527ms\n249:\tlearn: 0.2640849\ttotal: 175ms\tremaining: 526ms\n250:\tlearn: 0.2637959\ttotal: 177ms\tremaining: 527ms\n251:\tlearn: 0.2633878\ttotal: 177ms\tremaining: 526ms\n252:\tlearn: 0.2628970\ttotal: 178ms\tremaining: 524ms\n253:\tlearn: 0.2625742\ttotal: 178ms\tremaining: 523ms\n254:\tlearn: 0.2624108\ttotal: 178ms\tremaining: 521ms\n255:\tlearn: 0.2623111\ttotal: 179ms\tremaining: 521ms\n256:\tlearn: 0.2619885\ttotal: 180ms\tremaining: 520ms\n257:\tlearn: 0.2615433\ttotal: 180ms\tremaining: 518ms\n258:\tlearn: 0.2611525\ttotal: 181ms\tremaining: 517ms\n259:\tlearn: 0.2609518\ttotal: 181ms\tremaining: 516ms\n260:\tlearn: 0.2605131\ttotal: 182ms\tremaining: 515ms\n261:\tlearn: 0.2603597\ttotal: 182ms\tremaining: 513ms\n262:\tlearn: 0.2598616\ttotal: 183ms\tremaining: 512ms\n263:\tlearn: 0.2593968\ttotal: 183ms\tremaining: 511ms\n264:\tlearn: 0.2590570\ttotal: 184ms\tremaining: 510ms\n265:\tlearn: 0.2587435\ttotal: 184ms\tremaining: 508ms\n266:\tlearn: 0.2583165\ttotal: 185ms\tremaining: 507ms\n267:\tlearn: 0.2580865\ttotal: 185ms\tremaining: 506ms\n268:\tlearn: 0.2575587\ttotal: 186ms\tremaining: 504ms\n269:\tlearn: 0.2572309\ttotal: 186ms\tremaining: 503ms\n270:\tlearn: 0.2568681\ttotal: 186ms\tremaining: 501ms\n271:\tlearn: 0.2564079\ttotal: 187ms\tremaining: 499ms\n272:\tlearn: 0.2560161\ttotal: 187ms\tremaining: 498ms\n273:\tlearn: 0.2556584\ttotal: 188ms\tremaining: 497ms\n274:\tlearn: 0.2552409\ttotal: 188ms\tremaining: 496ms\n275:\tlearn: 0.2549925\ttotal: 189ms\tremaining: 495ms\n276:\tlearn: 0.2545788\ttotal: 189ms\tremaining: 494ms\n277:\tlearn: 0.2541402\ttotal: 190ms\tremaining: 493ms\n278:\tlearn: 0.2536721\ttotal: 190ms\tremaining: 492ms\n279:\tlearn: 0.2536283\ttotal: 191ms\tremaining: 490ms\n280:\tlearn: 0.2531939\ttotal: 191ms\tremaining: 489ms\n281:\tlearn: 0.2529096\ttotal: 192ms\tremaining: 488ms\n282:\tlearn: 0.2525525\ttotal: 192ms\tremaining: 487ms\n283:\tlearn: 0.2522199\ttotal: 193ms\tremaining: 486ms\n284:\tlearn: 0.2517865\ttotal: 193ms\tremaining: 485ms\n285:\tlearn: 0.2515000\ttotal: 194ms\tremaining: 484ms\n286:\tlearn: 0.2512063\ttotal: 194ms\tremaining: 483ms\n287:\tlearn: 0.2508535\ttotal: 195ms\tremaining: 482ms\n288:\tlearn: 0.2504112\ttotal: 195ms\tremaining: 481ms\n289:\tlearn: 0.2502319\ttotal: 196ms\tremaining: 479ms\n290:\tlearn: 0.2499494\ttotal: 196ms\tremaining: 478ms\n291:\tlearn: 0.2496270\ttotal: 197ms\tremaining: 477ms\n292:\tlearn: 0.2492562\ttotal: 197ms\tremaining: 476ms\n293:\tlearn: 0.2490067\ttotal: 198ms\tremaining: 475ms\n294:\tlearn: 0.2486461\ttotal: 198ms\tremaining: 474ms\n295:\tlearn: 0.2486107\ttotal: 199ms\tremaining: 473ms\n296:\tlearn: 0.2482940\ttotal: 199ms\tremaining: 472ms\n297:\tlearn: 0.2479178\ttotal: 200ms\tremaining: 471ms\n298:\tlearn: 0.2476727\ttotal: 200ms\tremaining: 470ms\n299:\tlearn: 0.2472829\ttotal: 201ms\tremaining: 469ms\n300:\tlearn: 0.2468955\ttotal: 201ms\tremaining: 468ms\n301:\tlearn: 0.2466896\ttotal: 202ms\tremaining: 467ms\n302:\tlearn: 0.2464593\ttotal: 203ms\tremaining: 466ms\n303:\tlearn: 0.2460775\ttotal: 203ms\tremaining: 465ms\n304:\tlearn: 0.2457095\ttotal: 204ms\tremaining: 464ms\n305:\tlearn: 0.2453870\ttotal: 204ms\tremaining: 463ms\n306:\tlearn: 0.2452167\ttotal: 204ms\tremaining: 462ms\n307:\tlearn: 0.2448870\ttotal: 205ms\tremaining: 461ms\n308:\tlearn: 0.2445283\ttotal: 206ms\tremaining: 460ms\n309:\tlearn: 0.2441457\ttotal: 206ms\tremaining: 459ms\n310:\tlearn: 0.2440632\ttotal: 207ms\tremaining: 458ms\n311:\tlearn: 0.2436629\ttotal: 207ms\tremaining: 457ms\n312:\tlearn: 0.2432364\ttotal: 208ms\tremaining: 456ms\n313:\tlearn: 0.2428372\ttotal: 208ms\tremaining: 455ms\n314:\tlearn: 0.2424830\ttotal: 209ms\tremaining: 454ms\n315:\tlearn: 0.2421104\ttotal: 209ms\tremaining: 453ms\n316:\tlearn: 0.2418339\ttotal: 210ms\tremaining: 452ms\n317:\tlearn: 0.2415535\ttotal: 210ms\tremaining: 451ms\n318:\tlearn: 0.2414738\ttotal: 211ms\tremaining: 450ms\n319:\tlearn: 0.2411081\ttotal: 211ms\tremaining: 449ms\n320:\tlearn: 0.2408527\ttotal: 212ms\tremaining: 448ms\n321:\tlearn: 0.2406352\ttotal: 212ms\tremaining: 447ms\n322:\tlearn: 0.2402796\ttotal: 213ms\tremaining: 446ms\n323:\tlearn: 0.2402501\ttotal: 213ms\tremaining: 445ms\n324:\tlearn: 0.2399855\ttotal: 214ms\tremaining: 444ms\n325:\tlearn: 0.2397173\ttotal: 214ms\tremaining: 443ms\n326:\tlearn: 0.2396488\ttotal: 215ms\tremaining: 442ms\n327:\tlearn: 0.2392786\ttotal: 215ms\tremaining: 441ms\n328:\tlearn: 0.2390945\ttotal: 216ms\tremaining: 440ms\n329:\tlearn: 0.2388725\ttotal: 216ms\tremaining: 439ms\n330:\tlearn: 0.2387604\ttotal: 217ms\tremaining: 438ms\n331:\tlearn: 0.2383933\ttotal: 217ms\tremaining: 437ms\n332:\tlearn: 0.2381868\ttotal: 218ms\tremaining: 436ms\n333:\tlearn: 0.2378194\ttotal: 218ms\tremaining: 435ms\n334:\tlearn: 0.2374697\ttotal: 219ms\tremaining: 434ms\n335:\tlearn: 0.2371173\ttotal: 219ms\tremaining: 433ms\n336:\tlearn: 0.2368017\ttotal: 220ms\tremaining: 433ms\n337:\tlearn: 0.2365569\ttotal: 220ms\tremaining: 432ms\n338:\tlearn: 0.2362889\ttotal: 221ms\tremaining: 431ms\n339:\tlearn: 0.2359188\ttotal: 221ms\tremaining: 430ms\n340:\tlearn: 0.2355670\ttotal: 222ms\tremaining: 429ms\n341:\tlearn: 0.2353483\ttotal: 223ms\tremaining: 428ms\n342:\tlearn: 0.2351473\ttotal: 223ms\tremaining: 428ms\n343:\tlearn: 0.2348759\ttotal: 224ms\tremaining: 427ms\n344:\tlearn: 0.2345651\ttotal: 225ms\tremaining: 426ms\n345:\tlearn: 0.2343368\ttotal: 225ms\tremaining: 425ms\n346:\tlearn: 0.2340249\ttotal: 225ms\tremaining: 424ms\n347:\tlearn: 0.2336811\ttotal: 226ms\tremaining: 423ms\n348:\tlearn: 0.2334450\ttotal: 227ms\tremaining: 423ms\n349:\tlearn: 0.2333338\ttotal: 227ms\tremaining: 421ms\n350:\tlearn: 0.2331498\ttotal: 227ms\tremaining: 420ms\n351:\tlearn: 0.2329586\ttotal: 228ms\tremaining: 420ms\n352:\tlearn: 0.2326960\ttotal: 228ms\tremaining: 419ms\n353:\tlearn: 0.2324592\ttotal: 229ms\tremaining: 418ms\n354:\tlearn: 0.2322253\ttotal: 230ms\tremaining: 418ms\n355:\tlearn: 0.2319913\ttotal: 231ms\tremaining: 417ms\n356:\tlearn: 0.2317254\ttotal: 231ms\tremaining: 416ms\n357:\tlearn: 0.2314784\ttotal: 232ms\tremaining: 415ms\n358:\tlearn: 0.2311994\ttotal: 232ms\tremaining: 414ms\n359:\tlearn: 0.2310152\ttotal: 233ms\tremaining: 414ms\n360:\tlearn: 0.2308054\ttotal: 234ms\tremaining: 413ms\n361:\tlearn: 0.2305890\ttotal: 234ms\tremaining: 413ms\n362:\tlearn: 0.2303281\ttotal: 235ms\tremaining: 412ms\n363:\tlearn: 0.2301483\ttotal: 235ms\tremaining: 411ms\n364:\tlearn: 0.2301194\ttotal: 236ms\tremaining: 410ms\n365:\tlearn: 0.2299619\ttotal: 236ms\tremaining: 409ms\n366:\tlearn: 0.2297448\ttotal: 237ms\tremaining: 409ms\n367:\tlearn: 0.2294667\ttotal: 237ms\tremaining: 408ms\n368:\tlearn: 0.2292076\ttotal: 238ms\tremaining: 407ms\n369:\tlearn: 0.2289188\ttotal: 239ms\tremaining: 406ms\n370:\tlearn: 0.2287736\ttotal: 239ms\tremaining: 405ms\n371:\tlearn: 0.2284900\ttotal: 240ms\tremaining: 405ms\n372:\tlearn: 0.2282098\ttotal: 240ms\tremaining: 404ms\n373:\tlearn: 0.2279960\ttotal: 241ms\tremaining: 403ms\n374:\tlearn: 0.2277374\ttotal: 242ms\tremaining: 403ms\n375:\tlearn: 0.2273816\ttotal: 242ms\tremaining: 402ms\n376:\tlearn: 0.2271813\ttotal: 243ms\tremaining: 401ms\n377:\tlearn: 0.2269027\ttotal: 243ms\tremaining: 400ms\n378:\tlearn: 0.2266008\ttotal: 244ms\tremaining: 400ms\n379:\tlearn: 0.2262732\ttotal: 244ms\tremaining: 399ms\n380:\tlearn: 0.2260153\ttotal: 245ms\tremaining: 398ms\n381:\tlearn: 0.2258372\ttotal: 246ms\tremaining: 397ms\n382:\tlearn: 0.2257677\ttotal: 246ms\tremaining: 396ms\n383:\tlearn: 0.2255013\ttotal: 247ms\tremaining: 396ms\n384:\tlearn: 0.2251815\ttotal: 247ms\tremaining: 395ms\n385:\tlearn: 0.2249991\ttotal: 248ms\tremaining: 394ms\n386:\tlearn: 0.2247926\ttotal: 248ms\tremaining: 393ms\n387:\tlearn: 0.2246230\ttotal: 249ms\tremaining: 393ms\n388:\tlearn: 0.2243637\ttotal: 249ms\tremaining: 392ms\n389:\tlearn: 0.2241438\ttotal: 250ms\tremaining: 391ms\n390:\tlearn: 0.2239741\ttotal: 251ms\tremaining: 390ms\n391:\tlearn: 0.2237921\ttotal: 251ms\tremaining: 390ms\n392:\tlearn: 0.2235602\ttotal: 252ms\tremaining: 389ms\n393:\tlearn: 0.2232739\ttotal: 252ms\tremaining: 388ms\n394:\tlearn: 0.2229689\ttotal: 253ms\tremaining: 388ms\n395:\tlearn: 0.2228365\ttotal: 254ms\tremaining: 387ms\n396:\tlearn: 0.2225275\ttotal: 254ms\tremaining: 386ms\n397:\tlearn: 0.2223040\ttotal: 255ms\tremaining: 385ms\n398:\tlearn: 0.2220134\ttotal: 255ms\tremaining: 385ms\n399:\tlearn: 0.2219418\ttotal: 256ms\tremaining: 384ms\n400:\tlearn: 0.2216492\ttotal: 256ms\tremaining: 383ms\n401:\tlearn: 0.2214136\ttotal: 257ms\tremaining: 383ms\n402:\tlearn: 0.2211900\ttotal: 258ms\tremaining: 382ms\n403:\tlearn: 0.2209608\ttotal: 258ms\tremaining: 381ms\n404:\tlearn: 0.2209269\ttotal: 259ms\tremaining: 380ms\n405:\tlearn: 0.2207670\ttotal: 259ms\tremaining: 379ms\n406:\tlearn: 0.2205867\ttotal: 260ms\tremaining: 379ms\n407:\tlearn: 0.2205681\ttotal: 260ms\tremaining: 378ms\n408:\tlearn: 0.2203384\ttotal: 261ms\tremaining: 377ms\n409:\tlearn: 0.2200625\ttotal: 261ms\tremaining: 376ms\n410:\tlearn: 0.2197748\ttotal: 262ms\tremaining: 375ms\n411:\tlearn: 0.2195666\ttotal: 262ms\tremaining: 374ms\n412:\tlearn: 0.2192891\ttotal: 263ms\tremaining: 374ms\n413:\tlearn: 0.2191473\ttotal: 264ms\tremaining: 373ms\n414:\tlearn: 0.2188370\ttotal: 264ms\tremaining: 373ms\n415:\tlearn: 0.2185885\ttotal: 265ms\tremaining: 372ms\n416:\tlearn: 0.2184096\ttotal: 265ms\tremaining: 371ms\n417:\tlearn: 0.2181962\ttotal: 266ms\tremaining: 370ms\n418:\tlearn: 0.2180348\ttotal: 266ms\tremaining: 369ms\n419:\tlearn: 0.2178430\ttotal: 267ms\tremaining: 369ms\n420:\tlearn: 0.2177060\ttotal: 268ms\tremaining: 368ms\n421:\tlearn: 0.2174831\ttotal: 268ms\tremaining: 367ms\n422:\tlearn: 0.2172611\ttotal: 269ms\tremaining: 366ms\n423:\tlearn: 0.2170269\ttotal: 269ms\tremaining: 366ms\n424:\tlearn: 0.2168174\ttotal: 270ms\tremaining: 365ms\n425:\tlearn: 0.2165662\ttotal: 270ms\tremaining: 364ms\n426:\tlearn: 0.2162771\ttotal: 271ms\tremaining: 363ms\n427:\tlearn: 0.2162322\ttotal: 271ms\tremaining: 362ms\n428:\tlearn: 0.2161802\ttotal: 272ms\tremaining: 362ms\n429:\tlearn: 0.2160398\ttotal: 272ms\tremaining: 361ms\n430:\tlearn: 0.2158012\ttotal: 273ms\tremaining: 360ms\n431:\tlearn: 0.2156035\ttotal: 273ms\tremaining: 359ms\n432:\tlearn: 0.2154587\ttotal: 274ms\tremaining: 359ms\n433:\tlearn: 0.2152620\ttotal: 274ms\tremaining: 358ms\n434:\tlearn: 0.2150826\ttotal: 275ms\tremaining: 357ms\n435:\tlearn: 0.2149297\ttotal: 275ms\tremaining: 356ms\n436:\tlearn: 0.2146919\ttotal: 276ms\tremaining: 355ms\n437:\tlearn: 0.2146096\ttotal: 276ms\tremaining: 355ms\n438:\tlearn: 0.2145890\ttotal: 277ms\tremaining: 354ms\n439:\tlearn: 0.2143380\ttotal: 277ms\tremaining: 353ms\n440:\tlearn: 0.2142276\ttotal: 278ms\tremaining: 352ms\n441:\tlearn: 0.2141095\ttotal: 278ms\tremaining: 351ms\n442:\tlearn: 0.2139943\ttotal: 279ms\tremaining: 351ms\n443:\tlearn: 0.2137690\ttotal: 279ms\tremaining: 350ms\n444:\tlearn: 0.2136446\ttotal: 280ms\tremaining: 349ms\n445:\tlearn: 0.2133830\ttotal: 281ms\tremaining: 348ms\n446:\tlearn: 0.2132856\ttotal: 281ms\tremaining: 348ms\n447:\tlearn: 0.2131235\ttotal: 282ms\tremaining: 347ms\n448:\tlearn: 0.2129388\ttotal: 282ms\tremaining: 346ms\n449:\tlearn: 0.2126896\ttotal: 283ms\tremaining: 345ms\n450:\tlearn: 0.2125270\ttotal: 283ms\tremaining: 345ms\n451:\tlearn: 0.2123624\ttotal: 284ms\tremaining: 344ms\n452:\tlearn: 0.2123445\ttotal: 284ms\tremaining: 343ms\n453:\tlearn: 0.2121125\ttotal: 285ms\tremaining: 342ms\n454:\tlearn: 0.2119296\ttotal: 285ms\tremaining: 341ms\n455:\tlearn: 0.2117555\ttotal: 286ms\tremaining: 341ms\n456:\tlearn: 0.2115446\ttotal: 286ms\tremaining: 340ms\n457:\tlearn: 0.2114114\ttotal: 287ms\tremaining: 339ms\n458:\tlearn: 0.2113582\ttotal: 287ms\tremaining: 338ms\n459:\tlearn: 0.2111810\ttotal: 288ms\tremaining: 338ms\n460:\tlearn: 0.2110350\ttotal: 288ms\tremaining: 337ms\n461:\tlearn: 0.2109728\ttotal: 289ms\tremaining: 336ms\n462:\tlearn: 0.2107586\ttotal: 289ms\tremaining: 335ms\n463:\tlearn: 0.2105210\ttotal: 290ms\tremaining: 335ms\n464:\tlearn: 0.2103374\ttotal: 290ms\tremaining: 334ms\n465:\tlearn: 0.2101845\ttotal: 291ms\tremaining: 333ms\n466:\tlearn: 0.2099218\ttotal: 291ms\tremaining: 332ms\n467:\tlearn: 0.2096993\ttotal: 292ms\tremaining: 332ms\n468:\tlearn: 0.2095413\ttotal: 293ms\tremaining: 331ms\n469:\tlearn: 0.2093610\ttotal: 293ms\tremaining: 331ms\n470:\tlearn: 0.2091224\ttotal: 294ms\tremaining: 330ms\n471:\tlearn: 0.2090961\ttotal: 294ms\tremaining: 329ms\n472:\tlearn: 0.2088569\ttotal: 295ms\tremaining: 328ms\n473:\tlearn: 0.2086675\ttotal: 295ms\tremaining: 328ms\n474:\tlearn: 0.2086456\ttotal: 296ms\tremaining: 327ms\n475:\tlearn: 0.2084133\ttotal: 296ms\tremaining: 326ms\n476:\tlearn: 0.2082629\ttotal: 297ms\tremaining: 325ms\n477:\tlearn: 0.2080960\ttotal: 297ms\tremaining: 325ms\n478:\tlearn: 0.2079685\ttotal: 298ms\tremaining: 324ms\n479:\tlearn: 0.2077617\ttotal: 298ms\tremaining: 323ms\n480:\tlearn: 0.2077179\ttotal: 299ms\tremaining: 323ms\n481:\tlearn: 0.2075765\ttotal: 300ms\tremaining: 322ms\n482:\tlearn: 0.2074139\ttotal: 300ms\tremaining: 321ms\n483:\tlearn: 0.2071906\ttotal: 301ms\tremaining: 320ms\n484:\tlearn: 0.2069656\ttotal: 301ms\tremaining: 320ms\n485:\tlearn: 0.2069549\ttotal: 302ms\tremaining: 319ms\n486:\tlearn: 0.2068461\ttotal: 302ms\tremaining: 318ms\n487:\tlearn: 0.2066675\ttotal: 303ms\tremaining: 318ms\n488:\tlearn: 0.2065419\ttotal: 303ms\tremaining: 317ms\n489:\tlearn: 0.2064094\ttotal: 304ms\tremaining: 316ms\n490:\tlearn: 0.2064011\ttotal: 304ms\tremaining: 315ms\n491:\tlearn: 0.2062475\ttotal: 305ms\tremaining: 315ms\n492:\tlearn: 0.2060278\ttotal: 305ms\tremaining: 314ms\n493:\tlearn: 0.2058732\ttotal: 306ms\tremaining: 313ms\n494:\tlearn: 0.2056995\ttotal: 306ms\tremaining: 313ms\n495:\tlearn: 0.2055483\ttotal: 307ms\tremaining: 312ms\n496:\tlearn: 0.2054263\ttotal: 307ms\tremaining: 311ms\n497:\tlearn: 0.2052399\ttotal: 308ms\tremaining: 310ms\n498:\tlearn: 0.2050728\ttotal: 309ms\tremaining: 310ms\n499:\tlearn: 0.2049230\ttotal: 309ms\tremaining: 309ms\n500:\tlearn: 0.2047063\ttotal: 310ms\tremaining: 308ms\n501:\tlearn: 0.2044647\ttotal: 310ms\tremaining: 308ms\n502:\tlearn: 0.2044531\ttotal: 311ms\tremaining: 307ms\n503:\tlearn: 0.2043349\ttotal: 311ms\tremaining: 306ms\n504:\tlearn: 0.2041838\ttotal: 312ms\tremaining: 306ms\n505:\tlearn: 0.2040057\ttotal: 312ms\tremaining: 305ms\n506:\tlearn: 0.2038150\ttotal: 313ms\tremaining: 304ms\n507:\tlearn: 0.2036182\ttotal: 313ms\tremaining: 304ms\n508:\tlearn: 0.2034388\ttotal: 314ms\tremaining: 303ms\n509:\tlearn: 0.2033681\ttotal: 314ms\tremaining: 302ms\n510:\tlearn: 0.2031877\ttotal: 315ms\tremaining: 301ms\n511:\tlearn: 0.2029541\ttotal: 315ms\tremaining: 301ms\n512:\tlearn: 0.2027780\ttotal: 316ms\tremaining: 300ms\n513:\tlearn: 0.2025964\ttotal: 317ms\tremaining: 299ms\n514:\tlearn: 0.2024758\ttotal: 317ms\tremaining: 299ms\n515:\tlearn: 0.2022834\ttotal: 318ms\tremaining: 298ms\n516:\tlearn: 0.2022456\ttotal: 318ms\tremaining: 297ms\n517:\tlearn: 0.2021881\ttotal: 318ms\tremaining: 296ms\n518:\tlearn: 0.2020572\ttotal: 319ms\tremaining: 296ms\n519:\tlearn: 0.2019280\ttotal: 320ms\tremaining: 295ms\n520:\tlearn: 0.2018179\ttotal: 320ms\tremaining: 294ms\n521:\tlearn: 0.2015931\ttotal: 321ms\tremaining: 294ms\n522:\tlearn: 0.2014026\ttotal: 321ms\tremaining: 293ms\n523:\tlearn: 0.2012582\ttotal: 322ms\tremaining: 292ms\n524:\tlearn: 0.2011712\ttotal: 322ms\tremaining: 291ms\n525:\tlearn: 0.2009509\ttotal: 323ms\tremaining: 291ms\n526:\tlearn: 0.2009106\ttotal: 323ms\tremaining: 290ms\n527:\tlearn: 0.2008493\ttotal: 324ms\tremaining: 289ms\n528:\tlearn: 0.2007445\ttotal: 324ms\tremaining: 289ms\n529:\tlearn: 0.2006477\ttotal: 325ms\tremaining: 288ms\n530:\tlearn: 0.2004735\ttotal: 325ms\tremaining: 287ms\n531:\tlearn: 0.2003109\ttotal: 326ms\tremaining: 286ms\n532:\tlearn: 0.2002063\ttotal: 326ms\tremaining: 286ms\n533:\tlearn: 0.2000939\ttotal: 327ms\tremaining: 285ms\n534:\tlearn: 0.2000086\ttotal: 327ms\tremaining: 284ms\n535:\tlearn: 0.1998778\ttotal: 328ms\tremaining: 284ms\n536:\tlearn: 0.1997263\ttotal: 328ms\tremaining: 283ms\n537:\tlearn: 0.1997064\ttotal: 329ms\tremaining: 282ms\n538:\tlearn: 0.1995691\ttotal: 329ms\tremaining: 282ms\n539:\tlearn: 0.1993952\ttotal: 330ms\tremaining: 281ms\n540:\tlearn: 0.1992831\ttotal: 330ms\tremaining: 280ms\n541:\tlearn: 0.1992673\ttotal: 331ms\tremaining: 279ms\n542:\tlearn: 0.1990667\ttotal: 331ms\tremaining: 279ms\n543:\tlearn: 0.1989100\ttotal: 332ms\tremaining: 278ms\n544:\tlearn: 0.1988176\ttotal: 332ms\tremaining: 277ms\n545:\tlearn: 0.1987880\ttotal: 333ms\tremaining: 277ms\n546:\tlearn: 0.1987067\ttotal: 333ms\tremaining: 276ms\n547:\tlearn: 0.1985621\ttotal: 334ms\tremaining: 275ms\n548:\tlearn: 0.1984324\ttotal: 334ms\tremaining: 275ms\n549:\tlearn: 0.1982760\ttotal: 335ms\tremaining: 274ms\n550:\tlearn: 0.1982081\ttotal: 335ms\tremaining: 273ms\n551:\tlearn: 0.1980483\ttotal: 336ms\tremaining: 273ms\n552:\tlearn: 0.1980110\ttotal: 336ms\tremaining: 272ms\n553:\tlearn: 0.1978471\ttotal: 337ms\tremaining: 271ms\n554:\tlearn: 0.1976812\ttotal: 338ms\tremaining: 271ms\n555:\tlearn: 0.1974624\ttotal: 338ms\tremaining: 270ms\n556:\tlearn: 0.1973573\ttotal: 339ms\tremaining: 269ms\n557:\tlearn: 0.1972041\ttotal: 339ms\tremaining: 269ms\n558:\tlearn: 0.1970903\ttotal: 340ms\tremaining: 268ms\n559:\tlearn: 0.1970592\ttotal: 340ms\tremaining: 267ms\n560:\tlearn: 0.1970395\ttotal: 340ms\tremaining: 266ms\n561:\tlearn: 0.1970237\ttotal: 341ms\tremaining: 266ms\n562:\tlearn: 0.1968861\ttotal: 341ms\tremaining: 265ms\n563:\tlearn: 0.1967420\ttotal: 342ms\tremaining: 264ms\n564:\tlearn: 0.1966215\ttotal: 342ms\tremaining: 264ms\n565:\tlearn: 0.1965009\ttotal: 343ms\tremaining: 263ms\n566:\tlearn: 0.1963662\ttotal: 344ms\tremaining: 262ms\n567:\tlearn: 0.1962026\ttotal: 344ms\tremaining: 262ms\n568:\tlearn: 0.1961946\ttotal: 345ms\tremaining: 261ms\n569:\tlearn: 0.1960253\ttotal: 345ms\tremaining: 260ms\n570:\tlearn: 0.1958604\ttotal: 346ms\tremaining: 260ms\n571:\tlearn: 0.1957014\ttotal: 346ms\tremaining: 259ms\n572:\tlearn: 0.1956080\ttotal: 347ms\tremaining: 258ms\n573:\tlearn: 0.1955222\ttotal: 347ms\tremaining: 258ms\n574:\tlearn: 0.1953580\ttotal: 348ms\tremaining: 257ms\n575:\tlearn: 0.1952333\ttotal: 348ms\tremaining: 256ms\n576:\tlearn: 0.1951176\ttotal: 349ms\tremaining: 256ms\n577:\tlearn: 0.1950571\ttotal: 349ms\tremaining: 255ms\n578:\tlearn: 0.1950410\ttotal: 350ms\tremaining: 254ms\n579:\tlearn: 0.1949534\ttotal: 350ms\tremaining: 254ms\n580:\tlearn: 0.1947896\ttotal: 351ms\tremaining: 253ms\n581:\tlearn: 0.1946789\ttotal: 351ms\tremaining: 252ms\n582:\tlearn: 0.1945151\ttotal: 352ms\tremaining: 252ms\n583:\tlearn: 0.1943486\ttotal: 352ms\tremaining: 251ms\n584:\tlearn: 0.1942248\ttotal: 354ms\tremaining: 251ms\n585:\tlearn: 0.1940143\ttotal: 354ms\tremaining: 250ms\n586:\tlearn: 0.1939190\ttotal: 355ms\tremaining: 250ms\n587:\tlearn: 0.1937541\ttotal: 355ms\tremaining: 249ms\n588:\tlearn: 0.1935988\ttotal: 356ms\tremaining: 248ms\n589:\tlearn: 0.1934871\ttotal: 361ms\tremaining: 251ms\n590:\tlearn: 0.1933178\ttotal: 362ms\tremaining: 250ms\n591:\tlearn: 0.1931784\ttotal: 362ms\tremaining: 250ms\n592:\tlearn: 0.1930363\ttotal: 363ms\tremaining: 249ms\n593:\tlearn: 0.1929566\ttotal: 363ms\tremaining: 248ms\n594:\tlearn: 0.1928601\ttotal: 364ms\tremaining: 248ms\n595:\tlearn: 0.1927639\ttotal: 364ms\tremaining: 247ms\n596:\tlearn: 0.1927228\ttotal: 365ms\tremaining: 246ms\n597:\tlearn: 0.1925663\ttotal: 365ms\tremaining: 246ms\n598:\tlearn: 0.1924125\ttotal: 366ms\tremaining: 245ms\n599:\tlearn: 0.1922792\ttotal: 366ms\tremaining: 244ms\n600:\tlearn: 0.1921319\ttotal: 367ms\tremaining: 244ms\n601:\tlearn: 0.1920262\ttotal: 367ms\tremaining: 243ms\n602:\tlearn: 0.1918822\ttotal: 369ms\tremaining: 243ms\n603:\tlearn: 0.1917102\ttotal: 369ms\tremaining: 242ms\n604:\tlearn: 0.1916008\ttotal: 370ms\tremaining: 242ms\n605:\tlearn: 0.1914886\ttotal: 371ms\tremaining: 241ms\n606:\tlearn: 0.1914336\ttotal: 371ms\tremaining: 240ms\n607:\tlearn: 0.1914246\ttotal: 372ms\tremaining: 240ms\n608:\tlearn: 0.1912967\ttotal: 372ms\tremaining: 239ms\n609:\tlearn: 0.1911534\ttotal: 373ms\tremaining: 238ms\n610:\tlearn: 0.1910433\ttotal: 374ms\tremaining: 238ms\n611:\tlearn: 0.1909633\ttotal: 374ms\tremaining: 237ms\n612:\tlearn: 0.1908737\ttotal: 375ms\tremaining: 237ms\n613:\tlearn: 0.1907398\ttotal: 375ms\tremaining: 236ms\n614:\tlearn: 0.1906247\ttotal: 376ms\tremaining: 235ms\n615:\tlearn: 0.1905038\ttotal: 377ms\tremaining: 235ms\n616:\tlearn: 0.1903992\ttotal: 377ms\tremaining: 234ms\n617:\tlearn: 0.1902432\ttotal: 378ms\tremaining: 233ms\n618:\tlearn: 0.1901017\ttotal: 378ms\tremaining: 233ms\n619:\tlearn: 0.1900960\ttotal: 379ms\tremaining: 232ms\n620:\tlearn: 0.1899800\ttotal: 380ms\tremaining: 232ms\n621:\tlearn: 0.1899525\ttotal: 381ms\tremaining: 232ms\n622:\tlearn: 0.1898278\ttotal: 382ms\tremaining: 231ms\n623:\tlearn: 0.1897060\ttotal: 382ms\tremaining: 230ms\n624:\tlearn: 0.1896101\ttotal: 383ms\tremaining: 230ms\n625:\tlearn: 0.1895129\ttotal: 384ms\tremaining: 229ms\n626:\tlearn: 0.1893621\ttotal: 384ms\tremaining: 229ms\n627:\tlearn: 0.1892983\ttotal: 385ms\tremaining: 228ms\n628:\tlearn: 0.1892254\ttotal: 385ms\tremaining: 227ms\n629:\tlearn: 0.1891070\ttotal: 386ms\tremaining: 227ms\n630:\tlearn: 0.1890147\ttotal: 386ms\tremaining: 226ms\n631:\tlearn: 0.1889182\ttotal: 387ms\tremaining: 225ms\n632:\tlearn: 0.1888394\ttotal: 388ms\tremaining: 225ms\n633:\tlearn: 0.1887286\ttotal: 388ms\tremaining: 224ms\n634:\tlearn: 0.1886038\ttotal: 389ms\tremaining: 224ms\n635:\tlearn: 0.1884398\ttotal: 390ms\tremaining: 223ms\n636:\tlearn: 0.1883484\ttotal: 391ms\tremaining: 223ms\n637:\tlearn: 0.1882836\ttotal: 391ms\tremaining: 222ms\n638:\tlearn: 0.1881272\ttotal: 392ms\tremaining: 222ms\n639:\tlearn: 0.1879693\ttotal: 393ms\tremaining: 221ms\n640:\tlearn: 0.1878735\ttotal: 394ms\tremaining: 221ms\n641:\tlearn: 0.1877421\ttotal: 394ms\tremaining: 220ms\n642:\tlearn: 0.1876133\ttotal: 395ms\tremaining: 219ms\n643:\tlearn: 0.1875254\ttotal: 396ms\tremaining: 219ms\n644:\tlearn: 0.1874649\ttotal: 396ms\tremaining: 218ms\n645:\tlearn: 0.1873852\ttotal: 397ms\tremaining: 218ms\n646:\tlearn: 0.1872687\ttotal: 398ms\tremaining: 217ms\n647:\tlearn: 0.1872439\ttotal: 398ms\tremaining: 216ms\n648:\tlearn: 0.1871035\ttotal: 399ms\tremaining: 216ms\n649:\tlearn: 0.1869620\ttotal: 399ms\tremaining: 215ms\n650:\tlearn: 0.1868654\ttotal: 400ms\tremaining: 214ms\n651:\tlearn: 0.1867009\ttotal: 400ms\tremaining: 214ms\n652:\tlearn: 0.1866021\ttotal: 401ms\tremaining: 213ms\n653:\tlearn: 0.1865126\ttotal: 401ms\tremaining: 212ms\n654:\tlearn: 0.1864030\ttotal: 402ms\tremaining: 212ms\n655:\tlearn: 0.1863808\ttotal: 402ms\tremaining: 211ms\n656:\tlearn: 0.1863482\ttotal: 403ms\tremaining: 210ms\n657:\tlearn: 0.1862676\ttotal: 404ms\tremaining: 210ms\n658:\tlearn: 0.1861411\ttotal: 404ms\tremaining: 209ms\n659:\tlearn: 0.1860086\ttotal: 405ms\tremaining: 208ms\n660:\tlearn: 0.1858666\ttotal: 405ms\tremaining: 208ms\n661:\tlearn: 0.1858019\ttotal: 414ms\tremaining: 211ms\n662:\tlearn: 0.1856625\ttotal: 414ms\tremaining: 211ms\n663:\tlearn: 0.1855659\ttotal: 415ms\tremaining: 210ms\n664:\tlearn: 0.1854352\ttotal: 415ms\tremaining: 209ms\n665:\tlearn: 0.1853276\ttotal: 416ms\tremaining: 209ms\n666:\tlearn: 0.1851810\ttotal: 417ms\tremaining: 208ms\n667:\tlearn: 0.1850882\ttotal: 417ms\tremaining: 207ms\n668:\tlearn: 0.1850357\ttotal: 418ms\tremaining: 207ms\n669:\tlearn: 0.1849325\ttotal: 418ms\tremaining: 206ms\n670:\tlearn: 0.1848119\ttotal: 419ms\tremaining: 205ms\n671:\tlearn: 0.1847246\ttotal: 419ms\tremaining: 205ms\n672:\tlearn: 0.1847218\ttotal: 420ms\tremaining: 204ms\n673:\tlearn: 0.1847139\ttotal: 420ms\tremaining: 203ms\n674:\tlearn: 0.1845896\ttotal: 421ms\tremaining: 203ms\n675:\tlearn: 0.1845105\ttotal: 421ms\tremaining: 202ms\n676:\tlearn: 0.1843930\ttotal: 422ms\tremaining: 201ms\n677:\tlearn: 0.1842658\ttotal: 423ms\tremaining: 201ms\n678:\tlearn: 0.1841773\ttotal: 423ms\tremaining: 200ms\n679:\tlearn: 0.1841685\ttotal: 424ms\tremaining: 199ms\n680:\tlearn: 0.1840838\ttotal: 424ms\tremaining: 199ms\n681:\tlearn: 0.1839764\ttotal: 425ms\tremaining: 198ms\n682:\tlearn: 0.1838813\ttotal: 425ms\tremaining: 197ms\n683:\tlearn: 0.1838073\ttotal: 426ms\tremaining: 197ms\n684:\tlearn: 0.1836493\ttotal: 427ms\tremaining: 196ms\n685:\tlearn: 0.1835860\ttotal: 427ms\tremaining: 195ms\n686:\tlearn: 0.1834909\ttotal: 428ms\tremaining: 195ms\n687:\tlearn: 0.1833714\ttotal: 428ms\tremaining: 194ms\n688:\tlearn: 0.1832450\ttotal: 429ms\tremaining: 193ms\n689:\tlearn: 0.1830803\ttotal: 429ms\tremaining: 193ms\n690:\tlearn: 0.1829995\ttotal: 430ms\tremaining: 192ms\n691:\tlearn: 0.1828679\ttotal: 430ms\tremaining: 191ms\n692:\tlearn: 0.1827729\ttotal: 431ms\tremaining: 191ms\n693:\tlearn: 0.1826481\ttotal: 431ms\tremaining: 190ms\n694:\tlearn: 0.1825800\ttotal: 432ms\tremaining: 190ms\n695:\tlearn: 0.1824456\ttotal: 432ms\tremaining: 189ms\n696:\tlearn: 0.1824416\ttotal: 433ms\tremaining: 188ms\n697:\tlearn: 0.1823827\ttotal: 433ms\tremaining: 188ms\n698:\tlearn: 0.1823189\ttotal: 434ms\tremaining: 187ms\n699:\tlearn: 0.1822101\ttotal: 434ms\tremaining: 186ms\n700:\tlearn: 0.1821423\ttotal: 435ms\tremaining: 186ms\n701:\tlearn: 0.1821186\ttotal: 435ms\tremaining: 185ms\n702:\tlearn: 0.1819987\ttotal: 436ms\tremaining: 184ms\n703:\tlearn: 0.1818413\ttotal: 437ms\tremaining: 184ms\n704:\tlearn: 0.1817533\ttotal: 437ms\tremaining: 183ms\n705:\tlearn: 0.1816497\ttotal: 438ms\tremaining: 182ms\n706:\tlearn: 0.1816006\ttotal: 438ms\tremaining: 182ms\n707:\tlearn: 0.1815442\ttotal: 439ms\tremaining: 181ms\n708:\tlearn: 0.1815043\ttotal: 439ms\tremaining: 180ms\n709:\tlearn: 0.1814310\ttotal: 440ms\tremaining: 180ms\n710:\tlearn: 0.1813671\ttotal: 440ms\tremaining: 179ms\n711:\tlearn: 0.1812529\ttotal: 441ms\tremaining: 178ms\n712:\tlearn: 0.1811714\ttotal: 441ms\tremaining: 178ms\n713:\tlearn: 0.1810776\ttotal: 442ms\tremaining: 177ms\n714:\tlearn: 0.1809792\ttotal: 442ms\tremaining: 176ms\n715:\tlearn: 0.1809135\ttotal: 443ms\tremaining: 176ms\n716:\tlearn: 0.1808141\ttotal: 443ms\tremaining: 175ms\n717:\tlearn: 0.1807009\ttotal: 444ms\tremaining: 174ms\n718:\tlearn: 0.1806825\ttotal: 444ms\tremaining: 174ms\n719:\tlearn: 0.1805592\ttotal: 445ms\tremaining: 173ms\n720:\tlearn: 0.1804589\ttotal: 445ms\tremaining: 172ms\n721:\tlearn: 0.1803627\ttotal: 446ms\tremaining: 172ms\n722:\tlearn: 0.1802481\ttotal: 446ms\tremaining: 171ms\n723:\tlearn: 0.1802194\ttotal: 447ms\tremaining: 170ms\n724:\tlearn: 0.1801466\ttotal: 447ms\tremaining: 170ms\n725:\tlearn: 0.1800183\ttotal: 448ms\tremaining: 169ms\n726:\tlearn: 0.1798727\ttotal: 448ms\tremaining: 168ms\n727:\tlearn: 0.1798545\ttotal: 449ms\tremaining: 168ms\n728:\tlearn: 0.1797527\ttotal: 449ms\tremaining: 167ms\n729:\tlearn: 0.1796655\ttotal: 450ms\tremaining: 166ms\n730:\tlearn: 0.1795959\ttotal: 450ms\tremaining: 166ms\n731:\tlearn: 0.1795039\ttotal: 451ms\tremaining: 165ms\n732:\tlearn: 0.1794017\ttotal: 451ms\tremaining: 164ms\n733:\tlearn: 0.1793144\ttotal: 452ms\tremaining: 164ms\n734:\tlearn: 0.1792124\ttotal: 452ms\tremaining: 163ms\n735:\tlearn: 0.1791710\ttotal: 453ms\tremaining: 162ms\n736:\tlearn: 0.1791440\ttotal: 453ms\tremaining: 162ms\n737:\tlearn: 0.1790293\ttotal: 454ms\tremaining: 161ms\n738:\tlearn: 0.1789640\ttotal: 454ms\tremaining: 160ms\n739:\tlearn: 0.1788331\ttotal: 455ms\tremaining: 160ms\n740:\tlearn: 0.1787183\ttotal: 455ms\tremaining: 159ms\n741:\tlearn: 0.1786287\ttotal: 456ms\tremaining: 159ms\n742:\tlearn: 0.1785584\ttotal: 456ms\tremaining: 158ms\n743:\tlearn: 0.1784463\ttotal: 457ms\tremaining: 157ms\n744:\tlearn: 0.1784009\ttotal: 458ms\tremaining: 157ms\n745:\tlearn: 0.1783222\ttotal: 458ms\tremaining: 156ms\n746:\tlearn: 0.1782591\ttotal: 459ms\tremaining: 155ms\n747:\tlearn: 0.1781845\ttotal: 459ms\tremaining: 155ms\n748:\tlearn: 0.1781774\ttotal: 460ms\tremaining: 154ms\n749:\tlearn: 0.1780547\ttotal: 460ms\tremaining: 153ms\n750:\tlearn: 0.1779658\ttotal: 461ms\tremaining: 153ms\n751:\tlearn: 0.1778989\ttotal: 461ms\tremaining: 152ms\n752:\tlearn: 0.1778382\ttotal: 462ms\tremaining: 151ms\n753:\tlearn: 0.1777055\ttotal: 462ms\tremaining: 151ms\n754:\tlearn: 0.1776302\ttotal: 463ms\tremaining: 150ms\n755:\tlearn: 0.1775943\ttotal: 463ms\tremaining: 150ms\n756:\tlearn: 0.1775073\ttotal: 464ms\tremaining: 149ms\n757:\tlearn: 0.1774637\ttotal: 464ms\tremaining: 148ms\n758:\tlearn: 0.1774015\ttotal: 465ms\tremaining: 148ms\n759:\tlearn: 0.1772753\ttotal: 465ms\tremaining: 147ms\n760:\tlearn: 0.1772627\ttotal: 466ms\tremaining: 146ms\n761:\tlearn: 0.1772484\ttotal: 466ms\tremaining: 146ms\n762:\tlearn: 0.1771633\ttotal: 467ms\tremaining: 145ms\n763:\tlearn: 0.1770636\ttotal: 467ms\tremaining: 144ms\n764:\tlearn: 0.1770394\ttotal: 468ms\tremaining: 144ms\n765:\tlearn: 0.1770165\ttotal: 468ms\tremaining: 143ms\n766:\tlearn: 0.1769080\ttotal: 469ms\tremaining: 142ms\n767:\tlearn: 0.1768681\ttotal: 469ms\tremaining: 142ms\n768:\tlearn: 0.1768047\ttotal: 470ms\tremaining: 141ms\n769:\tlearn: 0.1766852\ttotal: 471ms\tremaining: 141ms\n770:\tlearn: 0.1765797\ttotal: 471ms\tremaining: 140ms\n771:\tlearn: 0.1764822\ttotal: 472ms\tremaining: 139ms\n772:\tlearn: 0.1764162\ttotal: 472ms\tremaining: 139ms\n773:\tlearn: 0.1763740\ttotal: 473ms\tremaining: 138ms\n774:\tlearn: 0.1762643\ttotal: 473ms\tremaining: 137ms\n775:\tlearn: 0.1762527\ttotal: 474ms\tremaining: 137ms\n776:\tlearn: 0.1761268\ttotal: 474ms\tremaining: 136ms\n777:\tlearn: 0.1760296\ttotal: 475ms\tremaining: 135ms\n778:\tlearn: 0.1759576\ttotal: 475ms\tremaining: 135ms\n779:\tlearn: 0.1758801\ttotal: 476ms\tremaining: 134ms\n780:\tlearn: 0.1757675\ttotal: 476ms\tremaining: 134ms\n781:\tlearn: 0.1756651\ttotal: 477ms\tremaining: 133ms\n782:\tlearn: 0.1756083\ttotal: 477ms\tremaining: 132ms\n783:\tlearn: 0.1754797\ttotal: 478ms\tremaining: 132ms\n784:\tlearn: 0.1753941\ttotal: 478ms\tremaining: 131ms\n785:\tlearn: 0.1753244\ttotal: 479ms\tremaining: 130ms\n786:\tlearn: 0.1752966\ttotal: 479ms\tremaining: 130ms\n787:\tlearn: 0.1752445\ttotal: 480ms\tremaining: 129ms\n788:\tlearn: 0.1751206\ttotal: 481ms\tremaining: 129ms\n789:\tlearn: 0.1750549\ttotal: 481ms\tremaining: 128ms\n790:\tlearn: 0.1749772\ttotal: 482ms\tremaining: 127ms\n791:\tlearn: 0.1748424\ttotal: 482ms\tremaining: 127ms\n792:\tlearn: 0.1747410\ttotal: 483ms\tremaining: 126ms\n793:\tlearn: 0.1746488\ttotal: 483ms\tremaining: 125ms\n794:\tlearn: 0.1746407\ttotal: 484ms\tremaining: 125ms\n795:\tlearn: 0.1745008\ttotal: 484ms\tremaining: 124ms\n796:\tlearn: 0.1743865\ttotal: 485ms\tremaining: 123ms\n797:\tlearn: 0.1742984\ttotal: 485ms\tremaining: 123ms\n798:\tlearn: 0.1741976\ttotal: 486ms\tremaining: 122ms\n799:\tlearn: 0.1740853\ttotal: 486ms\tremaining: 122ms\n800:\tlearn: 0.1739811\ttotal: 487ms\tremaining: 121ms\n801:\tlearn: 0.1739542\ttotal: 487ms\tremaining: 120ms\n802:\tlearn: 0.1739148\ttotal: 488ms\tremaining: 120ms\n803:\tlearn: 0.1738193\ttotal: 488ms\tremaining: 119ms\n804:\tlearn: 0.1737336\ttotal: 489ms\tremaining: 118ms\n805:\tlearn: 0.1736612\ttotal: 489ms\tremaining: 118ms\n806:\tlearn: 0.1736273\ttotal: 490ms\tremaining: 117ms\n807:\tlearn: 0.1735983\ttotal: 490ms\tremaining: 117ms\n808:\tlearn: 0.1735338\ttotal: 491ms\tremaining: 116ms\n809:\tlearn: 0.1734138\ttotal: 491ms\tremaining: 115ms\n810:\tlearn: 0.1733175\ttotal: 492ms\tremaining: 115ms\n811:\tlearn: 0.1732590\ttotal: 493ms\tremaining: 114ms\n812:\tlearn: 0.1731843\ttotal: 493ms\tremaining: 113ms\n813:\tlearn: 0.1731506\ttotal: 494ms\tremaining: 113ms\n814:\tlearn: 0.1730478\ttotal: 494ms\tremaining: 112ms\n815:\tlearn: 0.1729381\ttotal: 495ms\tremaining: 112ms\n816:\tlearn: 0.1728888\ttotal: 495ms\tremaining: 111ms\n817:\tlearn: 0.1727852\ttotal: 496ms\tremaining: 110ms\n818:\tlearn: 0.1727542\ttotal: 496ms\tremaining: 110ms\n819:\tlearn: 0.1726868\ttotal: 497ms\tremaining: 109ms\n820:\tlearn: 0.1726287\ttotal: 497ms\tremaining: 108ms\n821:\tlearn: 0.1725627\ttotal: 498ms\tremaining: 108ms\n822:\tlearn: 0.1724725\ttotal: 498ms\tremaining: 107ms\n823:\tlearn: 0.1724195\ttotal: 499ms\tremaining: 107ms\n824:\tlearn: 0.1723015\ttotal: 499ms\tremaining: 106ms\n825:\tlearn: 0.1722222\ttotal: 500ms\tremaining: 105ms\n826:\tlearn: 0.1721913\ttotal: 500ms\tremaining: 105ms\n827:\tlearn: 0.1721810\ttotal: 501ms\tremaining: 104ms\n828:\tlearn: 0.1720883\ttotal: 501ms\tremaining: 103ms\n829:\tlearn: 0.1720569\ttotal: 502ms\tremaining: 103ms\n830:\tlearn: 0.1719635\ttotal: 502ms\tremaining: 102ms\n831:\tlearn: 0.1718849\ttotal: 503ms\tremaining: 102ms\n832:\tlearn: 0.1718295\ttotal: 503ms\tremaining: 101ms\n833:\tlearn: 0.1717211\ttotal: 504ms\tremaining: 100ms\n834:\tlearn: 0.1716411\ttotal: 504ms\tremaining: 99.6ms\n835:\tlearn: 0.1715339\ttotal: 505ms\tremaining: 99ms\n836:\tlearn: 0.1714978\ttotal: 505ms\tremaining: 98.4ms\n837:\tlearn: 0.1714651\ttotal: 506ms\tremaining: 97.8ms\n838:\tlearn: 0.1713303\ttotal: 506ms\tremaining: 97.2ms\n839:\tlearn: 0.1712588\ttotal: 507ms\tremaining: 96.6ms\n840:\tlearn: 0.1712332\ttotal: 507ms\tremaining: 95.9ms\n841:\tlearn: 0.1712153\ttotal: 508ms\tremaining: 95.3ms\n842:\tlearn: 0.1711705\ttotal: 508ms\tremaining: 94.7ms\n843:\tlearn: 0.1710939\ttotal: 509ms\tremaining: 94.1ms\n844:\tlearn: 0.1710353\ttotal: 509ms\tremaining: 93.4ms\n845:\tlearn: 0.1709718\ttotal: 510ms\tremaining: 92.8ms\n846:\tlearn: 0.1708880\ttotal: 510ms\tremaining: 92.2ms\n847:\tlearn: 0.1708446\ttotal: 511ms\tremaining: 91.6ms\n848:\tlearn: 0.1707431\ttotal: 511ms\tremaining: 91ms\n849:\tlearn: 0.1706574\ttotal: 512ms\tremaining: 90.4ms\n850:\tlearn: 0.1705599\ttotal: 513ms\tremaining: 89.7ms\n851:\tlearn: 0.1704621\ttotal: 513ms\tremaining: 89.1ms\n852:\tlearn: 0.1703904\ttotal: 514ms\tremaining: 88.5ms\n853:\tlearn: 0.1703228\ttotal: 514ms\tremaining: 87.9ms\n854:\tlearn: 0.1702299\ttotal: 515ms\tremaining: 87.3ms\n855:\tlearn: 0.1701318\ttotal: 515ms\tremaining: 86.7ms\n856:\tlearn: 0.1700251\ttotal: 516ms\tremaining: 86.1ms\n857:\tlearn: 0.1699309\ttotal: 516ms\tremaining: 85.4ms\n858:\tlearn: 0.1698950\ttotal: 517ms\tremaining: 84.8ms\n859:\tlearn: 0.1698064\ttotal: 517ms\tremaining: 84.2ms\n860:\tlearn: 0.1697125\ttotal: 518ms\tremaining: 83.6ms\n861:\tlearn: 0.1696040\ttotal: 518ms\tremaining: 83ms\n862:\tlearn: 0.1695516\ttotal: 519ms\tremaining: 82.4ms\n863:\tlearn: 0.1694749\ttotal: 519ms\tremaining: 81.8ms\n864:\tlearn: 0.1693771\ttotal: 520ms\tremaining: 81.2ms\n865:\tlearn: 0.1693069\ttotal: 521ms\tremaining: 80.5ms\n866:\tlearn: 0.1691873\ttotal: 521ms\tremaining: 79.9ms\n867:\tlearn: 0.1690854\ttotal: 522ms\tremaining: 79.3ms\n868:\tlearn: 0.1690516\ttotal: 522ms\tremaining: 78.7ms\n869:\tlearn: 0.1689867\ttotal: 523ms\tremaining: 78.1ms\n870:\tlearn: 0.1689228\ttotal: 523ms\tremaining: 77.5ms\n871:\tlearn: 0.1688207\ttotal: 524ms\tremaining: 76.9ms\n872:\tlearn: 0.1687401\ttotal: 524ms\tremaining: 76.2ms\n873:\tlearn: 0.1686621\ttotal: 525ms\tremaining: 75.6ms\n874:\tlearn: 0.1686039\ttotal: 525ms\tremaining: 75ms\n875:\tlearn: 0.1685887\ttotal: 526ms\tremaining: 74.4ms\n876:\tlearn: 0.1685825\ttotal: 526ms\tremaining: 73.8ms\n877:\tlearn: 0.1685374\ttotal: 527ms\tremaining: 73.2ms\n878:\tlearn: 0.1684688\ttotal: 527ms\tremaining: 72.6ms\n879:\tlearn: 0.1684664\ttotal: 527ms\tremaining: 71.9ms\n880:\tlearn: 0.1684076\ttotal: 528ms\tremaining: 71.3ms\n881:\tlearn: 0.1683835\ttotal: 528ms\tremaining: 70.7ms\n882:\tlearn: 0.1683405\ttotal: 529ms\tremaining: 70.1ms\n883:\tlearn: 0.1683295\ttotal: 529ms\tremaining: 69.5ms\n884:\tlearn: 0.1682651\ttotal: 530ms\tremaining: 68.9ms\n885:\tlearn: 0.1681797\ttotal: 530ms\tremaining: 68.2ms\n886:\tlearn: 0.1681190\ttotal: 532ms\tremaining: 67.7ms\n887:\tlearn: 0.1680424\ttotal: 532ms\tremaining: 67.1ms\n888:\tlearn: 0.1680332\ttotal: 532ms\tremaining: 66.4ms\n889:\tlearn: 0.1679518\ttotal: 533ms\tremaining: 65.8ms\n890:\tlearn: 0.1678255\ttotal: 533ms\tremaining: 65.2ms\n891:\tlearn: 0.1677243\ttotal: 533ms\tremaining: 64.5ms\n892:\tlearn: 0.1676434\ttotal: 533ms\tremaining: 63.9ms\n893:\tlearn: 0.1675743\ttotal: 534ms\tremaining: 63.3ms\n894:\tlearn: 0.1674801\ttotal: 534ms\tremaining: 62.7ms\n895:\tlearn: 0.1674107\ttotal: 534ms\tremaining: 62ms\n896:\tlearn: 0.1673213\ttotal: 535ms\tremaining: 61.4ms\n897:\tlearn: 0.1672509\ttotal: 535ms\tremaining: 60.8ms\n898:\tlearn: 0.1671977\ttotal: 536ms\tremaining: 60.2ms\n899:\tlearn: 0.1671032\ttotal: 536ms\tremaining: 59.6ms\n900:\tlearn: 0.1670572\ttotal: 537ms\tremaining: 59ms\n901:\tlearn: 0.1669774\ttotal: 537ms\tremaining: 58.4ms\n902:\tlearn: 0.1669583\ttotal: 538ms\tremaining: 57.8ms\n903:\tlearn: 0.1668563\ttotal: 539ms\tremaining: 57.2ms\n904:\tlearn: 0.1667788\ttotal: 540ms\tremaining: 56.6ms\n905:\tlearn: 0.1667070\ttotal: 540ms\tremaining: 56ms\n906:\tlearn: 0.1666717\ttotal: 541ms\tremaining: 55.4ms\n907:\tlearn: 0.1666303\ttotal: 541ms\tremaining: 54.8ms\n908:\tlearn: 0.1665419\ttotal: 542ms\tremaining: 54.2ms\n909:\tlearn: 0.1664622\ttotal: 542ms\tremaining: 53.6ms\n910:\tlearn: 0.1663792\ttotal: 543ms\tremaining: 53ms\n911:\tlearn: 0.1663489\ttotal: 543ms\tremaining: 52.4ms\n912:\tlearn: 0.1662419\ttotal: 544ms\tremaining: 51.8ms\n913:\tlearn: 0.1662385\ttotal: 544ms\tremaining: 51.2ms\n914:\tlearn: 0.1661363\ttotal: 545ms\tremaining: 50.6ms\n915:\tlearn: 0.1660350\ttotal: 545ms\tremaining: 50ms\n916:\tlearn: 0.1660120\ttotal: 546ms\tremaining: 49.4ms\n917:\tlearn: 0.1660092\ttotal: 546ms\tremaining: 48.8ms\n918:\tlearn: 0.1659311\ttotal: 547ms\tremaining: 48.2ms\n919:\tlearn: 0.1658603\ttotal: 547ms\tremaining: 47.6ms\n920:\tlearn: 0.1657787\ttotal: 548ms\tremaining: 47ms\n921:\tlearn: 0.1657647\ttotal: 548ms\tremaining: 46.4ms\n922:\tlearn: 0.1657508\ttotal: 549ms\tremaining: 45.8ms\n923:\tlearn: 0.1657058\ttotal: 549ms\tremaining: 45.2ms\n924:\tlearn: 0.1656604\ttotal: 550ms\tremaining: 44.6ms\n925:\tlearn: 0.1655581\ttotal: 550ms\tremaining: 44ms\n926:\tlearn: 0.1654673\ttotal: 551ms\tremaining: 43.4ms\n927:\tlearn: 0.1653834\ttotal: 551ms\tremaining: 42.8ms\n928:\tlearn: 0.1652898\ttotal: 552ms\tremaining: 42.2ms\n929:\tlearn: 0.1652514\ttotal: 552ms\tremaining: 41.6ms\n930:\tlearn: 0.1652145\ttotal: 553ms\tremaining: 41ms\n931:\tlearn: 0.1651234\ttotal: 553ms\tremaining: 40.4ms\n932:\tlearn: 0.1650628\ttotal: 554ms\tremaining: 39.8ms\n933:\tlearn: 0.1649794\ttotal: 554ms\tremaining: 39.2ms\n934:\tlearn: 0.1649219\ttotal: 555ms\tremaining: 38.6ms\n935:\tlearn: 0.1648708\ttotal: 555ms\tremaining: 38ms\n936:\tlearn: 0.1647822\ttotal: 556ms\tremaining: 37.4ms\n937:\tlearn: 0.1647600\ttotal: 557ms\tremaining: 36.8ms\n938:\tlearn: 0.1646936\ttotal: 557ms\tremaining: 36.2ms\n939:\tlearn: 0.1646122\ttotal: 558ms\tremaining: 35.6ms\n940:\tlearn: 0.1645268\ttotal: 558ms\tremaining: 35ms\n941:\tlearn: 0.1644922\ttotal: 559ms\tremaining: 34.4ms\n942:\tlearn: 0.1644154\ttotal: 559ms\tremaining: 33.8ms\n943:\tlearn: 0.1643367\ttotal: 560ms\tremaining: 33.2ms\n944:\tlearn: 0.1642500\ttotal: 560ms\tremaining: 32.6ms\n945:\tlearn: 0.1641603\ttotal: 561ms\tremaining: 32ms\n946:\tlearn: 0.1641083\ttotal: 561ms\tremaining: 31.4ms\n947:\tlearn: 0.1640280\ttotal: 562ms\tremaining: 30.8ms\n948:\tlearn: 0.1639647\ttotal: 562ms\tremaining: 30.2ms\n949:\tlearn: 0.1639154\ttotal: 563ms\tremaining: 29.6ms\n950:\tlearn: 0.1638974\ttotal: 563ms\tremaining: 29ms\n951:\tlearn: 0.1638339\ttotal: 564ms\tremaining: 28.4ms\n952:\tlearn: 0.1637934\ttotal: 564ms\tremaining: 27.8ms\n953:\tlearn: 0.1637443\ttotal: 565ms\tremaining: 27.2ms\n954:\tlearn: 0.1637315\ttotal: 565ms\tremaining: 26.6ms\n955:\tlearn: 0.1636901\ttotal: 566ms\tremaining: 26ms\n956:\tlearn: 0.1636412\ttotal: 567ms\tremaining: 25.5ms\n957:\tlearn: 0.1635716\ttotal: 567ms\tremaining: 24.9ms\n958:\tlearn: 0.1635689\ttotal: 567ms\tremaining: 24.3ms\n959:\tlearn: 0.1634428\ttotal: 568ms\tremaining: 23.7ms\n960:\tlearn: 0.1633781\ttotal: 569ms\tremaining: 23.1ms\n961:\tlearn: 0.1632892\ttotal: 569ms\tremaining: 22.5ms\n962:\tlearn: 0.1632543\ttotal: 570ms\tremaining: 21.9ms\n963:\tlearn: 0.1631666\ttotal: 570ms\tremaining: 21.3ms\n964:\tlearn: 0.1631614\ttotal: 571ms\tremaining: 20.7ms\n965:\tlearn: 0.1631345\ttotal: 571ms\tremaining: 20.1ms\n966:\tlearn: 0.1630748\ttotal: 572ms\tremaining: 19.5ms\n967:\tlearn: 0.1630671\ttotal: 572ms\tremaining: 18.9ms\n968:\tlearn: 0.1629879\ttotal: 573ms\tremaining: 18.3ms\n969:\tlearn: 0.1629279\ttotal: 573ms\tremaining: 17.7ms\n970:\tlearn: 0.1628449\ttotal: 574ms\tremaining: 17.1ms\n971:\tlearn: 0.1628406\ttotal: 574ms\tremaining: 16.5ms\n972:\tlearn: 0.1627875\ttotal: 575ms\tremaining: 16ms\n973:\tlearn: 0.1626660\ttotal: 575ms\tremaining: 15.4ms\n974:\tlearn: 0.1625551\ttotal: 576ms\tremaining: 14.8ms\n975:\tlearn: 0.1625039\ttotal: 576ms\tremaining: 14.2ms\n976:\tlearn: 0.1624335\ttotal: 577ms\tremaining: 13.6ms\n977:\tlearn: 0.1623561\ttotal: 577ms\tremaining: 13ms\n978:\tlearn: 0.1622832\ttotal: 578ms\tremaining: 12.4ms\n979:\tlearn: 0.1622543\ttotal: 579ms\tremaining: 11.8ms\n980:\tlearn: 0.1622019\ttotal: 579ms\tremaining: 11.2ms\n981:\tlearn: 0.1621353\ttotal: 580ms\tremaining: 10.6ms\n982:\tlearn: 0.1620711\ttotal: 580ms\tremaining: 10ms\n983:\tlearn: 0.1620177\ttotal: 581ms\tremaining: 9.44ms\n984:\tlearn: 0.1619522\ttotal: 581ms\tremaining: 8.85ms\n985:\tlearn: 0.1618986\ttotal: 582ms\tremaining: 8.26ms\n986:\tlearn: 0.1618493\ttotal: 582ms\tremaining: 7.67ms\n987:\tlearn: 0.1617578\ttotal: 583ms\tremaining: 7.08ms\n988:\tlearn: 0.1616851\ttotal: 583ms\tremaining: 6.49ms\n989:\tlearn: 0.1616226\ttotal: 584ms\tremaining: 5.9ms\n990:\tlearn: 0.1615559\ttotal: 584ms\tremaining: 5.31ms\n991:\tlearn: 0.1615280\ttotal: 585ms\tremaining: 4.71ms\n992:\tlearn: 0.1614483\ttotal: 585ms\tremaining: 4.13ms\n993:\tlearn: 0.1613615\ttotal: 586ms\tremaining: 3.54ms\n994:\tlearn: 0.1613056\ttotal: 586ms\tremaining: 2.95ms\n995:\tlearn: 0.1612425\ttotal: 587ms\tremaining: 2.36ms\n996:\tlearn: 0.1611992\ttotal: 587ms\tremaining: 1.77ms\n997:\tlearn: 0.1611116\ttotal: 588ms\tremaining: 1.18ms\n998:\tlearn: 0.1611086\ttotal: 589ms\tremaining: 589us\n999:\tlearn: 0.1611023\ttotal: 589ms\tremaining: 0us\n/shared-libs/python3.7/py/lib/python3.7/site-packages/sklearn/preprocessing/_data.py:2615: UserWarning: n_quantiles (1000) is greater than the total number of samples (340). n_quantiles is set to n_samples.\n  % (self.n_quantiles, n_samples))\n/shared-libs/python3.7/py/lib/python3.7/site-packages/sklearn/preprocessing/_data.py:2615: UserWarning: n_quantiles (1000) is greater than the total number of samples (340). n_quantiles is set to n_samples.\n  % (self.n_quantiles, n_samples))\n/shared-libs/python3.7/py/lib/python3.7/site-packages/sklearn/preprocessing/_data.py:2615: UserWarning: n_quantiles (1000) is greater than the total number of samples (340). n_quantiles is set to n_samples.\n  % (self.n_quantiles, n_samples))\n/shared-libs/python3.7/py/lib/python3.7/site-packages/sklearn/neural_network/_multilayer_perceptron.py:617: ConvergenceWarning: Stochastic Optimizer: Maximum iterations (200) reached and the optimization hasn't converged yet.\n  % self.max_iter, ConvergenceWarning)\n/shared-libs/python3.7/py/lib/python3.7/site-packages/sklearn/preprocessing/_data.py:2615: UserWarning: n_quantiles (1000) is greater than the total number of samples (340). n_quantiles is set to n_samples.\n  % (self.n_quantiles, n_samples))\n",
     "output_type": "stream"
    },
    {
     "output_type": "execute_result",
     "execution_count": 39,
     "data": {
      "text/plain": "<pandas.io.formats.style.Styler at 0x7f938a8651d0>",
      "text/html": "<style  type=\"text/css\" >\n#T_aa016_row0_col1,#T_aa016_row1_col1,#T_aa016_row2_col1{\n            width:  10em;\n             height:  80%;\n            background:  linear-gradient(90deg,#5fba7d 86.0%, transparent 86.0%);\n        }#T_aa016_row0_col2,#T_aa016_row1_col2{\n            width:  10em;\n             height:  80%;\n            background:  linear-gradient(90deg,#5fba7d 85.7%, transparent 85.7%);\n        }#T_aa016_row2_col2,#T_aa016_row3_col1,#T_aa016_row4_col1{\n            width:  10em;\n             height:  80%;\n            background:  linear-gradient(90deg,#5fba7d 84.9%, transparent 84.9%);\n        }#T_aa016_row3_col2{\n            width:  10em;\n             height:  80%;\n            background:  linear-gradient(90deg,#5fba7d 84.7%, transparent 84.7%);\n        }#T_aa016_row4_col2{\n            width:  10em;\n             height:  80%;\n            background:  linear-gradient(90deg,#5fba7d 84.3%, transparent 84.3%);\n        }#T_aa016_row5_col1,#T_aa016_row6_col1{\n            width:  10em;\n             height:  80%;\n            background:  linear-gradient(90deg,#5fba7d 83.7%, transparent 83.7%);\n        }#T_aa016_row5_col2,#T_aa016_row6_col2{\n            width:  10em;\n             height:  80%;\n            background:  linear-gradient(90deg,#5fba7d 83.3%, transparent 83.3%);\n        }#T_aa016_row7_col1,#T_aa016_row8_col1,#T_aa016_row9_col1{\n            width:  10em;\n             height:  80%;\n            background:  linear-gradient(90deg,#5fba7d 82.6%, transparent 82.6%);\n        }#T_aa016_row7_col2{\n            width:  10em;\n             height:  80%;\n            background:  linear-gradient(90deg,#5fba7d 81.9%, transparent 81.9%);\n        }#T_aa016_row8_col2,#T_aa016_row9_col2{\n            width:  10em;\n             height:  80%;\n            background:  linear-gradient(90deg,#5fba7d 82.3%, transparent 82.3%);\n        }#T_aa016_row10_col1{\n            width:  10em;\n             height:  80%;\n            background:  linear-gradient(90deg,#5fba7d 80.2%, transparent 80.2%);\n        }#T_aa016_row10_col2{\n            width:  10em;\n             height:  80%;\n            background:  linear-gradient(90deg,#5fba7d 79.5%, transparent 79.5%);\n        }#T_aa016_row11_col1,#T_aa016_row12_col1{\n            width:  10em;\n             height:  80%;\n            background:  linear-gradient(90deg,#5fba7d 77.9%, transparent 77.9%);\n        }#T_aa016_row11_col2{\n            width:  10em;\n             height:  80%;\n            background:  linear-gradient(90deg,#5fba7d 77.1%, transparent 77.1%);\n        }#T_aa016_row12_col2{\n            width:  10em;\n             height:  80%;\n            background:  linear-gradient(90deg,#5fba7d 76.7%, transparent 76.7%);\n        }</style><table id=\"T_aa016_\" ><thead>    <tr>        <th class=\"blank level0\" ></th>        <th class=\"col_heading level0 col0\" >Model</th>        <th class=\"col_heading level0 col1\" >Accuracy</th>        <th class=\"col_heading level0 col2\" >Bal Acc.</th>        <th class=\"col_heading level0 col3\" >Time</th>    </tr></thead><tbody>\n                <tr>\n                        <th id=\"T_aa016_level0_row0\" class=\"row_heading level0 row0\" >1</th>\n                        <td id=\"T_aa016_row0_col0\" class=\"data row0 col0\" >CatBoost</td>\n                        <td id=\"T_aa016_row0_col1\" class=\"data row0 col1\" >86.046512</td>\n                        <td id=\"T_aa016_row0_col2\" class=\"data row0 col2\" >85.666667</td>\n                        <td id=\"T_aa016_row0_col3\" class=\"data row0 col3\" >0.833291</td>\n            </tr>\n            <tr>\n                        <th id=\"T_aa016_level0_row1\" class=\"row_heading level0 row1\" >2</th>\n                        <td id=\"T_aa016_row1_col0\" class=\"data row1 col0\" >Neural</td>\n                        <td id=\"T_aa016_row1_col1\" class=\"data row1 col1\" >86.046512</td>\n                        <td id=\"T_aa016_row1_col2\" class=\"data row1 col2\" >85.666667</td>\n                        <td id=\"T_aa016_row1_col3\" class=\"data row1 col3\" >0.928832</td>\n            </tr>\n            <tr>\n                        <th id=\"T_aa016_level0_row2\" class=\"row_heading level0 row2\" >3</th>\n                        <td id=\"T_aa016_row2_col0\" class=\"data row2 col0\" >KNN</td>\n                        <td id=\"T_aa016_row2_col1\" class=\"data row2 col1\" >86.046512</td>\n                        <td id=\"T_aa016_row2_col2\" class=\"data row2 col2\" >84.888889</td>\n                        <td id=\"T_aa016_row2_col3\" class=\"data row2 col3\" >0.046912</td>\n            </tr>\n            <tr>\n                        <th id=\"T_aa016_level0_row3\" class=\"row_heading level0 row3\" >4</th>\n                        <td id=\"T_aa016_row3_col0\" class=\"data row3 col0\" >Skl HistGBM</td>\n                        <td id=\"T_aa016_row3_col1\" class=\"data row3 col1\" >84.883721</td>\n                        <td id=\"T_aa016_row3_col2\" class=\"data row3 col2\" >84.666667</td>\n                        <td id=\"T_aa016_row3_col3\" class=\"data row3 col3\" >0.277562</td>\n            </tr>\n            <tr>\n                        <th id=\"T_aa016_level0_row4\" class=\"row_heading level0 row4\" >5</th>\n                        <td id=\"T_aa016_row4_col0\" class=\"data row4 col0\" >SVC</td>\n                        <td id=\"T_aa016_row4_col1\" class=\"data row4 col1\" >84.883721</td>\n                        <td id=\"T_aa016_row4_col2\" class=\"data row4 col2\" >84.277778</td>\n                        <td id=\"T_aa016_row4_col3\" class=\"data row4 col3\" >0.029323</td>\n            </tr>\n            <tr>\n                        <th id=\"T_aa016_level0_row5\" class=\"row_heading level0 row5\" >6</th>\n                        <td id=\"T_aa016_row5_col0\" class=\"data row5 col0\" >Skl GBM</td>\n                        <td id=\"T_aa016_row5_col1\" class=\"data row5 col1\" >83.720930</td>\n                        <td id=\"T_aa016_row5_col2\" class=\"data row5 col2\" >83.277778</td>\n                        <td id=\"T_aa016_row5_col3\" class=\"data row5 col3\" >0.185088</td>\n            </tr>\n            <tr>\n                        <th id=\"T_aa016_level0_row6\" class=\"row_heading level0 row6\" >7</th>\n                        <td id=\"T_aa016_row6_col0\" class=\"data row6 col0\" >Logistic</td>\n                        <td id=\"T_aa016_row6_col1\" class=\"data row6 col1\" >83.720930</td>\n                        <td id=\"T_aa016_row6_col2\" class=\"data row6 col2\" >83.277778</td>\n                        <td id=\"T_aa016_row6_col3\" class=\"data row6 col3\" >0.039882</td>\n            </tr>\n            <tr>\n                        <th id=\"T_aa016_level0_row7\" class=\"row_heading level0 row7\" >8</th>\n                        <td id=\"T_aa016_row7_col0\" class=\"data row7 col0\" >Random Forest</td>\n                        <td id=\"T_aa016_row7_col1\" class=\"data row7 col1\" >82.558140</td>\n                        <td id=\"T_aa016_row7_col2\" class=\"data row7 col2\" >81.888889</td>\n                        <td id=\"T_aa016_row7_col3\" class=\"data row7 col3\" >0.242952</td>\n            </tr>\n            <tr>\n                        <th id=\"T_aa016_level0_row8\" class=\"row_heading level0 row8\" >9</th>\n                        <td id=\"T_aa016_row8_col0\" class=\"data row8 col0\" >XGBoost</td>\n                        <td id=\"T_aa016_row8_col1\" class=\"data row8 col1\" >82.558140</td>\n                        <td id=\"T_aa016_row8_col2\" class=\"data row8 col2\" >82.277778</td>\n                        <td id=\"T_aa016_row8_col3\" class=\"data row8 col3\" >0.215463</td>\n            </tr>\n            <tr>\n                        <th id=\"T_aa016_level0_row9\" class=\"row_heading level0 row9\" >10</th>\n                        <td id=\"T_aa016_row9_col0\" class=\"data row9 col0\" >LightGBM</td>\n                        <td id=\"T_aa016_row9_col1\" class=\"data row9 col1\" >82.558140</td>\n                        <td id=\"T_aa016_row9_col2\" class=\"data row9 col2\" >82.277778</td>\n                        <td id=\"T_aa016_row9_col3\" class=\"data row9 col3\" >0.142344</td>\n            </tr>\n            <tr>\n                        <th id=\"T_aa016_level0_row10\" class=\"row_heading level0 row10\" >11</th>\n                        <td id=\"T_aa016_row10_col0\" class=\"data row10 col0\" >AdaBoost</td>\n                        <td id=\"T_aa016_row10_col1\" class=\"data row10 col1\" >80.232558</td>\n                        <td id=\"T_aa016_row10_col2\" class=\"data row10 col2\" >79.500000</td>\n                        <td id=\"T_aa016_row10_col3\" class=\"data row10 col3\" >0.177450</td>\n            </tr>\n            <tr>\n                        <th id=\"T_aa016_level0_row11\" class=\"row_heading level0 row11\" >12</th>\n                        <td id=\"T_aa016_row11_col0\" class=\"data row11 col0\" >Decision Tree</td>\n                        <td id=\"T_aa016_row11_col1\" class=\"data row11 col1\" >77.906977</td>\n                        <td id=\"T_aa016_row11_col2\" class=\"data row11 col2\" >77.111111</td>\n                        <td id=\"T_aa016_row11_col3\" class=\"data row11 col3\" >0.132869</td>\n            </tr>\n            <tr>\n                        <th id=\"T_aa016_level0_row12\" class=\"row_heading level0 row12\" >13</th>\n                        <td id=\"T_aa016_row12_col0\" class=\"data row12 col0\" >Extra Trees</td>\n                        <td id=\"T_aa016_row12_col1\" class=\"data row12 col1\" >77.906977</td>\n                        <td id=\"T_aa016_row12_col2\" class=\"data row12 col2\" >76.722222</td>\n                        <td id=\"T_aa016_row12_col3\" class=\"data row12 col3\" >0.266071</td>\n            </tr>\n    </tbody></table>"
     },
     "metadata": {}
    }
   ],
   "execution_count": 39
  },
  {
   "cell_type": "code",
   "source": "",
   "metadata": {
    "tags": [],
    "cell_id": "00042-73a339a6-24c7-47bd-95a2-7c8f573d510b",
    "deepnote_to_be_reexecuted": true,
    "source_hash": "b623e53d",
    "execution_start": 1620390704798,
    "execution_millis": 1,
    "deepnote_cell_type": "code"
   },
   "outputs": [],
   "execution_count": null
  },
  {
   "cell_type": "code",
   "source": "tree_best = {\n# \"Decision Tree\": DecisionTreeClassifier(),\n  # \"Extra Trees\": ExtraTreesClassifier(),\n#   \"Random Forest\": RandomForestClassifier(),\n#   \"AdaBoost\": AdaBoostClassifier(), \n  # \"Skl GBM\": GradientBoostingClassifier(),\n  \"Skl HistGBM\": HistGradientBoostingClassifier(), \n#   \"XGBoost\": XGBClassifier(),\n#   \"LightGBM\": LGBMClassifier(),\n  \"CatBoost\": CatBoostClassifier() \n}\n\nmult_best = {\n  \"SVC\": SVC(random_state=0),\n  # \"Logistic\": LogisticRegression(random_state=0),\n  \"Neural\": MLPClassifier(),\n  \"KNN\": KNeighborsClassifier(n_neighbors=10),\n}\n\ntree_best = {name: pipeline.make_pipeline(tree_prepro, model) for name, model in tree_best.items()}\n\nmult_best = {name: pipeline.make_pipeline(mult_prepro, model) for name, model in mult_best.items()}\n\nbest_pipelines = {**tree_best, **mult_best}",
   "metadata": {
    "tags": [],
    "cell_id": "00042-522ed5c9-961c-4c93-8687-0cb202cd5a3a",
    "deepnote_to_be_reexecuted": false,
    "source_hash": "d6b86f81",
    "execution_start": 1620392195490,
    "execution_millis": 0,
    "deepnote_cell_type": "code"
   },
   "outputs": [],
   "execution_count": 40
  },
  {
   "cell_type": "code",
   "source": "# Applying KFold\nfrom sklearn.model_selection import cross_val_predict\nskf = model_selection.StratifiedKFold(\n    n_splits=10,\n    shuffle=True,\n    random_state=73\n)\n\nresults_best = pd.DataFrame({'Model': [], 'Accuracy': [], 'Bal Acc.': [], 'Time': []})\n\nfor name, pipe in best_pipelines.items():\n\n    start_time = time.time()\n    preds = 0\n    # YOUR CODE HERE\n\n    preds = cross_val_predict(pipe, x, y, cv=skf, n_jobs=-1)\n\n    total_time = time.time() - start_time\n    \n\n    \n    results_best = results_best.append({\"Model\": name,\n                              \"Accuracy\": metrics.accuracy_score(y, preds) * 100,\n                              \"Bal Acc.\": metrics.balanced_accuracy_score(y, preds) * 100,\n                              \"Time\":     total_time},\n                              ignore_index=True)\n    \n    \nresults_ord_best = results_best.sort_values(by=['Accuracy'], ascending=False, ignore_index=True)\nresults_ord_best.index += 1 \nresults_ord_best.style.bar(subset=['Accuracy', 'Bal Acc.'], vmin=0, vmax=100, color='#5fba7d')",
   "metadata": {
    "tags": [],
    "cell_id": "00043-71dc1677-fc9e-42e3-b56e-1e3c41c12e2c",
    "deepnote_to_be_reexecuted": false,
    "source_hash": "e352147a",
    "execution_start": 1620392197407,
    "execution_millis": 18923,
    "deepnote_cell_type": "code"
   },
   "outputs": [
    {
     "output_type": "execute_result",
     "execution_count": 41,
     "data": {
      "text/plain": "<pandas.io.formats.style.Styler at 0x7f93886c8110>",
      "text/html": "<style  type=\"text/css\" >\n#T_f6602_row0_col1{\n            width:  10em;\n             height:  80%;\n            background:  linear-gradient(90deg,#5fba7d 88.3%, transparent 88.3%);\n        }#T_f6602_row0_col2{\n            width:  10em;\n             height:  80%;\n            background:  linear-gradient(90deg,#5fba7d 86.9%, transparent 86.9%);\n        }#T_f6602_row1_col1{\n            width:  10em;\n             height:  80%;\n            background:  linear-gradient(90deg,#5fba7d 85.9%, transparent 85.9%);\n        }#T_f6602_row1_col2{\n            width:  10em;\n             height:  80%;\n            background:  linear-gradient(90deg,#5fba7d 84.8%, transparent 84.8%);\n        }#T_f6602_row2_col1{\n            width:  10em;\n             height:  80%;\n            background:  linear-gradient(90deg,#5fba7d 85.2%, transparent 85.2%);\n        }#T_f6602_row2_col2{\n            width:  10em;\n             height:  80%;\n            background:  linear-gradient(90deg,#5fba7d 82.7%, transparent 82.7%);\n        }#T_f6602_row3_col1{\n            width:  10em;\n             height:  80%;\n            background:  linear-gradient(90deg,#5fba7d 84.7%, transparent 84.7%);\n        }#T_f6602_row3_col2{\n            width:  10em;\n             height:  80%;\n            background:  linear-gradient(90deg,#5fba7d 83.9%, transparent 83.9%);\n        }#T_f6602_row4_col1{\n            width:  10em;\n             height:  80%;\n            background:  linear-gradient(90deg,#5fba7d 84.5%, transparent 84.5%);\n        }#T_f6602_row4_col2{\n            width:  10em;\n             height:  80%;\n            background:  linear-gradient(90deg,#5fba7d 83.4%, transparent 83.4%);\n        }</style><table id=\"T_f6602_\" ><thead>    <tr>        <th class=\"blank level0\" ></th>        <th class=\"col_heading level0 col0\" >Model</th>        <th class=\"col_heading level0 col1\" >Accuracy</th>        <th class=\"col_heading level0 col2\" >Bal Acc.</th>        <th class=\"col_heading level0 col3\" >Time</th>    </tr></thead><tbody>\n                <tr>\n                        <th id=\"T_f6602_level0_row0\" class=\"row_heading level0 row0\" >1</th>\n                        <td id=\"T_f6602_row0_col0\" class=\"data row0 col0\" >SVC</td>\n                        <td id=\"T_f6602_row0_col1\" class=\"data row0 col1\" >88.262911</td>\n                        <td id=\"T_f6602_row0_col2\" class=\"data row0 col2\" >86.947919</td>\n                        <td id=\"T_f6602_row0_col3\" class=\"data row0 col3\" >0.391694</td>\n            </tr>\n            <tr>\n                        <th id=\"T_f6602_level0_row1\" class=\"row_heading level0 row1\" >2</th>\n                        <td id=\"T_f6602_row1_col0\" class=\"data row1 col0\" >Neural</td>\n                        <td id=\"T_f6602_row1_col1\" class=\"data row1 col1\" >85.915493</td>\n                        <td id=\"T_f6602_row1_col2\" class=\"data row1 col2\" >84.820861</td>\n                        <td id=\"T_f6602_row1_col3\" class=\"data row1 col3\" >4.255225</td>\n            </tr>\n            <tr>\n                        <th id=\"T_f6602_level0_row2\" class=\"row_heading level0 row2\" >3</th>\n                        <td id=\"T_f6602_row2_col0\" class=\"data row2 col0\" >KNN</td>\n                        <td id=\"T_f6602_row2_col1\" class=\"data row2 col1\" >85.211268</td>\n                        <td id=\"T_f6602_row2_col2\" class=\"data row2 col2\" >82.732669</td>\n                        <td id=\"T_f6602_row2_col3\" class=\"data row2 col3\" >0.341563</td>\n            </tr>\n            <tr>\n                        <th id=\"T_f6602_level0_row3\" class=\"row_heading level0 row3\" >4</th>\n                        <td id=\"T_f6602_row3_col0\" class=\"data row3 col0\" >CatBoost</td>\n                        <td id=\"T_f6602_row3_col1\" class=\"data row3 col1\" >84.741784</td>\n                        <td id=\"T_f6602_row3_col2\" class=\"data row3 col2\" >83.884531</td>\n                        <td id=\"T_f6602_row3_col3\" class=\"data row3 col3\" >8.561592</td>\n            </tr>\n            <tr>\n                        <th id=\"T_f6602_level0_row4\" class=\"row_heading level0 row4\" >5</th>\n                        <td id=\"T_f6602_row4_col0\" class=\"data row4 col0\" >Skl HistGBM</td>\n                        <td id=\"T_f6602_row4_col1\" class=\"data row4 col1\" >84.507042</td>\n                        <td id=\"T_f6602_row4_col2\" class=\"data row4 col2\" >83.442866</td>\n                        <td id=\"T_f6602_row4_col3\" class=\"data row4 col3\" >5.321317</td>\n            </tr>\n    </tbody></table>"
     },
     "metadata": {}
    }
   ],
   "execution_count": 41
  },
  {
   "cell_type": "code",
   "source": "# defining the final model\n\nnum_4_final = pipeline.Pipeline(steps=[\n    ('quant', preprocessing.QuantileTransformer(output_distribution='normal', random_state=73)),\n    ('norm', preprocessing.Normalizer()),\n])\n\n\ncat_4_final = pipeline.Pipeline(steps=[\n    ('onehot', preprocessing.OneHotEncoder(categories='auto', handle_unknown='ignore'))\n])\n\nfinal_prepro = compose.ColumnTransformer(transformers=[\n    ('num_m', num_4_multModels, num_vars),\n    ('cat_m', cat_4_multModels, cat_vars),\n], remainder='drop')\n\nfinal_model = {\n    \"SVC\": SVC(random_state=0),\n}\nfinal_model\nfinal_model = {name: pipeline.make_pipeline(final_prepo, model) for name, model in final_model.items()}\n\nfinal_model",
   "metadata": {
    "tags": [],
    "cell_id": "00046-29184b0a-d20d-4d6e-8c4e-3886e52b4642",
    "deepnote_to_be_reexecuted": false,
    "source_hash": "a317be7c",
    "execution_start": 1620394450004,
    "execution_millis": 23,
    "deepnote_cell_type": "code"
   },
   "outputs": [
    {
     "output_type": "error",
     "ename": "NameError",
     "evalue": "name 'final_prepo' is not defined",
     "traceback": [
      "\u001b[0;31m---------------------------------------------------------------------------\u001b[0m",
      "\u001b[0;31mNameError\u001b[0m                                 Traceback (most recent call last)",
      "\u001b[0;32m<ipython-input-74-67e6ea592329>\u001b[0m in \u001b[0;36m<module>\u001b[0;34m\u001b[0m\n\u001b[1;32m     20\u001b[0m }\n\u001b[1;32m     21\u001b[0m \u001b[0mfinal_model\u001b[0m\u001b[0;34m\u001b[0m\u001b[0;34m\u001b[0m\u001b[0m\n\u001b[0;32m---> 22\u001b[0;31m \u001b[0mfinal_model\u001b[0m \u001b[0;34m=\u001b[0m \u001b[0;34m{\u001b[0m\u001b[0mname\u001b[0m\u001b[0;34m:\u001b[0m \u001b[0mpipeline\u001b[0m\u001b[0;34m.\u001b[0m\u001b[0mmake_pipeline\u001b[0m\u001b[0;34m(\u001b[0m\u001b[0mfinal_prepo\u001b[0m\u001b[0;34m,\u001b[0m \u001b[0mmodel\u001b[0m\u001b[0;34m)\u001b[0m \u001b[0;32mfor\u001b[0m \u001b[0mname\u001b[0m\u001b[0;34m,\u001b[0m \u001b[0mmodel\u001b[0m \u001b[0;32min\u001b[0m \u001b[0mfinal_model\u001b[0m\u001b[0;34m.\u001b[0m\u001b[0mitems\u001b[0m\u001b[0;34m(\u001b[0m\u001b[0;34m)\u001b[0m\u001b[0;34m}\u001b[0m\u001b[0;34m\u001b[0m\u001b[0;34m\u001b[0m\u001b[0m\n\u001b[0m\u001b[1;32m     23\u001b[0m \u001b[0;34m\u001b[0m\u001b[0m\n\u001b[1;32m     24\u001b[0m \u001b[0mfinal_model\u001b[0m\u001b[0;34m\u001b[0m\u001b[0;34m\u001b[0m\u001b[0m\n",
      "\u001b[0;32m<ipython-input-74-67e6ea592329>\u001b[0m in \u001b[0;36m<dictcomp>\u001b[0;34m(.0)\u001b[0m\n\u001b[1;32m     20\u001b[0m }\n\u001b[1;32m     21\u001b[0m \u001b[0mfinal_model\u001b[0m\u001b[0;34m\u001b[0m\u001b[0;34m\u001b[0m\u001b[0m\n\u001b[0;32m---> 22\u001b[0;31m \u001b[0mfinal_model\u001b[0m \u001b[0;34m=\u001b[0m \u001b[0;34m{\u001b[0m\u001b[0mname\u001b[0m\u001b[0;34m:\u001b[0m \u001b[0mpipeline\u001b[0m\u001b[0;34m.\u001b[0m\u001b[0mmake_pipeline\u001b[0m\u001b[0;34m(\u001b[0m\u001b[0mfinal_prepo\u001b[0m\u001b[0;34m,\u001b[0m \u001b[0mmodel\u001b[0m\u001b[0;34m)\u001b[0m \u001b[0;32mfor\u001b[0m \u001b[0mname\u001b[0m\u001b[0;34m,\u001b[0m \u001b[0mmodel\u001b[0m \u001b[0;32min\u001b[0m \u001b[0mfinal_model\u001b[0m\u001b[0;34m.\u001b[0m\u001b[0mitems\u001b[0m\u001b[0;34m(\u001b[0m\u001b[0;34m)\u001b[0m\u001b[0;34m}\u001b[0m\u001b[0;34m\u001b[0m\u001b[0;34m\u001b[0m\u001b[0m\n\u001b[0m\u001b[1;32m     23\u001b[0m \u001b[0;34m\u001b[0m\u001b[0m\n\u001b[1;32m     24\u001b[0m \u001b[0mfinal_model\u001b[0m\u001b[0;34m\u001b[0m\u001b[0;34m\u001b[0m\u001b[0m\n",
      "\u001b[0;31mNameError\u001b[0m: name 'final_prepo' is not defined"
     ]
    }
   ],
   "execution_count": 74
  },
  {
   "cell_type": "code",
   "source": "",
   "metadata": {
    "tags": [],
    "cell_id": "00046-e7743316-ac22-40d2-99ad-f1a1bfd201cb",
    "deepnote_cell_type": "code"
   },
   "outputs": [],
   "execution_count": null
  },
  {
   "cell_type": "markdown",
   "source": "### Feature eng",
   "metadata": {
    "tags": [],
    "cell_id": "00047-5596b089-68ee-4f08-a8e9-9b76663a1576",
    "deepnote_cell_type": "text-cell-h3"
   }
  },
  {
   "cell_type": "code",
   "source": "import pandas as pd\nfrom sklearn.datasets import make_classification\nfrom feature_engine.selection import SmartCorrelatedSelection\n\n# set up the selector\ntr = SmartCorrelatedSelection()\ndm = df.dropna()\nXt = tr.fit_transform(x.dropna())\n\ntr.correlated_feature_sets_\n",
   "metadata": {
    "tags": [],
    "cell_id": "00047-9048e0be-3d01-4d68-b119-e3cc529e10d3",
    "deepnote_to_be_reexecuted": false,
    "source_hash": "cf768a7d",
    "execution_start": 1620393753397,
    "execution_millis": 32,
    "deepnote_cell_type": "code"
   },
   "outputs": [
    {
     "output_type": "execute_result",
     "execution_count": 71,
     "data": {
      "text/plain": "[]"
     },
     "metadata": {}
    }
   ],
   "execution_count": 71
  },
  {
   "cell_type": "markdown",
   "source": "<a style='text-decoration:none;line-height:16px;display:flex;color:#5B5B62;padding:10px;justify-content:end;' href='https://deepnote.com?utm_source=created-in-deepnote-cell&projectId=cf30d20f-b1ff-421b-be28-e95a2723dc4f' target=\"_blank\">\n<img alt='Created in deepnote.com' style='display:inline;max-height:16px;margin:0px;margin-right:7.5px;' src='data:image/svg+xml;base64,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' > </img>\nCreated in <span style='font-weight:600;margin-left:4px;'>Deepnote</span></a>",
   "metadata": {
    "tags": [],
    "created_in_deepnote_cell": true,
    "deepnote_cell_type": "markdown"
   }
  }
 ],
 "nbformat": 4,
 "nbformat_minor": 2,
 "metadata": {
  "orig_nbformat": 2,
  "deepnote": {
   "is_reactive": false
  },
  "deepnote_notebook_id": "adad4f1d-9d85-4801-baf2-ebec3fae3504",
  "deepnote_execution_queue": []
 }
}